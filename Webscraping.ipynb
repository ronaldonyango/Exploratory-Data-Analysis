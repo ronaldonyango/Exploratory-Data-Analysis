{
  "nbformat": 4,
  "nbformat_minor": 0,
  "metadata": {
    "colab": {
      "provenance": [],
      "authorship_tag": "ABX9TyMTjJHc2E3m/QfxyLpuvN1E",
      "include_colab_link": true
    },
    "kernelspec": {
      "name": "python3",
      "display_name": "Python 3"
    },
    "language_info": {
      "name": "python"
    }
  },
  "cells": [
    {
      "cell_type": "markdown",
      "metadata": {
        "id": "view-in-github",
        "colab_type": "text"
      },
      "source": [
        "<a href=\"https://colab.research.google.com/github/ronaldoyw/Exploratory-Data-Analysis/blob/main/Webscraping.ipynb\" target=\"_parent\"><img src=\"https://colab.research.google.com/assets/colab-badge.svg\" alt=\"Open In Colab\"/></a>"
      ]
    },
    {
      "cell_type": "markdown",
      "source": [
        "#Topic Repositories for Github Repos"
      ],
      "metadata": {
        "id": "B2ufT0V5Wdqt"
      }
    },
    {
      "cell_type": "markdown",
      "source": [
        "##Pick a website and describe your objective\n",
        "* Browse through different sites and pick on to scrape. Check the \"Project Ideas\" section for inspiration.\n",
        "* Identify the information you'd like to scrape from the site. Decide the format of the output CSV file.\n",
        "* Summarize your project idea and outline your strategy in a Juptyer notebook. Use the \"New\" button above."
      ],
      "metadata": {
        "id": "0_uc1HR9Xxot"
      }
    },
    {
      "cell_type": "markdown",
      "source": [
        "####Outline:\n",
        "* scrape https://github.com/topics\n",
        "* Get a list of topics (topic title, topic page URL, topic description)\n",
        "* Get top 25 repositories from the topic page for each topic\n",
        "* For each repo, grab the repo name, username, starts and repo URL\n",
        "* For each topic, create a CSV file in the following format:\n",
        "\n",
        "---\n",
        "\n",
        "---"
      ],
      "metadata": {
        "id": "mJPpY3Z4ZJ1M"
      }
    },
    {
      "cell_type": "markdown",
      "source": [],
      "metadata": {
        "id": "XumYMmbxY5XP"
      }
    },
    {
      "cell_type": "markdown",
      "source": [
        "##Use the requests library to download web pages\n",
        "* Inspect the website's HTML source and identify the right URLs to download.\n",
        "* Download and save web pages locally using the requests library.\n",
        "* Create a function to automate downloading for different topics/search queries."
      ],
      "metadata": {
        "id": "u6hvbLr5Xzbu"
      }
    },
    {
      "cell_type": "code",
      "source": [
        "!pip install requests --upgrade --quiet"
      ],
      "metadata": {
        "id": "avE-Ye5ndxla",
        "colab": {
          "base_uri": "https://localhost:8080/"
        },
        "outputId": "5d574280-8b57-4f00-ed96-9ada78858295"
      },
      "execution_count": 2,
      "outputs": [
        {
          "output_type": "stream",
          "name": "stdout",
          "text": [
            "\u001b[?25l\r\u001b[K     |█████▏                          | 10 kB 27.7 MB/s eta 0:00:01\r\u001b[K     |██████████▍                     | 20 kB 33.4 MB/s eta 0:00:01\r\u001b[K     |███████████████▋                | 30 kB 38.3 MB/s eta 0:00:01\r\u001b[K     |████████████████████▉           | 40 kB 37.3 MB/s eta 0:00:01\r\u001b[K     |██████████████████████████      | 51 kB 39.2 MB/s eta 0:00:01\r\u001b[K     |███████████████████████████████▎| 61 kB 42.7 MB/s eta 0:00:01\r\u001b[K     |████████████████████████████████| 62 kB 1.5 MB/s \n",
            "\u001b[?25h"
          ]
        }
      ]
    },
    {
      "cell_type": "code",
      "source": [
        "import requests"
      ],
      "metadata": {
        "id": "OjjlQx1feEeA"
      },
      "execution_count": 3,
      "outputs": []
    },
    {
      "cell_type": "code",
      "source": [
        "topics_url = 'https://github.com/topics'"
      ],
      "metadata": {
        "id": "d525YTkSeH17"
      },
      "execution_count": 4,
      "outputs": []
    },
    {
      "cell_type": "code",
      "source": [
        "response = requests.get(topics_url)"
      ],
      "metadata": {
        "id": "-ilNw_4SeWE_"
      },
      "execution_count": 5,
      "outputs": []
    },
    {
      "cell_type": "code",
      "source": [
        "response.status_code"
      ],
      "metadata": {
        "colab": {
          "base_uri": "https://localhost:8080/"
        },
        "id": "IfsogvQ5ehHI",
        "outputId": "a1e644c8-3a42-4a36-b213-4fb4ed3f3e77"
      },
      "execution_count": 6,
      "outputs": [
        {
          "output_type": "execute_result",
          "data": {
            "text/plain": [
              "200"
            ]
          },
          "metadata": {},
          "execution_count": 6
        }
      ]
    },
    {
      "cell_type": "code",
      "source": [
        "len(response.text)"
      ],
      "metadata": {
        "colab": {
          "base_uri": "https://localhost:8080/"
        },
        "id": "xyoLolwhe2VI",
        "outputId": "888a0e0d-04ac-4a54-8bae-b7325e63bd1c"
      },
      "execution_count": 7,
      "outputs": [
        {
          "output_type": "execute_result",
          "data": {
            "text/plain": [
              "151836"
            ]
          },
          "metadata": {},
          "execution_count": 7
        }
      ]
    },
    {
      "cell_type": "code",
      "source": [
        "page_contents =response.text"
      ],
      "metadata": {
        "id": "lWRFiXyOfS9H"
      },
      "execution_count": 8,
      "outputs": []
    },
    {
      "cell_type": "code",
      "source": [
        "page_contents[:1000]"
      ],
      "metadata": {
        "colab": {
          "base_uri": "https://localhost:8080/",
          "height": 145
        },
        "id": "ccoV1vBjfYZn",
        "outputId": "1fc2be59-25e4-4f57-be93-6b4d1020e97a"
      },
      "execution_count": 9,
      "outputs": [
        {
          "output_type": "execute_result",
          "data": {
            "text/plain": [
              "'\\n\\n<!DOCTYPE html>\\n<html lang=\"en\" data-color-mode=\"auto\" data-light-theme=\"light\" data-dark-theme=\"dark\" data-a11y-animated-images=\"system\">\\n  <head>\\n    <meta charset=\"utf-8\">\\n  <link rel=\"dns-prefetch\" href=\"https://github.githubassets.com\">\\n  <link rel=\"dns-prefetch\" href=\"https://avatars.githubusercontent.com\">\\n  <link rel=\"dns-prefetch\" href=\"https://github-cloud.s3.amazonaws.com\">\\n  <link rel=\"dns-prefetch\" href=\"https://user-images.githubusercontent.com/\">\\n  <link rel=\"preconnect\" href=\"https://github.githubassets.com\" crossorigin>\\n  <link rel=\"preconnect\" href=\"https://avatars.githubusercontent.com\">\\n\\n\\n\\n  <link crossorigin=\"anonymous\" media=\"all\" rel=\"stylesheet\" href=\"https://github.githubassets.com/assets/light-5178aee0ee76.css\" /><link crossorigin=\"anonymous\" media=\"all\" rel=\"stylesheet\" href=\"https://github.githubassets.com/assets/dark-217d4f9c8e70.css\" /><link data-color-theme=\"dark_dimmed\" crossorigin=\"anonymous\" media=\"all\" rel=\"stylesheet\" data-href=\"https://github.gith'"
            ],
            "application/vnd.google.colaboratory.intrinsic+json": {
              "type": "string"
            }
          },
          "metadata": {},
          "execution_count": 9
        }
      ]
    },
    {
      "cell_type": "code",
      "source": [
        "with open('webpage.html', 'w') as f:\n",
        "  f.write(page_contents)"
      ],
      "metadata": {
        "id": "WqxflSHIfiUc"
      },
      "execution_count": 10,
      "outputs": []
    },
    {
      "cell_type": "markdown",
      "source": [
        "##Use Beautiful Soup to parse and extract information\n",
        "* Parse and explore the structure of downloaded web pages using Beautiful soup.\n",
        "* Use the right properties and methods to extract the required information.\n",
        "* Create functions to extract from the page into lists and dictionaries.\n",
        "* (Optional) Use a REST API to acquire additional information if required."
      ],
      "metadata": {
        "id": "0HwMpxOoWsSA"
      }
    },
    {
      "cell_type": "code",
      "source": [
        "!pip install beautifulsoup4 --upgrade --quiet"
      ],
      "metadata": {
        "colab": {
          "base_uri": "https://localhost:8080/"
        },
        "id": "_SpU3Wqags8g",
        "outputId": "707aa135-4da4-4960-fd60-e510b34ff621"
      },
      "execution_count": 11,
      "outputs": [
        {
          "output_type": "stream",
          "name": "stdout",
          "text": [
            "\u001b[?25l\r\u001b[K     |██▋                             | 10 kB 27.5 MB/s eta 0:00:01\r\u001b[K     |█████▏                          | 20 kB 38.4 MB/s eta 0:00:01\r\u001b[K     |███████▊                        | 30 kB 43.2 MB/s eta 0:00:01\r\u001b[K     |██████████▎                     | 40 kB 29.4 MB/s eta 0:00:01\r\u001b[K     |████████████▉                   | 51 kB 32.5 MB/s eta 0:00:01\r\u001b[K     |███████████████▍                | 61 kB 35.9 MB/s eta 0:00:01\r\u001b[K     |██████████████████              | 71 kB 36.3 MB/s eta 0:00:01\r\u001b[K     |████████████████████▌           | 81 kB 38.6 MB/s eta 0:00:01\r\u001b[K     |███████████████████████         | 92 kB 40.9 MB/s eta 0:00:01\r\u001b[K     |█████████████████████████▋      | 102 kB 40.0 MB/s eta 0:00:01\r\u001b[K     |████████████████████████████▏   | 112 kB 40.0 MB/s eta 0:00:01\r\u001b[K     |██████████████████████████████▊ | 122 kB 40.0 MB/s eta 0:00:01\r\u001b[K     |████████████████████████████████| 128 kB 40.0 MB/s \n",
            "\u001b[?25h"
          ]
        }
      ]
    },
    {
      "cell_type": "code",
      "source": [
        "from bs4 import BeautifulSoup"
      ],
      "metadata": {
        "id": "mdxIvOcvhH1V"
      },
      "execution_count": 12,
      "outputs": []
    },
    {
      "cell_type": "code",
      "source": [
        "doc = BeautifulSoup(page_contents, 'html.parser')"
      ],
      "metadata": {
        "id": "d6-up3XNhpNj"
      },
      "execution_count": 13,
      "outputs": []
    },
    {
      "cell_type": "code",
      "source": [
        "doc"
      ],
      "metadata": {
        "colab": {
          "base_uri": "https://localhost:8080/"
        },
        "id": "rxr9NgYkh82j",
        "outputId": "166d9c59-8b77-4ebc-b457-7679923ffe53"
      },
      "execution_count": 14,
      "outputs": [
        {
          "output_type": "execute_result",
          "data": {
            "text/plain": [
              "\n",
              "<!DOCTYPE html>\n",
              "\n",
              "<html data-a11y-animated-images=\"system\" data-color-mode=\"auto\" data-dark-theme=\"dark\" data-light-theme=\"light\" lang=\"en\">\n",
              "<head>\n",
              "<meta charset=\"utf-8\"/>\n",
              "<link href=\"https://github.githubassets.com\" rel=\"dns-prefetch\"/>\n",
              "<link href=\"https://avatars.githubusercontent.com\" rel=\"dns-prefetch\"/>\n",
              "<link href=\"https://github-cloud.s3.amazonaws.com\" rel=\"dns-prefetch\"/>\n",
              "<link href=\"https://user-images.githubusercontent.com/\" rel=\"dns-prefetch\"/>\n",
              "<link crossorigin=\"\" href=\"https://github.githubassets.com\" rel=\"preconnect\"/>\n",
              "<link href=\"https://avatars.githubusercontent.com\" rel=\"preconnect\"/>\n",
              "<link crossorigin=\"anonymous\" href=\"https://github.githubassets.com/assets/light-5178aee0ee76.css\" media=\"all\" rel=\"stylesheet\"><link crossorigin=\"anonymous\" href=\"https://github.githubassets.com/assets/dark-217d4f9c8e70.css\" media=\"all\" rel=\"stylesheet\"><link crossorigin=\"anonymous\" data-color-theme=\"dark_dimmed\" data-href=\"https://github.githubassets.com/assets/dark_dimmed-0adfa28f0e68.css\" media=\"all\" rel=\"stylesheet\"><link crossorigin=\"anonymous\" data-color-theme=\"dark_high_contrast\" data-href=\"https://github.githubassets.com/assets/dark_high_contrast-1c8575b36644.css\" media=\"all\" rel=\"stylesheet\"><link crossorigin=\"anonymous\" data-color-theme=\"dark_colorblind\" data-href=\"https://github.githubassets.com/assets/dark_colorblind-5113d2be20b0.css\" media=\"all\" rel=\"stylesheet\"><link crossorigin=\"anonymous\" data-color-theme=\"light_colorblind\" data-href=\"https://github.githubassets.com/assets/light_colorblind-c96add742484.css\" media=\"all\" rel=\"stylesheet\"><link crossorigin=\"anonymous\" data-color-theme=\"light_high_contrast\" data-href=\"https://github.githubassets.com/assets/light_high_contrast-290f92f5e867.css\" media=\"all\" rel=\"stylesheet\"/><link crossorigin=\"anonymous\" data-color-theme=\"light_tritanopia\" data-href=\"https://github.githubassets.com/assets/light_tritanopia-cdd88f146bf7.css\" media=\"all\" rel=\"stylesheet\"/><link crossorigin=\"anonymous\" data-color-theme=\"dark_tritanopia\" data-href=\"https://github.githubassets.com/assets/dark_tritanopia-2171ea0f078b.css\" media=\"all\" rel=\"stylesheet\"/>\n",
              "<link crossorigin=\"anonymous\" href=\"https://github.githubassets.com/assets/primer-2280eb26901e.css\" media=\"all\" rel=\"stylesheet\"/>\n",
              "<link crossorigin=\"anonymous\" href=\"https://github.githubassets.com/assets/global-3ba07bcfee8b.css\" media=\"all\" rel=\"stylesheet\"/>\n",
              "<link crossorigin=\"anonymous\" href=\"https://github.githubassets.com/assets/github-92ffe3571a94.css\" media=\"all\" rel=\"stylesheet\"/>\n",
              "<link crossorigin=\"anonymous\" href=\"https://github.githubassets.com/assets/site-b5d4628eb9e2.css\" media=\"all\" rel=\"stylesheet\"/>\n",
              "<link crossorigin=\"anonymous\" href=\"https://github.githubassets.com/assets/explore-91bd47378abc.css\" media=\"all\" rel=\"stylesheet\"/>\n",
              "<script crossorigin=\"anonymous\" defer=\"defer\" src=\"https://github.githubassets.com/assets/wp-runtime-e78f2e9424b4.js\" type=\"application/javascript\"></script>\n",
              "<script crossorigin=\"anonymous\" defer=\"defer\" src=\"https://github.githubassets.com/assets/vendors-node_modules_manuelpuyol_turbo_dist_turbo_es2017-esm_js-7ca92c8d513d.js\" type=\"application/javascript\"></script>\n",
              "<script crossorigin=\"anonymous\" defer=\"defer\" src=\"https://github.githubassets.com/assets/vendors-node_modules_stacktrace-parser_dist_stack-trace-parser_esm_js-node_modules_github_bro-d351f6-c1d63d230b29.js\" type=\"application/javascript\"></script>\n",
              "<script crossorigin=\"anonymous\" defer=\"defer\" src=\"https://github.githubassets.com/assets/environment-019ad8aaeab3.js\" type=\"application/javascript\"></script>\n",
              "<script crossorigin=\"anonymous\" defer=\"defer\" src=\"https://github.githubassets.com/assets/vendors-node_modules_selector-observer_dist_index_esm_js-650337916dbd.js\" type=\"application/javascript\"></script>\n",
              "<script crossorigin=\"anonymous\" defer=\"defer\" src=\"https://github.githubassets.com/assets/vendors-node_modules_delegated-events_dist_index_js-node_modules_github_details-dialog-elemen-63debe-4a2f37f7419e.js\" type=\"application/javascript\"></script>\n",
              "<script crossorigin=\"anonymous\" defer=\"defer\" src=\"https://github.githubassets.com/assets/vendors-node_modules_github_auto-complete-element_dist_index_js-node_modules_github_catalyst_-6afc16-accdbcccdc1b.js\" type=\"application/javascript\"></script>\n",
              "<script crossorigin=\"anonymous\" defer=\"defer\" src=\"https://github.githubassets.com/assets/vendors-node_modules_fzy_js_index_js-node_modules_github_markdown-toolbar-element_dist_index_js-5936f45973f5.js\" type=\"application/javascript\"></script>\n",
              "<script crossorigin=\"anonymous\" defer=\"defer\" src=\"https://github.githubassets.com/assets/vendors-node_modules_github_time-elements_dist_index_js-74b4ec51ce20.js\" type=\"application/javascript\"></script>\n",
              "<script crossorigin=\"anonymous\" defer=\"defer\" src=\"https://github.githubassets.com/assets/vendors-node_modules_github_file-attachment-element_dist_index_js-node_modules_github_filter--6a5bff-93edd18dab1d.js\" type=\"application/javascript\"></script>\n",
              "<script crossorigin=\"anonymous\" defer=\"defer\" src=\"https://github.githubassets.com/assets/github-elements-49dd186cf077.js\" type=\"application/javascript\"></script>\n",
              "<script crossorigin=\"anonymous\" defer=\"defer\" src=\"https://github.githubassets.com/assets/element-registry-0910f78d8b82.js\" type=\"application/javascript\"></script>\n",
              "<script crossorigin=\"anonymous\" defer=\"defer\" src=\"https://github.githubassets.com/assets/vendors-node_modules_lit-html_lit-html_js-e954e8c01c93.js\" type=\"application/javascript\"></script>\n",
              "<script crossorigin=\"anonymous\" defer=\"defer\" src=\"https://github.githubassets.com/assets/vendors-node_modules_github_mini-throttle_dist_index_js-node_modules_github_remote-form_dist_-ece2b0-917c0dad4566.js\" type=\"application/javascript\"></script>\n",
              "<script crossorigin=\"anonymous\" defer=\"defer\" src=\"https://github.githubassets.com/assets/vendors-node_modules_github_alive-client_dist_index_js-node_modules_github_memoize_dist_esm_i-fab77c-ff9d9fde6bc6.js\" type=\"application/javascript\"></script>\n",
              "<script crossorigin=\"anonymous\" defer=\"defer\" src=\"https://github.githubassets.com/assets/vendors-node_modules_primer_behaviors_dist_esm_dimensions_js-node_modules_github_hydro-analyt-f69502-65a022907302.js\" type=\"application/javascript\"></script>\n",
              "<script crossorigin=\"anonymous\" defer=\"defer\" src=\"https://github.githubassets.com/assets/vendors-node_modules_github_filter-input-element_dist_index_js-node_modules_github_paste-mark-c3e01c-c31929de90fa.js\" type=\"application/javascript\"></script>\n",
              "<script crossorigin=\"anonymous\" defer=\"defer\" src=\"https://github.githubassets.com/assets/app_assets_modules_github_updatable-content_ts-62df1309213c.js\" type=\"application/javascript\"></script>\n",
              "<script crossorigin=\"anonymous\" defer=\"defer\" src=\"https://github.githubassets.com/assets/app_assets_modules_github_sticky-scroll-into-view_ts-6483ace64969.js\" type=\"application/javascript\"></script>\n",
              "<script crossorigin=\"anonymous\" defer=\"defer\" src=\"https://github.githubassets.com/assets/app_assets_modules_github_behaviors_keyboard-shortcuts-helper_ts-app_assets_modules_github_be-ac2ea2-fda9c90f5f33.js\" type=\"application/javascript\"></script>\n",
              "<script crossorigin=\"anonymous\" defer=\"defer\" src=\"https://github.githubassets.com/assets/app_assets_modules_github_behaviors_commenting_edit_ts-app_assets_modules_github_behaviors_ht-83c235-02b38260d85d.js\" type=\"application/javascript\"></script>\n",
              "<script crossorigin=\"anonymous\" defer=\"defer\" src=\"https://github.githubassets.com/assets/app_assets_modules_github_behaviors_batch-deferred-content_ts-app_assets_modules_github_behav-dc1370-0661d7836317.js\" type=\"application/javascript\"></script>\n",
              "<script crossorigin=\"anonymous\" defer=\"defer\" src=\"https://github.githubassets.com/assets/behaviors-893f9699f267.js\" type=\"application/javascript\"></script>\n",
              "<script crossorigin=\"anonymous\" defer=\"defer\" src=\"https://github.githubassets.com/assets/vendors-node_modules_delegated-events_dist_index_js-node_modules_github_catalyst_lib_index_js-06ff533-b01316754e20.js\" type=\"application/javascript\"></script>\n",
              "<script crossorigin=\"anonymous\" defer=\"defer\" src=\"https://github.githubassets.com/assets/notifications-global-e71e7f99b10d.js\" type=\"application/javascript\"></script>\n",
              "<title>Topics on GitHub · GitHub</title>\n",
              "<meta content=\"8A86:3121:4BE91EA:6F65D8F:634AD3AE\" data-pjax-transient=\"true\" name=\"request-id\"><meta content=\"3dd0d5805febeee05997086a80c5d6a5ffa92bbdaa1ecc229169dbf9f176d96f\" data-pjax-transient=\"true\" name=\"html-safe-nonce\"/><meta content=\"eyJyZWZlcnJlciI6IiIsInJlcXVlc3RfaWQiOiI4QTg2OjMxMjE6NEJFOTFFQTo2RjY1RDhGOjYzNEFEM0FFIiwidmlzaXRvcl9pZCI6IjYxNzYwOTgxOTIzMjIxMjI2NzAiLCJyZWdpb25fZWRnZSI6ImlhZCIsInJlZ2lvbl9yZW5kZXIiOiJpYWQifQ==\" data-pjax-transient=\"true\" name=\"visitor-payload\"/><meta content=\"614680398efb9a8c88cef0ea3faf67d97d538603e40d8c15243d82923c328419\" data-pjax-transient=\"true\" name=\"visitor-hmac\"/>\n",
              "<meta content=\"\" data-turbo-transient=\"true\" name=\"github-keyboard-shortcuts\"/>\n",
              "<meta data-turbo-transient=\"\" name=\"selected-link\" value=\"/topics\"/>\n",
              "<meta content=\"c1kuD-K2HIVF635lypcsWPoD4kilo5-jA_wBFyT4uMY\" name=\"google-site-verification\"/>\n",
              "<meta content=\"KT5gs8h0wvaagLKAVWq8bbeNwnZZK1r1XQysX3xurLU\" name=\"google-site-verification\"/>\n",
              "<meta content=\"ZzhVyEFwb7w3e0-uOTltm8Jsck2F5StVihD0exw2fsA\" name=\"google-site-verification\"/>\n",
              "<meta content=\"GXs5KoUUkNCoaAZn7wPN-t01Pywp9M3sEjnt_3_ZWPc\" name=\"google-site-verification\"/>\n",
              "<meta content=\"Apib7-x98H0j5cPqHWwSMm6dNU4GmODRoqxLiDzdx9I\" name=\"google-site-verification\"/>\n",
              "<meta content=\"https://collector.github.com/github/collect\" name=\"octolytics-url\">\n",
              "<meta content=\"\" name=\"user-login\"/>\n",
              "<meta content=\"width=device-width\" name=\"viewport\"/>\n",
              "<meta content=\"GitHub is where people build software. More than 83 million people use GitHub to discover, fork, and contribute to over 200 million projects.\" name=\"description\"/>\n",
              "<link href=\"/opensearch.xml\" rel=\"search\" title=\"GitHub\" type=\"application/opensearchdescription+xml\"/>\n",
              "<link href=\"https://github.com/fluidicon.png\" rel=\"fluid-icon\" title=\"GitHub\"/>\n",
              "<meta content=\"1401488693436528\" property=\"fb:app_id\"/>\n",
              "<meta content=\"app-id=1477376905\" name=\"apple-itunes-app\">\n",
              "<meta content=\"https://github.com\" property=\"og:url\"/>\n",
              "<meta content=\"GitHub\" property=\"og:site_name\"/>\n",
              "<meta content=\"Build software better, together\" property=\"og:title\"/>\n",
              "<meta content=\"GitHub is where people build software. More than 83 million people use GitHub to discover, fork, and contribute to over 200 million projects.\" property=\"og:description\"/>\n",
              "<meta content=\"https://github.githubassets.com/images/modules/open_graph/github-logo.png\" property=\"og:image\"/>\n",
              "<meta content=\"image/png\" property=\"og:image:type\"/>\n",
              "<meta content=\"1200\" property=\"og:image:width\"/>\n",
              "<meta content=\"1200\" property=\"og:image:height\"/>\n",
              "<meta content=\"https://github.githubassets.com/images/modules/open_graph/github-mark.png\" property=\"og:image\"/>\n",
              "<meta content=\"image/png\" property=\"og:image:type\"/>\n",
              "<meta content=\"1200\" property=\"og:image:width\"/>\n",
              "<meta content=\"620\" property=\"og:image:height\"/>\n",
              "<meta content=\"https://github.githubassets.com/images/modules/open_graph/github-octocat.png\" property=\"og:image\"/>\n",
              "<meta content=\"image/png\" property=\"og:image:type\"/>\n",
              "<meta content=\"1200\" property=\"og:image:width\"/>\n",
              "<meta content=\"620\" property=\"og:image:height\"/>\n",
              "<meta content=\"github\" property=\"twitter:site\"/>\n",
              "<meta content=\"13334762\" property=\"twitter:site:id\"/>\n",
              "<meta content=\"github\" property=\"twitter:creator\"/>\n",
              "<meta content=\"13334762\" property=\"twitter:creator:id\"/>\n",
              "<meta content=\"summary_large_image\" property=\"twitter:card\"/>\n",
              "<meta content=\"GitHub\" property=\"twitter:title\"/>\n",
              "<meta content=\"GitHub is where people build software. More than 83 million people use GitHub to discover, fork, and contribute to over 200 million projects.\" property=\"twitter:description\"/>\n",
              "<meta content=\"https://github.githubassets.com/images/modules/open_graph/github-logo.png\" property=\"twitter:image:src\"/>\n",
              "<meta content=\"1200\" property=\"twitter:image:width\"/>\n",
              "<meta content=\"1200\" property=\"twitter:image:height\"/>\n",
              "<link href=\"https://github.githubassets.com/\" rel=\"assets\"/>\n",
              "<meta content=\"github.com\" name=\"hostname\"/>\n",
              "<meta content=\"github.com\" name=\"expected-hostname\"/>\n",
              "<meta content=\"ACTIONS_RUN_NAME,IMAGE_METRIC_TRACKING,GEOJSON_AZURE_MAPS,STRICT_DEFERRED_DIFF_LINES_CHECKS\" name=\"enabled-features\"/>\n",
              "<meta content=\"ce4a20c7e4be75cb9e39cd157e062dca616510c1c97081f6ed144d5df22da795\" data-turbo-track=\"reload\" http-equiv=\"x-pjax-version\"/>\n",
              "<meta content=\"fb95bc9a124b6b6d8a2e004152f99e30988dc83929a5c9d6cc6341ce348909f3\" data-turbo-track=\"reload\" http-equiv=\"x-pjax-csp-version\"/>\n",
              "<meta content=\"1ff63de7af3b4f02a42b40c3f416d9b2c178d78dfa02aff7dc160f18e1c2c09e\" data-turbo-track=\"reload\" http-equiv=\"x-pjax-css-version\"/>\n",
              "<meta content=\"a0e608b2b55a9479ace2a0fc1d3e31d87a4a37c2c5fdf652e29e850ad51c8bd2\" data-turbo-track=\"reload\" http-equiv=\"x-pjax-js-version\"/>\n",
              "<meta content=\"no-preview\" data-turbo-transient=\"\" name=\"turbo-cache-control\"/>\n",
              "<meta content=\"logged-out env-production page-responsive\" name=\"turbo-body-classes\"/>\n",
              "<meta content=\"https://api.github.com/_private/browser/stats\" name=\"browser-stats-url\"/>\n",
              "<meta content=\"https://api.github.com/_private/browser/errors\" name=\"browser-errors-url\"/>\n",
              "<meta content=\"https://api.github.com/_private/browser/optimizely_client/errors\" name=\"browser-optimizely-client-errors-url\"/>\n",
              "<link color=\"#000000\" href=\"https://github.githubassets.com/pinned-octocat.svg\" rel=\"mask-icon\"/>\n",
              "<link class=\"js-site-favicon\" href=\"https://github.githubassets.com/favicons/favicon.png\" rel=\"alternate icon\" type=\"image/png\"/>\n",
              "<link class=\"js-site-favicon\" href=\"https://github.githubassets.com/favicons/favicon.svg\" rel=\"icon\" type=\"image/svg+xml\"/>\n",
              "<meta content=\"#1e2327\" name=\"theme-color\"/>\n",
              "<meta content=\"light dark\" name=\"color-scheme\">\n",
              "<link crossorigin=\"use-credentials\" href=\"/manifest.json\" rel=\"manifest\"/>\n",
              "</meta></meta></meta></meta></link></link></link></link></link></link></head>\n",
              "<body class=\"logged-out env-production page-responsive\" style=\"word-wrap: break-word;\">\n",
              "<div class=\"position-relative js-header-wrapper\">\n",
              "<a class=\"px-2 py-4 color-bg-accent-emphasis color-fg-on-emphasis show-on-focus js-skip-to-content\" href=\"#start-of-content\">Skip to content</a>\n",
              "<span class=\"progress-pjax-loader Progress position-fixed width-full\" data-view-component=\"true\">\n",
              "<span class=\"Progress-item progress-pjax-loader-bar left-0 top-0 color-bg-accent-emphasis\" data-view-component=\"true\" style=\"width: 0%;\"></span>\n",
              "</span>\n",
              "<script crossorigin=\"anonymous\" defer=\"defer\" src=\"https://github.githubassets.com/assets/vendors-node_modules_github_remote-form_dist_index_js-node_modules_delegated-events_dist_inde-94fd67-30d1a2e5d8ef.js\" type=\"application/javascript\"></script>\n",
              "<script crossorigin=\"anonymous\" defer=\"defer\" src=\"https://github.githubassets.com/assets/sessions-239675566f74.js\" type=\"application/javascript\"></script>\n",
              "<header class=\"Header-old header-logged-out js-details-container Details position-relative f4 py-3\" role=\"banner\">\n",
              "<button aria-label=\"Toggle navigation\" class=\"Header-backdrop d-lg-none border-0 position-fixed top-0 left-0 width-full height-full js-details-target\" type=\"button\">\n",
              "<span class=\"d-none\">Toggle navigation</span>\n",
              "</button>\n",
              "<div class=\"container-lg d-flex flex-column flex-lg-row flex-items-center p-responsive height-full position-relative z-1\">\n",
              "<div class=\"d-flex flex-justify-between flex-items-center width-full width-lg-auto\">\n",
              "<a aria-label=\"Homepage\" class=\"mr-lg-3 color-fg-inherit flex-order-2\" data-ga-click=\"(Logged out) Header, go to homepage, icon:logo-wordmark\" href=\"https://github.com/\">\n",
              "<svg aria-hidden=\"true\" class=\"octicon octicon-mark-github\" data-view-component=\"true\" height=\"32\" version=\"1.1\" viewbox=\"0 0 16 16\" width=\"32\">\n",
              "<path d=\"M8 0C3.58 0 0 3.58 0 8c0 3.54 2.29 6.53 5.47 7.59.4.07.55-.17.55-.38 0-.19-.01-.82-.01-1.49-2.01.37-2.53-.49-2.69-.94-.09-.23-.48-.94-.82-1.13-.28-.15-.68-.52-.01-.53.63-.01 1.08.58 1.23.82.72 1.21 1.87.87 2.33.66.07-.52.28-.87.51-1.07-1.78-.2-3.64-.89-3.64-3.95 0-.87.31-1.59.82-2.15-.08-.2-.36-1.02.08-2.12 0 0 .67-.21 2.2.82.64-.18 1.32-.27 2-.27.68 0 1.36.09 2 .27 1.53-1.04 2.2-.82 2.2-.82.44 1.1.16 1.92.08 2.12.51.56.82 1.27.82 2.15 0 3.07-1.87 3.75-3.65 3.95.29.25.54.73.54 1.48 0 1.07-.01 1.93-.01 2.2 0 .21.15.46.55.38A8.013 8.013 0 0016 8c0-4.42-3.58-8-8-8z\" fill-rule=\"evenodd\"></path>\n",
              "</svg>\n",
              "</a>\n",
              "<div class=\"flex-1\">\n",
              "<a class=\"d-inline-block d-lg-none flex-order-1 f5 no-underline border color-border-default rounded-2 px-2 py-1 color-fg-inherit\" data-hydro-click='{\"event_type\":\"authentication.click\",\"payload\":{\"location_in_page\":\"site header\",\"repository_id\":null,\"auth_type\":\"SIGN_UP\",\"originating_url\":\"https://github.com/topics\",\"user_id\":null}}' data-hydro-click-hmac=\"9563eaf6cc4b00e656abef045c9bcab7c24609a46959b5bf5499d7abd0be49f5\" href=\"/signup?ref_cta=Sign+up&amp;ref_loc=header+logged+out&amp;ref_page=%2Ftopics&amp;source=header\">\n",
              "            Sign up\n",
              "          </a>\n",
              "</div>\n",
              "<div class=\"flex-1 flex-order-2 text-right\">\n",
              "<button aria-expanded=\"false\" aria-label=\"Toggle navigation\" class=\"js-details-target Button--link Button--medium Button d-lg-none color-fg-inherit p-1\" data-view-component=\"true\" type=\"button\"> <span class=\"Button-content\">\n",
              "<span class=\"Button-label\"><div class=\"HeaderMenu-toggle-bar rounded my-1\"></div>\n",
              "<div class=\"HeaderMenu-toggle-bar rounded my-1\"></div>\n",
              "<div class=\"HeaderMenu-toggle-bar rounded my-1\"></div></span>\n",
              "</span>\n",
              "</button>\n",
              "</div>\n",
              "</div>\n",
              "<div class=\"HeaderMenu--logged-out p-responsive height-fit position-lg-relative d-lg-flex flex-column flex-auto pt-7 pb-4 top-0\">\n",
              "<div class=\"header-menu-wrapper d-flex flex-column flex-self-end flex-lg-row flex-justify-between flex-auto p-3 p-lg-0 rounded rounded-lg-0 mt-3 mt-lg-0\">\n",
              "<nav aria-label=\"Global\" class=\"mt-0 px-3 px-lg-0 mb-3 mb-lg-0\">\n",
              "<ul class=\"d-lg-flex list-style-none\">\n",
              "<li class=\"HeaderMenu-item position-relative flex-wrap flex-justify-between flex-items-center d-block d-lg-flex flex-lg-nowrap flex-lg-items-center js-details-container js-header-menu-item\">\n",
              "<button aria-expanded=\"false\" class=\"HeaderMenu-link border-0 width-full width-lg-auto px-0 px-lg-2 py-3 py-lg-2 no-wrap d-flex flex-items-center flex-justify-between js-details-target\" type=\"button\">\n",
              "      Product\n",
              "      <svg aria-hidden=\"true\" class=\"octicon octicon-chevron-down HeaderMenu-icon ml-1\" data-view-component=\"true\" height=\"16\" opacity=\"0.5\" version=\"1.1\" viewbox=\"0 0 16 16\" width=\"16\">\n",
              "<path d=\"M12.78 6.22a.75.75 0 010 1.06l-4.25 4.25a.75.75 0 01-1.06 0L3.22 7.28a.75.75 0 011.06-1.06L8 9.94l3.72-3.72a.75.75 0 011.06 0z\" fill-rule=\"evenodd\"></path>\n",
              "</svg>\n",
              "</button>\n",
              "<div class=\"HeaderMenu-dropdown dropdown-menu rounded m-0 p-0 py-2 py-lg-4 position-relative position-lg-absolute left-0 left-lg-n3 d-lg-flex dropdown-menu-wide\">\n",
              "<ul class=\"list-style-none f5 px-lg-4 border-lg-right mb-4 mb-lg-0 pr-lg-7\">\n",
              "<li>\n",
              "<a class=\"HeaderMenu-dropdown-link lh-condensed d-block no-underline position-relative py-2 Link--secondary d-flex flex-items-center pb-lg-3\" data-analytics-event='{\"category\":\"Header dropdown (logged out), Product\",\"action\":\"click to go to Actions\",\"label\":\"ref_page:/topics;ref_cta:Actions;\"}' href=\"/features/actions\">\n",
              "<svg aria-hidden=\"true\" class=\"octicon octicon-workflow color-fg-subtle mr-3\" data-view-component=\"true\" height=\"24\" version=\"1.1\" viewbox=\"0 0 24 24\" width=\"24\">\n",
              "<path d=\"M1 3a2 2 0 012-2h6.5a2 2 0 012 2v6.5a2 2 0 01-2 2H7v4.063C7 16.355 7.644 17 8.438 17H12.5v-2.5a2 2 0 012-2H21a2 2 0 012 2V21a2 2 0 01-2 2h-6.5a2 2 0 01-2-2v-2.5H8.437A2.938 2.938 0 015.5 15.562V11.5H3a2 2 0 01-2-2V3zm2-.5a.5.5 0 00-.5.5v6.5a.5.5 0 00.5.5h6.5a.5.5 0 00.5-.5V3a.5.5 0 00-.5-.5H3zM14.5 14a.5.5 0 00-.5.5V21a.5.5 0 00.5.5H21a.5.5 0 00.5-.5v-6.5a.5.5 0 00-.5-.5h-6.5z\" fill-rule=\"evenodd\"></path>\n",
              "</svg>\n",
              "<div>\n",
              "<div class=\"color-fg-default h4\">Actions</div>\n",
              "        Automate any workflow\n",
              "      </div>\n",
              "</a></li>\n",
              "<li>\n",
              "<a class=\"HeaderMenu-dropdown-link lh-condensed d-block no-underline position-relative py-2 Link--secondary d-flex flex-items-center pb-lg-3\" data-analytics-event='{\"category\":\"Header dropdown (logged out), Product\",\"action\":\"click to go to Packages\",\"label\":\"ref_page:/topics;ref_cta:Packages;\"}' href=\"/features/packages\">\n",
              "<svg aria-hidden=\"true\" class=\"octicon octicon-package color-fg-subtle mr-3\" data-view-component=\"true\" height=\"24\" version=\"1.1\" viewbox=\"0 0 24 24\" width=\"24\">\n",
              "<path d=\"M12.876.64a1.75 1.75 0 00-1.75 0l-8.25 4.762a1.75 1.75 0 00-.875 1.515v9.525c0 .625.334 1.203.875 1.515l8.25 4.763a1.75 1.75 0 001.75 0l8.25-4.762a1.75 1.75 0 00.875-1.516V6.917a1.75 1.75 0 00-.875-1.515L12.876.639zm-1 1.298a.25.25 0 01.25 0l7.625 4.402-7.75 4.474-7.75-4.474 7.625-4.402zM3.501 7.64v8.803c0 .09.048.172.125.216l7.625 4.402v-8.947L3.501 7.64zm9.25 13.421l7.625-4.402a.25.25 0 00.125-.216V7.639l-7.75 4.474v8.947z\" fill-rule=\"evenodd\"></path>\n",
              "</svg>\n",
              "<div>\n",
              "<div class=\"color-fg-default h4\">Packages</div>\n",
              "        Host and manage packages\n",
              "      </div>\n",
              "</a></li>\n",
              "<li>\n",
              "<a class=\"HeaderMenu-dropdown-link lh-condensed d-block no-underline position-relative py-2 Link--secondary d-flex flex-items-center pb-lg-3\" data-analytics-event='{\"category\":\"Header dropdown (logged out), Product\",\"action\":\"click to go to Security\",\"label\":\"ref_page:/topics;ref_cta:Security;\"}' href=\"/features/security\">\n",
              "<svg aria-hidden=\"true\" class=\"octicon octicon-shield-check color-fg-subtle mr-3\" data-view-component=\"true\" height=\"24\" version=\"1.1\" viewbox=\"0 0 24 24\" width=\"24\">\n",
              "<path d=\"M16.53 9.78a.75.75 0 00-1.06-1.06L11 13.19l-1.97-1.97a.75.75 0 00-1.06 1.06l2.5 2.5a.75.75 0 001.06 0l5-5z\"></path><path d=\"M12.54.637a1.75 1.75 0 00-1.08 0L3.21 3.312A1.75 1.75 0 002 4.976V10c0 6.19 3.77 10.705 9.401 12.83.386.145.812.145 1.198 0C18.229 20.704 22 16.19 22 10V4.976c0-.759-.49-1.43-1.21-1.664L12.54.637zm-.617 1.426a.25.25 0 01.154 0l8.25 2.676a.25.25 0 01.173.237V10c0 5.461-3.28 9.483-8.43 11.426a.2.2 0 01-.14 0C6.78 19.483 3.5 15.46 3.5 10V4.976c0-.108.069-.203.173-.237l8.25-2.676z\" fill-rule=\"evenodd\"></path>\n",
              "</svg>\n",
              "<div>\n",
              "<div class=\"color-fg-default h4\">Security</div>\n",
              "        Find and fix vulnerabilities\n",
              "      </div>\n",
              "</a></li>\n",
              "<li>\n",
              "<a class=\"HeaderMenu-dropdown-link lh-condensed d-block no-underline position-relative py-2 Link--secondary d-flex flex-items-center pb-lg-3\" data-analytics-event='{\"category\":\"Header dropdown (logged out), Product\",\"action\":\"click to go to Codespaces\",\"label\":\"ref_page:/topics;ref_cta:Codespaces;\"}' href=\"/features/codespaces\">\n",
              "<svg aria-hidden=\"true\" class=\"octicon octicon-codespaces color-fg-subtle mr-3\" data-view-component=\"true\" height=\"24\" version=\"1.1\" viewbox=\"0 0 24 24\" width=\"24\">\n",
              "<path d=\"M3.5 3.75C3.5 2.784 4.284 2 5.25 2h13.5c.966 0 1.75.784 1.75 1.75v7.5A1.75 1.75 0 0118.75 13H5.25a1.75 1.75 0 01-1.75-1.75v-7.5zm1.75-.25a.25.25 0 00-.25.25v7.5c0 .138.112.25.25.25h13.5a.25.25 0 00.25-.25v-7.5a.25.25 0 00-.25-.25H5.25zM1.5 15.75c0-.966.784-1.75 1.75-1.75h17.5c.966 0 1.75.784 1.75 1.75v4a1.75 1.75 0 01-1.75 1.75H3.25a1.75 1.75 0 01-1.75-1.75v-4zm1.75-.25a.25.25 0 00-.25.25v4c0 .138.112.25.25.25h17.5a.25.25 0 00.25-.25v-4a.25.25 0 00-.25-.25H3.25z\" fill-rule=\"evenodd\"></path><path d=\"M10 17.75a.75.75 0 01.75-.75h6.5a.75.75 0 010 1.5h-6.5a.75.75 0 01-.75-.75zm-4 0a.75.75 0 01.75-.75h.5a.75.75 0 010 1.5h-.5a.75.75 0 01-.75-.75z\" fill-rule=\"evenodd\"></path>\n",
              "</svg>\n",
              "<div>\n",
              "<div class=\"color-fg-default h4\">Codespaces</div>\n",
              "        Instant dev environments\n",
              "      </div>\n",
              "</a></li>\n",
              "<li>\n",
              "<a class=\"HeaderMenu-dropdown-link lh-condensed d-block no-underline position-relative py-2 Link--secondary d-flex flex-items-center pb-lg-3\" data-analytics-event='{\"category\":\"Header dropdown (logged out), Product\",\"action\":\"click to go to Copilot\",\"label\":\"ref_page:/topics;ref_cta:Copilot;\"}' href=\"/features/copilot\">\n",
              "<svg aria-hidden=\"true\" class=\"octicon octicon-copilot color-fg-subtle mr-3\" data-view-component=\"true\" height=\"24\" version=\"1.1\" viewbox=\"0 0 24 24\" width=\"24\">\n",
              "<path d=\"M9.75 14a.75.75 0 01.75.75v2.5a.75.75 0 01-1.5 0v-2.5a.75.75 0 01.75-.75zm4.5 0a.75.75 0 01.75.75v2.5a.75.75 0 01-1.5 0v-2.5a.75.75 0 01.75-.75z\"></path><path d=\"M12 2c-2.214 0-4.248.657-5.747 1.756a7.43 7.43 0 00-.397.312c-.584.235-1.077.546-1.474.952-.85.87-1.132 2.037-1.132 3.368 0 .368.014.733.052 1.086l-.633 1.478-.043.022A4.75 4.75 0 000 15.222v1.028c0 .529.31.987.564 1.293.28.336.637.653.967.918a13.262 13.262 0 001.299.911l.024.015.006.004.04.025.144.087c.124.073.304.177.535.3.46.245 1.122.57 1.942.894C7.155 21.344 9.439 22 12 22s4.845-.656 6.48-1.303c.819-.324 1.481-.65 1.941-.895a13.797 13.797 0 00.68-.386l.039-.025.006-.004.024-.015a8.829 8.829 0 00.387-.248c.245-.164.577-.396.912-.663.33-.265.686-.582.966-.918.256-.306.565-.764.565-1.293v-1.028a4.75 4.75 0 00-2.626-4.248l-.043-.022-.633-1.478c.038-.353.052-.718.052-1.086 0-1.331-.282-2.499-1.132-3.368-.397-.406-.89-.717-1.474-.952a7.386 7.386 0 00-.397-.312C16.248 2.657 14.214 2 12 2zm-8 9.654l.038-.09c.046.06.094.12.145.177.793.9 2.057 1.259 3.782 1.259 1.59 0 2.739-.544 3.508-1.492.131-.161.249-.331.355-.508a32.948 32.948 0 00.344 0c.106.177.224.347.355.508.77.948 1.918 1.492 3.508 1.492 1.725 0 2.989-.359 3.782-1.259.05-.057.099-.116.145-.177l.038.09v6.669a17.618 17.618 0 01-2.073.98C16.405 19.906 14.314 20.5 12 20.5c-2.314 0-4.405-.594-5.927-1.197A17.62 17.62 0 014 18.323v-6.67zm6.309-1.092a2.35 2.35 0 01-.38.374c-.437.341-1.054.564-1.964.564-1.573 0-2.292-.337-2.657-.75-.192-.218-.331-.506-.423-.89-.091-.385-.135-.867-.135-1.472 0-1.14.243-1.847.705-2.32.477-.487 1.319-.861 2.824-1.024 1.487-.16 2.192.138 2.533.529l.008.01c.264.308.429.806.43 1.568v.031a7.203 7.203 0 01-.09 1.079c-.143.967-.406 1.754-.851 2.301zm2.504-2.497a7.174 7.174 0 01-.063-.894v-.02c.001-.77.17-1.27.438-1.578.341-.39 1.046-.69 2.533-.529 1.506.163 2.347.537 2.824 1.025.462.472.705 1.179.705 2.319 0 1.21-.174 1.926-.558 2.361-.365.414-1.084.751-2.657.751-1.21 0-1.902-.393-2.344-.938-.475-.584-.742-1.44-.878-2.497z\" fill-rule=\"evenodd\"></path>\n",
              "</svg>\n",
              "<div>\n",
              "<div class=\"color-fg-default h4\">Copilot</div>\n",
              "        Write better code with AI\n",
              "      </div>\n",
              "</a></li>\n",
              "<li>\n",
              "<a class=\"HeaderMenu-dropdown-link lh-condensed d-block no-underline position-relative py-2 Link--secondary d-flex flex-items-center pb-lg-3\" data-analytics-event='{\"category\":\"Header dropdown (logged out), Product\",\"action\":\"click to go to Code review\",\"label\":\"ref_page:/topics;ref_cta:Code review;\"}' href=\"/features/code-review\">\n",
              "<svg aria-hidden=\"true\" class=\"octicon octicon-code-review color-fg-subtle mr-3\" data-view-component=\"true\" height=\"24\" version=\"1.1\" viewbox=\"0 0 24 24\" width=\"24\">\n",
              "<path d=\"M10.3 6.74a.75.75 0 01-.04 1.06l-2.908 2.7 2.908 2.7a.75.75 0 11-1.02 1.1l-3.5-3.25a.75.75 0 010-1.1l3.5-3.25a.75.75 0 011.06.04zm3.44 1.06a.75.75 0 111.02-1.1l3.5 3.25a.75.75 0 010 1.1l-3.5 3.25a.75.75 0 11-1.02-1.1l2.908-2.7-2.908-2.7z\"></path><path d=\"M1.5 4.25c0-.966.784-1.75 1.75-1.75h17.5c.966 0 1.75.784 1.75 1.75v12.5a1.75 1.75 0 01-1.75 1.75h-9.69l-3.573 3.573A1.457 1.457 0 015 21.043V18.5H3.25a1.75 1.75 0 01-1.75-1.75V4.25zM3.25 4a.25.25 0 00-.25.25v12.5c0 .138.112.25.25.25h2.5a.75.75 0 01.75.75v3.19l3.72-3.72a.75.75 0 01.53-.22h10a.25.25 0 00.25-.25V4.25a.25.25 0 00-.25-.25H3.25z\" fill-rule=\"evenodd\"></path>\n",
              "</svg>\n",
              "<div>\n",
              "<div class=\"color-fg-default h4\">Code review</div>\n",
              "        Manage code changes\n",
              "      </div>\n",
              "</a></li>\n",
              "<li>\n",
              "<a class=\"HeaderMenu-dropdown-link lh-condensed d-block no-underline position-relative py-2 Link--secondary d-flex flex-items-center pb-lg-3\" data-analytics-event='{\"category\":\"Header dropdown (logged out), Product\",\"action\":\"click to go to Issues\",\"label\":\"ref_page:/topics;ref_cta:Issues;\"}' href=\"/features/issues\">\n",
              "<svg aria-hidden=\"true\" class=\"octicon octicon-issue-opened color-fg-subtle mr-3\" data-view-component=\"true\" height=\"24\" version=\"1.1\" viewbox=\"0 0 24 24\" width=\"24\">\n",
              "<path d=\"M2.5 12a9.5 9.5 0 1119 0 9.5 9.5 0 01-19 0zM12 1C5.925 1 1 5.925 1 12s4.925 11 11 11 11-4.925 11-11S18.075 1 12 1zm0 13a2 2 0 100-4 2 2 0 000 4z\" fill-rule=\"evenodd\"></path>\n",
              "</svg>\n",
              "<div>\n",
              "<div class=\"color-fg-default h4\">Issues</div>\n",
              "        Plan and track work\n",
              "      </div>\n",
              "</a></li>\n",
              "<li>\n",
              "<a class=\"HeaderMenu-dropdown-link lh-condensed d-block no-underline position-relative py-2 Link--secondary d-flex flex-items-center\" data-analytics-event='{\"category\":\"Header dropdown (logged out), Product\",\"action\":\"click to go to Discussions\",\"label\":\"ref_page:/topics;ref_cta:Discussions;\"}' href=\"/features/discussions\">\n",
              "<svg aria-hidden=\"true\" class=\"octicon octicon-comment-discussion color-fg-subtle mr-3\" data-view-component=\"true\" height=\"24\" version=\"1.1\" viewbox=\"0 0 24 24\" width=\"24\">\n",
              "<path d=\"M1.75 1A1.75 1.75 0 000 2.75v9.5C0 13.216.784 14 1.75 14H3v1.543a1.457 1.457 0 002.487 1.03L8.061 14h6.189A1.75 1.75 0 0016 12.25v-9.5A1.75 1.75 0 0014.25 1H1.75zM1.5 2.75a.25.25 0 01.25-.25h12.5a.25.25 0 01.25.25v9.5a.25.25 0 01-.25.25h-6.5a.75.75 0 00-.53.22L4.5 15.44v-2.19a.75.75 0 00-.75-.75h-2a.25.25 0 01-.25-.25v-9.5z\" fill-rule=\"evenodd\"></path><path d=\"M22.5 8.75a.25.25 0 00-.25-.25h-3.5a.75.75 0 010-1.5h3.5c.966 0 1.75.784 1.75 1.75v9.5A1.75 1.75 0 0122.25 20H21v1.543a1.457 1.457 0 01-2.487 1.03L15.939 20H10.75A1.75 1.75 0 019 18.25v-1.465a.75.75 0 011.5 0v1.465c0 .138.112.25.25.25h5.5a.75.75 0 01.53.22l2.72 2.72v-2.19a.75.75 0 01.75-.75h2a.25.25 0 00.25-.25v-9.5z\"></path>\n",
              "</svg>\n",
              "<div>\n",
              "<div class=\"color-fg-default h4\">Discussions</div>\n",
              "        Collaborate outside of code\n",
              "      </div>\n",
              "</a></li>\n",
              "</ul>\n",
              "<ul class=\"list-style-none f5 px-lg-4\">\n",
              "<li class=\"h4 color-fg-default my-1\">Explore</li>\n",
              "<li>\n",
              "<a class=\"HeaderMenu-dropdown-link lh-condensed d-block no-underline position-relative py-2 Link--secondary\" data-analytics-event='{\"category\":\"Header dropdown (logged out), Product\",\"action\":\"click to go to All features\",\"label\":\"ref_page:/topics;ref_cta:All features;\"}' href=\"/features\">\n",
              "      All features\n",
              "\n",
              "    \n",
              "</a></li>\n",
              "<li>\n",
              "<a class=\"HeaderMenu-dropdown-link lh-condensed d-block no-underline position-relative py-2 Link--secondary\" data-analytics-event='{\"category\":\"Header dropdown (logged out), Product\",\"action\":\"click to go to Documentation\",\"label\":\"ref_page:/topics;ref_cta:Documentation;\"}' href=\"https://docs.github.com\" target=\"_blank\">\n",
              "      Documentation\n",
              "\n",
              "    <svg aria-hidden=\"true\" class=\"octicon octicon-link-external HeaderMenu-external-icon color-fg-subtle\" data-view-component=\"true\" height=\"16\" version=\"1.1\" viewbox=\"0 0 16 16\" width=\"16\">\n",
              "<path d=\"M10.604 1h4.146a.25.25 0 01.25.25v4.146a.25.25 0 01-.427.177L13.03 4.03 9.28 7.78a.75.75 0 01-1.06-1.06l3.75-3.75-1.543-1.543A.25.25 0 0110.604 1zM3.75 2A1.75 1.75 0 002 3.75v8.5c0 .966.784 1.75 1.75 1.75h8.5A1.75 1.75 0 0014 12.25v-3.5a.75.75 0 00-1.5 0v3.5a.25.25 0 01-.25.25h-8.5a.25.25 0 01-.25-.25v-8.5a.25.25 0 01.25-.25h3.5a.75.75 0 000-1.5h-3.5z\" fill-rule=\"evenodd\"></path>\n",
              "</svg>\n",
              "</a></li>\n",
              "<li>\n",
              "<a class=\"HeaderMenu-dropdown-link lh-condensed d-block no-underline position-relative py-2 Link--secondary\" data-analytics-event='{\"category\":\"Header dropdown (logged out), Product\",\"action\":\"click to go to GitHub Skills\",\"label\":\"ref_page:/topics;ref_cta:GitHub Skills;\"}' href=\"https://skills.github.com/\" target=\"_blank\">\n",
              "      GitHub Skills\n",
              "\n",
              "    <svg aria-hidden=\"true\" class=\"octicon octicon-link-external HeaderMenu-external-icon color-fg-subtle\" data-view-component=\"true\" height=\"16\" version=\"1.1\" viewbox=\"0 0 16 16\" width=\"16\">\n",
              "<path d=\"M10.604 1h4.146a.25.25 0 01.25.25v4.146a.25.25 0 01-.427.177L13.03 4.03 9.28 7.78a.75.75 0 01-1.06-1.06l3.75-3.75-1.543-1.543A.25.25 0 0110.604 1zM3.75 2A1.75 1.75 0 002 3.75v8.5c0 .966.784 1.75 1.75 1.75h8.5A1.75 1.75 0 0014 12.25v-3.5a.75.75 0 00-1.5 0v3.5a.25.25 0 01-.25.25h-8.5a.25.25 0 01-.25-.25v-8.5a.25.25 0 01.25-.25h3.5a.75.75 0 000-1.5h-3.5z\" fill-rule=\"evenodd\"></path>\n",
              "</svg>\n",
              "</a></li>\n",
              "<li>\n",
              "<a class=\"HeaderMenu-dropdown-link lh-condensed d-block no-underline position-relative py-2 Link--secondary\" data-analytics-event='{\"category\":\"Header dropdown (logged out), Product\",\"action\":\"click to go to Blog\",\"label\":\"ref_page:/topics;ref_cta:Blog;\"}' href=\"https://github.blog\" target=\"_blank\">\n",
              "      Blog\n",
              "\n",
              "    <svg aria-hidden=\"true\" class=\"octicon octicon-link-external HeaderMenu-external-icon color-fg-subtle\" data-view-component=\"true\" height=\"16\" version=\"1.1\" viewbox=\"0 0 16 16\" width=\"16\">\n",
              "<path d=\"M10.604 1h4.146a.25.25 0 01.25.25v4.146a.25.25 0 01-.427.177L13.03 4.03 9.28 7.78a.75.75 0 01-1.06-1.06l3.75-3.75-1.543-1.543A.25.25 0 0110.604 1zM3.75 2A1.75 1.75 0 002 3.75v8.5c0 .966.784 1.75 1.75 1.75h8.5A1.75 1.75 0 0014 12.25v-3.5a.75.75 0 00-1.5 0v3.5a.25.25 0 01-.25.25h-8.5a.25.25 0 01-.25-.25v-8.5a.25.25 0 01.25-.25h3.5a.75.75 0 000-1.5h-3.5z\" fill-rule=\"evenodd\"></path>\n",
              "</svg>\n",
              "</a></li>\n",
              "</ul>\n",
              "</div>\n",
              "</li>\n",
              "<li class=\"HeaderMenu-item position-relative flex-wrap flex-justify-between flex-items-center d-block d-lg-flex flex-lg-nowrap flex-lg-items-center js-details-container js-header-menu-item\">\n",
              "<button aria-expanded=\"false\" class=\"HeaderMenu-link border-0 width-full width-lg-auto px-0 px-lg-2 py-3 py-lg-2 no-wrap d-flex flex-items-center flex-justify-between js-details-target\" type=\"button\">\n",
              "      Solutions\n",
              "      <svg aria-hidden=\"true\" class=\"octicon octicon-chevron-down HeaderMenu-icon ml-1\" data-view-component=\"true\" height=\"16\" opacity=\"0.5\" version=\"1.1\" viewbox=\"0 0 16 16\" width=\"16\">\n",
              "<path d=\"M12.78 6.22a.75.75 0 010 1.06l-4.25 4.25a.75.75 0 01-1.06 0L3.22 7.28a.75.75 0 011.06-1.06L8 9.94l3.72-3.72a.75.75 0 011.06 0z\" fill-rule=\"evenodd\"></path>\n",
              "</svg>\n",
              "</button>\n",
              "<div class=\"HeaderMenu-dropdown dropdown-menu rounded m-0 p-0 py-2 py-lg-4 position-relative position-lg-absolute left-0 left-lg-n3 px-lg-4\">\n",
              "<ul class=\"list-style-none f5 border-bottom pb-3 mb-3\">\n",
              "<li class=\"h4 color-fg-default my-1\">By Plan</li>\n",
              "<li>\n",
              "<a class=\"HeaderMenu-dropdown-link lh-condensed d-block no-underline position-relative py-2 Link--secondary\" data-analytics-event='{\"category\":\"Header dropdown (logged out), Solutions\",\"action\":\"click to go to Enterprise\",\"label\":\"ref_page:/topics;ref_cta:Enterprise;\"}' href=\"/enterprise\">\n",
              "      Enterprise\n",
              "\n",
              "    \n",
              "</a></li>\n",
              "<li>\n",
              "<a class=\"HeaderMenu-dropdown-link lh-condensed d-block no-underline position-relative py-2 Link--secondary\" data-analytics-event='{\"category\":\"Header dropdown (logged out), Solutions\",\"action\":\"click to go to Teams\",\"label\":\"ref_page:/topics;ref_cta:Teams;\"}' href=\"/team\">\n",
              "      Teams\n",
              "\n",
              "    \n",
              "</a></li>\n",
              "<li>\n",
              "<a class=\"HeaderMenu-dropdown-link lh-condensed d-block no-underline position-relative py-2 Link--secondary\" data-analytics-event='{\"category\":\"Header dropdown (logged out), Solutions\",\"action\":\"click to go to Compare all\",\"label\":\"ref_page:/topics;ref_cta:Compare all;\"}' href=\"/pricing#compare-features\">\n",
              "      Compare all\n",
              "\n",
              "    \n",
              "</a></li>\n",
              "</ul>\n",
              "<ul class=\"list-style-none f5 border-bottom pb-3 mb-3\">\n",
              "<li class=\"h4 color-fg-default my-1\">By Solution</li>\n",
              "<li>\n",
              "<a class=\"HeaderMenu-dropdown-link lh-condensed d-block no-underline position-relative py-2 Link--secondary\" data-analytics-event='{\"category\":\"Header dropdown (logged out), Solutions\",\"action\":\"click to go to CI/CD &amp;amp; Automation\",\"label\":\"ref_page:/topics;ref_cta:CI/CD &amp;amp; Automation;\"}' href=\"https://resources.github.com/ci-cd/\" target=\"_blank\">\n",
              "      CI/CD &amp; Automation\n",
              "\n",
              "    <svg aria-hidden=\"true\" class=\"octicon octicon-link-external HeaderMenu-external-icon color-fg-subtle\" data-view-component=\"true\" height=\"16\" version=\"1.1\" viewbox=\"0 0 16 16\" width=\"16\">\n",
              "<path d=\"M10.604 1h4.146a.25.25 0 01.25.25v4.146a.25.25 0 01-.427.177L13.03 4.03 9.28 7.78a.75.75 0 01-1.06-1.06l3.75-3.75-1.543-1.543A.25.25 0 0110.604 1zM3.75 2A1.75 1.75 0 002 3.75v8.5c0 .966.784 1.75 1.75 1.75h8.5A1.75 1.75 0 0014 12.25v-3.5a.75.75 0 00-1.5 0v3.5a.25.25 0 01-.25.25h-8.5a.25.25 0 01-.25-.25v-8.5a.25.25 0 01.25-.25h3.5a.75.75 0 000-1.5h-3.5z\" fill-rule=\"evenodd\"></path>\n",
              "</svg>\n",
              "</a></li>\n",
              "<li>\n",
              "<a class=\"HeaderMenu-dropdown-link lh-condensed d-block no-underline position-relative py-2 Link--secondary\" data-analytics-event='{\"category\":\"Header dropdown (logged out), Solutions\",\"action\":\"click to go to DevOps\",\"label\":\"ref_page:/topics;ref_cta:DevOps;\"}' href=\"https://resources.github.com/devops/\" target=\"_blank\">\n",
              "      DevOps\n",
              "\n",
              "    <svg aria-hidden=\"true\" class=\"octicon octicon-link-external HeaderMenu-external-icon color-fg-subtle\" data-view-component=\"true\" height=\"16\" version=\"1.1\" viewbox=\"0 0 16 16\" width=\"16\">\n",
              "<path d=\"M10.604 1h4.146a.25.25 0 01.25.25v4.146a.25.25 0 01-.427.177L13.03 4.03 9.28 7.78a.75.75 0 01-1.06-1.06l3.75-3.75-1.543-1.543A.25.25 0 0110.604 1zM3.75 2A1.75 1.75 0 002 3.75v8.5c0 .966.784 1.75 1.75 1.75h8.5A1.75 1.75 0 0014 12.25v-3.5a.75.75 0 00-1.5 0v3.5a.25.25 0 01-.25.25h-8.5a.25.25 0 01-.25-.25v-8.5a.25.25 0 01.25-.25h3.5a.75.75 0 000-1.5h-3.5z\" fill-rule=\"evenodd\"></path>\n",
              "</svg>\n",
              "</a></li>\n",
              "<li>\n",
              "<a class=\"HeaderMenu-dropdown-link lh-condensed d-block no-underline position-relative py-2 Link--secondary\" data-analytics-event='{\"category\":\"Header dropdown (logged out), Solutions\",\"action\":\"click to go to DevSecOps\",\"label\":\"ref_page:/topics;ref_cta:DevSecOps;\"}' href=\"https://resources.github.com/devops/fundamentals/devsecops/\" target=\"_blank\">\n",
              "      DevSecOps\n",
              "\n",
              "    <svg aria-hidden=\"true\" class=\"octicon octicon-link-external HeaderMenu-external-icon color-fg-subtle\" data-view-component=\"true\" height=\"16\" version=\"1.1\" viewbox=\"0 0 16 16\" width=\"16\">\n",
              "<path d=\"M10.604 1h4.146a.25.25 0 01.25.25v4.146a.25.25 0 01-.427.177L13.03 4.03 9.28 7.78a.75.75 0 01-1.06-1.06l3.75-3.75-1.543-1.543A.25.25 0 0110.604 1zM3.75 2A1.75 1.75 0 002 3.75v8.5c0 .966.784 1.75 1.75 1.75h8.5A1.75 1.75 0 0014 12.25v-3.5a.75.75 0 00-1.5 0v3.5a.25.25 0 01-.25.25h-8.5a.25.25 0 01-.25-.25v-8.5a.25.25 0 01.25-.25h3.5a.75.75 0 000-1.5h-3.5z\" fill-rule=\"evenodd\"></path>\n",
              "</svg>\n",
              "</a></li>\n",
              "</ul>\n",
              "<ul class=\"list-style-none f5\">\n",
              "<li class=\"h4 color-fg-default my-1\">Case Studies</li>\n",
              "<li>\n",
              "<a class=\"HeaderMenu-dropdown-link lh-condensed d-block no-underline position-relative py-2 Link--secondary\" data-analytics-event='{\"category\":\"Header dropdown (logged out), Solutions\",\"action\":\"click to go to Customer Stories\",\"label\":\"ref_page:/topics;ref_cta:Customer Stories;\"}' href=\"/customer-stories\">\n",
              "      Customer Stories\n",
              "\n",
              "    \n",
              "</a></li>\n",
              "<li>\n",
              "<a class=\"HeaderMenu-dropdown-link lh-condensed d-block no-underline position-relative py-2 Link--secondary\" data-analytics-event='{\"category\":\"Header dropdown (logged out), Solutions\",\"action\":\"click to go to Resources\",\"label\":\"ref_page:/topics;ref_cta:Resources;\"}' href=\"https://resources.github.com/\" target=\"_blank\">\n",
              "      Resources\n",
              "\n",
              "    <svg aria-hidden=\"true\" class=\"octicon octicon-link-external HeaderMenu-external-icon color-fg-subtle\" data-view-component=\"true\" height=\"16\" version=\"1.1\" viewbox=\"0 0 16 16\" width=\"16\">\n",
              "<path d=\"M10.604 1h4.146a.25.25 0 01.25.25v4.146a.25.25 0 01-.427.177L13.03 4.03 9.28 7.78a.75.75 0 01-1.06-1.06l3.75-3.75-1.543-1.543A.25.25 0 0110.604 1zM3.75 2A1.75 1.75 0 002 3.75v8.5c0 .966.784 1.75 1.75 1.75h8.5A1.75 1.75 0 0014 12.25v-3.5a.75.75 0 00-1.5 0v3.5a.25.25 0 01-.25.25h-8.5a.25.25 0 01-.25-.25v-8.5a.25.25 0 01.25-.25h3.5a.75.75 0 000-1.5h-3.5z\" fill-rule=\"evenodd\"></path>\n",
              "</svg>\n",
              "</a></li>\n",
              "</ul>\n",
              "</div>\n",
              "</li>\n",
              "<li class=\"HeaderMenu-item position-relative flex-wrap flex-justify-between flex-items-center d-block d-lg-flex flex-lg-nowrap flex-lg-items-center js-details-container js-header-menu-item\">\n",
              "<button aria-expanded=\"false\" class=\"HeaderMenu-link border-0 width-full width-lg-auto px-0 px-lg-2 py-3 py-lg-2 no-wrap d-flex flex-items-center flex-justify-between js-details-target\" type=\"button\">\n",
              "      Open Source\n",
              "      <svg aria-hidden=\"true\" class=\"octicon octicon-chevron-down HeaderMenu-icon ml-1\" data-view-component=\"true\" height=\"16\" opacity=\"0.5\" version=\"1.1\" viewbox=\"0 0 16 16\" width=\"16\">\n",
              "<path d=\"M12.78 6.22a.75.75 0 010 1.06l-4.25 4.25a.75.75 0 01-1.06 0L3.22 7.28a.75.75 0 011.06-1.06L8 9.94l3.72-3.72a.75.75 0 011.06 0z\" fill-rule=\"evenodd\"></path>\n",
              "</svg>\n",
              "</button>\n",
              "<div class=\"HeaderMenu-dropdown dropdown-menu rounded m-0 p-0 py-2 py-lg-4 position-relative position-lg-absolute left-0 left-lg-n3 px-lg-4\">\n",
              "<ul class=\"list-style-none f5 border-bottom pb-3 mb-3\">\n",
              "<li>\n",
              "<a class=\"HeaderMenu-dropdown-link lh-condensed d-block no-underline position-relative py-2 Link--secondary d-flex flex-items-center\" data-analytics-event='{\"category\":\"Header dropdown (logged out), Open Source\",\"action\":\"click to go to GitHub Sponsors\",\"label\":\"ref_page:/topics;ref_cta:GitHub Sponsors;\"}' href=\"/sponsors\">\n",
              "<div>\n",
              "<div class=\"color-fg-default h4\">GitHub Sponsors</div>\n",
              "        Fund open source developers\n",
              "      </div>\n",
              "</a></li>\n",
              "</ul>\n",
              "<ul class=\"list-style-none f5 border-bottom pb-3 mb-3\">\n",
              "<li>\n",
              "<a class=\"HeaderMenu-dropdown-link lh-condensed d-block no-underline position-relative py-2 Link--secondary d-flex flex-items-center\" data-analytics-event='{\"category\":\"Header dropdown (logged out), Open Source\",\"action\":\"click to go to The ReadME Project\",\"label\":\"ref_page:/topics;ref_cta:The ReadME Project;\"}' href=\"/readme\">\n",
              "<div>\n",
              "<div class=\"color-fg-default h4\">The ReadME Project</div>\n",
              "        GitHub community articles\n",
              "      </div>\n",
              "</a></li>\n",
              "</ul>\n",
              "<ul class=\"list-style-none f5\">\n",
              "<li class=\"h4 color-fg-default my-1\">Repositories</li>\n",
              "<li>\n",
              "<a class=\"HeaderMenu-dropdown-link lh-condensed d-block no-underline position-relative py-2 Link--secondary\" data-analytics-event='{\"category\":\"Header dropdown (logged out), Open Source\",\"action\":\"click to go to Topics\",\"label\":\"ref_page:/topics;ref_cta:Topics;\"}' href=\"/topics\">\n",
              "      Topics\n",
              "\n",
              "    \n",
              "</a></li>\n",
              "<li>\n",
              "<a class=\"HeaderMenu-dropdown-link lh-condensed d-block no-underline position-relative py-2 Link--secondary\" data-analytics-event='{\"category\":\"Header dropdown (logged out), Open Source\",\"action\":\"click to go to Trending\",\"label\":\"ref_page:/topics;ref_cta:Trending;\"}' href=\"/trending\">\n",
              "      Trending\n",
              "\n",
              "    \n",
              "</a></li>\n",
              "<li>\n",
              "<a class=\"HeaderMenu-dropdown-link lh-condensed d-block no-underline position-relative py-2 Link--secondary\" data-analytics-event='{\"category\":\"Header dropdown (logged out), Open Source\",\"action\":\"click to go to Collections\",\"label\":\"ref_page:/topics;ref_cta:Collections;\"}' href=\"/collections\">\n",
              "      Collections\n",
              "\n",
              "    \n",
              "</a></li>\n",
              "</ul>\n",
              "</div>\n",
              "</li>\n",
              "<li class=\"HeaderMenu-item position-relative flex-wrap flex-justify-between flex-items-center d-block d-lg-flex flex-lg-nowrap flex-lg-items-center js-details-container js-header-menu-item\">\n",
              "<a class=\"HeaderMenu-link no-underline px-0 px-lg-2 py-3 py-lg-2 d-block d-lg-inline-block\" data-analytics-event='{\"category\":\"Header menu top item (logged out)\",\"action\":\"click to go to Pricing\",\"label\":\"ref_page:/topics;ref_cta:Pricing;\"}' href=\"/pricing\">Pricing</a>\n",
              "</li>\n",
              "</ul>\n",
              "</nav>\n",
              "<div class=\"d-lg-flex flex-items-center px-3 px-lg-0 mb-3 mb-lg-0 text-center text-lg-left\">\n",
              "<div class=\"d-lg-flex min-width-0 mb-2 mb-lg-0\">\n",
              "<div class=\"header-search flex-auto position-relative js-site-search flex-self-stretch flex-md-self-auto mb-3 mb-md-0 mr-0 mr-md-3 js-jump-to\">\n",
              "<div class=\"position-relative\">\n",
              "<!-- '\"` --><!-- </textarea></xmp> --><form accept-charset=\"UTF-8\" action=\"/search\" aria-label=\"Site\" class=\"js-site-search-form\" data-turbo=\"false\" data-unscoped-search-url=\"/search\" method=\"get\" role=\"search\">\n",
              "<label class=\"form-control header-search-wrapper input-sm p-0 js-chromeless-input-container header-search-wrapper-jump-to position-relative d-flex flex-justify-between flex-items-center\">\n",
              "<input aria-autocomplete=\"list\" aria-controls=\"jump-to-results\" aria-expanded=\"false\" aria-haspopup=\"listbox\" aria-label=\"Search GitHub\" autocapitalize=\"off\" autocomplete=\"off\" class=\"form-control js-site-search-focus header-search-input jump-to-field js-jump-to-field\" data-hotkey=\"s,/\" data-jump-to-suggestions-path=\"/_graphql/GetSuggestedNavigationDestinations\" data-scoped-placeholder=\"Search\" data-test-selector=\"nav-search-input\" data-unscoped-placeholder=\"Search GitHub\" name=\"q\" placeholder=\"Search GitHub\" role=\"combobox\" spellcheck=\"false\" type=\"text\"/>\n",
              "<input class=\"js-data-jump-to-suggestions-path-csrf\" data-csrf=\"true\" type=\"hidden\" value=\"UffWqn8DqGutTxR1BZ5cQRx/tF0xj7ZtReoa5xsayvr81IT6ukCjgKAoojNQ7fegUtonUGJX3/vPEEHvDVOq9Q==\">\n",
              "<input class=\"js-site-search-type-field\" name=\"type\" type=\"hidden\"/>\n",
              "<svg aria-hidden=\"true\" class=\"mr-1 header-search-key-slash\" height=\"20\" width=\"22\" xmlns=\"http://www.w3.org/2000/svg\"><path d=\"M3.5.5h12c1.7 0 3 1.3 3 3v13c0 1.7-1.3 3-3 3h-12c-1.7 0-3-1.3-3-3v-13c0-1.7 1.3-3 3-3z\" fill=\"none\" opacity=\".4\" stroke=\"#979A9C\"></path><path d=\"M11.8 6L8 15.1h-.9L10.8 6h1z\" fill=\"#979A9C\"></path></svg>\n",
              "<div class=\"Box position-absolute overflow-hidden d-none jump-to-suggestions js-jump-to-suggestions-container\">\n",
              "<ul class=\"d-none js-jump-to-suggestions-template-container\">\n",
              "<li class=\"d-flex flex-justify-start flex-items-center p-0 f5 navigation-item js-navigation-item js-jump-to-suggestion\" role=\"option\">\n",
              "<a class=\"no-underline d-flex flex-auto flex-items-center jump-to-suggestions-path js-jump-to-suggestion-path js-navigation-open p-2\" data-item-type=\"suggestion\" href=\"\" tabindex=\"-1\">\n",
              "<div class=\"jump-to-octicon js-jump-to-octicon flex-shrink-0 mr-2 text-center d-none\">\n",
              "<svg aria-label=\"Repository\" class=\"octicon octicon-repo js-jump-to-octicon-repo d-none flex-shrink-0\" data-view-component=\"true\" height=\"16\" role=\"img\" title=\"Repository\" version=\"1.1\" viewbox=\"0 0 16 16\" width=\"16\">\n",
              "<path d=\"M2 2.5A2.5 2.5 0 014.5 0h8.75a.75.75 0 01.75.75v12.5a.75.75 0 01-.75.75h-2.5a.75.75 0 110-1.5h1.75v-2h-8a1 1 0 00-.714 1.7.75.75 0 01-1.072 1.05A2.495 2.495 0 012 11.5v-9zm10.5-1V9h-8c-.356 0-.694.074-1 .208V2.5a1 1 0 011-1h8zM5 12.25v3.25a.25.25 0 00.4.2l1.45-1.087a.25.25 0 01.3 0L8.6 15.7a.25.25 0 00.4-.2v-3.25a.25.25 0 00-.25-.25h-3.5a.25.25 0 00-.25.25z\" fill-rule=\"evenodd\"></path>\n",
              "</svg>\n",
              "<svg aria-label=\"Project\" class=\"octicon octicon-project js-jump-to-octicon-project d-none flex-shrink-0\" data-view-component=\"true\" height=\"16\" role=\"img\" title=\"Project\" version=\"1.1\" viewbox=\"0 0 16 16\" width=\"16\">\n",
              "<path d=\"M1.75 0A1.75 1.75 0 000 1.75v12.5C0 15.216.784 16 1.75 16h12.5A1.75 1.75 0 0016 14.25V1.75A1.75 1.75 0 0014.25 0H1.75zM1.5 1.75a.25.25 0 01.25-.25h12.5a.25.25 0 01.25.25v12.5a.25.25 0 01-.25.25H1.75a.25.25 0 01-.25-.25V1.75zM11.75 3a.75.75 0 00-.75.75v7.5a.75.75 0 001.5 0v-7.5a.75.75 0 00-.75-.75zm-8.25.75a.75.75 0 011.5 0v5.5a.75.75 0 01-1.5 0v-5.5zM8 3a.75.75 0 00-.75.75v3.5a.75.75 0 001.5 0v-3.5A.75.75 0 008 3z\" fill-rule=\"evenodd\"></path>\n",
              "</svg>\n",
              "<svg aria-label=\"Search\" class=\"octicon octicon-search js-jump-to-octicon-search d-none flex-shrink-0\" data-view-component=\"true\" height=\"16\" role=\"img\" title=\"Search\" version=\"1.1\" viewbox=\"0 0 16 16\" width=\"16\">\n",
              "<path d=\"M11.5 7a4.499 4.499 0 11-8.998 0A4.499 4.499 0 0111.5 7zm-.82 4.74a6 6 0 111.06-1.06l3.04 3.04a.75.75 0 11-1.06 1.06l-3.04-3.04z\" fill-rule=\"evenodd\"></path>\n",
              "</svg>\n",
              "</div>\n",
              "<img alt=\"\" aria-label=\"Team\" class=\"avatar mr-2 flex-shrink-0 js-jump-to-suggestion-avatar d-none\" height=\"28\" src=\"\" width=\"28\"/>\n",
              "<div class=\"jump-to-suggestion-name js-jump-to-suggestion-name flex-auto overflow-hidden text-left no-wrap css-truncate css-truncate-target\">\n",
              "</div>\n",
              "<div class=\"border rounded-2 flex-shrink-0 color-bg-subtle px-1 color-fg-muted ml-1 f6 d-none js-jump-to-badge-search\">\n",
              "<span aria-label=\"in all of GitHub\" class=\"js-jump-to-badge-search-text-default d-none\">\n",
              "        Search\n",
              "      </span>\n",
              "<span aria-label=\"in all of GitHub\" class=\"js-jump-to-badge-search-text-global d-none\">\n",
              "        All GitHub\n",
              "      </span>\n",
              "<span aria-hidden=\"true\" class=\"d-inline-block ml-1 v-align-middle\">↵</span>\n",
              "</div>\n",
              "<div aria-hidden=\"true\" class=\"border rounded-2 flex-shrink-0 color-bg-subtle px-1 color-fg-muted ml-1 f6 d-none d-on-nav-focus js-jump-to-badge-jump\">\n",
              "      Jump to\n",
              "      <span class=\"d-inline-block ml-1 v-align-middle\">↵</span>\n",
              "</div>\n",
              "</a>\n",
              "</li>\n",
              "</ul>\n",
              "<ul class=\"d-none js-jump-to-no-results-template-container\">\n",
              "<li class=\"d-flex flex-justify-center flex-items-center f5 d-none js-jump-to-suggestion p-2\">\n",
              "<span class=\"color-fg-muted\">No suggested jump to results</span>\n",
              "</li>\n",
              "</ul>\n",
              "<ul class=\"p-0 m-0 js-navigation-container jump-to-suggestions-results-container js-jump-to-suggestions-results-container\" id=\"jump-to-results\" role=\"listbox\">\n",
              "<li class=\"d-flex flex-justify-start flex-items-center p-0 f5 navigation-item js-navigation-item js-jump-to-scoped-search d-none\" role=\"option\">\n",
              "<a class=\"no-underline d-flex flex-auto flex-items-center jump-to-suggestions-path js-jump-to-suggestion-path js-navigation-open p-2\" data-item-type=\"scoped_search\" href=\"\" tabindex=\"-1\">\n",
              "<div class=\"jump-to-octicon js-jump-to-octicon flex-shrink-0 mr-2 text-center d-none\">\n",
              "<svg aria-label=\"Repository\" class=\"octicon octicon-repo js-jump-to-octicon-repo d-none flex-shrink-0\" data-view-component=\"true\" height=\"16\" role=\"img\" title=\"Repository\" version=\"1.1\" viewbox=\"0 0 16 16\" width=\"16\">\n",
              "<path d=\"M2 2.5A2.5 2.5 0 014.5 0h8.75a.75.75 0 01.75.75v12.5a.75.75 0 01-.75.75h-2.5a.75.75 0 110-1.5h1.75v-2h-8a1 1 0 00-.714 1.7.75.75 0 01-1.072 1.05A2.495 2.495 0 012 11.5v-9zm10.5-1V9h-8c-.356 0-.694.074-1 .208V2.5a1 1 0 011-1h8zM5 12.25v3.25a.25.25 0 00.4.2l1.45-1.087a.25.25 0 01.3 0L8.6 15.7a.25.25 0 00.4-.2v-3.25a.25.25 0 00-.25-.25h-3.5a.25.25 0 00-.25.25z\" fill-rule=\"evenodd\"></path>\n",
              "</svg>\n",
              "<svg aria-label=\"Project\" class=\"octicon octicon-project js-jump-to-octicon-project d-none flex-shrink-0\" data-view-component=\"true\" height=\"16\" role=\"img\" title=\"Project\" version=\"1.1\" viewbox=\"0 0 16 16\" width=\"16\">\n",
              "<path d=\"M1.75 0A1.75 1.75 0 000 1.75v12.5C0 15.216.784 16 1.75 16h12.5A1.75 1.75 0 0016 14.25V1.75A1.75 1.75 0 0014.25 0H1.75zM1.5 1.75a.25.25 0 01.25-.25h12.5a.25.25 0 01.25.25v12.5a.25.25 0 01-.25.25H1.75a.25.25 0 01-.25-.25V1.75zM11.75 3a.75.75 0 00-.75.75v7.5a.75.75 0 001.5 0v-7.5a.75.75 0 00-.75-.75zm-8.25.75a.75.75 0 011.5 0v5.5a.75.75 0 01-1.5 0v-5.5zM8 3a.75.75 0 00-.75.75v3.5a.75.75 0 001.5 0v-3.5A.75.75 0 008 3z\" fill-rule=\"evenodd\"></path>\n",
              "</svg>\n",
              "<svg aria-label=\"Search\" class=\"octicon octicon-search js-jump-to-octicon-search d-none flex-shrink-0\" data-view-component=\"true\" height=\"16\" role=\"img\" title=\"Search\" version=\"1.1\" viewbox=\"0 0 16 16\" width=\"16\">\n",
              "<path d=\"M11.5 7a4.499 4.499 0 11-8.998 0A4.499 4.499 0 0111.5 7zm-.82 4.74a6 6 0 111.06-1.06l3.04 3.04a.75.75 0 11-1.06 1.06l-3.04-3.04z\" fill-rule=\"evenodd\"></path>\n",
              "</svg>\n",
              "</div>\n",
              "<img alt=\"\" aria-label=\"Team\" class=\"avatar mr-2 flex-shrink-0 js-jump-to-suggestion-avatar d-none\" height=\"28\" src=\"\" width=\"28\"/>\n",
              "<div class=\"jump-to-suggestion-name js-jump-to-suggestion-name flex-auto overflow-hidden text-left no-wrap css-truncate css-truncate-target\">\n",
              "</div>\n",
              "<div class=\"border rounded-2 flex-shrink-0 color-bg-subtle px-1 color-fg-muted ml-1 f6 d-none js-jump-to-badge-search\">\n",
              "<span aria-label=\"in all of GitHub\" class=\"js-jump-to-badge-search-text-default d-none\">\n",
              "        Search\n",
              "      </span>\n",
              "<span aria-label=\"in all of GitHub\" class=\"js-jump-to-badge-search-text-global d-none\">\n",
              "        All GitHub\n",
              "      </span>\n",
              "<span aria-hidden=\"true\" class=\"d-inline-block ml-1 v-align-middle\">↵</span>\n",
              "</div>\n",
              "<div aria-hidden=\"true\" class=\"border rounded-2 flex-shrink-0 color-bg-subtle px-1 color-fg-muted ml-1 f6 d-none d-on-nav-focus js-jump-to-badge-jump\">\n",
              "      Jump to\n",
              "      <span class=\"d-inline-block ml-1 v-align-middle\">↵</span>\n",
              "</div>\n",
              "</a>\n",
              "</li>\n",
              "<li class=\"d-flex flex-justify-start flex-items-center p-0 f5 navigation-item js-navigation-item js-jump-to-owner-scoped-search d-none\" role=\"option\">\n",
              "<a class=\"no-underline d-flex flex-auto flex-items-center jump-to-suggestions-path js-jump-to-suggestion-path js-navigation-open p-2\" data-item-type=\"owner_scoped_search\" href=\"\" tabindex=\"-1\">\n",
              "<div class=\"jump-to-octicon js-jump-to-octicon flex-shrink-0 mr-2 text-center d-none\">\n",
              "<svg aria-label=\"Repository\" class=\"octicon octicon-repo js-jump-to-octicon-repo d-none flex-shrink-0\" data-view-component=\"true\" height=\"16\" role=\"img\" title=\"Repository\" version=\"1.1\" viewbox=\"0 0 16 16\" width=\"16\">\n",
              "<path d=\"M2 2.5A2.5 2.5 0 014.5 0h8.75a.75.75 0 01.75.75v12.5a.75.75 0 01-.75.75h-2.5a.75.75 0 110-1.5h1.75v-2h-8a1 1 0 00-.714 1.7.75.75 0 01-1.072 1.05A2.495 2.495 0 012 11.5v-9zm10.5-1V9h-8c-.356 0-.694.074-1 .208V2.5a1 1 0 011-1h8zM5 12.25v3.25a.25.25 0 00.4.2l1.45-1.087a.25.25 0 01.3 0L8.6 15.7a.25.25 0 00.4-.2v-3.25a.25.25 0 00-.25-.25h-3.5a.25.25 0 00-.25.25z\" fill-rule=\"evenodd\"></path>\n",
              "</svg>\n",
              "<svg aria-label=\"Project\" class=\"octicon octicon-project js-jump-to-octicon-project d-none flex-shrink-0\" data-view-component=\"true\" height=\"16\" role=\"img\" title=\"Project\" version=\"1.1\" viewbox=\"0 0 16 16\" width=\"16\">\n",
              "<path d=\"M1.75 0A1.75 1.75 0 000 1.75v12.5C0 15.216.784 16 1.75 16h12.5A1.75 1.75 0 0016 14.25V1.75A1.75 1.75 0 0014.25 0H1.75zM1.5 1.75a.25.25 0 01.25-.25h12.5a.25.25 0 01.25.25v12.5a.25.25 0 01-.25.25H1.75a.25.25 0 01-.25-.25V1.75zM11.75 3a.75.75 0 00-.75.75v7.5a.75.75 0 001.5 0v-7.5a.75.75 0 00-.75-.75zm-8.25.75a.75.75 0 011.5 0v5.5a.75.75 0 01-1.5 0v-5.5zM8 3a.75.75 0 00-.75.75v3.5a.75.75 0 001.5 0v-3.5A.75.75 0 008 3z\" fill-rule=\"evenodd\"></path>\n",
              "</svg>\n",
              "<svg aria-label=\"Search\" class=\"octicon octicon-search js-jump-to-octicon-search d-none flex-shrink-0\" data-view-component=\"true\" height=\"16\" role=\"img\" title=\"Search\" version=\"1.1\" viewbox=\"0 0 16 16\" width=\"16\">\n",
              "<path d=\"M11.5 7a4.499 4.499 0 11-8.998 0A4.499 4.499 0 0111.5 7zm-.82 4.74a6 6 0 111.06-1.06l3.04 3.04a.75.75 0 11-1.06 1.06l-3.04-3.04z\" fill-rule=\"evenodd\"></path>\n",
              "</svg>\n",
              "</div>\n",
              "<img alt=\"\" aria-label=\"Team\" class=\"avatar mr-2 flex-shrink-0 js-jump-to-suggestion-avatar d-none\" height=\"28\" src=\"\" width=\"28\"/>\n",
              "<div class=\"jump-to-suggestion-name js-jump-to-suggestion-name flex-auto overflow-hidden text-left no-wrap css-truncate css-truncate-target\">\n",
              "</div>\n",
              "<div class=\"border rounded-2 flex-shrink-0 color-bg-subtle px-1 color-fg-muted ml-1 f6 d-none js-jump-to-badge-search\">\n",
              "<span aria-label=\"in all of GitHub\" class=\"js-jump-to-badge-search-text-default d-none\">\n",
              "        Search\n",
              "      </span>\n",
              "<span aria-label=\"in all of GitHub\" class=\"js-jump-to-badge-search-text-global d-none\">\n",
              "        All GitHub\n",
              "      </span>\n",
              "<span aria-hidden=\"true\" class=\"d-inline-block ml-1 v-align-middle\">↵</span>\n",
              "</div>\n",
              "<div aria-hidden=\"true\" class=\"border rounded-2 flex-shrink-0 color-bg-subtle px-1 color-fg-muted ml-1 f6 d-none d-on-nav-focus js-jump-to-badge-jump\">\n",
              "      Jump to\n",
              "      <span class=\"d-inline-block ml-1 v-align-middle\">↵</span>\n",
              "</div>\n",
              "</a>\n",
              "</li>\n",
              "<li class=\"d-flex flex-justify-start flex-items-center p-0 f5 navigation-item js-navigation-item js-jump-to-global-search d-none\" role=\"option\">\n",
              "<a class=\"no-underline d-flex flex-auto flex-items-center jump-to-suggestions-path js-jump-to-suggestion-path js-navigation-open p-2\" data-item-type=\"global_search\" href=\"\" tabindex=\"-1\">\n",
              "<div class=\"jump-to-octicon js-jump-to-octicon flex-shrink-0 mr-2 text-center d-none\">\n",
              "<svg aria-label=\"Repository\" class=\"octicon octicon-repo js-jump-to-octicon-repo d-none flex-shrink-0\" data-view-component=\"true\" height=\"16\" role=\"img\" title=\"Repository\" version=\"1.1\" viewbox=\"0 0 16 16\" width=\"16\">\n",
              "<path d=\"M2 2.5A2.5 2.5 0 014.5 0h8.75a.75.75 0 01.75.75v12.5a.75.75 0 01-.75.75h-2.5a.75.75 0 110-1.5h1.75v-2h-8a1 1 0 00-.714 1.7.75.75 0 01-1.072 1.05A2.495 2.495 0 012 11.5v-9zm10.5-1V9h-8c-.356 0-.694.074-1 .208V2.5a1 1 0 011-1h8zM5 12.25v3.25a.25.25 0 00.4.2l1.45-1.087a.25.25 0 01.3 0L8.6 15.7a.25.25 0 00.4-.2v-3.25a.25.25 0 00-.25-.25h-3.5a.25.25 0 00-.25.25z\" fill-rule=\"evenodd\"></path>\n",
              "</svg>\n",
              "<svg aria-label=\"Project\" class=\"octicon octicon-project js-jump-to-octicon-project d-none flex-shrink-0\" data-view-component=\"true\" height=\"16\" role=\"img\" title=\"Project\" version=\"1.1\" viewbox=\"0 0 16 16\" width=\"16\">\n",
              "<path d=\"M1.75 0A1.75 1.75 0 000 1.75v12.5C0 15.216.784 16 1.75 16h12.5A1.75 1.75 0 0016 14.25V1.75A1.75 1.75 0 0014.25 0H1.75zM1.5 1.75a.25.25 0 01.25-.25h12.5a.25.25 0 01.25.25v12.5a.25.25 0 01-.25.25H1.75a.25.25 0 01-.25-.25V1.75zM11.75 3a.75.75 0 00-.75.75v7.5a.75.75 0 001.5 0v-7.5a.75.75 0 00-.75-.75zm-8.25.75a.75.75 0 011.5 0v5.5a.75.75 0 01-1.5 0v-5.5zM8 3a.75.75 0 00-.75.75v3.5a.75.75 0 001.5 0v-3.5A.75.75 0 008 3z\" fill-rule=\"evenodd\"></path>\n",
              "</svg>\n",
              "<svg aria-label=\"Search\" class=\"octicon octicon-search js-jump-to-octicon-search d-none flex-shrink-0\" data-view-component=\"true\" height=\"16\" role=\"img\" title=\"Search\" version=\"1.1\" viewbox=\"0 0 16 16\" width=\"16\">\n",
              "<path d=\"M11.5 7a4.499 4.499 0 11-8.998 0A4.499 4.499 0 0111.5 7zm-.82 4.74a6 6 0 111.06-1.06l3.04 3.04a.75.75 0 11-1.06 1.06l-3.04-3.04z\" fill-rule=\"evenodd\"></path>\n",
              "</svg>\n",
              "</div>\n",
              "<img alt=\"\" aria-label=\"Team\" class=\"avatar mr-2 flex-shrink-0 js-jump-to-suggestion-avatar d-none\" height=\"28\" src=\"\" width=\"28\"/>\n",
              "<div class=\"jump-to-suggestion-name js-jump-to-suggestion-name flex-auto overflow-hidden text-left no-wrap css-truncate css-truncate-target\">\n",
              "</div>\n",
              "<div class=\"border rounded-2 flex-shrink-0 color-bg-subtle px-1 color-fg-muted ml-1 f6 d-none js-jump-to-badge-search\">\n",
              "<span aria-label=\"in all of GitHub\" class=\"js-jump-to-badge-search-text-default d-none\">\n",
              "        Search\n",
              "      </span>\n",
              "<span aria-label=\"in all of GitHub\" class=\"js-jump-to-badge-search-text-global d-none\">\n",
              "        All GitHub\n",
              "      </span>\n",
              "<span aria-hidden=\"true\" class=\"d-inline-block ml-1 v-align-middle\">↵</span>\n",
              "</div>\n",
              "<div aria-hidden=\"true\" class=\"border rounded-2 flex-shrink-0 color-bg-subtle px-1 color-fg-muted ml-1 f6 d-none d-on-nav-focus js-jump-to-badge-jump\">\n",
              "      Jump to\n",
              "      <span class=\"d-inline-block ml-1 v-align-middle\">↵</span>\n",
              "</div>\n",
              "</a>\n",
              "</li>\n",
              "</ul>\n",
              "</div>\n",
              "</input></label>\n",
              "</form> </div>\n",
              "</div>\n",
              "</div>\n",
              "<div class=\"position-relative mr-lg-3 d-lg-inline-block\">\n",
              "<a class=\"HeaderMenu-link HeaderMenu-link--sign-in flex-shrink-0 no-underline d-block d-lg-inline-block border border-lg-0 rounded rounded-lg-0 p-2 p-lg-0\" data-ga-click=\"(Logged out) Header, clicked Sign in, text:sign-in\" data-hydro-click='{\"event_type\":\"authentication.click\",\"payload\":{\"location_in_page\":\"site header menu\",\"repository_id\":null,\"auth_type\":\"SIGN_UP\",\"originating_url\":\"https://github.com/topics\",\"user_id\":null}}' data-hydro-click-hmac=\"fdff7e6857bd89b558ca630ca2d22bd5e760abfb99e6e05efed93f5d21230200\" href=\"/login?return_to=https%3A%2F%2Fgithub.com%2Ftopics\">\n",
              "              Sign in\n",
              "            </a>\n",
              "</div>\n",
              "<a class=\"HeaderMenu-link HeaderMenu-link--sign-up flex-shrink-0 d-none d-lg-inline-block no-underline border color-border-default rounded px-2 py-1\" data-analytics-event='{\"category\":\"Sign up\",\"action\":\"click to sign up for account\",\"label\":\"ref_page:/topics;ref_cta:Sign up;ref_loc:header logged out\"}' data-hydro-click='{\"event_type\":\"authentication.click\",\"payload\":{\"location_in_page\":\"site header menu\",\"repository_id\":null,\"auth_type\":\"SIGN_UP\",\"originating_url\":\"https://github.com/topics\",\"user_id\":null}}' data-hydro-click-hmac=\"fdff7e6857bd89b558ca630ca2d22bd5e760abfb99e6e05efed93f5d21230200\" href=\"/signup?ref_cta=Sign+up&amp;ref_loc=header+logged+out&amp;ref_page=%2Ftopics&amp;source=header\">\n",
              "              Sign up\n",
              "            </a>\n",
              "</div>\n",
              "</div>\n",
              "</div>\n",
              "</div>\n",
              "</header>\n",
              "</div>\n",
              "<div class=\"show-on-focus\" id=\"start-of-content\"></div>\n",
              "<div data-turbo-replace=\"\" id=\"js-flash-container\">\n",
              "<template class=\"js-flash-template\">\n",
              "<div class=\"flash flash-full {{ className }}\">\n",
              "<div class=\"px-2\">\n",
              "<button aria-label=\"Dismiss this message\" class=\"flash-close js-flash-close\" type=\"button\">\n",
              "<svg aria-hidden=\"true\" class=\"octicon octicon-x\" data-view-component=\"true\" height=\"16\" version=\"1.1\" viewbox=\"0 0 16 16\" width=\"16\">\n",
              "<path d=\"M3.72 3.72a.75.75 0 011.06 0L8 6.94l3.22-3.22a.75.75 0 111.06 1.06L9.06 8l3.22 3.22a.75.75 0 11-1.06 1.06L8 9.06l-3.22 3.22a.75.75 0 01-1.06-1.06L6.94 8 3.72 4.78a.75.75 0 010-1.06z\" fill-rule=\"evenodd\"></path>\n",
              "</svg>\n",
              "</button>\n",
              "<div>{{ message }}</div>\n",
              "</div>\n",
              "</div>\n",
              "</template>\n",
              "</div>\n",
              "<include-fragment class=\"js-notification-shelf-include-fragment\" data-base-src=\"https://github.com/notifications/beta/shelf\"></include-fragment>\n",
              "<div class=\"application-main\" data-commit-hovercards-enabled=\"\" data-discussion-hovercards-enabled=\"\" data-issue-and-pr-hovercards-enabled=\"\">\n",
              "<main>\n",
              "<div class=\"site-subnav color-bg-default site-subnav-sticky js-sticky\">\n",
              "<nav aria-label=\"Explore navigation\" class=\"container-lg mx-auto p-responsive\" role=\"navigation\">\n",
              "<div class=\"d-flex flex-wrap flex-items-center flex-justify-center flex-md-justify-start text-center text-md-left\">\n",
              "<a class=\"js-selected-navigation-item d-inline-block subnav-primary f5 py-0 py-md-3 mt-2 mt-md-0 mr-0 mr-md-4 no-underline subnav-link\" data-ga-click=\"Explore, go to explore, location:explore nav\" data-hydro-click='{\"event_type\":\"explore.click\",\"payload\":{\"click_context\":\"NAVIGATION_BAR\",\"click_target\":\"EXPLORE\",\"click_visual_representation\":\"CLICK_VISUAL_REPRESENTATION_UNKNOWN\",\"actor_id\":null,\"record_id\":null,\"originating_url\":\"https://github.com/topics\",\"user_id\":null}}' data-hydro-click-hmac=\"046d6990e9154466d2c348f62f0c8850006d8d0203ffa5de936cdf98771e1cd1\" data-selected-links=\"/explore /explore/email /explore\" href=\"/explore\">Explore</a>\n",
              "<a aria-current=\"page\" class=\"js-selected-navigation-item selected d-inline-block py-2 py-md-3 mr-3 mr-md-4 no-underline subnav-link\" data-ga-click=\"Explore, go to topics, location:explore nav\" data-hydro-click='{\"event_type\":\"explore.click\",\"payload\":{\"click_context\":\"NAVIGATION_BAR\",\"click_target\":\"TOPICS\",\"click_visual_representation\":\"CLICK_VISUAL_REPRESENTATION_UNKNOWN\",\"actor_id\":null,\"record_id\":null,\"originating_url\":\"https://github.com/topics\",\"user_id\":null}}' data-hydro-click-hmac=\"46cceed329d440952f9b9c496b52c3ff5f8329030ae1c1ff48371e3788f09d93\" data-selected-links=\"topics_path /topics/ /topics\" href=\"/topics\">Topics</a>\n",
              "<a class=\"js-selected-navigation-item d-inline-block py-2 py-md-3 mr-3 mr-md-4 no-underline subnav-link\" data-ga-click=\"Explore, go to trending, location:explore nav\" data-hydro-click='{\"event_type\":\"explore.click\",\"payload\":{\"click_context\":\"NAVIGATION_BAR\",\"click_target\":\"TRENDING\",\"click_visual_representation\":\"CLICK_VISUAL_REPRESENTATION_UNKNOWN\",\"actor_id\":null,\"record_id\":null,\"originating_url\":\"https://github.com/topics\",\"user_id\":null}}' data-hydro-click-hmac=\"06adfb4e7a29a78e76b361eec504bee63a616c97288bf9c9cceb78b763cc1945\" data-selected-links=\"/trending /trending/developers /trending/developers /trending /trending\" href=\"/trending\">Trending</a>\n",
              "<a class=\"js-selected-navigation-item d-inline-block py-2 py-md-3 mr-3 mr-md-4 no-underline subnav-link\" data-ga-click=\"Explore, go to collections, location:explore nav\" data-hydro-click='{\"event_type\":\"explore.click\",\"payload\":{\"click_context\":\"NAVIGATION_BAR\",\"click_target\":\"COLLECTIONS\",\"click_visual_representation\":\"CLICK_VISUAL_REPRESENTATION_UNKNOWN\",\"actor_id\":null,\"record_id\":null,\"originating_url\":\"https://github.com/topics\",\"user_id\":null}}' data-hydro-click-hmac=\"cd0014d20caf77ede4fa618141796878e80a1e84336ca369d2c49b34b1277bd3\" data-selected-links=\"collections_path /collections/ /collections\" href=\"/collections\">Collections</a>\n",
              "<a class=\"js-selected-navigation-item d-inline-block py-2 py-md-3 mr-3 mr-md-4 no-underline subnav-link\" data-ga-click=\"Explore, go to events, location:explore nav\" data-hydro-click='{\"event_type\":\"explore.click\",\"payload\":{\"click_context\":\"NAVIGATION_BAR\",\"click_target\":\"EVENTS\",\"click_visual_representation\":\"CLICK_VISUAL_REPRESENTATION_UNKNOWN\",\"actor_id\":null,\"record_id\":null,\"originating_url\":\"https://github.com/topics\",\"user_id\":null}}' data-hydro-click-hmac=\"ccfa68f5a29b2bb2580bbf2909107f96de971d2eddd003a32de5a5b0a180bb56\" data-selected-links=\"events_path /events/ /events\" href=\"/events\">Events</a>\n",
              "<a class=\"js-selected-navigation-item d-inline-block py-2 py-md-3 mr-3 mr-md-4 no-underline subnav-link\" data-ga-click=\"Explore, go to Sponsors, location:explore nav\" data-hydro-click='{\"event_type\":\"explore.click\",\"payload\":{\"click_context\":\"NAVIGATION_BAR\",\"click_target\":\"GITHUB_SPONSORS\",\"click_visual_representation\":\"CLICK_VISUAL_REPRESENTATION_UNKNOWN\",\"actor_id\":null,\"record_id\":null,\"originating_url\":\"https://github.com/topics\",\"user_id\":null}}' data-hydro-click-hmac=\"93ff9d3ceb83faf659890a3521e6927a28810093ca98a1a9cd8df550134c6003\" data-selected-links=\"sponsors_explore_index_path /sponsors/explore /sponsors/explore\" href=\"/sponsors/explore\">GitHub Sponsors</a>\n",
              "<div class=\"d-none d-md-block flex-auto text-right\">\n",
              "<a class=\"btn px-3 py-2\" data-ga-click=\"Explore, change email updates, location:explore nav\" data-hydro-click='{\"event_type\":\"explore.click\",\"payload\":{\"click_context\":\"NAVIGATION_BAR\",\"click_target\":\"EXPLORE_EMAIL\",\"click_visual_representation\":\"GET_EMAIL_UPDATES_BUTTON\",\"actor_id\":null,\"record_id\":null,\"originating_url\":\"https://github.com/topics\",\"user_id\":null}}' data-hydro-click-hmac=\"0ccec1a15089aca3327314266c4a0eebecb51d88ef25eda579f23c9bb232c9f9\" data-view-component=\"true\" href=\"/explore/email\">\n",
              "              Get email updates\n",
              "</a> </div>\n",
              "</div>\n",
              "</nav>\n",
              "</div>\n",
              "<div class=\"color-bg-subtle border-bottom\">\n",
              "<div class=\"container-lg p-responsive text-center py-6\">\n",
              "<h1 class=\"h1\">Topics</h1>\n",
              "<p class=\"f4 color-fg-muted col-md-6 mx-auto\">Browse popular topics on GitHub.</p>\n",
              "</div>\n",
              "</div>\n",
              "<div class=\"container-lg p-responsive mt-6\">\n",
              "<ul class=\"d-flex flex-wrap flex-justify-start flex-items-stretch list-style-none gutter my-4\">\n",
              "<li class=\"col-12 col-sm-6 col-md-4 mb-4\">\n",
              "<div class=\"topic-box position-relative hover-grow height-full text-center border color-border-muted rounded color-bg-default p-5\">\n",
              "<div class=\"js-toggler-container starring-container\">\n",
              "</div>\n",
              "<a class=\"no-underline d-flex flex-column flex-justify-center\" data-ga-click=\"Explore, go to topic, text:c; location:boxes\" href=\"/topics/c\">\n",
              "<img alt=\"c\" class=\"mx-auto rounded mb-3\" height=\"64\" src=\"https://raw.githubusercontent.com/github/explore/f3e22f0dca2be955676bc70d6214b95b13354ee8/topics/c/c.png\" width=\"64\"/>\n",
              "<p class=\"f3 lh-condensed text-center Link--primary mb-0 mt-1\">\n",
              "        C\n",
              "      </p>\n",
              "<p class=\"f5 color-fg-muted text-center mb-0 mt-1\">C is a general purpose programming language that first appeared in 1972.</p>\n",
              "</a>\n",
              "</div>\n",
              "</li>\n",
              "<li class=\"col-12 col-sm-6 col-md-4 mb-4\">\n",
              "<div class=\"topic-box position-relative hover-grow height-full text-center border color-border-muted rounded color-bg-default p-5\">\n",
              "<div class=\"js-toggler-container starring-container\">\n",
              "</div>\n",
              "<a class=\"no-underline d-flex flex-column flex-justify-center\" data-ga-click=\"Explore, go to topic, text:web-components; location:boxes\" href=\"/topics/web-components\">\n",
              "<img alt=\"web-components\" class=\"mx-auto rounded mb-3\" height=\"64\" src=\"https://raw.githubusercontent.com/github/explore/80688e429a7d4ef2fca1e82350fe8e3517d3494d/topics/web-components/web-components.png\" width=\"64\"/>\n",
              "<p class=\"f3 lh-condensed text-center Link--primary mb-0 mt-1\">\n",
              "        Web Components\n",
              "      </p>\n",
              "<p class=\"f5 color-fg-muted text-center mb-0 mt-1\">Web Components are a set of web platform APIs developers can use to create custom HTML tags.</p>\n",
              "</a>\n",
              "</div>\n",
              "</li>\n",
              "<li class=\"col-12 col-sm-6 col-md-4 mb-4\">\n",
              "<div class=\"topic-box position-relative hover-grow height-full text-center border color-border-muted rounded color-bg-default p-5\">\n",
              "<div class=\"js-toggler-container starring-container\">\n",
              "</div>\n",
              "<a class=\"no-underline d-flex flex-column flex-justify-center\" data-ga-click=\"Explore, go to topic, text:express; location:boxes\" href=\"/topics/express\">\n",
              "<img alt=\"express\" class=\"mx-auto rounded mb-3\" height=\"64\" src=\"https://raw.githubusercontent.com/github/explore/80688e429a7d4ef2fca1e82350fe8e3517d3494d/topics/express/express.png\" width=\"64\"/>\n",
              "<p class=\"f3 lh-condensed text-center Link--primary mb-0 mt-1\">\n",
              "        Express\n",
              "      </p>\n",
              "<p class=\"f5 color-fg-muted text-center mb-0 mt-1\">Express is a minimal Node.js framework for web and mobile applications.</p>\n",
              "</a>\n",
              "</div>\n",
              "</li>\n",
              "</ul>\n",
              "</div>\n",
              "<div class=\"d-lg-flex container-lg p-responsive\">\n",
              "<div class=\"col-lg-9 position-relative pr-lg-5 mb-6 mr-lg-5\" data-hpc=\"\">\n",
              "<h2 class=\"h2\">All featured topics</h2>\n",
              "<div>\n",
              "<div class=\"py-4 border-bottom d-flex flex-justify-between\">\n",
              "<a class=\"no-underline flex-grow-0\" href=\"/topics/3d\">\n",
              "<div class=\"color-bg-accent f4 color-fg-muted text-bold rounded mr-3 flex-shrink-0 text-center\" style=\"width:64px; height:64px; line-height:64px;\">\n",
              "            #\n",
              "          </div>\n",
              "</a>\n",
              "<a class=\"no-underline flex-1 d-flex flex-column\" href=\"/topics/3d\">\n",
              "<p class=\"f3 lh-condensed mb-0 mt-1 Link--primary\">3D</p>\n",
              "<p class=\"f5 color-fg-muted mb-0 mt-1\">\n",
              "          3D modeling is the process of virtually developing the surface and structure of a 3D object.\n",
              "        </p>\n",
              "</a>\n",
              "<div class=\"flex-grow-0\">\n",
              "<div class=\"d-block\" data-view-component=\"true\">\n",
              "<a aria-label=\"You must be signed in to star a repository\" class=\"tooltipped tooltipped-s btn-sm btn\" data-hydro-click='{\"event_type\":\"authentication.click\",\"payload\":{\"location_in_page\":\"star button\",\"repository_id\":null,\"auth_type\":\"LOG_IN\",\"originating_url\":\"https://github.com/topics\",\"user_id\":null}}' data-hydro-click-hmac=\"5d696759683aa72e09fbdb14a69b26ab1c672e6d107e4ae922a0926f4476f50a\" data-view-component=\"true\" href=\"/login?return_to=%2Ftopic.3d\" rel=\"nofollow\"> <svg aria-hidden=\"true\" class=\"octicon octicon-star v-align-text-bottom d-inline-block mr-2\" data-view-component=\"true\" height=\"16\" version=\"1.1\" viewbox=\"0 0 16 16\" width=\"16\">\n",
              "<path d=\"M8 .25a.75.75 0 01.673.418l1.882 3.815 4.21.612a.75.75 0 01.416 1.279l-3.046 2.97.719 4.192a.75.75 0 01-1.088.791L8 12.347l-3.766 1.98a.75.75 0 01-1.088-.79l.72-4.194L.818 6.374a.75.75 0 01.416-1.28l4.21-.611L7.327.668A.75.75 0 018 .25zm0 2.445L6.615 5.5a.75.75 0 01-.564.41l-3.097.45 2.24 2.184a.75.75 0 01.216.664l-.528 3.084 2.769-1.456a.75.75 0 01.698 0l2.77 1.456-.53-3.084a.75.75 0 01.216-.664l2.24-2.183-3.096-.45a.75.75 0 01-.564-.41L8 2.694v.001z\" fill-rule=\"evenodd\"></path>\n",
              "</svg><span class=\"d-inline\" data-view-component=\"true\">\n",
              "          Star\n",
              "</span>\n",
              "</a></div>\n",
              "</div>\n",
              "</div>\n",
              "<div class=\"py-4 border-bottom d-flex flex-justify-between\">\n",
              "<a class=\"no-underline flex-grow-0\" href=\"/topics/ajax\">\n",
              "<img alt=\"ajax\" class=\"rounded mr-3\" height=\"64\" src=\"https://raw.githubusercontent.com/github/explore/8be26d91eb231fec0b8856359979ac09f27173fd/topics/ajax/ajax.png\" width=\"64\"/>\n",
              "</a>\n",
              "<a class=\"no-underline flex-1 d-flex flex-column\" href=\"/topics/ajax\">\n",
              "<p class=\"f3 lh-condensed mb-0 mt-1 Link--primary\">Ajax</p>\n",
              "<p class=\"f5 color-fg-muted mb-0 mt-1\">\n",
              "          Ajax is a technique for creating interactive web applications.\n",
              "        </p>\n",
              "</a>\n",
              "<div class=\"flex-grow-0\">\n",
              "<div class=\"d-block\" data-view-component=\"true\">\n",
              "<a aria-label=\"You must be signed in to star a repository\" class=\"tooltipped tooltipped-s btn-sm btn\" data-hydro-click='{\"event_type\":\"authentication.click\",\"payload\":{\"location_in_page\":\"star button\",\"repository_id\":null,\"auth_type\":\"LOG_IN\",\"originating_url\":\"https://github.com/topics\",\"user_id\":null}}' data-hydro-click-hmac=\"5d696759683aa72e09fbdb14a69b26ab1c672e6d107e4ae922a0926f4476f50a\" data-view-component=\"true\" href=\"/login?return_to=%2Ftopic.ajax\" rel=\"nofollow\"> <svg aria-hidden=\"true\" class=\"octicon octicon-star v-align-text-bottom d-inline-block mr-2\" data-view-component=\"true\" height=\"16\" version=\"1.1\" viewbox=\"0 0 16 16\" width=\"16\">\n",
              "<path d=\"M8 .25a.75.75 0 01.673.418l1.882 3.815 4.21.612a.75.75 0 01.416 1.279l-3.046 2.97.719 4.192a.75.75 0 01-1.088.791L8 12.347l-3.766 1.98a.75.75 0 01-1.088-.79l.72-4.194L.818 6.374a.75.75 0 01.416-1.28l4.21-.611L7.327.668A.75.75 0 018 .25zm0 2.445L6.615 5.5a.75.75 0 01-.564.41l-3.097.45 2.24 2.184a.75.75 0 01.216.664l-.528 3.084 2.769-1.456a.75.75 0 01.698 0l2.77 1.456-.53-3.084a.75.75 0 01.216-.664l2.24-2.183-3.096-.45a.75.75 0 01-.564-.41L8 2.694v.001z\" fill-rule=\"evenodd\"></path>\n",
              "</svg><span class=\"d-inline\" data-view-component=\"true\">\n",
              "          Star\n",
              "</span>\n",
              "</a></div>\n",
              "</div>\n",
              "</div>\n",
              "<div class=\"py-4 border-bottom d-flex flex-justify-between\">\n",
              "<a class=\"no-underline flex-grow-0\" href=\"/topics/algorithm\">\n",
              "<div class=\"color-bg-accent f4 color-fg-muted text-bold rounded mr-3 flex-shrink-0 text-center\" style=\"width:64px; height:64px; line-height:64px;\">\n",
              "            #\n",
              "          </div>\n",
              "</a>\n",
              "<a class=\"no-underline flex-1 d-flex flex-column\" href=\"/topics/algorithm\">\n",
              "<p class=\"f3 lh-condensed mb-0 mt-1 Link--primary\">Algorithm</p>\n",
              "<p class=\"f5 color-fg-muted mb-0 mt-1\">\n",
              "          Algorithms are self-contained sequences that carry out a variety of tasks.\n",
              "        </p>\n",
              "</a>\n",
              "<div class=\"flex-grow-0\">\n",
              "<div class=\"d-block\" data-view-component=\"true\">\n",
              "<a aria-label=\"You must be signed in to star a repository\" class=\"tooltipped tooltipped-s btn-sm btn\" data-hydro-click='{\"event_type\":\"authentication.click\",\"payload\":{\"location_in_page\":\"star button\",\"repository_id\":null,\"auth_type\":\"LOG_IN\",\"originating_url\":\"https://github.com/topics\",\"user_id\":null}}' data-hydro-click-hmac=\"5d696759683aa72e09fbdb14a69b26ab1c672e6d107e4ae922a0926f4476f50a\" data-view-component=\"true\" href=\"/login?return_to=%2Ftopic.algorithm\" rel=\"nofollow\"> <svg aria-hidden=\"true\" class=\"octicon octicon-star v-align-text-bottom d-inline-block mr-2\" data-view-component=\"true\" height=\"16\" version=\"1.1\" viewbox=\"0 0 16 16\" width=\"16\">\n",
              "<path d=\"M8 .25a.75.75 0 01.673.418l1.882 3.815 4.21.612a.75.75 0 01.416 1.279l-3.046 2.97.719 4.192a.75.75 0 01-1.088.791L8 12.347l-3.766 1.98a.75.75 0 01-1.088-.79l.72-4.194L.818 6.374a.75.75 0 01.416-1.28l4.21-.611L7.327.668A.75.75 0 018 .25zm0 2.445L6.615 5.5a.75.75 0 01-.564.41l-3.097.45 2.24 2.184a.75.75 0 01.216.664l-.528 3.084 2.769-1.456a.75.75 0 01.698 0l2.77 1.456-.53-3.084a.75.75 0 01.216-.664l2.24-2.183-3.096-.45a.75.75 0 01-.564-.41L8 2.694v.001z\" fill-rule=\"evenodd\"></path>\n",
              "</svg><span class=\"d-inline\" data-view-component=\"true\">\n",
              "          Star\n",
              "</span>\n",
              "</a></div>\n",
              "</div>\n",
              "</div>\n",
              "<div class=\"py-4 border-bottom d-flex flex-justify-between\">\n",
              "<a class=\"no-underline flex-grow-0\" href=\"/topics/amphp\">\n",
              "<img alt=\"amphp\" class=\"rounded mr-3\" height=\"64\" src=\"https://raw.githubusercontent.com/github/explore/99fe59c0f4fb5d6545311440b4ce89a0d82b0804/topics/amphp/amphp.png\" width=\"64\"/>\n",
              "</a>\n",
              "<a class=\"no-underline flex-1 d-flex flex-column\" href=\"/topics/amphp\">\n",
              "<p class=\"f3 lh-condensed mb-0 mt-1 Link--primary\">Amp</p>\n",
              "<p class=\"f5 color-fg-muted mb-0 mt-1\">\n",
              "          Amp is a non-blocking concurrency library for PHP.\n",
              "        </p>\n",
              "</a>\n",
              "<div class=\"flex-grow-0\">\n",
              "<div class=\"d-block\" data-view-component=\"true\">\n",
              "<a aria-label=\"You must be signed in to star a repository\" class=\"tooltipped tooltipped-s btn-sm btn\" data-hydro-click='{\"event_type\":\"authentication.click\",\"payload\":{\"location_in_page\":\"star button\",\"repository_id\":null,\"auth_type\":\"LOG_IN\",\"originating_url\":\"https://github.com/topics\",\"user_id\":null}}' data-hydro-click-hmac=\"5d696759683aa72e09fbdb14a69b26ab1c672e6d107e4ae922a0926f4476f50a\" data-view-component=\"true\" href=\"/login?return_to=%2Ftopic.amphp\" rel=\"nofollow\"> <svg aria-hidden=\"true\" class=\"octicon octicon-star v-align-text-bottom d-inline-block mr-2\" data-view-component=\"true\" height=\"16\" version=\"1.1\" viewbox=\"0 0 16 16\" width=\"16\">\n",
              "<path d=\"M8 .25a.75.75 0 01.673.418l1.882 3.815 4.21.612a.75.75 0 01.416 1.279l-3.046 2.97.719 4.192a.75.75 0 01-1.088.791L8 12.347l-3.766 1.98a.75.75 0 01-1.088-.79l.72-4.194L.818 6.374a.75.75 0 01.416-1.28l4.21-.611L7.327.668A.75.75 0 018 .25zm0 2.445L6.615 5.5a.75.75 0 01-.564.41l-3.097.45 2.24 2.184a.75.75 0 01.216.664l-.528 3.084 2.769-1.456a.75.75 0 01.698 0l2.77 1.456-.53-3.084a.75.75 0 01.216-.664l2.24-2.183-3.096-.45a.75.75 0 01-.564-.41L8 2.694v.001z\" fill-rule=\"evenodd\"></path>\n",
              "</svg><span class=\"d-inline\" data-view-component=\"true\">\n",
              "          Star\n",
              "</span>\n",
              "</a></div>\n",
              "</div>\n",
              "</div>\n",
              "<div class=\"py-4 border-bottom d-flex flex-justify-between\">\n",
              "<a class=\"no-underline flex-grow-0\" href=\"/topics/android\">\n",
              "<img alt=\"android\" class=\"rounded mr-3\" height=\"64\" src=\"https://raw.githubusercontent.com/github/explore/8baf984947f4d9c32006bd03fa4c51ff91aadf8d/topics/android/android.png\" width=\"64\"/>\n",
              "</a>\n",
              "<a class=\"no-underline flex-1 d-flex flex-column\" href=\"/topics/android\">\n",
              "<p class=\"f3 lh-condensed mb-0 mt-1 Link--primary\">Android</p>\n",
              "<p class=\"f5 color-fg-muted mb-0 mt-1\">\n",
              "          Android is an operating system built by Google designed for mobile devices.\n",
              "        </p>\n",
              "</a>\n",
              "<div class=\"flex-grow-0\">\n",
              "<div class=\"d-block\" data-view-component=\"true\">\n",
              "<a aria-label=\"You must be signed in to star a repository\" class=\"tooltipped tooltipped-s btn-sm btn\" data-hydro-click='{\"event_type\":\"authentication.click\",\"payload\":{\"location_in_page\":\"star button\",\"repository_id\":null,\"auth_type\":\"LOG_IN\",\"originating_url\":\"https://github.com/topics\",\"user_id\":null}}' data-hydro-click-hmac=\"5d696759683aa72e09fbdb14a69b26ab1c672e6d107e4ae922a0926f4476f50a\" data-view-component=\"true\" href=\"/login?return_to=%2Ftopic.android\" rel=\"nofollow\"> <svg aria-hidden=\"true\" class=\"octicon octicon-star v-align-text-bottom d-inline-block mr-2\" data-view-component=\"true\" height=\"16\" version=\"1.1\" viewbox=\"0 0 16 16\" width=\"16\">\n",
              "<path d=\"M8 .25a.75.75 0 01.673.418l1.882 3.815 4.21.612a.75.75 0 01.416 1.279l-3.046 2.97.719 4.192a.75.75 0 01-1.088.791L8 12.347l-3.766 1.98a.75.75 0 01-1.088-.79l.72-4.194L.818 6.374a.75.75 0 01.416-1.28l4.21-.611L7.327.668A.75.75 0 018 .25zm0 2.445L6.615 5.5a.75.75 0 01-.564.41l-3.097.45 2.24 2.184a.75.75 0 01.216.664l-.528 3.084 2.769-1.456a.75.75 0 01.698 0l2.77 1.456-.53-3.084a.75.75 0 01.216-.664l2.24-2.183-3.096-.45a.75.75 0 01-.564-.41L8 2.694v.001z\" fill-rule=\"evenodd\"></path>\n",
              "</svg><span class=\"d-inline\" data-view-component=\"true\">\n",
              "          Star\n",
              "</span>\n",
              "</a></div>\n",
              "</div>\n",
              "</div>\n",
              "<div class=\"py-4 border-bottom d-flex flex-justify-between\">\n",
              "<a class=\"no-underline flex-grow-0\" href=\"/topics/angular\">\n",
              "<img alt=\"angular\" class=\"rounded mr-3\" height=\"64\" src=\"https://raw.githubusercontent.com/github/explore/80688e429a7d4ef2fca1e82350fe8e3517d3494d/topics/angular/angular.png\" width=\"64\"/>\n",
              "</a>\n",
              "<a class=\"no-underline flex-1 d-flex flex-column\" href=\"/topics/angular\">\n",
              "<p class=\"f3 lh-condensed mb-0 mt-1 Link--primary\">Angular</p>\n",
              "<p class=\"f5 color-fg-muted mb-0 mt-1\">\n",
              "          Angular is an open source web application platform.\n",
              "        </p>\n",
              "</a>\n",
              "<div class=\"flex-grow-0\">\n",
              "<div class=\"d-block\" data-view-component=\"true\">\n",
              "<a aria-label=\"You must be signed in to star a repository\" class=\"tooltipped tooltipped-s btn-sm btn\" data-hydro-click='{\"event_type\":\"authentication.click\",\"payload\":{\"location_in_page\":\"star button\",\"repository_id\":null,\"auth_type\":\"LOG_IN\",\"originating_url\":\"https://github.com/topics\",\"user_id\":null}}' data-hydro-click-hmac=\"5d696759683aa72e09fbdb14a69b26ab1c672e6d107e4ae922a0926f4476f50a\" data-view-component=\"true\" href=\"/login?return_to=%2Ftopic.angular\" rel=\"nofollow\"> <svg aria-hidden=\"true\" class=\"octicon octicon-star v-align-text-bottom d-inline-block mr-2\" data-view-component=\"true\" height=\"16\" version=\"1.1\" viewbox=\"0 0 16 16\" width=\"16\">\n",
              "<path d=\"M8 .25a.75.75 0 01.673.418l1.882 3.815 4.21.612a.75.75 0 01.416 1.279l-3.046 2.97.719 4.192a.75.75 0 01-1.088.791L8 12.347l-3.766 1.98a.75.75 0 01-1.088-.79l.72-4.194L.818 6.374a.75.75 0 01.416-1.28l4.21-.611L7.327.668A.75.75 0 018 .25zm0 2.445L6.615 5.5a.75.75 0 01-.564.41l-3.097.45 2.24 2.184a.75.75 0 01.216.664l-.528 3.084 2.769-1.456a.75.75 0 01.698 0l2.77 1.456-.53-3.084a.75.75 0 01.216-.664l2.24-2.183-3.096-.45a.75.75 0 01-.564-.41L8 2.694v.001z\" fill-rule=\"evenodd\"></path>\n",
              "</svg><span class=\"d-inline\" data-view-component=\"true\">\n",
              "          Star\n",
              "</span>\n",
              "</a></div>\n",
              "</div>\n",
              "</div>\n",
              "<div class=\"py-4 border-bottom d-flex flex-justify-between\">\n",
              "<a class=\"no-underline flex-grow-0\" href=\"/topics/ansible\">\n",
              "<img alt=\"ansible\" class=\"rounded mr-3\" height=\"64\" src=\"https://raw.githubusercontent.com/github/explore/80688e429a7d4ef2fca1e82350fe8e3517d3494d/topics/ansible/ansible.png\" width=\"64\"/>\n",
              "</a>\n",
              "<a class=\"no-underline flex-1 d-flex flex-column\" href=\"/topics/ansible\">\n",
              "<p class=\"f3 lh-condensed mb-0 mt-1 Link--primary\">Ansible</p>\n",
              "<p class=\"f5 color-fg-muted mb-0 mt-1\">\n",
              "          Ansible is a simple and powerful automation engine.\n",
              "        </p>\n",
              "</a>\n",
              "<div class=\"flex-grow-0\">\n",
              "<div class=\"d-block\" data-view-component=\"true\">\n",
              "<a aria-label=\"You must be signed in to star a repository\" class=\"tooltipped tooltipped-s btn-sm btn\" data-hydro-click='{\"event_type\":\"authentication.click\",\"payload\":{\"location_in_page\":\"star button\",\"repository_id\":null,\"auth_type\":\"LOG_IN\",\"originating_url\":\"https://github.com/topics\",\"user_id\":null}}' data-hydro-click-hmac=\"5d696759683aa72e09fbdb14a69b26ab1c672e6d107e4ae922a0926f4476f50a\" data-view-component=\"true\" href=\"/login?return_to=%2Ftopic.ansible\" rel=\"nofollow\"> <svg aria-hidden=\"true\" class=\"octicon octicon-star v-align-text-bottom d-inline-block mr-2\" data-view-component=\"true\" height=\"16\" version=\"1.1\" viewbox=\"0 0 16 16\" width=\"16\">\n",
              "<path d=\"M8 .25a.75.75 0 01.673.418l1.882 3.815 4.21.612a.75.75 0 01.416 1.279l-3.046 2.97.719 4.192a.75.75 0 01-1.088.791L8 12.347l-3.766 1.98a.75.75 0 01-1.088-.79l.72-4.194L.818 6.374a.75.75 0 01.416-1.28l4.21-.611L7.327.668A.75.75 0 018 .25zm0 2.445L6.615 5.5a.75.75 0 01-.564.41l-3.097.45 2.24 2.184a.75.75 0 01.216.664l-.528 3.084 2.769-1.456a.75.75 0 01.698 0l2.77 1.456-.53-3.084a.75.75 0 01.216-.664l2.24-2.183-3.096-.45a.75.75 0 01-.564-.41L8 2.694v.001z\" fill-rule=\"evenodd\"></path>\n",
              "</svg><span class=\"d-inline\" data-view-component=\"true\">\n",
              "          Star\n",
              "</span>\n",
              "</a></div>\n",
              "</div>\n",
              "</div>\n",
              "<div class=\"py-4 border-bottom d-flex flex-justify-between\">\n",
              "<a class=\"no-underline flex-grow-0\" href=\"/topics/api\">\n",
              "<div class=\"color-bg-accent f4 color-fg-muted text-bold rounded mr-3 flex-shrink-0 text-center\" style=\"width:64px; height:64px; line-height:64px;\">\n",
              "            #\n",
              "          </div>\n",
              "</a>\n",
              "<a class=\"no-underline flex-1 d-flex flex-column\" href=\"/topics/api\">\n",
              "<p class=\"f3 lh-condensed mb-0 mt-1 Link--primary\">API</p>\n",
              "<p class=\"f5 color-fg-muted mb-0 mt-1\">\n",
              "          An API (Application Programming Interface) is a collection of protocols and subroutines for building software.\n",
              "        </p>\n",
              "</a>\n",
              "<div class=\"flex-grow-0\">\n",
              "<div class=\"d-block\" data-view-component=\"true\">\n",
              "<a aria-label=\"You must be signed in to star a repository\" class=\"tooltipped tooltipped-s btn-sm btn\" data-hydro-click='{\"event_type\":\"authentication.click\",\"payload\":{\"location_in_page\":\"star button\",\"repository_id\":null,\"auth_type\":\"LOG_IN\",\"originating_url\":\"https://github.com/topics\",\"user_id\":null}}' data-hydro-click-hmac=\"5d696759683aa72e09fbdb14a69b26ab1c672e6d107e4ae922a0926f4476f50a\" data-view-component=\"true\" href=\"/login?return_to=%2Ftopic.api\" rel=\"nofollow\"> <svg aria-hidden=\"true\" class=\"octicon octicon-star v-align-text-bottom d-inline-block mr-2\" data-view-component=\"true\" height=\"16\" version=\"1.1\" viewbox=\"0 0 16 16\" width=\"16\">\n",
              "<path d=\"M8 .25a.75.75 0 01.673.418l1.882 3.815 4.21.612a.75.75 0 01.416 1.279l-3.046 2.97.719 4.192a.75.75 0 01-1.088.791L8 12.347l-3.766 1.98a.75.75 0 01-1.088-.79l.72-4.194L.818 6.374a.75.75 0 01.416-1.28l4.21-.611L7.327.668A.75.75 0 018 .25zm0 2.445L6.615 5.5a.75.75 0 01-.564.41l-3.097.45 2.24 2.184a.75.75 0 01.216.664l-.528 3.084 2.769-1.456a.75.75 0 01.698 0l2.77 1.456-.53-3.084a.75.75 0 01.216-.664l2.24-2.183-3.096-.45a.75.75 0 01-.564-.41L8 2.694v.001z\" fill-rule=\"evenodd\"></path>\n",
              "</svg><span class=\"d-inline\" data-view-component=\"true\">\n",
              "          Star\n",
              "</span>\n",
              "</a></div>\n",
              "</div>\n",
              "</div>\n",
              "<div class=\"py-4 border-bottom d-flex flex-justify-between\">\n",
              "<a class=\"no-underline flex-grow-0\" href=\"/topics/arduino\">\n",
              "<img alt=\"arduino\" class=\"rounded mr-3\" height=\"64\" src=\"https://raw.githubusercontent.com/github/explore/80688e429a7d4ef2fca1e82350fe8e3517d3494d/topics/arduino/arduino.png\" width=\"64\"/>\n",
              "</a>\n",
              "<a class=\"no-underline flex-1 d-flex flex-column\" href=\"/topics/arduino\">\n",
              "<p class=\"f3 lh-condensed mb-0 mt-1 Link--primary\">Arduino</p>\n",
              "<p class=\"f5 color-fg-muted mb-0 mt-1\">\n",
              "          Arduino is an open source hardware and software company and maker community.\n",
              "        </p>\n",
              "</a>\n",
              "<div class=\"flex-grow-0\">\n",
              "<div class=\"d-block\" data-view-component=\"true\">\n",
              "<a aria-label=\"You must be signed in to star a repository\" class=\"tooltipped tooltipped-s btn-sm btn\" data-hydro-click='{\"event_type\":\"authentication.click\",\"payload\":{\"location_in_page\":\"star button\",\"repository_id\":null,\"auth_type\":\"LOG_IN\",\"originating_url\":\"https://github.com/topics\",\"user_id\":null}}' data-hydro-click-hmac=\"5d696759683aa72e09fbdb14a69b26ab1c672e6d107e4ae922a0926f4476f50a\" data-view-component=\"true\" href=\"/login?return_to=%2Ftopic.arduino\" rel=\"nofollow\"> <svg aria-hidden=\"true\" class=\"octicon octicon-star v-align-text-bottom d-inline-block mr-2\" data-view-component=\"true\" height=\"16\" version=\"1.1\" viewbox=\"0 0 16 16\" width=\"16\">\n",
              "<path d=\"M8 .25a.75.75 0 01.673.418l1.882 3.815 4.21.612a.75.75 0 01.416 1.279l-3.046 2.97.719 4.192a.75.75 0 01-1.088.791L8 12.347l-3.766 1.98a.75.75 0 01-1.088-.79l.72-4.194L.818 6.374a.75.75 0 01.416-1.28l4.21-.611L7.327.668A.75.75 0 018 .25zm0 2.445L6.615 5.5a.75.75 0 01-.564.41l-3.097.45 2.24 2.184a.75.75 0 01.216.664l-.528 3.084 2.769-1.456a.75.75 0 01.698 0l2.77 1.456-.53-3.084a.75.75 0 01.216-.664l2.24-2.183-3.096-.45a.75.75 0 01-.564-.41L8 2.694v.001z\" fill-rule=\"evenodd\"></path>\n",
              "</svg><span class=\"d-inline\" data-view-component=\"true\">\n",
              "          Star\n",
              "</span>\n",
              "</a></div>\n",
              "</div>\n",
              "</div>\n",
              "<div class=\"py-4 border-bottom d-flex flex-justify-between\">\n",
              "<a class=\"no-underline flex-grow-0\" href=\"/topics/aspnet\">\n",
              "<img alt=\"aspnet\" class=\"rounded mr-3\" height=\"64\" src=\"https://raw.githubusercontent.com/github/explore/80688e429a7d4ef2fca1e82350fe8e3517d3494d/topics/aspnet/aspnet.png\" width=\"64\"/>\n",
              "</a>\n",
              "<a class=\"no-underline flex-1 d-flex flex-column\" href=\"/topics/aspnet\">\n",
              "<p class=\"f3 lh-condensed mb-0 mt-1 Link--primary\">ASP.NET</p>\n",
              "<p class=\"f5 color-fg-muted mb-0 mt-1\">\n",
              "          ASP.NET is a web framework for building modern web apps and services.\n",
              "        </p>\n",
              "</a>\n",
              "<div class=\"flex-grow-0\">\n",
              "<div class=\"d-block\" data-view-component=\"true\">\n",
              "<a aria-label=\"You must be signed in to star a repository\" class=\"tooltipped tooltipped-s btn-sm btn\" data-hydro-click='{\"event_type\":\"authentication.click\",\"payload\":{\"location_in_page\":\"star button\",\"repository_id\":null,\"auth_type\":\"LOG_IN\",\"originating_url\":\"https://github.com/topics\",\"user_id\":null}}' data-hydro-click-hmac=\"5d696759683aa72e09fbdb14a69b26ab1c672e6d107e4ae922a0926f4476f50a\" data-view-component=\"true\" href=\"/login?return_to=%2Ftopic.aspnet\" rel=\"nofollow\"> <svg aria-hidden=\"true\" class=\"octicon octicon-star v-align-text-bottom d-inline-block mr-2\" data-view-component=\"true\" height=\"16\" version=\"1.1\" viewbox=\"0 0 16 16\" width=\"16\">\n",
              "<path d=\"M8 .25a.75.75 0 01.673.418l1.882 3.815 4.21.612a.75.75 0 01.416 1.279l-3.046 2.97.719 4.192a.75.75 0 01-1.088.791L8 12.347l-3.766 1.98a.75.75 0 01-1.088-.79l.72-4.194L.818 6.374a.75.75 0 01.416-1.28l4.21-.611L7.327.668A.75.75 0 018 .25zm0 2.445L6.615 5.5a.75.75 0 01-.564.41l-3.097.45 2.24 2.184a.75.75 0 01.216.664l-.528 3.084 2.769-1.456a.75.75 0 01.698 0l2.77 1.456-.53-3.084a.75.75 0 01.216-.664l2.24-2.183-3.096-.45a.75.75 0 01-.564-.41L8 2.694v.001z\" fill-rule=\"evenodd\"></path>\n",
              "</svg><span class=\"d-inline\" data-view-component=\"true\">\n",
              "          Star\n",
              "</span>\n",
              "</a></div>\n",
              "</div>\n",
              "</div>\n",
              "<div class=\"py-4 border-bottom d-flex flex-justify-between\">\n",
              "<a class=\"no-underline flex-grow-0\" href=\"/topics/atom\">\n",
              "<img alt=\"atom\" class=\"rounded mr-3\" height=\"64\" src=\"https://raw.githubusercontent.com/github/explore/80688e429a7d4ef2fca1e82350fe8e3517d3494d/topics/atom/atom.png\" width=\"64\"/>\n",
              "</a>\n",
              "<a class=\"no-underline flex-1 d-flex flex-column\" href=\"/topics/atom\">\n",
              "<p class=\"f3 lh-condensed mb-0 mt-1 Link--primary\">Atom</p>\n",
              "<p class=\"f5 color-fg-muted mb-0 mt-1\">\n",
              "          Atom is a open source text editor built with web technologies.\n",
              "        </p>\n",
              "</a>\n",
              "<div class=\"flex-grow-0\">\n",
              "<div class=\"d-block\" data-view-component=\"true\">\n",
              "<a aria-label=\"You must be signed in to star a repository\" class=\"tooltipped tooltipped-s btn-sm btn\" data-hydro-click='{\"event_type\":\"authentication.click\",\"payload\":{\"location_in_page\":\"star button\",\"repository_id\":null,\"auth_type\":\"LOG_IN\",\"originating_url\":\"https://github.com/topics\",\"user_id\":null}}' data-hydro-click-hmac=\"5d696759683aa72e09fbdb14a69b26ab1c672e6d107e4ae922a0926f4476f50a\" data-view-component=\"true\" href=\"/login?return_to=%2Ftopic.atom\" rel=\"nofollow\"> <svg aria-hidden=\"true\" class=\"octicon octicon-star v-align-text-bottom d-inline-block mr-2\" data-view-component=\"true\" height=\"16\" version=\"1.1\" viewbox=\"0 0 16 16\" width=\"16\">\n",
              "<path d=\"M8 .25a.75.75 0 01.673.418l1.882 3.815 4.21.612a.75.75 0 01.416 1.279l-3.046 2.97.719 4.192a.75.75 0 01-1.088.791L8 12.347l-3.766 1.98a.75.75 0 01-1.088-.79l.72-4.194L.818 6.374a.75.75 0 01.416-1.28l4.21-.611L7.327.668A.75.75 0 018 .25zm0 2.445L6.615 5.5a.75.75 0 01-.564.41l-3.097.45 2.24 2.184a.75.75 0 01.216.664l-.528 3.084 2.769-1.456a.75.75 0 01.698 0l2.77 1.456-.53-3.084a.75.75 0 01.216-.664l2.24-2.183-3.096-.45a.75.75 0 01-.564-.41L8 2.694v.001z\" fill-rule=\"evenodd\"></path>\n",
              "</svg><span class=\"d-inline\" data-view-component=\"true\">\n",
              "          Star\n",
              "</span>\n",
              "</a></div>\n",
              "</div>\n",
              "</div>\n",
              "<div class=\"py-4 border-bottom d-flex flex-justify-between\">\n",
              "<a class=\"no-underline flex-grow-0\" href=\"/topics/awesome\">\n",
              "<img alt=\"awesome\" class=\"rounded mr-3\" height=\"64\" src=\"https://raw.githubusercontent.com/github/explore/80688e429a7d4ef2fca1e82350fe8e3517d3494d/topics/awesome/awesome.png\" width=\"64\"/>\n",
              "</a>\n",
              "<a class=\"no-underline flex-1 d-flex flex-column\" href=\"/topics/awesome\">\n",
              "<p class=\"f3 lh-condensed mb-0 mt-1 Link--primary\">Awesome Lists</p>\n",
              "<p class=\"f5 color-fg-muted mb-0 mt-1\">\n",
              "          An awesome list is a list of awesome things curated by the community.\n",
              "        </p>\n",
              "</a>\n",
              "<div class=\"flex-grow-0\">\n",
              "<div class=\"d-block\" data-view-component=\"true\">\n",
              "<a aria-label=\"You must be signed in to star a repository\" class=\"tooltipped tooltipped-s btn-sm btn\" data-hydro-click='{\"event_type\":\"authentication.click\",\"payload\":{\"location_in_page\":\"star button\",\"repository_id\":null,\"auth_type\":\"LOG_IN\",\"originating_url\":\"https://github.com/topics\",\"user_id\":null}}' data-hydro-click-hmac=\"5d696759683aa72e09fbdb14a69b26ab1c672e6d107e4ae922a0926f4476f50a\" data-view-component=\"true\" href=\"/login?return_to=%2Ftopic.awesome\" rel=\"nofollow\"> <svg aria-hidden=\"true\" class=\"octicon octicon-star v-align-text-bottom d-inline-block mr-2\" data-view-component=\"true\" height=\"16\" version=\"1.1\" viewbox=\"0 0 16 16\" width=\"16\">\n",
              "<path d=\"M8 .25a.75.75 0 01.673.418l1.882 3.815 4.21.612a.75.75 0 01.416 1.279l-3.046 2.97.719 4.192a.75.75 0 01-1.088.791L8 12.347l-3.766 1.98a.75.75 0 01-1.088-.79l.72-4.194L.818 6.374a.75.75 0 01.416-1.28l4.21-.611L7.327.668A.75.75 0 018 .25zm0 2.445L6.615 5.5a.75.75 0 01-.564.41l-3.097.45 2.24 2.184a.75.75 0 01.216.664l-.528 3.084 2.769-1.456a.75.75 0 01.698 0l2.77 1.456-.53-3.084a.75.75 0 01.216-.664l2.24-2.183-3.096-.45a.75.75 0 01-.564-.41L8 2.694v.001z\" fill-rule=\"evenodd\"></path>\n",
              "</svg><span class=\"d-inline\" data-view-component=\"true\">\n",
              "          Star\n",
              "</span>\n",
              "</a></div>\n",
              "</div>\n",
              "</div>\n",
              "<div class=\"py-4 border-bottom d-flex flex-justify-between\">\n",
              "<a class=\"no-underline flex-grow-0\" href=\"/topics/aws\">\n",
              "<img alt=\"aws\" class=\"rounded mr-3\" height=\"64\" src=\"https://raw.githubusercontent.com/github/explore/fbceb94436312b6dacde68d122a5b9c7d11f9524/topics/aws/aws.png\" width=\"64\"/>\n",
              "</a>\n",
              "<a class=\"no-underline flex-1 d-flex flex-column\" href=\"/topics/aws\">\n",
              "<p class=\"f3 lh-condensed mb-0 mt-1 Link--primary\">Amazon Web Services</p>\n",
              "<p class=\"f5 color-fg-muted mb-0 mt-1\">\n",
              "          Amazon Web Services provides on-demand cloud computing platforms on a subscription basis.\n",
              "        </p>\n",
              "</a>\n",
              "<div class=\"flex-grow-0\">\n",
              "<div class=\"d-block\" data-view-component=\"true\">\n",
              "<a aria-label=\"You must be signed in to star a repository\" class=\"tooltipped tooltipped-s btn-sm btn\" data-hydro-click='{\"event_type\":\"authentication.click\",\"payload\":{\"location_in_page\":\"star button\",\"repository_id\":null,\"auth_type\":\"LOG_IN\",\"originating_url\":\"https://github.com/topics\",\"user_id\":null}}' data-hydro-click-hmac=\"5d696759683aa72e09fbdb14a69b26ab1c672e6d107e4ae922a0926f4476f50a\" data-view-component=\"true\" href=\"/login?return_to=%2Ftopic.aws\" rel=\"nofollow\"> <svg aria-hidden=\"true\" class=\"octicon octicon-star v-align-text-bottom d-inline-block mr-2\" data-view-component=\"true\" height=\"16\" version=\"1.1\" viewbox=\"0 0 16 16\" width=\"16\">\n",
              "<path d=\"M8 .25a.75.75 0 01.673.418l1.882 3.815 4.21.612a.75.75 0 01.416 1.279l-3.046 2.97.719 4.192a.75.75 0 01-1.088.791L8 12.347l-3.766 1.98a.75.75 0 01-1.088-.79l.72-4.194L.818 6.374a.75.75 0 01.416-1.28l4.21-.611L7.327.668A.75.75 0 018 .25zm0 2.445L6.615 5.5a.75.75 0 01-.564.41l-3.097.45 2.24 2.184a.75.75 0 01.216.664l-.528 3.084 2.769-1.456a.75.75 0 01.698 0l2.77 1.456-.53-3.084a.75.75 0 01.216-.664l2.24-2.183-3.096-.45a.75.75 0 01-.564-.41L8 2.694v.001z\" fill-rule=\"evenodd\"></path>\n",
              "</svg><span class=\"d-inline\" data-view-component=\"true\">\n",
              "          Star\n",
              "</span>\n",
              "</a></div>\n",
              "</div>\n",
              "</div>\n",
              "<div class=\"py-4 border-bottom d-flex flex-justify-between\">\n",
              "<a class=\"no-underline flex-grow-0\" href=\"/topics/azure\">\n",
              "<img alt=\"azure\" class=\"rounded mr-3\" height=\"64\" src=\"https://raw.githubusercontent.com/github/explore/eaef8552d8b082ffafe2bfc8a5023d47da904aac/topics/azure/azure.png\" width=\"64\"/>\n",
              "</a>\n",
              "<a class=\"no-underline flex-1 d-flex flex-column\" href=\"/topics/azure\">\n",
              "<p class=\"f3 lh-condensed mb-0 mt-1 Link--primary\">Azure</p>\n",
              "<p class=\"f5 color-fg-muted mb-0 mt-1\">\n",
              "          Azure is a cloud computing service created by Microsoft.\n",
              "        </p>\n",
              "</a>\n",
              "<div class=\"flex-grow-0\">\n",
              "<div class=\"d-block\" data-view-component=\"true\">\n",
              "<a aria-label=\"You must be signed in to star a repository\" class=\"tooltipped tooltipped-s btn-sm btn\" data-hydro-click='{\"event_type\":\"authentication.click\",\"payload\":{\"location_in_page\":\"star button\",\"repository_id\":null,\"auth_type\":\"LOG_IN\",\"originating_url\":\"https://github.com/topics\",\"user_id\":null}}' data-hydro-click-hmac=\"5d696759683aa72e09fbdb14a69b26ab1c672e6d107e4ae922a0926f4476f50a\" data-view-component=\"true\" href=\"/login?return_to=%2Ftopic.azure\" rel=\"nofollow\"> <svg aria-hidden=\"true\" class=\"octicon octicon-star v-align-text-bottom d-inline-block mr-2\" data-view-component=\"true\" height=\"16\" version=\"1.1\" viewbox=\"0 0 16 16\" width=\"16\">\n",
              "<path d=\"M8 .25a.75.75 0 01.673.418l1.882 3.815 4.21.612a.75.75 0 01.416 1.279l-3.046 2.97.719 4.192a.75.75 0 01-1.088.791L8 12.347l-3.766 1.98a.75.75 0 01-1.088-.79l.72-4.194L.818 6.374a.75.75 0 01.416-1.28l4.21-.611L7.327.668A.75.75 0 018 .25zm0 2.445L6.615 5.5a.75.75 0 01-.564.41l-3.097.45 2.24 2.184a.75.75 0 01.216.664l-.528 3.084 2.769-1.456a.75.75 0 01.698 0l2.77 1.456-.53-3.084a.75.75 0 01.216-.664l2.24-2.183-3.096-.45a.75.75 0 01-.564-.41L8 2.694v.001z\" fill-rule=\"evenodd\"></path>\n",
              "</svg><span class=\"d-inline\" data-view-component=\"true\">\n",
              "          Star\n",
              "</span>\n",
              "</a></div>\n",
              "</div>\n",
              "</div>\n",
              "<div class=\"py-4 border-bottom d-flex flex-justify-between\">\n",
              "<a class=\"no-underline flex-grow-0\" href=\"/topics/babel\">\n",
              "<img alt=\"babel\" class=\"rounded mr-3\" height=\"64\" src=\"https://raw.githubusercontent.com/github/explore/cb39e2385dfcec8a661d01bfacff6b1e33bbaa9d/topics/babel/babel.png\" width=\"64\"/>\n",
              "</a>\n",
              "<a class=\"no-underline flex-1 d-flex flex-column\" href=\"/topics/babel\">\n",
              "<p class=\"f3 lh-condensed mb-0 mt-1 Link--primary\">Babel</p>\n",
              "<p class=\"f5 color-fg-muted mb-0 mt-1\">\n",
              "          Babel is a compiler for writing next generation JavaScript, today.\n",
              "        </p>\n",
              "</a>\n",
              "<div class=\"flex-grow-0\">\n",
              "<div class=\"d-block\" data-view-component=\"true\">\n",
              "<a aria-label=\"You must be signed in to star a repository\" class=\"tooltipped tooltipped-s btn-sm btn\" data-hydro-click='{\"event_type\":\"authentication.click\",\"payload\":{\"location_in_page\":\"star button\",\"repository_id\":null,\"auth_type\":\"LOG_IN\",\"originating_url\":\"https://github.com/topics\",\"user_id\":null}}' data-hydro-click-hmac=\"5d696759683aa72e09fbdb14a69b26ab1c672e6d107e4ae922a0926f4476f50a\" data-view-component=\"true\" href=\"/login?return_to=%2Ftopic.babel\" rel=\"nofollow\"> <svg aria-hidden=\"true\" class=\"octicon octicon-star v-align-text-bottom d-inline-block mr-2\" data-view-component=\"true\" height=\"16\" version=\"1.1\" viewbox=\"0 0 16 16\" width=\"16\">\n",
              "<path d=\"M8 .25a.75.75 0 01.673.418l1.882 3.815 4.21.612a.75.75 0 01.416 1.279l-3.046 2.97.719 4.192a.75.75 0 01-1.088.791L8 12.347l-3.766 1.98a.75.75 0 01-1.088-.79l.72-4.194L.818 6.374a.75.75 0 01.416-1.28l4.21-.611L7.327.668A.75.75 0 018 .25zm0 2.445L6.615 5.5a.75.75 0 01-.564.41l-3.097.45 2.24 2.184a.75.75 0 01.216.664l-.528 3.084 2.769-1.456a.75.75 0 01.698 0l2.77 1.456-.53-3.084a.75.75 0 01.216-.664l2.24-2.183-3.096-.45a.75.75 0 01-.564-.41L8 2.694v.001z\" fill-rule=\"evenodd\"></path>\n",
              "</svg><span class=\"d-inline\" data-view-component=\"true\">\n",
              "          Star\n",
              "</span>\n",
              "</a></div>\n",
              "</div>\n",
              "</div>\n",
              "<div class=\"py-4 border-bottom d-flex flex-justify-between\">\n",
              "<a class=\"no-underline flex-grow-0\" href=\"/topics/bash\">\n",
              "<img alt=\"bash\" class=\"rounded mr-3\" height=\"64\" src=\"https://raw.githubusercontent.com/github/explore/80688e429a7d4ef2fca1e82350fe8e3517d3494d/topics/bash/bash.png\" width=\"64\"/>\n",
              "</a>\n",
              "<a class=\"no-underline flex-1 d-flex flex-column\" href=\"/topics/bash\">\n",
              "<p class=\"f3 lh-condensed mb-0 mt-1 Link--primary\">Bash</p>\n",
              "<p class=\"f5 color-fg-muted mb-0 mt-1\">\n",
              "          Bash is a shell and command language interpreter for the GNU operating system.\n",
              "        </p>\n",
              "</a>\n",
              "<div class=\"flex-grow-0\">\n",
              "<div class=\"d-block\" data-view-component=\"true\">\n",
              "<a aria-label=\"You must be signed in to star a repository\" class=\"tooltipped tooltipped-s btn-sm btn\" data-hydro-click='{\"event_type\":\"authentication.click\",\"payload\":{\"location_in_page\":\"star button\",\"repository_id\":null,\"auth_type\":\"LOG_IN\",\"originating_url\":\"https://github.com/topics\",\"user_id\":null}}' data-hydro-click-hmac=\"5d696759683aa72e09fbdb14a69b26ab1c672e6d107e4ae922a0926f4476f50a\" data-view-component=\"true\" href=\"/login?return_to=%2Ftopic.bash\" rel=\"nofollow\"> <svg aria-hidden=\"true\" class=\"octicon octicon-star v-align-text-bottom d-inline-block mr-2\" data-view-component=\"true\" height=\"16\" version=\"1.1\" viewbox=\"0 0 16 16\" width=\"16\">\n",
              "<path d=\"M8 .25a.75.75 0 01.673.418l1.882 3.815 4.21.612a.75.75 0 01.416 1.279l-3.046 2.97.719 4.192a.75.75 0 01-1.088.791L8 12.347l-3.766 1.98a.75.75 0 01-1.088-.79l.72-4.194L.818 6.374a.75.75 0 01.416-1.28l4.21-.611L7.327.668A.75.75 0 018 .25zm0 2.445L6.615 5.5a.75.75 0 01-.564.41l-3.097.45 2.24 2.184a.75.75 0 01.216.664l-.528 3.084 2.769-1.456a.75.75 0 01.698 0l2.77 1.456-.53-3.084a.75.75 0 01.216-.664l2.24-2.183-3.096-.45a.75.75 0 01-.564-.41L8 2.694v.001z\" fill-rule=\"evenodd\"></path>\n",
              "</svg><span class=\"d-inline\" data-view-component=\"true\">\n",
              "          Star\n",
              "</span>\n",
              "</a></div>\n",
              "</div>\n",
              "</div>\n",
              "<div class=\"py-4 border-bottom d-flex flex-justify-between\">\n",
              "<a class=\"no-underline flex-grow-0\" href=\"/topics/bitcoin\">\n",
              "<img alt=\"bitcoin\" class=\"rounded mr-3\" height=\"64\" src=\"https://raw.githubusercontent.com/github/explore/80688e429a7d4ef2fca1e82350fe8e3517d3494d/topics/bitcoin/bitcoin.png\" width=\"64\"/>\n",
              "</a>\n",
              "<a class=\"no-underline flex-1 d-flex flex-column\" href=\"/topics/bitcoin\">\n",
              "<p class=\"f3 lh-condensed mb-0 mt-1 Link--primary\">Bitcoin</p>\n",
              "<p class=\"f5 color-fg-muted mb-0 mt-1\">\n",
              "          Bitcoin is a cryptocurrency developed by Satoshi Nakamoto.\n",
              "        </p>\n",
              "</a>\n",
              "<div class=\"flex-grow-0\">\n",
              "<div class=\"d-block\" data-view-component=\"true\">\n",
              "<a aria-label=\"You must be signed in to star a repository\" class=\"tooltipped tooltipped-s btn-sm btn\" data-hydro-click='{\"event_type\":\"authentication.click\",\"payload\":{\"location_in_page\":\"star button\",\"repository_id\":null,\"auth_type\":\"LOG_IN\",\"originating_url\":\"https://github.com/topics\",\"user_id\":null}}' data-hydro-click-hmac=\"5d696759683aa72e09fbdb14a69b26ab1c672e6d107e4ae922a0926f4476f50a\" data-view-component=\"true\" href=\"/login?return_to=%2Ftopic.bitcoin\" rel=\"nofollow\"> <svg aria-hidden=\"true\" class=\"octicon octicon-star v-align-text-bottom d-inline-block mr-2\" data-view-component=\"true\" height=\"16\" version=\"1.1\" viewbox=\"0 0 16 16\" width=\"16\">\n",
              "<path d=\"M8 .25a.75.75 0 01.673.418l1.882 3.815 4.21.612a.75.75 0 01.416 1.279l-3.046 2.97.719 4.192a.75.75 0 01-1.088.791L8 12.347l-3.766 1.98a.75.75 0 01-1.088-.79l.72-4.194L.818 6.374a.75.75 0 01.416-1.28l4.21-.611L7.327.668A.75.75 0 018 .25zm0 2.445L6.615 5.5a.75.75 0 01-.564.41l-3.097.45 2.24 2.184a.75.75 0 01.216.664l-.528 3.084 2.769-1.456a.75.75 0 01.698 0l2.77 1.456-.53-3.084a.75.75 0 01.216-.664l2.24-2.183-3.096-.45a.75.75 0 01-.564-.41L8 2.694v.001z\" fill-rule=\"evenodd\"></path>\n",
              "</svg><span class=\"d-inline\" data-view-component=\"true\">\n",
              "          Star\n",
              "</span>\n",
              "</a></div>\n",
              "</div>\n",
              "</div>\n",
              "<div class=\"py-4 border-bottom d-flex flex-justify-between\">\n",
              "<a class=\"no-underline flex-grow-0\" href=\"/topics/bootstrap\">\n",
              "<img alt=\"bootstrap\" class=\"rounded mr-3\" height=\"64\" src=\"https://raw.githubusercontent.com/github/explore/80688e429a7d4ef2fca1e82350fe8e3517d3494d/topics/bootstrap/bootstrap.png\" width=\"64\"/>\n",
              "</a>\n",
              "<a class=\"no-underline flex-1 d-flex flex-column\" href=\"/topics/bootstrap\">\n",
              "<p class=\"f3 lh-condensed mb-0 mt-1 Link--primary\">Bootstrap</p>\n",
              "<p class=\"f5 color-fg-muted mb-0 mt-1\">\n",
              "          Bootstrap is an HTML, CSS, and JavaScript framework.\n",
              "        </p>\n",
              "</a>\n",
              "<div class=\"flex-grow-0\">\n",
              "<div class=\"d-block\" data-view-component=\"true\">\n",
              "<a aria-label=\"You must be signed in to star a repository\" class=\"tooltipped tooltipped-s btn-sm btn\" data-hydro-click='{\"event_type\":\"authentication.click\",\"payload\":{\"location_in_page\":\"star button\",\"repository_id\":null,\"auth_type\":\"LOG_IN\",\"originating_url\":\"https://github.com/topics\",\"user_id\":null}}' data-hydro-click-hmac=\"5d696759683aa72e09fbdb14a69b26ab1c672e6d107e4ae922a0926f4476f50a\" data-view-component=\"true\" href=\"/login?return_to=%2Ftopic.bootstrap\" rel=\"nofollow\"> <svg aria-hidden=\"true\" class=\"octicon octicon-star v-align-text-bottom d-inline-block mr-2\" data-view-component=\"true\" height=\"16\" version=\"1.1\" viewbox=\"0 0 16 16\" width=\"16\">\n",
              "<path d=\"M8 .25a.75.75 0 01.673.418l1.882 3.815 4.21.612a.75.75 0 01.416 1.279l-3.046 2.97.719 4.192a.75.75 0 01-1.088.791L8 12.347l-3.766 1.98a.75.75 0 01-1.088-.79l.72-4.194L.818 6.374a.75.75 0 01.416-1.28l4.21-.611L7.327.668A.75.75 0 018 .25zm0 2.445L6.615 5.5a.75.75 0 01-.564.41l-3.097.45 2.24 2.184a.75.75 0 01.216.664l-.528 3.084 2.769-1.456a.75.75 0 01.698 0l2.77 1.456-.53-3.084a.75.75 0 01.216-.664l2.24-2.183-3.096-.45a.75.75 0 01-.564-.41L8 2.694v.001z\" fill-rule=\"evenodd\"></path>\n",
              "</svg><span class=\"d-inline\" data-view-component=\"true\">\n",
              "          Star\n",
              "</span>\n",
              "</a></div>\n",
              "</div>\n",
              "</div>\n",
              "<div class=\"py-4 border-bottom d-flex flex-justify-between\">\n",
              "<a class=\"no-underline flex-grow-0\" href=\"/topics/bot\">\n",
              "<img alt=\"bot\" class=\"rounded mr-3\" height=\"64\" src=\"https://raw.githubusercontent.com/github/explore/0a84ca418425da147e4e43b1c74aa169d3265870/topics/bot/bot.png\" width=\"64\"/>\n",
              "</a>\n",
              "<a class=\"no-underline flex-1 d-flex flex-column\" href=\"/topics/bot\">\n",
              "<p class=\"f3 lh-condensed mb-0 mt-1 Link--primary\">Bot</p>\n",
              "<p class=\"f5 color-fg-muted mb-0 mt-1\">\n",
              "          A bot is an application that runs automated tasks over the Internet.\n",
              "        </p>\n",
              "</a>\n",
              "<div class=\"flex-grow-0\">\n",
              "<div class=\"d-block\" data-view-component=\"true\">\n",
              "<a aria-label=\"You must be signed in to star a repository\" class=\"tooltipped tooltipped-s btn-sm btn\" data-hydro-click='{\"event_type\":\"authentication.click\",\"payload\":{\"location_in_page\":\"star button\",\"repository_id\":null,\"auth_type\":\"LOG_IN\",\"originating_url\":\"https://github.com/topics\",\"user_id\":null}}' data-hydro-click-hmac=\"5d696759683aa72e09fbdb14a69b26ab1c672e6d107e4ae922a0926f4476f50a\" data-view-component=\"true\" href=\"/login?return_to=%2Ftopic.bot\" rel=\"nofollow\"> <svg aria-hidden=\"true\" class=\"octicon octicon-star v-align-text-bottom d-inline-block mr-2\" data-view-component=\"true\" height=\"16\" version=\"1.1\" viewbox=\"0 0 16 16\" width=\"16\">\n",
              "<path d=\"M8 .25a.75.75 0 01.673.418l1.882 3.815 4.21.612a.75.75 0 01.416 1.279l-3.046 2.97.719 4.192a.75.75 0 01-1.088.791L8 12.347l-3.766 1.98a.75.75 0 01-1.088-.79l.72-4.194L.818 6.374a.75.75 0 01.416-1.28l4.21-.611L7.327.668A.75.75 0 018 .25zm0 2.445L6.615 5.5a.75.75 0 01-.564.41l-3.097.45 2.24 2.184a.75.75 0 01.216.664l-.528 3.084 2.769-1.456a.75.75 0 01.698 0l2.77 1.456-.53-3.084a.75.75 0 01.216-.664l2.24-2.183-3.096-.45a.75.75 0 01-.564-.41L8 2.694v.001z\" fill-rule=\"evenodd\"></path>\n",
              "</svg><span class=\"d-inline\" data-view-component=\"true\">\n",
              "          Star\n",
              "</span>\n",
              "</a></div>\n",
              "</div>\n",
              "</div>\n",
              "<div class=\"py-4 border-bottom d-flex flex-justify-between\">\n",
              "<a class=\"no-underline flex-grow-0\" href=\"/topics/c\">\n",
              "<img alt=\"c\" class=\"rounded mr-3\" height=\"64\" src=\"https://raw.githubusercontent.com/github/explore/f3e22f0dca2be955676bc70d6214b95b13354ee8/topics/c/c.png\" width=\"64\"/>\n",
              "</a>\n",
              "<a class=\"no-underline flex-1 d-flex flex-column\" href=\"/topics/c\">\n",
              "<p class=\"f3 lh-condensed mb-0 mt-1 Link--primary\">C</p>\n",
              "<p class=\"f5 color-fg-muted mb-0 mt-1\">\n",
              "          C is a general purpose programming language that first appeared in 1972.\n",
              "        </p>\n",
              "</a>\n",
              "<div class=\"flex-grow-0\">\n",
              "<div class=\"d-block\" data-view-component=\"true\">\n",
              "<a aria-label=\"You must be signed in to star a repository\" class=\"tooltipped tooltipped-s btn-sm btn\" data-hydro-click='{\"event_type\":\"authentication.click\",\"payload\":{\"location_in_page\":\"star button\",\"repository_id\":null,\"auth_type\":\"LOG_IN\",\"originating_url\":\"https://github.com/topics\",\"user_id\":null}}' data-hydro-click-hmac=\"5d696759683aa72e09fbdb14a69b26ab1c672e6d107e4ae922a0926f4476f50a\" data-view-component=\"true\" href=\"/login?return_to=%2Ftopic.c\" rel=\"nofollow\"> <svg aria-hidden=\"true\" class=\"octicon octicon-star v-align-text-bottom d-inline-block mr-2\" data-view-component=\"true\" height=\"16\" version=\"1.1\" viewbox=\"0 0 16 16\" width=\"16\">\n",
              "<path d=\"M8 .25a.75.75 0 01.673.418l1.882 3.815 4.21.612a.75.75 0 01.416 1.279l-3.046 2.97.719 4.192a.75.75 0 01-1.088.791L8 12.347l-3.766 1.98a.75.75 0 01-1.088-.79l.72-4.194L.818 6.374a.75.75 0 01.416-1.28l4.21-.611L7.327.668A.75.75 0 018 .25zm0 2.445L6.615 5.5a.75.75 0 01-.564.41l-3.097.45 2.24 2.184a.75.75 0 01.216.664l-.528 3.084 2.769-1.456a.75.75 0 01.698 0l2.77 1.456-.53-3.084a.75.75 0 01.216-.664l2.24-2.183-3.096-.45a.75.75 0 01-.564-.41L8 2.694v.001z\" fill-rule=\"evenodd\"></path>\n",
              "</svg><span class=\"d-inline\" data-view-component=\"true\">\n",
              "          Star\n",
              "</span>\n",
              "</a></div>\n",
              "</div>\n",
              "</div>\n",
              "<div class=\"py-4 border-bottom d-flex flex-justify-between\">\n",
              "<a class=\"no-underline flex-grow-0\" href=\"/topics/chrome\">\n",
              "<img alt=\"chrome\" class=\"rounded mr-3\" height=\"64\" src=\"https://raw.githubusercontent.com/github/explore/002d791bc68a86506b1bb7a3332bb6ba8e1d1891/topics/chrome/chrome.png\" width=\"64\"/>\n",
              "</a>\n",
              "<a class=\"no-underline flex-1 d-flex flex-column\" href=\"/topics/chrome\">\n",
              "<p class=\"f3 lh-condensed mb-0 mt-1 Link--primary\">Chrome</p>\n",
              "<p class=\"f5 color-fg-muted mb-0 mt-1\">\n",
              "          Chrome is a web browser from the tech company Google.\n",
              "        </p>\n",
              "</a>\n",
              "<div class=\"flex-grow-0\">\n",
              "<div class=\"d-block\" data-view-component=\"true\">\n",
              "<a aria-label=\"You must be signed in to star a repository\" class=\"tooltipped tooltipped-s btn-sm btn\" data-hydro-click='{\"event_type\":\"authentication.click\",\"payload\":{\"location_in_page\":\"star button\",\"repository_id\":null,\"auth_type\":\"LOG_IN\",\"originating_url\":\"https://github.com/topics\",\"user_id\":null}}' data-hydro-click-hmac=\"5d696759683aa72e09fbdb14a69b26ab1c672e6d107e4ae922a0926f4476f50a\" data-view-component=\"true\" href=\"/login?return_to=%2Ftopic.chrome\" rel=\"nofollow\"> <svg aria-hidden=\"true\" class=\"octicon octicon-star v-align-text-bottom d-inline-block mr-2\" data-view-component=\"true\" height=\"16\" version=\"1.1\" viewbox=\"0 0 16 16\" width=\"16\">\n",
              "<path d=\"M8 .25a.75.75 0 01.673.418l1.882 3.815 4.21.612a.75.75 0 01.416 1.279l-3.046 2.97.719 4.192a.75.75 0 01-1.088.791L8 12.347l-3.766 1.98a.75.75 0 01-1.088-.79l.72-4.194L.818 6.374a.75.75 0 01.416-1.28l4.21-.611L7.327.668A.75.75 0 018 .25zm0 2.445L6.615 5.5a.75.75 0 01-.564.41l-3.097.45 2.24 2.184a.75.75 0 01.216.664l-.528 3.084 2.769-1.456a.75.75 0 01.698 0l2.77 1.456-.53-3.084a.75.75 0 01.216-.664l2.24-2.183-3.096-.45a.75.75 0 01-.564-.41L8 2.694v.001z\" fill-rule=\"evenodd\"></path>\n",
              "</svg><span class=\"d-inline\" data-view-component=\"true\">\n",
              "          Star\n",
              "</span>\n",
              "</a></div>\n",
              "</div>\n",
              "</div>\n",
              "<div class=\"py-4 border-bottom d-flex flex-justify-between\">\n",
              "<a class=\"no-underline flex-grow-0\" href=\"/topics/chrome-extension\">\n",
              "<img alt=\"chrome-extension\" class=\"rounded mr-3\" height=\"64\" src=\"https://raw.githubusercontent.com/github/explore/8eaa4711f3b6015070483ff1c3b707292304efe4/topics/chrome-extension/chrome-extension.png\" width=\"64\"/>\n",
              "</a>\n",
              "<a class=\"no-underline flex-1 d-flex flex-column\" href=\"/topics/chrome-extension\">\n",
              "<p class=\"f3 lh-condensed mb-0 mt-1 Link--primary\">Chrome extension</p>\n",
              "<p class=\"f5 color-fg-muted mb-0 mt-1\">\n",
              "          Chrome extensions enable users to customize the Chrome browsing experience.\n",
              "        </p>\n",
              "</a>\n",
              "<div class=\"flex-grow-0\">\n",
              "<div class=\"d-block\" data-view-component=\"true\">\n",
              "<a aria-label=\"You must be signed in to star a repository\" class=\"tooltipped tooltipped-s btn-sm btn\" data-hydro-click='{\"event_type\":\"authentication.click\",\"payload\":{\"location_in_page\":\"star button\",\"repository_id\":null,\"auth_type\":\"LOG_IN\",\"originating_url\":\"https://github.com/topics\",\"user_id\":null}}' data-hydro-click-hmac=\"5d696759683aa72e09fbdb14a69b26ab1c672e6d107e4ae922a0926f4476f50a\" data-view-component=\"true\" href=\"/login?return_to=%2Ftopic.chrome-extension\" rel=\"nofollow\"> <svg aria-hidden=\"true\" class=\"octicon octicon-star v-align-text-bottom d-inline-block mr-2\" data-view-component=\"true\" height=\"16\" version=\"1.1\" viewbox=\"0 0 16 16\" width=\"16\">\n",
              "<path d=\"M8 .25a.75.75 0 01.673.418l1.882 3.815 4.21.612a.75.75 0 01.416 1.279l-3.046 2.97.719 4.192a.75.75 0 01-1.088.791L8 12.347l-3.766 1.98a.75.75 0 01-1.088-.79l.72-4.194L.818 6.374a.75.75 0 01.416-1.28l4.21-.611L7.327.668A.75.75 0 018 .25zm0 2.445L6.615 5.5a.75.75 0 01-.564.41l-3.097.45 2.24 2.184a.75.75 0 01.216.664l-.528 3.084 2.769-1.456a.75.75 0 01.698 0l2.77 1.456-.53-3.084a.75.75 0 01.216-.664l2.24-2.183-3.096-.45a.75.75 0 01-.564-.41L8 2.694v.001z\" fill-rule=\"evenodd\"></path>\n",
              "</svg><span class=\"d-inline\" data-view-component=\"true\">\n",
              "          Star\n",
              "</span>\n",
              "</a></div>\n",
              "</div>\n",
              "</div>\n",
              "<div class=\"py-4 border-bottom d-flex flex-justify-between\">\n",
              "<a class=\"no-underline flex-grow-0\" href=\"/topics/cli\">\n",
              "<img alt=\"cli\" class=\"rounded mr-3\" height=\"64\" src=\"https://raw.githubusercontent.com/github/explore/aca0b3b69ca680013b925338b0cc428190aa42dc/topics/cli/cli.png\" width=\"64\"/>\n",
              "</a>\n",
              "<a class=\"no-underline flex-1 d-flex flex-column\" href=\"/topics/cli\">\n",
              "<p class=\"f3 lh-condensed mb-0 mt-1 Link--primary\">Command line interface</p>\n",
              "<p class=\"f5 color-fg-muted mb-0 mt-1\">\n",
              "          A CLI, or command-line interface, is a console that helps users issue commands to a program.\n",
              "        </p>\n",
              "</a>\n",
              "<div class=\"flex-grow-0\">\n",
              "<div class=\"d-block\" data-view-component=\"true\">\n",
              "<a aria-label=\"You must be signed in to star a repository\" class=\"tooltipped tooltipped-s btn-sm btn\" data-hydro-click='{\"event_type\":\"authentication.click\",\"payload\":{\"location_in_page\":\"star button\",\"repository_id\":null,\"auth_type\":\"LOG_IN\",\"originating_url\":\"https://github.com/topics\",\"user_id\":null}}' data-hydro-click-hmac=\"5d696759683aa72e09fbdb14a69b26ab1c672e6d107e4ae922a0926f4476f50a\" data-view-component=\"true\" href=\"/login?return_to=%2Ftopic.cli\" rel=\"nofollow\"> <svg aria-hidden=\"true\" class=\"octicon octicon-star v-align-text-bottom d-inline-block mr-2\" data-view-component=\"true\" height=\"16\" version=\"1.1\" viewbox=\"0 0 16 16\" width=\"16\">\n",
              "<path d=\"M8 .25a.75.75 0 01.673.418l1.882 3.815 4.21.612a.75.75 0 01.416 1.279l-3.046 2.97.719 4.192a.75.75 0 01-1.088.791L8 12.347l-3.766 1.98a.75.75 0 01-1.088-.79l.72-4.194L.818 6.374a.75.75 0 01.416-1.28l4.21-.611L7.327.668A.75.75 0 018 .25zm0 2.445L6.615 5.5a.75.75 0 01-.564.41l-3.097.45 2.24 2.184a.75.75 0 01.216.664l-.528 3.084 2.769-1.456a.75.75 0 01.698 0l2.77 1.456-.53-3.084a.75.75 0 01.216-.664l2.24-2.183-3.096-.45a.75.75 0 01-.564-.41L8 2.694v.001z\" fill-rule=\"evenodd\"></path>\n",
              "</svg><span class=\"d-inline\" data-view-component=\"true\">\n",
              "          Star\n",
              "</span>\n",
              "</a></div>\n",
              "</div>\n",
              "</div>\n",
              "<div class=\"py-4 border-bottom d-flex flex-justify-between\">\n",
              "<a class=\"no-underline flex-grow-0\" href=\"/topics/clojure\">\n",
              "<img alt=\"clojure\" class=\"rounded mr-3\" height=\"64\" src=\"https://raw.githubusercontent.com/github/explore/80688e429a7d4ef2fca1e82350fe8e3517d3494d/topics/clojure/clojure.png\" width=\"64\"/>\n",
              "</a>\n",
              "<a class=\"no-underline flex-1 d-flex flex-column\" href=\"/topics/clojure\">\n",
              "<p class=\"f3 lh-condensed mb-0 mt-1 Link--primary\">Clojure</p>\n",
              "<p class=\"f5 color-fg-muted mb-0 mt-1\">\n",
              "          Clojure is a dynamic, general-purpose programming language.\n",
              "        </p>\n",
              "</a>\n",
              "<div class=\"flex-grow-0\">\n",
              "<div class=\"d-block\" data-view-component=\"true\">\n",
              "<a aria-label=\"You must be signed in to star a repository\" class=\"tooltipped tooltipped-s btn-sm btn\" data-hydro-click='{\"event_type\":\"authentication.click\",\"payload\":{\"location_in_page\":\"star button\",\"repository_id\":null,\"auth_type\":\"LOG_IN\",\"originating_url\":\"https://github.com/topics\",\"user_id\":null}}' data-hydro-click-hmac=\"5d696759683aa72e09fbdb14a69b26ab1c672e6d107e4ae922a0926f4476f50a\" data-view-component=\"true\" href=\"/login?return_to=%2Ftopic.clojure\" rel=\"nofollow\"> <svg aria-hidden=\"true\" class=\"octicon octicon-star v-align-text-bottom d-inline-block mr-2\" data-view-component=\"true\" height=\"16\" version=\"1.1\" viewbox=\"0 0 16 16\" width=\"16\">\n",
              "<path d=\"M8 .25a.75.75 0 01.673.418l1.882 3.815 4.21.612a.75.75 0 01.416 1.279l-3.046 2.97.719 4.192a.75.75 0 01-1.088.791L8 12.347l-3.766 1.98a.75.75 0 01-1.088-.79l.72-4.194L.818 6.374a.75.75 0 01.416-1.28l4.21-.611L7.327.668A.75.75 0 018 .25zm0 2.445L6.615 5.5a.75.75 0 01-.564.41l-3.097.45 2.24 2.184a.75.75 0 01.216.664l-.528 3.084 2.769-1.456a.75.75 0 01.698 0l2.77 1.456-.53-3.084a.75.75 0 01.216-.664l2.24-2.183-3.096-.45a.75.75 0 01-.564-.41L8 2.694v.001z\" fill-rule=\"evenodd\"></path>\n",
              "</svg><span class=\"d-inline\" data-view-component=\"true\">\n",
              "          Star\n",
              "</span>\n",
              "</a></div>\n",
              "</div>\n",
              "</div>\n",
              "<div class=\"py-4 border-bottom d-flex flex-justify-between\">\n",
              "<a class=\"no-underline flex-grow-0\" href=\"/topics/code-quality\">\n",
              "<div class=\"color-bg-accent f4 color-fg-muted text-bold rounded mr-3 flex-shrink-0 text-center\" style=\"width:64px; height:64px; line-height:64px;\">\n",
              "            #\n",
              "          </div>\n",
              "</a>\n",
              "<a class=\"no-underline flex-1 d-flex flex-column\" href=\"/topics/code-quality\">\n",
              "<p class=\"f3 lh-condensed mb-0 mt-1 Link--primary\">Code quality</p>\n",
              "<p class=\"f5 color-fg-muted mb-0 mt-1\">\n",
              "          Automate your code review with style, quality, security, and test‑coverage checks when you need them.\n",
              "        </p>\n",
              "</a>\n",
              "<div class=\"flex-grow-0\">\n",
              "<div class=\"d-block\" data-view-component=\"true\">\n",
              "<a aria-label=\"You must be signed in to star a repository\" class=\"tooltipped tooltipped-s btn-sm btn\" data-hydro-click='{\"event_type\":\"authentication.click\",\"payload\":{\"location_in_page\":\"star button\",\"repository_id\":null,\"auth_type\":\"LOG_IN\",\"originating_url\":\"https://github.com/topics\",\"user_id\":null}}' data-hydro-click-hmac=\"5d696759683aa72e09fbdb14a69b26ab1c672e6d107e4ae922a0926f4476f50a\" data-view-component=\"true\" href=\"/login?return_to=%2Ftopic.code-quality\" rel=\"nofollow\"> <svg aria-hidden=\"true\" class=\"octicon octicon-star v-align-text-bottom d-inline-block mr-2\" data-view-component=\"true\" height=\"16\" version=\"1.1\" viewbox=\"0 0 16 16\" width=\"16\">\n",
              "<path d=\"M8 .25a.75.75 0 01.673.418l1.882 3.815 4.21.612a.75.75 0 01.416 1.279l-3.046 2.97.719 4.192a.75.75 0 01-1.088.791L8 12.347l-3.766 1.98a.75.75 0 01-1.088-.79l.72-4.194L.818 6.374a.75.75 0 01.416-1.28l4.21-.611L7.327.668A.75.75 0 018 .25zm0 2.445L6.615 5.5a.75.75 0 01-.564.41l-3.097.45 2.24 2.184a.75.75 0 01.216.664l-.528 3.084 2.769-1.456a.75.75 0 01.698 0l2.77 1.456-.53-3.084a.75.75 0 01.216-.664l2.24-2.183-3.096-.45a.75.75 0 01-.564-.41L8 2.694v.001z\" fill-rule=\"evenodd\"></path>\n",
              "</svg><span class=\"d-inline\" data-view-component=\"true\">\n",
              "          Star\n",
              "</span>\n",
              "</a></div>\n",
              "</div>\n",
              "</div>\n",
              "<div class=\"py-4 border-bottom d-flex flex-justify-between\">\n",
              "<a class=\"no-underline flex-grow-0\" href=\"/topics/code-review\">\n",
              "<div class=\"color-bg-accent f4 color-fg-muted text-bold rounded mr-3 flex-shrink-0 text-center\" style=\"width:64px; height:64px; line-height:64px;\">\n",
              "            #\n",
              "          </div>\n",
              "</a>\n",
              "<a class=\"no-underline flex-1 d-flex flex-column\" href=\"/topics/code-review\">\n",
              "<p class=\"f3 lh-condensed mb-0 mt-1 Link--primary\">Code review</p>\n",
              "<p class=\"f5 color-fg-muted mb-0 mt-1\">\n",
              "          Ensure your code meets quality standards and ship with confidence.\n",
              "        </p>\n",
              "</a>\n",
              "<div class=\"flex-grow-0\">\n",
              "<div class=\"d-block\" data-view-component=\"true\">\n",
              "<a aria-label=\"You must be signed in to star a repository\" class=\"tooltipped tooltipped-s btn-sm btn\" data-hydro-click='{\"event_type\":\"authentication.click\",\"payload\":{\"location_in_page\":\"star button\",\"repository_id\":null,\"auth_type\":\"LOG_IN\",\"originating_url\":\"https://github.com/topics\",\"user_id\":null}}' data-hydro-click-hmac=\"5d696759683aa72e09fbdb14a69b26ab1c672e6d107e4ae922a0926f4476f50a\" data-view-component=\"true\" href=\"/login?return_to=%2Ftopic.code-review\" rel=\"nofollow\"> <svg aria-hidden=\"true\" class=\"octicon octicon-star v-align-text-bottom d-inline-block mr-2\" data-view-component=\"true\" height=\"16\" version=\"1.1\" viewbox=\"0 0 16 16\" width=\"16\">\n",
              "<path d=\"M8 .25a.75.75 0 01.673.418l1.882 3.815 4.21.612a.75.75 0 01.416 1.279l-3.046 2.97.719 4.192a.75.75 0 01-1.088.791L8 12.347l-3.766 1.98a.75.75 0 01-1.088-.79l.72-4.194L.818 6.374a.75.75 0 01.416-1.28l4.21-.611L7.327.668A.75.75 0 018 .25zm0 2.445L6.615 5.5a.75.75 0 01-.564.41l-3.097.45 2.24 2.184a.75.75 0 01.216.664l-.528 3.084 2.769-1.456a.75.75 0 01.698 0l2.77 1.456-.53-3.084a.75.75 0 01.216-.664l2.24-2.183-3.096-.45a.75.75 0 01-.564-.41L8 2.694v.001z\" fill-rule=\"evenodd\"></path>\n",
              "</svg><span class=\"d-inline\" data-view-component=\"true\">\n",
              "          Star\n",
              "</span>\n",
              "</a></div>\n",
              "</div>\n",
              "</div>\n",
              "<div class=\"py-4 border-bottom d-flex flex-justify-between\">\n",
              "<a class=\"no-underline flex-grow-0\" href=\"/topics/compiler\">\n",
              "<div class=\"color-bg-accent f4 color-fg-muted text-bold rounded mr-3 flex-shrink-0 text-center\" style=\"width:64px; height:64px; line-height:64px;\">\n",
              "            #\n",
              "          </div>\n",
              "</a>\n",
              "<a class=\"no-underline flex-1 d-flex flex-column\" href=\"/topics/compiler\">\n",
              "<p class=\"f3 lh-condensed mb-0 mt-1 Link--primary\">Compiler</p>\n",
              "<p class=\"f5 color-fg-muted mb-0 mt-1\">\n",
              "          Compilers are software that translate higher-level programming languages to lower-level languages (e.g. machine code).\n",
              "        </p>\n",
              "</a>\n",
              "<div class=\"flex-grow-0\">\n",
              "<div class=\"d-block\" data-view-component=\"true\">\n",
              "<a aria-label=\"You must be signed in to star a repository\" class=\"tooltipped tooltipped-s btn-sm btn\" data-hydro-click='{\"event_type\":\"authentication.click\",\"payload\":{\"location_in_page\":\"star button\",\"repository_id\":null,\"auth_type\":\"LOG_IN\",\"originating_url\":\"https://github.com/topics\",\"user_id\":null}}' data-hydro-click-hmac=\"5d696759683aa72e09fbdb14a69b26ab1c672e6d107e4ae922a0926f4476f50a\" data-view-component=\"true\" href=\"/login?return_to=%2Ftopic.compiler\" rel=\"nofollow\"> <svg aria-hidden=\"true\" class=\"octicon octicon-star v-align-text-bottom d-inline-block mr-2\" data-view-component=\"true\" height=\"16\" version=\"1.1\" viewbox=\"0 0 16 16\" width=\"16\">\n",
              "<path d=\"M8 .25a.75.75 0 01.673.418l1.882 3.815 4.21.612a.75.75 0 01.416 1.279l-3.046 2.97.719 4.192a.75.75 0 01-1.088.791L8 12.347l-3.766 1.98a.75.75 0 01-1.088-.79l.72-4.194L.818 6.374a.75.75 0 01.416-1.28l4.21-.611L7.327.668A.75.75 0 018 .25zm0 2.445L6.615 5.5a.75.75 0 01-.564.41l-3.097.45 2.24 2.184a.75.75 0 01.216.664l-.528 3.084 2.769-1.456a.75.75 0 01.698 0l2.77 1.456-.53-3.084a.75.75 0 01.216-.664l2.24-2.183-3.096-.45a.75.75 0 01-.564-.41L8 2.694v.001z\" fill-rule=\"evenodd\"></path>\n",
              "</svg><span class=\"d-inline\" data-view-component=\"true\">\n",
              "          Star\n",
              "</span>\n",
              "</a></div>\n",
              "</div>\n",
              "</div>\n",
              "<div class=\"py-4 border-bottom d-flex flex-justify-between\">\n",
              "<a class=\"no-underline flex-grow-0\" href=\"/topics/continuous-integration\">\n",
              "<div class=\"color-bg-accent f4 color-fg-muted text-bold rounded mr-3 flex-shrink-0 text-center\" style=\"width:64px; height:64px; line-height:64px;\">\n",
              "            #\n",
              "          </div>\n",
              "</a>\n",
              "<a class=\"no-underline flex-1 d-flex flex-column\" href=\"/topics/continuous-integration\">\n",
              "<p class=\"f3 lh-condensed mb-0 mt-1 Link--primary\">Continuous integration</p>\n",
              "<p class=\"f5 color-fg-muted mb-0 mt-1\">\n",
              "          Automatically build and test your code as you push it upstream, preventing bugs from being deployed to production.\n",
              "        </p>\n",
              "</a>\n",
              "<div class=\"flex-grow-0\">\n",
              "<div class=\"d-block\" data-view-component=\"true\">\n",
              "<a aria-label=\"You must be signed in to star a repository\" class=\"tooltipped tooltipped-s btn-sm btn\" data-hydro-click='{\"event_type\":\"authentication.click\",\"payload\":{\"location_in_page\":\"star button\",\"repository_id\":null,\"auth_type\":\"LOG_IN\",\"originating_url\":\"https://github.com/topics\",\"user_id\":null}}' data-hydro-click-hmac=\"5d696759683aa72e09fbdb14a69b26ab1c672e6d107e4ae922a0926f4476f50a\" data-view-component=\"true\" href=\"/login?return_to=%2Ftopic.continuous-integration\" rel=\"nofollow\"> <svg aria-hidden=\"true\" class=\"octicon octicon-star v-align-text-bottom d-inline-block mr-2\" data-view-component=\"true\" height=\"16\" version=\"1.1\" viewbox=\"0 0 16 16\" width=\"16\">\n",
              "<path d=\"M8 .25a.75.75 0 01.673.418l1.882 3.815 4.21.612a.75.75 0 01.416 1.279l-3.046 2.97.719 4.192a.75.75 0 01-1.088.791L8 12.347l-3.766 1.98a.75.75 0 01-1.088-.79l.72-4.194L.818 6.374a.75.75 0 01.416-1.28l4.21-.611L7.327.668A.75.75 0 018 .25zm0 2.445L6.615 5.5a.75.75 0 01-.564.41l-3.097.45 2.24 2.184a.75.75 0 01.216.664l-.528 3.084 2.769-1.456a.75.75 0 01.698 0l2.77 1.456-.53-3.084a.75.75 0 01.216-.664l2.24-2.183-3.096-.45a.75.75 0 01-.564-.41L8 2.694v.001z\" fill-rule=\"evenodd\"></path>\n",
              "</svg><span class=\"d-inline\" data-view-component=\"true\">\n",
              "          Star\n",
              "</span>\n",
              "</a></div>\n",
              "</div>\n",
              "</div>\n",
              "<div class=\"py-4 border-bottom d-flex flex-justify-between\">\n",
              "<a class=\"no-underline flex-grow-0\" href=\"/topics/covid-19\">\n",
              "<img alt=\"covid-19\" class=\"rounded mr-3\" height=\"64\" src=\"https://raw.githubusercontent.com/github/explore/af16e074f93c080d7b283815787283cab0e9414b/topics/covid-19/covid-19.png\" width=\"64\"/>\n",
              "</a>\n",
              "<a class=\"no-underline flex-1 d-flex flex-column\" href=\"/topics/covid-19\">\n",
              "<p class=\"f3 lh-condensed mb-0 mt-1 Link--primary\">COVID-19</p>\n",
              "<p class=\"f5 color-fg-muted mb-0 mt-1\">\n",
              "          The coronavirus disease 2019 (COVID-19) is an infectious disease caused by SARS-CoV-2.\n",
              "        </p>\n",
              "</a>\n",
              "<div class=\"flex-grow-0\">\n",
              "<div class=\"d-block\" data-view-component=\"true\">\n",
              "<a aria-label=\"You must be signed in to star a repository\" class=\"tooltipped tooltipped-s btn-sm btn\" data-hydro-click='{\"event_type\":\"authentication.click\",\"payload\":{\"location_in_page\":\"star button\",\"repository_id\":null,\"auth_type\":\"LOG_IN\",\"originating_url\":\"https://github.com/topics\",\"user_id\":null}}' data-hydro-click-hmac=\"5d696759683aa72e09fbdb14a69b26ab1c672e6d107e4ae922a0926f4476f50a\" data-view-component=\"true\" href=\"/login?return_to=%2Ftopic.covid-19\" rel=\"nofollow\"> <svg aria-hidden=\"true\" class=\"octicon octicon-star v-align-text-bottom d-inline-block mr-2\" data-view-component=\"true\" height=\"16\" version=\"1.1\" viewbox=\"0 0 16 16\" width=\"16\">\n",
              "<path d=\"M8 .25a.75.75 0 01.673.418l1.882 3.815 4.21.612a.75.75 0 01.416 1.279l-3.046 2.97.719 4.192a.75.75 0 01-1.088.791L8 12.347l-3.766 1.98a.75.75 0 01-1.088-.79l.72-4.194L.818 6.374a.75.75 0 01.416-1.28l4.21-.611L7.327.668A.75.75 0 018 .25zm0 2.445L6.615 5.5a.75.75 0 01-.564.41l-3.097.45 2.24 2.184a.75.75 0 01.216.664l-.528 3.084 2.769-1.456a.75.75 0 01.698 0l2.77 1.456-.53-3.084a.75.75 0 01.216-.664l2.24-2.183-3.096-.45a.75.75 0 01-.564-.41L8 2.694v.001z\" fill-rule=\"evenodd\"></path>\n",
              "</svg><span class=\"d-inline\" data-view-component=\"true\">\n",
              "          Star\n",
              "</span>\n",
              "</a></div>\n",
              "</div>\n",
              "</div>\n",
              "<div class=\"py-4 border-bottom d-flex flex-justify-between\">\n",
              "<a class=\"no-underline flex-grow-0\" href=\"/topics/cpp\">\n",
              "<img alt=\"cpp\" class=\"rounded mr-3\" height=\"64\" src=\"https://raw.githubusercontent.com/github/explore/180320cffc25f4ed1bbdfd33d4db3a66eeeeb358/topics/cpp/cpp.png\" width=\"64\"/>\n",
              "</a>\n",
              "<a class=\"no-underline flex-1 d-flex flex-column\" href=\"/topics/cpp\">\n",
              "<p class=\"f3 lh-condensed mb-0 mt-1 Link--primary\">C++</p>\n",
              "<p class=\"f5 color-fg-muted mb-0 mt-1\">\n",
              "          C++ is a general purpose and object-oriented programming language.\n",
              "        </p>\n",
              "</a>\n",
              "<div class=\"flex-grow-0\">\n",
              "<div class=\"d-block\" data-view-component=\"true\">\n",
              "<a aria-label=\"You must be signed in to star a repository\" class=\"tooltipped tooltipped-s btn-sm btn\" data-hydro-click='{\"event_type\":\"authentication.click\",\"payload\":{\"location_in_page\":\"star button\",\"repository_id\":null,\"auth_type\":\"LOG_IN\",\"originating_url\":\"https://github.com/topics\",\"user_id\":null}}' data-hydro-click-hmac=\"5d696759683aa72e09fbdb14a69b26ab1c672e6d107e4ae922a0926f4476f50a\" data-view-component=\"true\" href=\"/login?return_to=%2Ftopic.cpp\" rel=\"nofollow\"> <svg aria-hidden=\"true\" class=\"octicon octicon-star v-align-text-bottom d-inline-block mr-2\" data-view-component=\"true\" height=\"16\" version=\"1.1\" viewbox=\"0 0 16 16\" width=\"16\">\n",
              "<path d=\"M8 .25a.75.75 0 01.673.418l1.882 3.815 4.21.612a.75.75 0 01.416 1.279l-3.046 2.97.719 4.192a.75.75 0 01-1.088.791L8 12.347l-3.766 1.98a.75.75 0 01-1.088-.79l.72-4.194L.818 6.374a.75.75 0 01.416-1.28l4.21-.611L7.327.668A.75.75 0 018 .25zm0 2.445L6.615 5.5a.75.75 0 01-.564.41l-3.097.45 2.24 2.184a.75.75 0 01.216.664l-.528 3.084 2.769-1.456a.75.75 0 01.698 0l2.77 1.456-.53-3.084a.75.75 0 01.216-.664l2.24-2.183-3.096-.45a.75.75 0 01-.564-.41L8 2.694v.001z\" fill-rule=\"evenodd\"></path>\n",
              "</svg><span class=\"d-inline\" data-view-component=\"true\">\n",
              "          Star\n",
              "</span>\n",
              "</a></div>\n",
              "</div>\n",
              "</div>\n",
              "</div>\n",
              "<!-- '\"` --><!-- </textarea></xmp> --><form accept-charset=\"UTF-8\" action=\"/topics\" class=\"ajax-pagination-form js-ajax-pagination\" data-turbo=\"false\" method=\"get\">\n",
              "<input name=\"page\" type=\"hidden\" value=\"2\"/>\n",
              "<button class=\"ajax-pagination-btn btn mt-4 py-2 btn-outline color-border-default f6 width-full\" data-disable-with=\"Loading more…\" type=\"submit\">\n",
              "      Load more…\n",
              "    </button>\n",
              "</form>\n",
              "</div>\n",
              "<div class=\"col-lg-3\">\n",
              "<h2 class=\"h4 mb-2\">Popular topics</h2>\n",
              "<ul class=\"col-sm-6 col-md-4 col-lg-12 list-style-none flex-wrap\">\n",
              "<li class=\"d-inline-block\">\n",
              "<a class=\"topic-tag topic-tag-link f6 my-1\" data-ga-click=\"Topics, go to react, location:popular topics\" data-view-component=\"true\" href=\"/topics/react\" title=\"Topic: react\">\n",
              "  react\n",
              "</a>\n",
              "</li>\n",
              "<li class=\"d-inline-block\">\n",
              "<a class=\"topic-tag topic-tag-link f6 my-1\" data-ga-click=\"Topics, go to javascript, location:popular topics\" data-view-component=\"true\" href=\"/topics/javascript\" title=\"Topic: javascript\">\n",
              "  javascript\n",
              "</a>\n",
              "</li>\n",
              "<li class=\"d-inline-block\">\n",
              "<a class=\"topic-tag topic-tag-link f6 my-1\" data-ga-click=\"Topics, go to css, location:popular topics\" data-view-component=\"true\" href=\"/topics/css\" title=\"Topic: css\">\n",
              "  css\n",
              "</a>\n",
              "</li>\n",
              "<li class=\"d-inline-block\">\n",
              "<a class=\"topic-tag topic-tag-link f6 my-1\" data-ga-click=\"Topics, go to config, location:popular topics\" data-view-component=\"true\" href=\"/topics/config\" title=\"Topic: config\">\n",
              "  config\n",
              "</a>\n",
              "</li>\n",
              "<li class=\"d-inline-block\">\n",
              "<a class=\"topic-tag topic-tag-link f6 my-1\" data-ga-click=\"Topics, go to python, location:popular topics\" data-view-component=\"true\" href=\"/topics/python\" title=\"Topic: python\">\n",
              "  python\n",
              "</a>\n",
              "</li>\n",
              "<li class=\"d-inline-block\">\n",
              "<a class=\"topic-tag topic-tag-link f6 my-1\" data-ga-click=\"Topics, go to html, location:popular topics\" data-view-component=\"true\" href=\"/topics/html\" title=\"Topic: html\">\n",
              "  html\n",
              "</a>\n",
              "</li>\n",
              "<li class=\"d-inline-block\">\n",
              "<a class=\"topic-tag topic-tag-link f6 my-1\" data-ga-click=\"Topics, go to typescript, location:popular topics\" data-view-component=\"true\" href=\"/topics/typescript\" title=\"Topic: typescript\">\n",
              "  typescript\n",
              "</a>\n",
              "</li>\n",
              "<li class=\"d-inline-block\">\n",
              "<a class=\"topic-tag topic-tag-link f6 my-1\" data-ga-click=\"Topics, go to js, location:popular topics\" data-view-component=\"true\" href=\"/topics/js\" title=\"Topic: js\">\n",
              "  js\n",
              "</a>\n",
              "</li>\n",
              "<li class=\"d-inline-block\">\n",
              "<a class=\"topic-tag topic-tag-link f6 my-1\" data-ga-click=\"Topics, go to hacktoberfest, location:popular topics\" data-view-component=\"true\" href=\"/topics/hacktoberfest\" title=\"Topic: hacktoberfest\">\n",
              "  hacktoberfest\n",
              "</a>\n",
              "</li>\n",
              "<li class=\"d-inline-block\">\n",
              "<a class=\"topic-tag topic-tag-link f6 my-1\" data-ga-click=\"Topics, go to github-config, location:popular topics\" data-view-component=\"true\" href=\"/topics/github-config\" title=\"Topic: github-config\">\n",
              "  github-config\n",
              "</a>\n",
              "</li>\n",
              "</ul>\n",
              "</div>\n",
              "</div>\n",
              "</main>\n",
              "</div>\n",
              "<footer class=\"footer width-full container-lg p-responsive\">\n",
              "<h2 class=\"sr-only\">Footer</h2>\n",
              "<div class=\"position-relative d-flex flex-items-center pb-2 f6 color-fg-muted border-top color-border-muted flex-column-reverse flex-lg-row flex-wrap flex-lg-nowrap mt-6 pt-6\">\n",
              "<div class=\"list-style-none d-flex flex-wrap col-0 col-lg-2 flex-justify-start flex-lg-justify-between mb-2 mb-lg-0\">\n",
              "<div class=\"mt-2 mt-lg-0 d-flex flex-items-center\">\n",
              "<a aria-label=\"Homepage\" class=\"footer-octicon mr-2\" href=\"https://github.com\" title=\"GitHub\">\n",
              "<svg aria-hidden=\"true\" class=\"octicon octicon-mark-github\" data-view-component=\"true\" height=\"24\" version=\"1.1\" viewbox=\"0 0 16 16\" width=\"24\">\n",
              "<path d=\"M8 0C3.58 0 0 3.58 0 8c0 3.54 2.29 6.53 5.47 7.59.4.07.55-.17.55-.38 0-.19-.01-.82-.01-1.49-2.01.37-2.53-.49-2.69-.94-.09-.23-.48-.94-.82-1.13-.28-.15-.68-.52-.01-.53.63-.01 1.08.58 1.23.82.72 1.21 1.87.87 2.33.66.07-.52.28-.87.51-1.07-1.78-.2-3.64-.89-3.64-3.95 0-.87.31-1.59.82-2.15-.08-.2-.36-1.02.08-2.12 0 0 .67-.21 2.2.82.64-.18 1.32-.27 2-.27.68 0 1.36.09 2 .27 1.53-1.04 2.2-.82 2.2-.82.44 1.1.16 1.92.08 2.12.51.56.82 1.27.82 2.15 0 3.07-1.87 3.75-3.65 3.95.29.25.54.73.54 1.48 0 1.07-.01 1.93-.01 2.2 0 .21.15.46.55.38A8.013 8.013 0 0016 8c0-4.42-3.58-8-8-8z\" fill-rule=\"evenodd\"></path>\n",
              "</svg>\n",
              "</a> <span>\n",
              "        © 2022 GitHub, Inc.\n",
              "        </span>\n",
              "</div>\n",
              "</div>\n",
              "<nav aria-label=\"footer\" class=\"col-12 col-lg-8\">\n",
              "<h3 class=\"sr-only\" id=\"sr-footer-heading\">Footer navigation</h3>\n",
              "<ul aria-labelledby=\"sr-footer-heading\" class=\"list-style-none d-flex flex-wrap col-12 flex-justify-center flex-lg-justify-between mb-2 mb-lg-0\">\n",
              "<li class=\"mr-3 mr-lg-0\"><a data-analytics-event='{\"category\":\"Footer\",\"action\":\"go to terms\",\"label\":\"text:terms\"}' href=\"https://docs.github.com/en/github/site-policy/github-terms-of-service\">Terms</a></li>\n",
              "<li class=\"mr-3 mr-lg-0\"><a data-analytics-event='{\"category\":\"Footer\",\"action\":\"go to privacy\",\"label\":\"text:privacy\"}' href=\"https://docs.github.com/en/github/site-policy/github-privacy-statement\">Privacy</a></li>\n",
              "<li class=\"mr-3 mr-lg-0\"><a data-analytics-event='{\"category\":\"Footer\",\"action\":\"go to security\",\"label\":\"text:security\"}' href=\"https://github.com/security\">Security</a></li>\n",
              "<li class=\"mr-3 mr-lg-0\"><a data-analytics-event='{\"category\":\"Footer\",\"action\":\"go to status\",\"label\":\"text:status\"}' href=\"https://www.githubstatus.com/\">Status</a></li>\n",
              "<li class=\"mr-3 mr-lg-0\"><a data-ga-click=\"Footer, go to help, text:Docs\" href=\"https://docs.github.com\">Docs</a></li>\n",
              "<li class=\"mr-3 mr-lg-0\"><a data-analytics-event='{\"category\":\"Footer\",\"action\":\"go to contact\",\"label\":\"text:contact\"}' href=\"https://support.github.com?tags=dotcom-footer\">Contact GitHub</a></li>\n",
              "<li class=\"mr-3 mr-lg-0\"><a data-analytics-event='{\"category\":\"Footer\",\"action\":\"go to Pricing\",\"label\":\"text:Pricing\"}' href=\"https://github.com/pricing\">Pricing</a></li>\n",
              "<li class=\"mr-3 mr-lg-0\"><a data-analytics-event='{\"category\":\"Footer\",\"action\":\"go to api\",\"label\":\"text:api\"}' href=\"https://docs.github.com\">API</a></li>\n",
              "<li class=\"mr-3 mr-lg-0\"><a data-analytics-event='{\"category\":\"Footer\",\"action\":\"go to training\",\"label\":\"text:training\"}' href=\"https://services.github.com\">Training</a></li>\n",
              "<li class=\"mr-3 mr-lg-0\"><a data-analytics-event='{\"category\":\"Footer\",\"action\":\"go to blog\",\"label\":\"text:blog\"}' href=\"https://github.blog\">Blog</a></li>\n",
              "<li><a data-ga-click=\"Footer, go to about, text:about\" href=\"https://github.com/about\">About</a></li>\n",
              "</ul>\n",
              "</nav>\n",
              "</div>\n",
              "<div class=\"d-flex flex-justify-center pb-6\">\n",
              "<span class=\"f6 color-fg-muted\"></span>\n",
              "</div>\n",
              "</footer>\n",
              "<div class=\"ajax-error-message flash flash-error\" hidden=\"\" id=\"ajax-error-message\">\n",
              "<svg aria-hidden=\"true\" class=\"octicon octicon-alert\" data-view-component=\"true\" height=\"16\" version=\"1.1\" viewbox=\"0 0 16 16\" width=\"16\">\n",
              "<path d=\"M8.22 1.754a.25.25 0 00-.44 0L1.698 13.132a.25.25 0 00.22.368h12.164a.25.25 0 00.22-.368L8.22 1.754zm-1.763-.707c.659-1.234 2.427-1.234 3.086 0l6.082 11.378A1.75 1.75 0 0114.082 15H1.918a1.75 1.75 0 01-1.543-2.575L6.457 1.047zM9 11a1 1 0 11-2 0 1 1 0 012 0zm-.25-5.25a.75.75 0 00-1.5 0v2.5a.75.75 0 001.5 0v-2.5z\" fill-rule=\"evenodd\"></path>\n",
              "</svg>\n",
              "<button aria-label=\"Dismiss error\" class=\"flash-close js-ajax-error-dismiss\" type=\"button\">\n",
              "<svg aria-hidden=\"true\" class=\"octicon octicon-x\" data-view-component=\"true\" height=\"16\" version=\"1.1\" viewbox=\"0 0 16 16\" width=\"16\">\n",
              "<path d=\"M3.72 3.72a.75.75 0 011.06 0L8 6.94l3.22-3.22a.75.75 0 111.06 1.06L9.06 8l3.22 3.22a.75.75 0 11-1.06 1.06L8 9.06l-3.22 3.22a.75.75 0 01-1.06-1.06L6.94 8 3.72 4.78a.75.75 0 010-1.06z\" fill-rule=\"evenodd\"></path>\n",
              "</svg>\n",
              "</button>\n",
              "    You can’t perform that action at this time.\n",
              "  </div>\n",
              "<div class=\"js-stale-session-flash flash flash-warn flash-banner\" hidden=\"\">\n",
              "<svg aria-hidden=\"true\" class=\"octicon octicon-alert\" data-view-component=\"true\" height=\"16\" version=\"1.1\" viewbox=\"0 0 16 16\" width=\"16\">\n",
              "<path d=\"M8.22 1.754a.25.25 0 00-.44 0L1.698 13.132a.25.25 0 00.22.368h12.164a.25.25 0 00.22-.368L8.22 1.754zm-1.763-.707c.659-1.234 2.427-1.234 3.086 0l6.082 11.378A1.75 1.75 0 0114.082 15H1.918a1.75 1.75 0 01-1.543-2.575L6.457 1.047zM9 11a1 1 0 11-2 0 1 1 0 012 0zm-.25-5.25a.75.75 0 00-1.5 0v2.5a.75.75 0 001.5 0v-2.5z\" fill-rule=\"evenodd\"></path>\n",
              "</svg>\n",
              "<span class=\"js-stale-session-flash-signed-in\" hidden=\"\">You signed in with another tab or window. <a href=\"\">Reload</a> to refresh your session.</span>\n",
              "<span class=\"js-stale-session-flash-signed-out\" hidden=\"\">You signed out in another tab or window. <a href=\"\">Reload</a> to refresh your session.</span>\n",
              "</div>\n",
              "<template id=\"site-details-dialog\">\n",
              "<details class=\"details-reset details-overlay details-overlay-dark lh-default color-fg-default hx_rsm\" open=\"\">\n",
              "<summary aria-label=\"Close dialog\" role=\"button\"></summary>\n",
              "<details-dialog class=\"Box Box--overlay d-flex flex-column anim-fade-in fast hx_rsm-dialog hx_rsm-modal\">\n",
              "<button aria-label=\"Close dialog\" class=\"Box-btn-octicon m-0 btn-octicon position-absolute right-0 top-0\" data-close-dialog=\"\" type=\"button\">\n",
              "<svg aria-hidden=\"true\" class=\"octicon octicon-x\" data-view-component=\"true\" height=\"16\" version=\"1.1\" viewbox=\"0 0 16 16\" width=\"16\">\n",
              "<path d=\"M3.72 3.72a.75.75 0 011.06 0L8 6.94l3.22-3.22a.75.75 0 111.06 1.06L9.06 8l3.22 3.22a.75.75 0 11-1.06 1.06L8 9.06l-3.22 3.22a.75.75 0 01-1.06-1.06L6.94 8 3.72 4.78a.75.75 0 010-1.06z\" fill-rule=\"evenodd\"></path>\n",
              "</svg>\n",
              "</button>\n",
              "<div class=\"octocat-spinner my-6 js-details-dialog-spinner\"></div>\n",
              "</details-dialog>\n",
              "</details>\n",
              "</template>\n",
              "<div class=\"Popover js-hovercard-content position-absolute\" style=\"display: none; outline: none;\" tabindex=\"0\">\n",
              "<div class=\"Popover-message Popover-message--bottom-left Popover-message--large Box color-shadow-large\" style=\"width:360px;\">\n",
              "</div>\n",
              "</div>\n",
              "<template id=\"snippet-clipboard-copy-button\">\n",
              "<div class=\"zeroclipboard-container position-absolute right-0 top-0\">\n",
              "<clipboard-copy aria-label=\"Copy\" class=\"ClipboardButton btn js-clipboard-copy m-2 p-0 tooltipped-no-delay\" data-copy-feedback=\"Copied!\" data-tooltip-direction=\"w\">\n",
              "<svg aria-hidden=\"true\" class=\"octicon octicon-copy js-clipboard-copy-icon m-2\" data-view-component=\"true\" height=\"16\" version=\"1.1\" viewbox=\"0 0 16 16\" width=\"16\">\n",
              "<path d=\"M0 6.75C0 5.784.784 5 1.75 5h1.5a.75.75 0 010 1.5h-1.5a.25.25 0 00-.25.25v7.5c0 .138.112.25.25.25h7.5a.25.25 0 00.25-.25v-1.5a.75.75 0 011.5 0v1.5A1.75 1.75 0 019.25 16h-7.5A1.75 1.75 0 010 14.25v-7.5z\" fill-rule=\"evenodd\"></path><path d=\"M5 1.75C5 .784 5.784 0 6.75 0h7.5C15.216 0 16 .784 16 1.75v7.5A1.75 1.75 0 0114.25 11h-7.5A1.75 1.75 0 015 9.25v-7.5zm1.75-.25a.25.25 0 00-.25.25v7.5c0 .138.112.25.25.25h7.5a.25.25 0 00.25-.25v-7.5a.25.25 0 00-.25-.25h-7.5z\" fill-rule=\"evenodd\"></path>\n",
              "</svg>\n",
              "<svg aria-hidden=\"true\" class=\"octicon octicon-check js-clipboard-check-icon color-fg-success d-none m-2\" data-view-component=\"true\" height=\"16\" version=\"1.1\" viewbox=\"0 0 16 16\" width=\"16\">\n",
              "<path d=\"M13.78 4.22a.75.75 0 010 1.06l-7.25 7.25a.75.75 0 01-1.06 0L2.22 9.28a.75.75 0 011.06-1.06L6 10.94l6.72-6.72a.75.75 0 011.06 0z\" fill-rule=\"evenodd\"></path>\n",
              "</svg>\n",
              "</clipboard-copy>\n",
              "</div>\n",
              "</template>\n",
              "</body>\n",
              "</html>"
            ]
          },
          "metadata": {},
          "execution_count": 14
        }
      ]
    },
    {
      "cell_type": "code",
      "source": [
        "selection_class = 'f3 lh-condensed mb-0 mt-1 Link--primary'\n",
        "topic_title_tags = doc.find_all('p', class_ = selection_class)"
      ],
      "metadata": {
        "id": "oJJkpFMNq8fw"
      },
      "execution_count": 17,
      "outputs": []
    },
    {
      "cell_type": "code",
      "source": [
        "len(topic_title_tags)"
      ],
      "metadata": {
        "colab": {
          "base_uri": "https://localhost:8080/"
        },
        "id": "DrZ860KzkVzz",
        "outputId": "6a15082a-6941-4ecb-9561-bea4eee2123b"
      },
      "execution_count": 18,
      "outputs": [
        {
          "output_type": "execute_result",
          "data": {
            "text/plain": [
              "30"
            ]
          },
          "metadata": {},
          "execution_count": 18
        }
      ]
    },
    {
      "cell_type": "code",
      "source": [
        "topic_title_tags[:5]"
      ],
      "metadata": {
        "colab": {
          "base_uri": "https://localhost:8080/"
        },
        "id": "oy6_hRs3rhxM",
        "outputId": "7fb4f356-de1f-4c6b-9b3d-bba1e9a06259"
      },
      "execution_count": 19,
      "outputs": [
        {
          "output_type": "execute_result",
          "data": {
            "text/plain": [
              "[<p class=\"f3 lh-condensed mb-0 mt-1 Link--primary\">3D</p>,\n",
              " <p class=\"f3 lh-condensed mb-0 mt-1 Link--primary\">Ajax</p>,\n",
              " <p class=\"f3 lh-condensed mb-0 mt-1 Link--primary\">Algorithm</p>,\n",
              " <p class=\"f3 lh-condensed mb-0 mt-1 Link--primary\">Amp</p>,\n",
              " <p class=\"f3 lh-condensed mb-0 mt-1 Link--primary\">Android</p>]"
            ]
          },
          "metadata": {},
          "execution_count": 19
        }
      ]
    },
    {
      "cell_type": "code",
      "source": [
        "desc_selector = 'f5 color-fg-muted mb-0 mt-1'\n",
        "topic_desc_tags = doc.find_all('p', class_=desc_selector)\n"
      ],
      "metadata": {
        "id": "7gBHUXGMwI-D"
      },
      "execution_count": 20,
      "outputs": []
    },
    {
      "cell_type": "code",
      "source": [
        "len(topic_desc_tags)"
      ],
      "metadata": {
        "colab": {
          "base_uri": "https://localhost:8080/"
        },
        "id": "nN28qGh7xE-l",
        "outputId": "9f0c4d23-be51-46ee-9252-c1f0f9c84e5c"
      },
      "execution_count": 21,
      "outputs": [
        {
          "output_type": "execute_result",
          "data": {
            "text/plain": [
              "30"
            ]
          },
          "metadata": {},
          "execution_count": 21
        }
      ]
    },
    {
      "cell_type": "code",
      "source": [
        "topic_desc_tags[:5]"
      ],
      "metadata": {
        "colab": {
          "base_uri": "https://localhost:8080/"
        },
        "id": "Ym8ZVqfHxI17",
        "outputId": "7e150d09-b7f0-454b-abdf-c6da256a1769"
      },
      "execution_count": 22,
      "outputs": [
        {
          "output_type": "execute_result",
          "data": {
            "text/plain": [
              "[<p class=\"f5 color-fg-muted mb-0 mt-1\">\n",
              "           3D modeling is the process of virtually developing the surface and structure of a 3D object.\n",
              "         </p>, <p class=\"f5 color-fg-muted mb-0 mt-1\">\n",
              "           Ajax is a technique for creating interactive web applications.\n",
              "         </p>, <p class=\"f5 color-fg-muted mb-0 mt-1\">\n",
              "           Algorithms are self-contained sequences that carry out a variety of tasks.\n",
              "         </p>, <p class=\"f5 color-fg-muted mb-0 mt-1\">\n",
              "           Amp is a non-blocking concurrency library for PHP.\n",
              "         </p>, <p class=\"f5 color-fg-muted mb-0 mt-1\">\n",
              "           Android is an operating system built by Google designed for mobile devices.\n",
              "         </p>]"
            ]
          },
          "metadata": {},
          "execution_count": 22
        }
      ]
    },
    {
      "cell_type": "code",
      "source": [
        "topic_link_tags = doc.find_all('a', 'no-underline flex-1 d-flex flex-column' )\n",
        "len(topic_link_tags)\n"
      ],
      "metadata": {
        "colab": {
          "base_uri": "https://localhost:8080/"
        },
        "id": "-jkdXgp1xwEU",
        "outputId": "121f2d4d-9059-4f36-e57c-b6e1fdb513c0"
      },
      "execution_count": 23,
      "outputs": [
        {
          "output_type": "execute_result",
          "data": {
            "text/plain": [
              "30"
            ]
          },
          "metadata": {},
          "execution_count": 23
        }
      ]
    },
    {
      "cell_type": "code",
      "source": [
        "topic_link_tags[0]['href']"
      ],
      "metadata": {
        "colab": {
          "base_uri": "https://localhost:8080/",
          "height": 36
        },
        "id": "DLloR4q50N1D",
        "outputId": "0d5c5797-95a4-446c-d001-dbf2c8426b90"
      },
      "execution_count": 24,
      "outputs": [
        {
          "output_type": "execute_result",
          "data": {
            "text/plain": [
              "'/topics/3d'"
            ],
            "application/vnd.google.colaboratory.intrinsic+json": {
              "type": "string"
            }
          },
          "metadata": {},
          "execution_count": 24
        }
      ]
    },
    {
      "cell_type": "code",
      "source": [
        "topic0_url = 'https://github.com'+ topic_link_tags[0]['href']\n",
        "topic0_url"
      ],
      "metadata": {
        "colab": {
          "base_uri": "https://localhost:8080/",
          "height": 36
        },
        "id": "9fnlJxEm0nRV",
        "outputId": "7729020d-4b41-44b9-e9ab-316445f33d15"
      },
      "execution_count": 25,
      "outputs": [
        {
          "output_type": "execute_result",
          "data": {
            "text/plain": [
              "'https://github.com/topics/3d'"
            ],
            "application/vnd.google.colaboratory.intrinsic+json": {
              "type": "string"
            }
          },
          "metadata": {},
          "execution_count": 25
        }
      ]
    },
    {
      "cell_type": "code",
      "source": [
        "topic_titles =[]\n",
        "\n",
        "for tag in topic_title_tags:\n",
        "  topic_titles.append(tag.text)\n",
        "topic_titles"
      ],
      "metadata": {
        "colab": {
          "base_uri": "https://localhost:8080/"
        },
        "id": "MkPbDqNb1OiY",
        "outputId": "99fc5ede-f3ee-4c9d-dbd4-3920c0b22fc1"
      },
      "execution_count": 26,
      "outputs": [
        {
          "output_type": "execute_result",
          "data": {
            "text/plain": [
              "['3D',\n",
              " 'Ajax',\n",
              " 'Algorithm',\n",
              " 'Amp',\n",
              " 'Android',\n",
              " 'Angular',\n",
              " 'Ansible',\n",
              " 'API',\n",
              " 'Arduino',\n",
              " 'ASP.NET',\n",
              " 'Atom',\n",
              " 'Awesome Lists',\n",
              " 'Amazon Web Services',\n",
              " 'Azure',\n",
              " 'Babel',\n",
              " 'Bash',\n",
              " 'Bitcoin',\n",
              " 'Bootstrap',\n",
              " 'Bot',\n",
              " 'C',\n",
              " 'Chrome',\n",
              " 'Chrome extension',\n",
              " 'Command line interface',\n",
              " 'Clojure',\n",
              " 'Code quality',\n",
              " 'Code review',\n",
              " 'Compiler',\n",
              " 'Continuous integration',\n",
              " 'COVID-19',\n",
              " 'C++']"
            ]
          },
          "metadata": {},
          "execution_count": 26
        }
      ]
    },
    {
      "cell_type": "code",
      "source": [
        "topic_descriptions = []\n",
        "\n",
        "for tag in topic_desc_tags:\n",
        "  topic_descriptions.append(tag.text.strip())\n",
        "topic_descriptions[:5]"
      ],
      "metadata": {
        "colab": {
          "base_uri": "https://localhost:8080/"
        },
        "id": "2pyM2WBA1pek",
        "outputId": "4c8cdd53-cb5d-4f92-f7c7-e97b5af138c5"
      },
      "execution_count": 27,
      "outputs": [
        {
          "output_type": "execute_result",
          "data": {
            "text/plain": [
              "['3D modeling is the process of virtually developing the surface and structure of a 3D object.',\n",
              " 'Ajax is a technique for creating interactive web applications.',\n",
              " 'Algorithms are self-contained sequences that carry out a variety of tasks.',\n",
              " 'Amp is a non-blocking concurrency library for PHP.',\n",
              " 'Android is an operating system built by Google designed for mobile devices.']"
            ]
          },
          "metadata": {},
          "execution_count": 27
        }
      ]
    },
    {
      "cell_type": "code",
      "source": [
        "topic_urls =[]\n",
        "base_url = 'https://github.com'\n",
        "\n",
        "for tag in topic_link_tags:\n",
        "  topic_urls.append(base_url + tag['href'])\n",
        "topic_urls"
      ],
      "metadata": {
        "colab": {
          "base_uri": "https://localhost:8080/"
        },
        "id": "8Bl9oC3X2X8w",
        "outputId": "fa17d2d2-38c6-47ed-a64b-711a57481029"
      },
      "execution_count": 28,
      "outputs": [
        {
          "output_type": "execute_result",
          "data": {
            "text/plain": [
              "['https://github.com/topics/3d',\n",
              " 'https://github.com/topics/ajax',\n",
              " 'https://github.com/topics/algorithm',\n",
              " 'https://github.com/topics/amphp',\n",
              " 'https://github.com/topics/android',\n",
              " 'https://github.com/topics/angular',\n",
              " 'https://github.com/topics/ansible',\n",
              " 'https://github.com/topics/api',\n",
              " 'https://github.com/topics/arduino',\n",
              " 'https://github.com/topics/aspnet',\n",
              " 'https://github.com/topics/atom',\n",
              " 'https://github.com/topics/awesome',\n",
              " 'https://github.com/topics/aws',\n",
              " 'https://github.com/topics/azure',\n",
              " 'https://github.com/topics/babel',\n",
              " 'https://github.com/topics/bash',\n",
              " 'https://github.com/topics/bitcoin',\n",
              " 'https://github.com/topics/bootstrap',\n",
              " 'https://github.com/topics/bot',\n",
              " 'https://github.com/topics/c',\n",
              " 'https://github.com/topics/chrome',\n",
              " 'https://github.com/topics/chrome-extension',\n",
              " 'https://github.com/topics/cli',\n",
              " 'https://github.com/topics/clojure',\n",
              " 'https://github.com/topics/code-quality',\n",
              " 'https://github.com/topics/code-review',\n",
              " 'https://github.com/topics/compiler',\n",
              " 'https://github.com/topics/continuous-integration',\n",
              " 'https://github.com/topics/covid-19',\n",
              " 'https://github.com/topics/cpp']"
            ]
          },
          "metadata": {},
          "execution_count": 28
        }
      ]
    },
    {
      "cell_type": "code",
      "source": [
        "import pandas as pd\n"
      ],
      "metadata": {
        "id": "0Tn476ja53VO"
      },
      "execution_count": 29,
      "outputs": []
    },
    {
      "cell_type": "code",
      "source": [
        "topics_dict = {\n",
        "    'title': topic_titles, 'description': topic_descriptions, 'url': topic_urls\n",
        "    }"
      ],
      "metadata": {
        "id": "3VXIRJfP6Zep"
      },
      "execution_count": 30,
      "outputs": []
    },
    {
      "cell_type": "code",
      "source": [
        "topics_df = pd.DataFrame(topics_dict)\n",
        "topics_df"
      ],
      "metadata": {
        "colab": {
          "base_uri": "https://localhost:8080/",
          "height": 990
        },
        "id": "yKT4Yhkt568a",
        "outputId": "f29ca160-fc1e-4b8a-ed48-4bbfd455d429"
      },
      "execution_count": 31,
      "outputs": [
        {
          "output_type": "execute_result",
          "data": {
            "text/plain": [
              "                     title                                        description  \\\n",
              "0                       3D  3D modeling is the process of virtually develo...   \n",
              "1                     Ajax  Ajax is a technique for creating interactive w...   \n",
              "2                Algorithm  Algorithms are self-contained sequences that c...   \n",
              "3                      Amp  Amp is a non-blocking concurrency library for ...   \n",
              "4                  Android  Android is an operating system built by Google...   \n",
              "5                  Angular  Angular is an open source web application plat...   \n",
              "6                  Ansible  Ansible is a simple and powerful automation en...   \n",
              "7                      API  An API (Application Programming Interface) is ...   \n",
              "8                  Arduino  Arduino is an open source hardware and softwar...   \n",
              "9                  ASP.NET  ASP.NET is a web framework for building modern...   \n",
              "10                    Atom  Atom is a open source text editor built with w...   \n",
              "11           Awesome Lists  An awesome list is a list of awesome things cu...   \n",
              "12     Amazon Web Services  Amazon Web Services provides on-demand cloud c...   \n",
              "13                   Azure  Azure is a cloud computing service created by ...   \n",
              "14                   Babel  Babel is a compiler for writing next generatio...   \n",
              "15                    Bash  Bash is a shell and command language interpret...   \n",
              "16                 Bitcoin  Bitcoin is a cryptocurrency developed by Satos...   \n",
              "17               Bootstrap  Bootstrap is an HTML, CSS, and JavaScript fram...   \n",
              "18                     Bot  A bot is an application that runs automated ta...   \n",
              "19                       C  C is a general purpose programming language th...   \n",
              "20                  Chrome  Chrome is a web browser from the tech company ...   \n",
              "21        Chrome extension  Chrome extensions enable users to customize th...   \n",
              "22  Command line interface  A CLI, or command-line interface, is a console...   \n",
              "23                 Clojure  Clojure is a dynamic, general-purpose programm...   \n",
              "24            Code quality  Automate your code review with style, quality,...   \n",
              "25             Code review  Ensure your code meets quality standards and s...   \n",
              "26                Compiler  Compilers are software that translate higher-l...   \n",
              "27  Continuous integration  Automatically build and test your code as you ...   \n",
              "28                COVID-19  The coronavirus disease 2019 (COVID-19) is an ...   \n",
              "29                     C++  C++ is a general purpose and object-oriented p...   \n",
              "\n",
              "                                                 url  \n",
              "0                       https://github.com/topics/3d  \n",
              "1                     https://github.com/topics/ajax  \n",
              "2                https://github.com/topics/algorithm  \n",
              "3                    https://github.com/topics/amphp  \n",
              "4                  https://github.com/topics/android  \n",
              "5                  https://github.com/topics/angular  \n",
              "6                  https://github.com/topics/ansible  \n",
              "7                      https://github.com/topics/api  \n",
              "8                  https://github.com/topics/arduino  \n",
              "9                   https://github.com/topics/aspnet  \n",
              "10                    https://github.com/topics/atom  \n",
              "11                 https://github.com/topics/awesome  \n",
              "12                     https://github.com/topics/aws  \n",
              "13                   https://github.com/topics/azure  \n",
              "14                   https://github.com/topics/babel  \n",
              "15                    https://github.com/topics/bash  \n",
              "16                 https://github.com/topics/bitcoin  \n",
              "17               https://github.com/topics/bootstrap  \n",
              "18                     https://github.com/topics/bot  \n",
              "19                       https://github.com/topics/c  \n",
              "20                  https://github.com/topics/chrome  \n",
              "21        https://github.com/topics/chrome-extension  \n",
              "22                     https://github.com/topics/cli  \n",
              "23                 https://github.com/topics/clojure  \n",
              "24            https://github.com/topics/code-quality  \n",
              "25             https://github.com/topics/code-review  \n",
              "26                https://github.com/topics/compiler  \n",
              "27  https://github.com/topics/continuous-integration  \n",
              "28                https://github.com/topics/covid-19  \n",
              "29                     https://github.com/topics/cpp  "
            ],
            "text/html": [
              "\n",
              "  <div id=\"df-1be022ca-09bc-423b-8fde-b9386137081d\">\n",
              "    <div class=\"colab-df-container\">\n",
              "      <div>\n",
              "<style scoped>\n",
              "    .dataframe tbody tr th:only-of-type {\n",
              "        vertical-align: middle;\n",
              "    }\n",
              "\n",
              "    .dataframe tbody tr th {\n",
              "        vertical-align: top;\n",
              "    }\n",
              "\n",
              "    .dataframe thead th {\n",
              "        text-align: right;\n",
              "    }\n",
              "</style>\n",
              "<table border=\"1\" class=\"dataframe\">\n",
              "  <thead>\n",
              "    <tr style=\"text-align: right;\">\n",
              "      <th></th>\n",
              "      <th>title</th>\n",
              "      <th>description</th>\n",
              "      <th>url</th>\n",
              "    </tr>\n",
              "  </thead>\n",
              "  <tbody>\n",
              "    <tr>\n",
              "      <th>0</th>\n",
              "      <td>3D</td>\n",
              "      <td>3D modeling is the process of virtually develo...</td>\n",
              "      <td>https://github.com/topics/3d</td>\n",
              "    </tr>\n",
              "    <tr>\n",
              "      <th>1</th>\n",
              "      <td>Ajax</td>\n",
              "      <td>Ajax is a technique for creating interactive w...</td>\n",
              "      <td>https://github.com/topics/ajax</td>\n",
              "    </tr>\n",
              "    <tr>\n",
              "      <th>2</th>\n",
              "      <td>Algorithm</td>\n",
              "      <td>Algorithms are self-contained sequences that c...</td>\n",
              "      <td>https://github.com/topics/algorithm</td>\n",
              "    </tr>\n",
              "    <tr>\n",
              "      <th>3</th>\n",
              "      <td>Amp</td>\n",
              "      <td>Amp is a non-blocking concurrency library for ...</td>\n",
              "      <td>https://github.com/topics/amphp</td>\n",
              "    </tr>\n",
              "    <tr>\n",
              "      <th>4</th>\n",
              "      <td>Android</td>\n",
              "      <td>Android is an operating system built by Google...</td>\n",
              "      <td>https://github.com/topics/android</td>\n",
              "    </tr>\n",
              "    <tr>\n",
              "      <th>5</th>\n",
              "      <td>Angular</td>\n",
              "      <td>Angular is an open source web application plat...</td>\n",
              "      <td>https://github.com/topics/angular</td>\n",
              "    </tr>\n",
              "    <tr>\n",
              "      <th>6</th>\n",
              "      <td>Ansible</td>\n",
              "      <td>Ansible is a simple and powerful automation en...</td>\n",
              "      <td>https://github.com/topics/ansible</td>\n",
              "    </tr>\n",
              "    <tr>\n",
              "      <th>7</th>\n",
              "      <td>API</td>\n",
              "      <td>An API (Application Programming Interface) is ...</td>\n",
              "      <td>https://github.com/topics/api</td>\n",
              "    </tr>\n",
              "    <tr>\n",
              "      <th>8</th>\n",
              "      <td>Arduino</td>\n",
              "      <td>Arduino is an open source hardware and softwar...</td>\n",
              "      <td>https://github.com/topics/arduino</td>\n",
              "    </tr>\n",
              "    <tr>\n",
              "      <th>9</th>\n",
              "      <td>ASP.NET</td>\n",
              "      <td>ASP.NET is a web framework for building modern...</td>\n",
              "      <td>https://github.com/topics/aspnet</td>\n",
              "    </tr>\n",
              "    <tr>\n",
              "      <th>10</th>\n",
              "      <td>Atom</td>\n",
              "      <td>Atom is a open source text editor built with w...</td>\n",
              "      <td>https://github.com/topics/atom</td>\n",
              "    </tr>\n",
              "    <tr>\n",
              "      <th>11</th>\n",
              "      <td>Awesome Lists</td>\n",
              "      <td>An awesome list is a list of awesome things cu...</td>\n",
              "      <td>https://github.com/topics/awesome</td>\n",
              "    </tr>\n",
              "    <tr>\n",
              "      <th>12</th>\n",
              "      <td>Amazon Web Services</td>\n",
              "      <td>Amazon Web Services provides on-demand cloud c...</td>\n",
              "      <td>https://github.com/topics/aws</td>\n",
              "    </tr>\n",
              "    <tr>\n",
              "      <th>13</th>\n",
              "      <td>Azure</td>\n",
              "      <td>Azure is a cloud computing service created by ...</td>\n",
              "      <td>https://github.com/topics/azure</td>\n",
              "    </tr>\n",
              "    <tr>\n",
              "      <th>14</th>\n",
              "      <td>Babel</td>\n",
              "      <td>Babel is a compiler for writing next generatio...</td>\n",
              "      <td>https://github.com/topics/babel</td>\n",
              "    </tr>\n",
              "    <tr>\n",
              "      <th>15</th>\n",
              "      <td>Bash</td>\n",
              "      <td>Bash is a shell and command language interpret...</td>\n",
              "      <td>https://github.com/topics/bash</td>\n",
              "    </tr>\n",
              "    <tr>\n",
              "      <th>16</th>\n",
              "      <td>Bitcoin</td>\n",
              "      <td>Bitcoin is a cryptocurrency developed by Satos...</td>\n",
              "      <td>https://github.com/topics/bitcoin</td>\n",
              "    </tr>\n",
              "    <tr>\n",
              "      <th>17</th>\n",
              "      <td>Bootstrap</td>\n",
              "      <td>Bootstrap is an HTML, CSS, and JavaScript fram...</td>\n",
              "      <td>https://github.com/topics/bootstrap</td>\n",
              "    </tr>\n",
              "    <tr>\n",
              "      <th>18</th>\n",
              "      <td>Bot</td>\n",
              "      <td>A bot is an application that runs automated ta...</td>\n",
              "      <td>https://github.com/topics/bot</td>\n",
              "    </tr>\n",
              "    <tr>\n",
              "      <th>19</th>\n",
              "      <td>C</td>\n",
              "      <td>C is a general purpose programming language th...</td>\n",
              "      <td>https://github.com/topics/c</td>\n",
              "    </tr>\n",
              "    <tr>\n",
              "      <th>20</th>\n",
              "      <td>Chrome</td>\n",
              "      <td>Chrome is a web browser from the tech company ...</td>\n",
              "      <td>https://github.com/topics/chrome</td>\n",
              "    </tr>\n",
              "    <tr>\n",
              "      <th>21</th>\n",
              "      <td>Chrome extension</td>\n",
              "      <td>Chrome extensions enable users to customize th...</td>\n",
              "      <td>https://github.com/topics/chrome-extension</td>\n",
              "    </tr>\n",
              "    <tr>\n",
              "      <th>22</th>\n",
              "      <td>Command line interface</td>\n",
              "      <td>A CLI, or command-line interface, is a console...</td>\n",
              "      <td>https://github.com/topics/cli</td>\n",
              "    </tr>\n",
              "    <tr>\n",
              "      <th>23</th>\n",
              "      <td>Clojure</td>\n",
              "      <td>Clojure is a dynamic, general-purpose programm...</td>\n",
              "      <td>https://github.com/topics/clojure</td>\n",
              "    </tr>\n",
              "    <tr>\n",
              "      <th>24</th>\n",
              "      <td>Code quality</td>\n",
              "      <td>Automate your code review with style, quality,...</td>\n",
              "      <td>https://github.com/topics/code-quality</td>\n",
              "    </tr>\n",
              "    <tr>\n",
              "      <th>25</th>\n",
              "      <td>Code review</td>\n",
              "      <td>Ensure your code meets quality standards and s...</td>\n",
              "      <td>https://github.com/topics/code-review</td>\n",
              "    </tr>\n",
              "    <tr>\n",
              "      <th>26</th>\n",
              "      <td>Compiler</td>\n",
              "      <td>Compilers are software that translate higher-l...</td>\n",
              "      <td>https://github.com/topics/compiler</td>\n",
              "    </tr>\n",
              "    <tr>\n",
              "      <th>27</th>\n",
              "      <td>Continuous integration</td>\n",
              "      <td>Automatically build and test your code as you ...</td>\n",
              "      <td>https://github.com/topics/continuous-integration</td>\n",
              "    </tr>\n",
              "    <tr>\n",
              "      <th>28</th>\n",
              "      <td>COVID-19</td>\n",
              "      <td>The coronavirus disease 2019 (COVID-19) is an ...</td>\n",
              "      <td>https://github.com/topics/covid-19</td>\n",
              "    </tr>\n",
              "    <tr>\n",
              "      <th>29</th>\n",
              "      <td>C++</td>\n",
              "      <td>C++ is a general purpose and object-oriented p...</td>\n",
              "      <td>https://github.com/topics/cpp</td>\n",
              "    </tr>\n",
              "  </tbody>\n",
              "</table>\n",
              "</div>\n",
              "      <button class=\"colab-df-convert\" onclick=\"convertToInteractive('df-1be022ca-09bc-423b-8fde-b9386137081d')\"\n",
              "              title=\"Convert this dataframe to an interactive table.\"\n",
              "              style=\"display:none;\">\n",
              "        \n",
              "  <svg xmlns=\"http://www.w3.org/2000/svg\" height=\"24px\"viewBox=\"0 0 24 24\"\n",
              "       width=\"24px\">\n",
              "    <path d=\"M0 0h24v24H0V0z\" fill=\"none\"/>\n",
              "    <path d=\"M18.56 5.44l.94 2.06.94-2.06 2.06-.94-2.06-.94-.94-2.06-.94 2.06-2.06.94zm-11 1L8.5 8.5l.94-2.06 2.06-.94-2.06-.94L8.5 2.5l-.94 2.06-2.06.94zm10 10l.94 2.06.94-2.06 2.06-.94-2.06-.94-.94-2.06-.94 2.06-2.06.94z\"/><path d=\"M17.41 7.96l-1.37-1.37c-.4-.4-.92-.59-1.43-.59-.52 0-1.04.2-1.43.59L10.3 9.45l-7.72 7.72c-.78.78-.78 2.05 0 2.83L4 21.41c.39.39.9.59 1.41.59.51 0 1.02-.2 1.41-.59l7.78-7.78 2.81-2.81c.8-.78.8-2.07 0-2.86zM5.41 20L4 18.59l7.72-7.72 1.47 1.35L5.41 20z\"/>\n",
              "  </svg>\n",
              "      </button>\n",
              "      \n",
              "  <style>\n",
              "    .colab-df-container {\n",
              "      display:flex;\n",
              "      flex-wrap:wrap;\n",
              "      gap: 12px;\n",
              "    }\n",
              "\n",
              "    .colab-df-convert {\n",
              "      background-color: #E8F0FE;\n",
              "      border: none;\n",
              "      border-radius: 50%;\n",
              "      cursor: pointer;\n",
              "      display: none;\n",
              "      fill: #1967D2;\n",
              "      height: 32px;\n",
              "      padding: 0 0 0 0;\n",
              "      width: 32px;\n",
              "    }\n",
              "\n",
              "    .colab-df-convert:hover {\n",
              "      background-color: #E2EBFA;\n",
              "      box-shadow: 0px 1px 2px rgba(60, 64, 67, 0.3), 0px 1px 3px 1px rgba(60, 64, 67, 0.15);\n",
              "      fill: #174EA6;\n",
              "    }\n",
              "\n",
              "    [theme=dark] .colab-df-convert {\n",
              "      background-color: #3B4455;\n",
              "      fill: #D2E3FC;\n",
              "    }\n",
              "\n",
              "    [theme=dark] .colab-df-convert:hover {\n",
              "      background-color: #434B5C;\n",
              "      box-shadow: 0px 1px 3px 1px rgba(0, 0, 0, 0.15);\n",
              "      filter: drop-shadow(0px 1px 2px rgba(0, 0, 0, 0.3));\n",
              "      fill: #FFFFFF;\n",
              "    }\n",
              "  </style>\n",
              "\n",
              "      <script>\n",
              "        const buttonEl =\n",
              "          document.querySelector('#df-1be022ca-09bc-423b-8fde-b9386137081d button.colab-df-convert');\n",
              "        buttonEl.style.display =\n",
              "          google.colab.kernel.accessAllowed ? 'block' : 'none';\n",
              "\n",
              "        async function convertToInteractive(key) {\n",
              "          const element = document.querySelector('#df-1be022ca-09bc-423b-8fde-b9386137081d');\n",
              "          const dataTable =\n",
              "            await google.colab.kernel.invokeFunction('convertToInteractive',\n",
              "                                                     [key], {});\n",
              "          if (!dataTable) return;\n",
              "\n",
              "          const docLinkHtml = 'Like what you see? Visit the ' +\n",
              "            '<a target=\"_blank\" href=https://colab.research.google.com/notebooks/data_table.ipynb>data table notebook</a>'\n",
              "            + ' to learn more about interactive tables.';\n",
              "          element.innerHTML = '';\n",
              "          dataTable['output_type'] = 'display_data';\n",
              "          await google.colab.output.renderOutput(dataTable, element);\n",
              "          const docLink = document.createElement('div');\n",
              "          docLink.innerHTML = docLinkHtml;\n",
              "          element.appendChild(docLink);\n",
              "        }\n",
              "      </script>\n",
              "    </div>\n",
              "  </div>\n",
              "  "
            ]
          },
          "metadata": {},
          "execution_count": 31
        }
      ]
    },
    {
      "cell_type": "markdown",
      "source": [
        "##Create CSV file(s) with the extracted information\n",
        "* Create functions for the end-to-end process of downloading, parsing, and saving CSVs.\n",
        "* Execute the function with different inputs to create a dataset of CSV files.\n",
        "* Verify the information in the CSV files by reading them back using Pandas."
      ],
      "metadata": {
        "id": "eRCrPZkEYcnH"
      }
    },
    {
      "cell_type": "code",
      "source": [
        "topics_df.to_csv('githubtopics.csv', index=None)"
      ],
      "metadata": {
        "id": "AysQdD_YHfa_"
      },
      "execution_count": 32,
      "outputs": []
    },
    {
      "cell_type": "markdown",
      "source": [
        "##Getting information out of a topic page"
      ],
      "metadata": {
        "id": "uUATuSKnIWRq"
      }
    },
    {
      "cell_type": "code",
      "source": [
        "topic_page_urls = topic_urls[0]\n",
        "topic_page_urls"
      ],
      "metadata": {
        "colab": {
          "base_uri": "https://localhost:8080/",
          "height": 36
        },
        "id": "rcqROzGNIawb",
        "outputId": "0437b36c-bbf2-4d8b-ce23-33595033ad23"
      },
      "execution_count": 33,
      "outputs": [
        {
          "output_type": "execute_result",
          "data": {
            "text/plain": [
              "'https://github.com/topics/3d'"
            ],
            "application/vnd.google.colaboratory.intrinsic+json": {
              "type": "string"
            }
          },
          "metadata": {},
          "execution_count": 33
        }
      ]
    },
    {
      "cell_type": "code",
      "source": [
        "response = requests.get(topic_page_urls)"
      ],
      "metadata": {
        "id": "IQi8zWQpIwbi"
      },
      "execution_count": 34,
      "outputs": []
    },
    {
      "cell_type": "code",
      "source": [
        "response.status_code"
      ],
      "metadata": {
        "colab": {
          "base_uri": "https://localhost:8080/"
        },
        "id": "QEWl7AFCI4r6",
        "outputId": "d93b0cf2-7238-434a-fd4a-cc3263397763"
      },
      "execution_count": 35,
      "outputs": [
        {
          "output_type": "execute_result",
          "data": {
            "text/plain": [
              "200"
            ]
          },
          "metadata": {},
          "execution_count": 35
        }
      ]
    },
    {
      "cell_type": "code",
      "source": [
        "len(response.text)"
      ],
      "metadata": {
        "colab": {
          "base_uri": "https://localhost:8080/"
        },
        "id": "dTmdibuiI-D0",
        "outputId": "22516b58-c81c-4f93-eb88-4eadf5a47353"
      },
      "execution_count": 36,
      "outputs": [
        {
          "output_type": "execute_result",
          "data": {
            "text/plain": [
              "450021"
            ]
          },
          "metadata": {},
          "execution_count": 36
        }
      ]
    },
    {
      "cell_type": "code",
      "source": [
        "topic_doc = BeautifulSoup(response.text, 'html.parser')"
      ],
      "metadata": {
        "id": "g0yJea96JJbi"
      },
      "execution_count": 37,
      "outputs": []
    },
    {
      "cell_type": "code",
      "source": [
        "repo_tags = topic_doc.find_all('h3', class_='f3 color-fg-muted text-normal lh-condensed')"
      ],
      "metadata": {
        "id": "QRl4FZQNJkvI"
      },
      "execution_count": 38,
      "outputs": []
    },
    {
      "cell_type": "code",
      "source": [
        "len(repo_tags)\n"
      ],
      "metadata": {
        "colab": {
          "base_uri": "https://localhost:8080/"
        },
        "id": "NtNI3g6OKU2v",
        "outputId": "8650323b-c378-4ee4-ed9a-d438ed9c98b0"
      },
      "execution_count": 39,
      "outputs": [
        {
          "output_type": "execute_result",
          "data": {
            "text/plain": [
              "20"
            ]
          },
          "metadata": {},
          "execution_count": 39
        }
      ]
    },
    {
      "cell_type": "code",
      "source": [
        "a_tags = repo_tags[0].find_all('a')\n",
        "a_tags"
      ],
      "metadata": {
        "colab": {
          "base_uri": "https://localhost:8080/"
        },
        "id": "o-O_uMYZK7ss",
        "outputId": "9bdd1aa4-3452-48d6-9f3f-b88ad5577a98"
      },
      "execution_count": 40,
      "outputs": [
        {
          "output_type": "execute_result",
          "data": {
            "text/plain": [
              "[<a data-hydro-click='{\"event_type\":\"explore.click\",\"payload\":{\"click_context\":\"REPOSITORY_CARD\",\"click_target\":\"OWNER\",\"click_visual_representation\":\"REPOSITORY_OWNER_HEADING\",\"actor_id\":null,\"record_id\":97088,\"originating_url\":\"https://github.com/topics/3d\",\"user_id\":null}}' data-hydro-click-hmac=\"4bdbc49d3c05ae7f70b531fbce709a384200b0768554e0172950286a8db30940\" data-turbo=\"false\" data-view-component=\"true\" href=\"/mrdoob\">\n",
              "             mrdoob\n",
              " </a>,\n",
              " <a class=\"text-bold wb-break-word\" data-hydro-click='{\"event_type\":\"explore.click\",\"payload\":{\"click_context\":\"REPOSITORY_CARD\",\"click_target\":\"REPOSITORY\",\"click_visual_representation\":\"REPOSITORY_NAME_HEADING\",\"actor_id\":null,\"record_id\":576201,\"originating_url\":\"https://github.com/topics/3d\",\"user_id\":null}}' data-hydro-click-hmac=\"517d3d5cb9d89752156923904a4238816bc9b51ab7772f3e3644ce897d8dd4e5\" data-turbo=\"false\" data-view-component=\"true\" href=\"/mrdoob/three.js\">\n",
              "             three.js\n",
              " </a>]"
            ]
          },
          "metadata": {},
          "execution_count": 40
        }
      ]
    },
    {
      "cell_type": "code",
      "source": [
        "a_tags[0].text.strip()"
      ],
      "metadata": {
        "colab": {
          "base_uri": "https://localhost:8080/",
          "height": 36
        },
        "id": "JDt8M1ykLjIy",
        "outputId": "d764ccfd-cd72-4458-8918-5af0750b3d2c"
      },
      "execution_count": 41,
      "outputs": [
        {
          "output_type": "execute_result",
          "data": {
            "text/plain": [
              "'mrdoob'"
            ],
            "application/vnd.google.colaboratory.intrinsic+json": {
              "type": "string"
            }
          },
          "metadata": {},
          "execution_count": 41
        }
      ]
    },
    {
      "cell_type": "code",
      "source": [
        "a_tags[1].text.strip"
      ],
      "metadata": {
        "colab": {
          "base_uri": "https://localhost:8080/"
        },
        "id": "bOp_o03vLvNV",
        "outputId": "8fe3f45e-0f7a-4064-d087-ea48855ec84e"
      },
      "execution_count": 42,
      "outputs": [
        {
          "output_type": "execute_result",
          "data": {
            "text/plain": [
              "<function str.strip(chars=None, /)>"
            ]
          },
          "metadata": {},
          "execution_count": 42
        }
      ]
    },
    {
      "cell_type": "code",
      "source": [
        "a_tags[1]['href']"
      ],
      "metadata": {
        "colab": {
          "base_uri": "https://localhost:8080/",
          "height": 36
        },
        "id": "UqI8eASpL74t",
        "outputId": "4872df31-aad9-448d-c4a7-50b69151cd50"
      },
      "execution_count": 43,
      "outputs": [
        {
          "output_type": "execute_result",
          "data": {
            "text/plain": [
              "'/mrdoob/three.js'"
            ],
            "application/vnd.google.colaboratory.intrinsic+json": {
              "type": "string"
            }
          },
          "metadata": {},
          "execution_count": 43
        }
      ]
    },
    {
      "cell_type": "code",
      "source": [
        "repo_url = base_url + a_tags[1]['href']\n",
        "repo_url"
      ],
      "metadata": {
        "colab": {
          "base_uri": "https://localhost:8080/",
          "height": 36
        },
        "id": "PmJ8xWzeMK6-",
        "outputId": "fa92e46f-1d86-41c8-9157-9423e3cb0afe"
      },
      "execution_count": 44,
      "outputs": [
        {
          "output_type": "execute_result",
          "data": {
            "text/plain": [
              "'https://github.com/mrdoob/three.js'"
            ],
            "application/vnd.google.colaboratory.intrinsic+json": {
              "type": "string"
            }
          },
          "metadata": {},
          "execution_count": 44
        }
      ]
    },
    {
      "cell_type": "code",
      "source": [
        "star_tags = topic_doc.find_all('span', class_= 'Counter js-social-count')\n",
        "len(star_tags)"
      ],
      "metadata": {
        "colab": {
          "base_uri": "https://localhost:8080/"
        },
        "id": "F2JitrAnNHo0",
        "outputId": "38dce84d-ae2f-4a73-d27e-89ffab4ee8ed"
      },
      "execution_count": 45,
      "outputs": [
        {
          "output_type": "execute_result",
          "data": {
            "text/plain": [
              "20"
            ]
          },
          "metadata": {},
          "execution_count": 45
        }
      ]
    },
    {
      "cell_type": "code",
      "source": [
        "star_tags[0].text.strip()"
      ],
      "metadata": {
        "colab": {
          "base_uri": "https://localhost:8080/",
          "height": 36
        },
        "id": "Hj1kRnZOOBUF",
        "outputId": "4a902fea-5d6f-471b-f8a0-9e56a5ebb95c"
      },
      "execution_count": 46,
      "outputs": [
        {
          "output_type": "execute_result",
          "data": {
            "text/plain": [
              "'86.1k'"
            ],
            "application/vnd.google.colaboratory.intrinsic+json": {
              "type": "string"
            }
          },
          "metadata": {},
          "execution_count": 46
        }
      ]
    },
    {
      "cell_type": "code",
      "source": [
        "def parse_star_count(stars_str):\n",
        "  stars_str = stars_str.strip()\n",
        "  if stars_str[-1] == 'k':\n",
        "    return int(float(stars_str[:-1]) * 1000)\n",
        "  return int(stars_str)\n",
        "\n",
        "parse_star_count(star_tags[0].text.strip())"
      ],
      "metadata": {
        "colab": {
          "base_uri": "https://localhost:8080/"
        },
        "id": "qVt1jL36O8Ee",
        "outputId": "2c7418ab-50c3-429c-a262-065b5175050b"
      },
      "execution_count": 47,
      "outputs": [
        {
          "output_type": "execute_result",
          "data": {
            "text/plain": [
              "86100"
            ]
          },
          "metadata": {},
          "execution_count": 47
        }
      ]
    },
    {
      "cell_type": "markdown",
      "source": [
        "##Document and share your work\n",
        "* Add proper headings and documentation in your Jupyter notebook.\n",
        "* Publish your Jupyter notebook to your Jovian profile\n",
        "* (Optional) Write a blog post about your project and share it online."
      ],
      "metadata": {
        "id": "ANMsH-SsYlPa"
      }
    }
  ]
}