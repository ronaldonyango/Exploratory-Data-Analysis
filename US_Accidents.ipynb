{
  "nbformat": 4,
  "nbformat_minor": 0,
  "metadata": {
    "colab": {
      "provenance": [],
      "collapsed_sections": [
        "tnEt7KdL1WuC",
        "xGptwjd62aAr",
        "eErs255mOBj7"
      ],
      "authorship_tag": "ABX9TyPKOItu3aLa7oEt2/JxxlSJ",
      "include_colab_link": true
    },
    "kernelspec": {
      "name": "python3",
      "display_name": "Python 3"
    },
    "language_info": {
      "name": "python"
    }
  },
  "cells": [
    {
      "cell_type": "markdown",
      "metadata": {
        "id": "view-in-github",
        "colab_type": "text"
      },
      "source": [
        "<a href=\"https://colab.research.google.com/github/ronaldoyw/Exploratory-Data-Analysis/blob/main/US_Accidents.ipynb\" target=\"_parent\"><img src=\"https://colab.research.google.com/assets/colab-badge.svg\" alt=\"Open In Colab\"/></a>"
      ]
    },
    {
      "cell_type": "markdown",
      "source": [
        "# US Accidents Exploratory Data Analysis\n",
        "\n",
        "*   Information on US Accidents\n",
        "*   Can be used to prevent accidents\n",
        "\n"
      ],
      "metadata": {
        "id": "kASC6qLu1KK4"
      }
    },
    {
      "cell_type": "markdown",
      "source": [
        "## Download the *Data*"
      ],
      "metadata": {
        "id": "tnEt7KdL1WuC"
      }
    },
    {
      "cell_type": "code",
      "source": [
        "!pip install opendatasets\n"
      ],
      "metadata": {
        "colab": {
          "base_uri": "https://localhost:8080/"
        },
        "id": "kJe89DVqe1OF",
        "outputId": "45541433-507a-4e3a-e494-019b81c6b6b2"
      },
      "execution_count": null,
      "outputs": [
        {
          "output_type": "stream",
          "name": "stdout",
          "text": [
            "Looking in indexes: https://pypi.org/simple, https://us-python.pkg.dev/colab-wheels/public/simple/\n",
            "Requirement already satisfied: opendatasets in /usr/local/lib/python3.7/dist-packages (0.1.22)\n",
            "Requirement already satisfied: tqdm in /usr/local/lib/python3.7/dist-packages (from opendatasets) (4.64.1)\n",
            "Requirement already satisfied: click in /usr/local/lib/python3.7/dist-packages (from opendatasets) (7.1.2)\n",
            "Requirement already satisfied: kaggle in /usr/local/lib/python3.7/dist-packages (from opendatasets) (1.5.12)\n",
            "Requirement already satisfied: requests in /usr/local/lib/python3.7/dist-packages (from kaggle->opendatasets) (2.23.0)\n",
            "Requirement already satisfied: certifi in /usr/local/lib/python3.7/dist-packages (from kaggle->opendatasets) (2022.6.15)\n",
            "Requirement already satisfied: python-dateutil in /usr/local/lib/python3.7/dist-packages (from kaggle->opendatasets) (2.8.2)\n",
            "Requirement already satisfied: six>=1.10 in /usr/local/lib/python3.7/dist-packages (from kaggle->opendatasets) (1.15.0)\n",
            "Requirement already satisfied: urllib3 in /usr/local/lib/python3.7/dist-packages (from kaggle->opendatasets) (1.24.3)\n",
            "Requirement already satisfied: python-slugify in /usr/local/lib/python3.7/dist-packages (from kaggle->opendatasets) (6.1.2)\n",
            "Requirement already satisfied: text-unidecode>=1.3 in /usr/local/lib/python3.7/dist-packages (from python-slugify->kaggle->opendatasets) (1.3)\n",
            "Requirement already satisfied: idna<3,>=2.5 in /usr/local/lib/python3.7/dist-packages (from requests->kaggle->opendatasets) (2.10)\n",
            "Requirement already satisfied: chardet<4,>=3.0.2 in /usr/local/lib/python3.7/dist-packages (from requests->kaggle->opendatasets) (3.0.4)\n"
          ]
        }
      ]
    },
    {
      "cell_type": "code",
      "source": [
        "import opendatasets as od\n",
        "\n",
        "download_url = 'https://www.kaggle.com/sobhanmoosavi/us-accidents'\n",
        "\n",
        "od.download(download_url)"
      ],
      "metadata": {
        "colab": {
          "base_uri": "https://localhost:8080/"
        },
        "id": "K9Erm-LrfArR",
        "outputId": "0e47825a-56fb-470b-af64-96faf409de12"
      },
      "execution_count": null,
      "outputs": [
        {
          "output_type": "stream",
          "name": "stdout",
          "text": [
            "Skipping, found downloaded files in \"./us-accidents\" (use force=True to force download)\n"
          ]
        }
      ]
    },
    {
      "cell_type": "markdown",
      "source": [
        "## Data preparation and cleaning\n",
        "\n",
        "\n",
        "\n",
        "*   Load the file using pandas\n",
        "*   Look at some information about the file\n",
        "*   Fix any missing or incorrent values \n",
        "\n",
        "\n",
        "\n",
        "\n"
      ],
      "metadata": {
        "id": "xGptwjd62aAr"
      }
    },
    {
      "cell_type": "code",
      "source": [
        "import pandas as pd\n",
        "\n",
        "df = pd.read_csv('/content/us-accidents/US_Accidents_Dec21_updated.csv')\n",
        "df.head()\n",
        "\n"
      ],
      "metadata": {
        "colab": {
          "base_uri": "https://localhost:8080/",
          "height": 508
        },
        "id": "BybjAS1xfSKk",
        "outputId": "ce4013cc-b152-43a0-e8ef-0288713a0d27"
      },
      "execution_count": null,
      "outputs": [
        {
          "output_type": "execute_result",
          "data": {
            "text/plain": [
              "    ID  Severity           Start_Time             End_Time  Start_Lat  \\\n",
              "0  A-1         3  2016-02-08 00:37:08  2016-02-08 06:37:08  40.108910   \n",
              "1  A-2         2  2016-02-08 05:56:20  2016-02-08 11:56:20  39.865420   \n",
              "2  A-3         2  2016-02-08 06:15:39  2016-02-08 12:15:39  39.102660   \n",
              "3  A-4         2  2016-02-08 06:51:45  2016-02-08 12:51:45  41.062130   \n",
              "4  A-5         3  2016-02-08 07:53:43  2016-02-08 13:53:43  39.172393   \n",
              "\n",
              "   Start_Lng    End_Lat    End_Lng  Distance(mi)  \\\n",
              "0 -83.092860  40.112060 -83.031870         3.230   \n",
              "1 -84.062800  39.865010 -84.048730         0.747   \n",
              "2 -84.524680  39.102090 -84.523960         0.055   \n",
              "3 -81.537840  41.062170 -81.535470         0.123   \n",
              "4 -84.492792  39.170476 -84.501798         0.500   \n",
              "\n",
              "                                         Description  ...  Roundabout Station  \\\n",
              "0  Between Sawmill Rd/Exit 20 and OH-315/Olentang...  ...       False   False   \n",
              "1                 At OH-4/OH-235/Exit 41 - Accident.  ...       False   False   \n",
              "2                   At I-71/US-50/Exit 1 - Accident.  ...       False   False   \n",
              "3                    At Dart Ave/Exit 21 - Accident.  ...       False   False   \n",
              "4                 At Mitchell Ave/Exit 6 - Accident.  ...       False   False   \n",
              "\n",
              "    Stop Traffic_Calming Traffic_Signal Turning_Loop Sunrise_Sunset  \\\n",
              "0  False           False          False        False          Night   \n",
              "1  False           False          False        False          Night   \n",
              "2  False           False          False        False          Night   \n",
              "3  False           False          False        False          Night   \n",
              "4  False           False          False        False            Day   \n",
              "\n",
              "  Civil_Twilight Nautical_Twilight Astronomical_Twilight  \n",
              "0          Night             Night                 Night  \n",
              "1          Night             Night                 Night  \n",
              "2          Night             Night                   Day  \n",
              "3          Night               Day                   Day  \n",
              "4            Day               Day                   Day  \n",
              "\n",
              "[5 rows x 47 columns]"
            ],
            "text/html": [
              "\n",
              "  <div id=\"df-e04829e7-9fb0-4bf6-9902-1f6232fb9019\">\n",
              "    <div class=\"colab-df-container\">\n",
              "      <div>\n",
              "<style scoped>\n",
              "    .dataframe tbody tr th:only-of-type {\n",
              "        vertical-align: middle;\n",
              "    }\n",
              "\n",
              "    .dataframe tbody tr th {\n",
              "        vertical-align: top;\n",
              "    }\n",
              "\n",
              "    .dataframe thead th {\n",
              "        text-align: right;\n",
              "    }\n",
              "</style>\n",
              "<table border=\"1\" class=\"dataframe\">\n",
              "  <thead>\n",
              "    <tr style=\"text-align: right;\">\n",
              "      <th></th>\n",
              "      <th>ID</th>\n",
              "      <th>Severity</th>\n",
              "      <th>Start_Time</th>\n",
              "      <th>End_Time</th>\n",
              "      <th>Start_Lat</th>\n",
              "      <th>Start_Lng</th>\n",
              "      <th>End_Lat</th>\n",
              "      <th>End_Lng</th>\n",
              "      <th>Distance(mi)</th>\n",
              "      <th>Description</th>\n",
              "      <th>...</th>\n",
              "      <th>Roundabout</th>\n",
              "      <th>Station</th>\n",
              "      <th>Stop</th>\n",
              "      <th>Traffic_Calming</th>\n",
              "      <th>Traffic_Signal</th>\n",
              "      <th>Turning_Loop</th>\n",
              "      <th>Sunrise_Sunset</th>\n",
              "      <th>Civil_Twilight</th>\n",
              "      <th>Nautical_Twilight</th>\n",
              "      <th>Astronomical_Twilight</th>\n",
              "    </tr>\n",
              "  </thead>\n",
              "  <tbody>\n",
              "    <tr>\n",
              "      <th>0</th>\n",
              "      <td>A-1</td>\n",
              "      <td>3</td>\n",
              "      <td>2016-02-08 00:37:08</td>\n",
              "      <td>2016-02-08 06:37:08</td>\n",
              "      <td>40.108910</td>\n",
              "      <td>-83.092860</td>\n",
              "      <td>40.112060</td>\n",
              "      <td>-83.031870</td>\n",
              "      <td>3.230</td>\n",
              "      <td>Between Sawmill Rd/Exit 20 and OH-315/Olentang...</td>\n",
              "      <td>...</td>\n",
              "      <td>False</td>\n",
              "      <td>False</td>\n",
              "      <td>False</td>\n",
              "      <td>False</td>\n",
              "      <td>False</td>\n",
              "      <td>False</td>\n",
              "      <td>Night</td>\n",
              "      <td>Night</td>\n",
              "      <td>Night</td>\n",
              "      <td>Night</td>\n",
              "    </tr>\n",
              "    <tr>\n",
              "      <th>1</th>\n",
              "      <td>A-2</td>\n",
              "      <td>2</td>\n",
              "      <td>2016-02-08 05:56:20</td>\n",
              "      <td>2016-02-08 11:56:20</td>\n",
              "      <td>39.865420</td>\n",
              "      <td>-84.062800</td>\n",
              "      <td>39.865010</td>\n",
              "      <td>-84.048730</td>\n",
              "      <td>0.747</td>\n",
              "      <td>At OH-4/OH-235/Exit 41 - Accident.</td>\n",
              "      <td>...</td>\n",
              "      <td>False</td>\n",
              "      <td>False</td>\n",
              "      <td>False</td>\n",
              "      <td>False</td>\n",
              "      <td>False</td>\n",
              "      <td>False</td>\n",
              "      <td>Night</td>\n",
              "      <td>Night</td>\n",
              "      <td>Night</td>\n",
              "      <td>Night</td>\n",
              "    </tr>\n",
              "    <tr>\n",
              "      <th>2</th>\n",
              "      <td>A-3</td>\n",
              "      <td>2</td>\n",
              "      <td>2016-02-08 06:15:39</td>\n",
              "      <td>2016-02-08 12:15:39</td>\n",
              "      <td>39.102660</td>\n",
              "      <td>-84.524680</td>\n",
              "      <td>39.102090</td>\n",
              "      <td>-84.523960</td>\n",
              "      <td>0.055</td>\n",
              "      <td>At I-71/US-50/Exit 1 - Accident.</td>\n",
              "      <td>...</td>\n",
              "      <td>False</td>\n",
              "      <td>False</td>\n",
              "      <td>False</td>\n",
              "      <td>False</td>\n",
              "      <td>False</td>\n",
              "      <td>False</td>\n",
              "      <td>Night</td>\n",
              "      <td>Night</td>\n",
              "      <td>Night</td>\n",
              "      <td>Day</td>\n",
              "    </tr>\n",
              "    <tr>\n",
              "      <th>3</th>\n",
              "      <td>A-4</td>\n",
              "      <td>2</td>\n",
              "      <td>2016-02-08 06:51:45</td>\n",
              "      <td>2016-02-08 12:51:45</td>\n",
              "      <td>41.062130</td>\n",
              "      <td>-81.537840</td>\n",
              "      <td>41.062170</td>\n",
              "      <td>-81.535470</td>\n",
              "      <td>0.123</td>\n",
              "      <td>At Dart Ave/Exit 21 - Accident.</td>\n",
              "      <td>...</td>\n",
              "      <td>False</td>\n",
              "      <td>False</td>\n",
              "      <td>False</td>\n",
              "      <td>False</td>\n",
              "      <td>False</td>\n",
              "      <td>False</td>\n",
              "      <td>Night</td>\n",
              "      <td>Night</td>\n",
              "      <td>Day</td>\n",
              "      <td>Day</td>\n",
              "    </tr>\n",
              "    <tr>\n",
              "      <th>4</th>\n",
              "      <td>A-5</td>\n",
              "      <td>3</td>\n",
              "      <td>2016-02-08 07:53:43</td>\n",
              "      <td>2016-02-08 13:53:43</td>\n",
              "      <td>39.172393</td>\n",
              "      <td>-84.492792</td>\n",
              "      <td>39.170476</td>\n",
              "      <td>-84.501798</td>\n",
              "      <td>0.500</td>\n",
              "      <td>At Mitchell Ave/Exit 6 - Accident.</td>\n",
              "      <td>...</td>\n",
              "      <td>False</td>\n",
              "      <td>False</td>\n",
              "      <td>False</td>\n",
              "      <td>False</td>\n",
              "      <td>False</td>\n",
              "      <td>False</td>\n",
              "      <td>Day</td>\n",
              "      <td>Day</td>\n",
              "      <td>Day</td>\n",
              "      <td>Day</td>\n",
              "    </tr>\n",
              "  </tbody>\n",
              "</table>\n",
              "<p>5 rows × 47 columns</p>\n",
              "</div>\n",
              "      <button class=\"colab-df-convert\" onclick=\"convertToInteractive('df-e04829e7-9fb0-4bf6-9902-1f6232fb9019')\"\n",
              "              title=\"Convert this dataframe to an interactive table.\"\n",
              "              style=\"display:none;\">\n",
              "        \n",
              "  <svg xmlns=\"http://www.w3.org/2000/svg\" height=\"24px\"viewBox=\"0 0 24 24\"\n",
              "       width=\"24px\">\n",
              "    <path d=\"M0 0h24v24H0V0z\" fill=\"none\"/>\n",
              "    <path d=\"M18.56 5.44l.94 2.06.94-2.06 2.06-.94-2.06-.94-.94-2.06-.94 2.06-2.06.94zm-11 1L8.5 8.5l.94-2.06 2.06-.94-2.06-.94L8.5 2.5l-.94 2.06-2.06.94zm10 10l.94 2.06.94-2.06 2.06-.94-2.06-.94-.94-2.06-.94 2.06-2.06.94z\"/><path d=\"M17.41 7.96l-1.37-1.37c-.4-.4-.92-.59-1.43-.59-.52 0-1.04.2-1.43.59L10.3 9.45l-7.72 7.72c-.78.78-.78 2.05 0 2.83L4 21.41c.39.39.9.59 1.41.59.51 0 1.02-.2 1.41-.59l7.78-7.78 2.81-2.81c.8-.78.8-2.07 0-2.86zM5.41 20L4 18.59l7.72-7.72 1.47 1.35L5.41 20z\"/>\n",
              "  </svg>\n",
              "      </button>\n",
              "      \n",
              "  <style>\n",
              "    .colab-df-container {\n",
              "      display:flex;\n",
              "      flex-wrap:wrap;\n",
              "      gap: 12px;\n",
              "    }\n",
              "\n",
              "    .colab-df-convert {\n",
              "      background-color: #E8F0FE;\n",
              "      border: none;\n",
              "      border-radius: 50%;\n",
              "      cursor: pointer;\n",
              "      display: none;\n",
              "      fill: #1967D2;\n",
              "      height: 32px;\n",
              "      padding: 0 0 0 0;\n",
              "      width: 32px;\n",
              "    }\n",
              "\n",
              "    .colab-df-convert:hover {\n",
              "      background-color: #E2EBFA;\n",
              "      box-shadow: 0px 1px 2px rgba(60, 64, 67, 0.3), 0px 1px 3px 1px rgba(60, 64, 67, 0.15);\n",
              "      fill: #174EA6;\n",
              "    }\n",
              "\n",
              "    [theme=dark] .colab-df-convert {\n",
              "      background-color: #3B4455;\n",
              "      fill: #D2E3FC;\n",
              "    }\n",
              "\n",
              "    [theme=dark] .colab-df-convert:hover {\n",
              "      background-color: #434B5C;\n",
              "      box-shadow: 0px 1px 3px 1px rgba(0, 0, 0, 0.15);\n",
              "      filter: drop-shadow(0px 1px 2px rgba(0, 0, 0, 0.3));\n",
              "      fill: #FFFFFF;\n",
              "    }\n",
              "  </style>\n",
              "\n",
              "      <script>\n",
              "        const buttonEl =\n",
              "          document.querySelector('#df-e04829e7-9fb0-4bf6-9902-1f6232fb9019 button.colab-df-convert');\n",
              "        buttonEl.style.display =\n",
              "          google.colab.kernel.accessAllowed ? 'block' : 'none';\n",
              "\n",
              "        async function convertToInteractive(key) {\n",
              "          const element = document.querySelector('#df-e04829e7-9fb0-4bf6-9902-1f6232fb9019');\n",
              "          const dataTable =\n",
              "            await google.colab.kernel.invokeFunction('convertToInteractive',\n",
              "                                                     [key], {});\n",
              "          if (!dataTable) return;\n",
              "\n",
              "          const docLinkHtml = 'Like what you see? Visit the ' +\n",
              "            '<a target=\"_blank\" href=https://colab.research.google.com/notebooks/data_table.ipynb>data table notebook</a>'\n",
              "            + ' to learn more about interactive tables.';\n",
              "          element.innerHTML = '';\n",
              "          dataTable['output_type'] = 'display_data';\n",
              "          await google.colab.output.renderOutput(dataTable, element);\n",
              "          const docLink = document.createElement('div');\n",
              "          docLink.innerHTML = docLinkHtml;\n",
              "          element.appendChild(docLink);\n",
              "        }\n",
              "      </script>\n",
              "    </div>\n",
              "  </div>\n",
              "  "
            ]
          },
          "metadata": {},
          "execution_count": 141
        }
      ]
    },
    {
      "cell_type": "code",
      "source": [
        "df.columns"
      ],
      "metadata": {
        "colab": {
          "base_uri": "https://localhost:8080/"
        },
        "id": "2u84dAFNgr8V",
        "outputId": "e7f1d372-4e5a-48e1-ba88-1802bc796c84"
      },
      "execution_count": null,
      "outputs": [
        {
          "output_type": "execute_result",
          "data": {
            "text/plain": [
              "Index(['ID', 'Severity', 'Start_Time', 'End_Time', 'Start_Lat', 'Start_Lng',\n",
              "       'End_Lat', 'End_Lng', 'Distance(mi)', 'Description', 'Number', 'Street',\n",
              "       'Side', 'City', 'County', 'State', 'Zipcode', 'Country', 'Timezone',\n",
              "       'Airport_Code', 'Weather_Timestamp', 'Temperature(F)', 'Wind_Chill(F)',\n",
              "       'Humidity(%)', 'Pressure(in)', 'Visibility(mi)', 'Wind_Direction',\n",
              "       'Wind_Speed(mph)', 'Precipitation(in)', 'Weather_Condition', 'Amenity',\n",
              "       'Bump', 'Crossing', 'Give_Way', 'Junction', 'No_Exit', 'Railway',\n",
              "       'Roundabout', 'Station', 'Stop', 'Traffic_Calming', 'Traffic_Signal',\n",
              "       'Turning_Loop', 'Sunrise_Sunset', 'Civil_Twilight', 'Nautical_Twilight',\n",
              "       'Astronomical_Twilight'],\n",
              "      dtype='object')"
            ]
          },
          "metadata": {},
          "execution_count": 142
        }
      ]
    },
    {
      "cell_type": "code",
      "source": [
        "df.City.unique()"
      ],
      "metadata": {
        "colab": {
          "base_uri": "https://localhost:8080/"
        },
        "id": "JT4PSozPhw0H",
        "outputId": "5a67ca70-6bef-4cda-a8f4-294ac8097465"
      },
      "execution_count": null,
      "outputs": [
        {
          "output_type": "execute_result",
          "data": {
            "text/plain": [
              "array(['Dublin', 'Dayton', 'Cincinnati', ..., 'Clarksdale', 'Bridgeboro',\n",
              "       'American Fork-Pleasant Grove'], dtype=object)"
            ]
          },
          "metadata": {},
          "execution_count": 143
        }
      ]
    },
    {
      "cell_type": "code",
      "source": [
        "df.info()"
      ],
      "metadata": {
        "colab": {
          "base_uri": "https://localhost:8080/"
        },
        "id": "WcFbkXPliGaQ",
        "outputId": "0b9775b1-e96d-45c4-9225-eb2ddf0c489b"
      },
      "execution_count": null,
      "outputs": [
        {
          "output_type": "stream",
          "name": "stdout",
          "text": [
            "<class 'pandas.core.frame.DataFrame'>\n",
            "RangeIndex: 2845342 entries, 0 to 2845341\n",
            "Data columns (total 47 columns):\n",
            " #   Column                 Dtype  \n",
            "---  ------                 -----  \n",
            " 0   ID                     object \n",
            " 1   Severity               int64  \n",
            " 2   Start_Time             object \n",
            " 3   End_Time               object \n",
            " 4   Start_Lat              float64\n",
            " 5   Start_Lng              float64\n",
            " 6   End_Lat                float64\n",
            " 7   End_Lng                float64\n",
            " 8   Distance(mi)           float64\n",
            " 9   Description            object \n",
            " 10  Number                 float64\n",
            " 11  Street                 object \n",
            " 12  Side                   object \n",
            " 13  City                   object \n",
            " 14  County                 object \n",
            " 15  State                  object \n",
            " 16  Zipcode                object \n",
            " 17  Country                object \n",
            " 18  Timezone               object \n",
            " 19  Airport_Code           object \n",
            " 20  Weather_Timestamp      object \n",
            " 21  Temperature(F)         float64\n",
            " 22  Wind_Chill(F)          float64\n",
            " 23  Humidity(%)            float64\n",
            " 24  Pressure(in)           float64\n",
            " 25  Visibility(mi)         float64\n",
            " 26  Wind_Direction         object \n",
            " 27  Wind_Speed(mph)        float64\n",
            " 28  Precipitation(in)      float64\n",
            " 29  Weather_Condition      object \n",
            " 30  Amenity                bool   \n",
            " 31  Bump                   bool   \n",
            " 32  Crossing               bool   \n",
            " 33  Give_Way               bool   \n",
            " 34  Junction               bool   \n",
            " 35  No_Exit                bool   \n",
            " 36  Railway                bool   \n",
            " 37  Roundabout             bool   \n",
            " 38  Station                bool   \n",
            " 39  Stop                   bool   \n",
            " 40  Traffic_Calming        bool   \n",
            " 41  Traffic_Signal         bool   \n",
            " 42  Turning_Loop           bool   \n",
            " 43  Sunrise_Sunset         object \n",
            " 44  Civil_Twilight         object \n",
            " 45  Nautical_Twilight      object \n",
            " 46  Astronomical_Twilight  object \n",
            "dtypes: bool(13), float64(13), int64(1), object(20)\n",
            "memory usage: 773.4+ MB\n"
          ]
        }
      ]
    },
    {
      "cell_type": "code",
      "source": [
        "df.describe()"
      ],
      "metadata": {
        "colab": {
          "base_uri": "https://localhost:8080/",
          "height": 364
        },
        "id": "sMTfYj15iZcQ",
        "outputId": "30368fb2-420e-45a0-96a1-f952263f6f50"
      },
      "execution_count": null,
      "outputs": [
        {
          "output_type": "execute_result",
          "data": {
            "text/plain": [
              "           Severity     Start_Lat     Start_Lng       End_Lat       End_Lng  \\\n",
              "count  2.845342e+06  2.845342e+06  2.845342e+06  2.845342e+06  2.845342e+06   \n",
              "mean   2.137572e+00  3.624520e+01 -9.711463e+01  3.624532e+01 -9.711439e+01   \n",
              "std    4.787216e-01  5.363797e+00  1.831782e+01  5.363873e+00  1.831763e+01   \n",
              "min    1.000000e+00  2.456603e+01 -1.245481e+02  2.456601e+01 -1.245457e+02   \n",
              "25%    2.000000e+00  3.344517e+01 -1.180331e+02  3.344628e+01 -1.180333e+02   \n",
              "50%    2.000000e+00  3.609861e+01 -9.241808e+01  3.609799e+01 -9.241772e+01   \n",
              "75%    2.000000e+00  4.016024e+01 -8.037243e+01  4.016105e+01 -8.037338e+01   \n",
              "max    4.000000e+00  4.900058e+01 -6.711317e+01  4.907500e+01 -6.710924e+01   \n",
              "\n",
              "       Distance(mi)        Number  Temperature(F)  Wind_Chill(F)  \\\n",
              "count  2.845342e+06  1.101431e+06    2.776068e+06   2.375699e+06   \n",
              "mean   7.026779e-01  8.089408e+03    6.179356e+01   5.965823e+01   \n",
              "std    1.560361e+00  1.836009e+04    1.862263e+01   2.116097e+01   \n",
              "min    0.000000e+00  0.000000e+00   -8.900000e+01  -8.900000e+01   \n",
              "25%    5.200000e-02  1.270000e+03    5.000000e+01   4.600000e+01   \n",
              "50%    2.440000e-01  4.007000e+03    6.400000e+01   6.300000e+01   \n",
              "75%    7.640000e-01  9.567000e+03    7.600000e+01   7.600000e+01   \n",
              "max    1.551860e+02  9.999997e+06    1.960000e+02   1.960000e+02   \n",
              "\n",
              "        Humidity(%)  Pressure(in)  Visibility(mi)  Wind_Speed(mph)  \\\n",
              "count  2.772250e+06  2.786142e+06    2.774796e+06     2.687398e+06   \n",
              "mean   6.436545e+01  2.947234e+01    9.099391e+00     7.395044e+00   \n",
              "std    2.287457e+01  1.045286e+00    2.717546e+00     5.527454e+00   \n",
              "min    1.000000e+00  0.000000e+00    0.000000e+00     0.000000e+00   \n",
              "25%    4.800000e+01  2.931000e+01    1.000000e+01     3.500000e+00   \n",
              "50%    6.700000e+01  2.982000e+01    1.000000e+01     7.000000e+00   \n",
              "75%    8.300000e+01  3.001000e+01    1.000000e+01     1.000000e+01   \n",
              "max    1.000000e+02  5.890000e+01    1.400000e+02     1.087000e+03   \n",
              "\n",
              "       Precipitation(in)  \n",
              "count       2.295884e+06  \n",
              "mean        7.016940e-03  \n",
              "std         9.348831e-02  \n",
              "min         0.000000e+00  \n",
              "25%         0.000000e+00  \n",
              "50%         0.000000e+00  \n",
              "75%         0.000000e+00  \n",
              "max         2.400000e+01  "
            ],
            "text/html": [
              "\n",
              "  <div id=\"df-1f995029-5570-4632-8ed4-eb6926986ec8\">\n",
              "    <div class=\"colab-df-container\">\n",
              "      <div>\n",
              "<style scoped>\n",
              "    .dataframe tbody tr th:only-of-type {\n",
              "        vertical-align: middle;\n",
              "    }\n",
              "\n",
              "    .dataframe tbody tr th {\n",
              "        vertical-align: top;\n",
              "    }\n",
              "\n",
              "    .dataframe thead th {\n",
              "        text-align: right;\n",
              "    }\n",
              "</style>\n",
              "<table border=\"1\" class=\"dataframe\">\n",
              "  <thead>\n",
              "    <tr style=\"text-align: right;\">\n",
              "      <th></th>\n",
              "      <th>Severity</th>\n",
              "      <th>Start_Lat</th>\n",
              "      <th>Start_Lng</th>\n",
              "      <th>End_Lat</th>\n",
              "      <th>End_Lng</th>\n",
              "      <th>Distance(mi)</th>\n",
              "      <th>Number</th>\n",
              "      <th>Temperature(F)</th>\n",
              "      <th>Wind_Chill(F)</th>\n",
              "      <th>Humidity(%)</th>\n",
              "      <th>Pressure(in)</th>\n",
              "      <th>Visibility(mi)</th>\n",
              "      <th>Wind_Speed(mph)</th>\n",
              "      <th>Precipitation(in)</th>\n",
              "    </tr>\n",
              "  </thead>\n",
              "  <tbody>\n",
              "    <tr>\n",
              "      <th>count</th>\n",
              "      <td>2.845342e+06</td>\n",
              "      <td>2.845342e+06</td>\n",
              "      <td>2.845342e+06</td>\n",
              "      <td>2.845342e+06</td>\n",
              "      <td>2.845342e+06</td>\n",
              "      <td>2.845342e+06</td>\n",
              "      <td>1.101431e+06</td>\n",
              "      <td>2.776068e+06</td>\n",
              "      <td>2.375699e+06</td>\n",
              "      <td>2.772250e+06</td>\n",
              "      <td>2.786142e+06</td>\n",
              "      <td>2.774796e+06</td>\n",
              "      <td>2.687398e+06</td>\n",
              "      <td>2.295884e+06</td>\n",
              "    </tr>\n",
              "    <tr>\n",
              "      <th>mean</th>\n",
              "      <td>2.137572e+00</td>\n",
              "      <td>3.624520e+01</td>\n",
              "      <td>-9.711463e+01</td>\n",
              "      <td>3.624532e+01</td>\n",
              "      <td>-9.711439e+01</td>\n",
              "      <td>7.026779e-01</td>\n",
              "      <td>8.089408e+03</td>\n",
              "      <td>6.179356e+01</td>\n",
              "      <td>5.965823e+01</td>\n",
              "      <td>6.436545e+01</td>\n",
              "      <td>2.947234e+01</td>\n",
              "      <td>9.099391e+00</td>\n",
              "      <td>7.395044e+00</td>\n",
              "      <td>7.016940e-03</td>\n",
              "    </tr>\n",
              "    <tr>\n",
              "      <th>std</th>\n",
              "      <td>4.787216e-01</td>\n",
              "      <td>5.363797e+00</td>\n",
              "      <td>1.831782e+01</td>\n",
              "      <td>5.363873e+00</td>\n",
              "      <td>1.831763e+01</td>\n",
              "      <td>1.560361e+00</td>\n",
              "      <td>1.836009e+04</td>\n",
              "      <td>1.862263e+01</td>\n",
              "      <td>2.116097e+01</td>\n",
              "      <td>2.287457e+01</td>\n",
              "      <td>1.045286e+00</td>\n",
              "      <td>2.717546e+00</td>\n",
              "      <td>5.527454e+00</td>\n",
              "      <td>9.348831e-02</td>\n",
              "    </tr>\n",
              "    <tr>\n",
              "      <th>min</th>\n",
              "      <td>1.000000e+00</td>\n",
              "      <td>2.456603e+01</td>\n",
              "      <td>-1.245481e+02</td>\n",
              "      <td>2.456601e+01</td>\n",
              "      <td>-1.245457e+02</td>\n",
              "      <td>0.000000e+00</td>\n",
              "      <td>0.000000e+00</td>\n",
              "      <td>-8.900000e+01</td>\n",
              "      <td>-8.900000e+01</td>\n",
              "      <td>1.000000e+00</td>\n",
              "      <td>0.000000e+00</td>\n",
              "      <td>0.000000e+00</td>\n",
              "      <td>0.000000e+00</td>\n",
              "      <td>0.000000e+00</td>\n",
              "    </tr>\n",
              "    <tr>\n",
              "      <th>25%</th>\n",
              "      <td>2.000000e+00</td>\n",
              "      <td>3.344517e+01</td>\n",
              "      <td>-1.180331e+02</td>\n",
              "      <td>3.344628e+01</td>\n",
              "      <td>-1.180333e+02</td>\n",
              "      <td>5.200000e-02</td>\n",
              "      <td>1.270000e+03</td>\n",
              "      <td>5.000000e+01</td>\n",
              "      <td>4.600000e+01</td>\n",
              "      <td>4.800000e+01</td>\n",
              "      <td>2.931000e+01</td>\n",
              "      <td>1.000000e+01</td>\n",
              "      <td>3.500000e+00</td>\n",
              "      <td>0.000000e+00</td>\n",
              "    </tr>\n",
              "    <tr>\n",
              "      <th>50%</th>\n",
              "      <td>2.000000e+00</td>\n",
              "      <td>3.609861e+01</td>\n",
              "      <td>-9.241808e+01</td>\n",
              "      <td>3.609799e+01</td>\n",
              "      <td>-9.241772e+01</td>\n",
              "      <td>2.440000e-01</td>\n",
              "      <td>4.007000e+03</td>\n",
              "      <td>6.400000e+01</td>\n",
              "      <td>6.300000e+01</td>\n",
              "      <td>6.700000e+01</td>\n",
              "      <td>2.982000e+01</td>\n",
              "      <td>1.000000e+01</td>\n",
              "      <td>7.000000e+00</td>\n",
              "      <td>0.000000e+00</td>\n",
              "    </tr>\n",
              "    <tr>\n",
              "      <th>75%</th>\n",
              "      <td>2.000000e+00</td>\n",
              "      <td>4.016024e+01</td>\n",
              "      <td>-8.037243e+01</td>\n",
              "      <td>4.016105e+01</td>\n",
              "      <td>-8.037338e+01</td>\n",
              "      <td>7.640000e-01</td>\n",
              "      <td>9.567000e+03</td>\n",
              "      <td>7.600000e+01</td>\n",
              "      <td>7.600000e+01</td>\n",
              "      <td>8.300000e+01</td>\n",
              "      <td>3.001000e+01</td>\n",
              "      <td>1.000000e+01</td>\n",
              "      <td>1.000000e+01</td>\n",
              "      <td>0.000000e+00</td>\n",
              "    </tr>\n",
              "    <tr>\n",
              "      <th>max</th>\n",
              "      <td>4.000000e+00</td>\n",
              "      <td>4.900058e+01</td>\n",
              "      <td>-6.711317e+01</td>\n",
              "      <td>4.907500e+01</td>\n",
              "      <td>-6.710924e+01</td>\n",
              "      <td>1.551860e+02</td>\n",
              "      <td>9.999997e+06</td>\n",
              "      <td>1.960000e+02</td>\n",
              "      <td>1.960000e+02</td>\n",
              "      <td>1.000000e+02</td>\n",
              "      <td>5.890000e+01</td>\n",
              "      <td>1.400000e+02</td>\n",
              "      <td>1.087000e+03</td>\n",
              "      <td>2.400000e+01</td>\n",
              "    </tr>\n",
              "  </tbody>\n",
              "</table>\n",
              "</div>\n",
              "      <button class=\"colab-df-convert\" onclick=\"convertToInteractive('df-1f995029-5570-4632-8ed4-eb6926986ec8')\"\n",
              "              title=\"Convert this dataframe to an interactive table.\"\n",
              "              style=\"display:none;\">\n",
              "        \n",
              "  <svg xmlns=\"http://www.w3.org/2000/svg\" height=\"24px\"viewBox=\"0 0 24 24\"\n",
              "       width=\"24px\">\n",
              "    <path d=\"M0 0h24v24H0V0z\" fill=\"none\"/>\n",
              "    <path d=\"M18.56 5.44l.94 2.06.94-2.06 2.06-.94-2.06-.94-.94-2.06-.94 2.06-2.06.94zm-11 1L8.5 8.5l.94-2.06 2.06-.94-2.06-.94L8.5 2.5l-.94 2.06-2.06.94zm10 10l.94 2.06.94-2.06 2.06-.94-2.06-.94-.94-2.06-.94 2.06-2.06.94z\"/><path d=\"M17.41 7.96l-1.37-1.37c-.4-.4-.92-.59-1.43-.59-.52 0-1.04.2-1.43.59L10.3 9.45l-7.72 7.72c-.78.78-.78 2.05 0 2.83L4 21.41c.39.39.9.59 1.41.59.51 0 1.02-.2 1.41-.59l7.78-7.78 2.81-2.81c.8-.78.8-2.07 0-2.86zM5.41 20L4 18.59l7.72-7.72 1.47 1.35L5.41 20z\"/>\n",
              "  </svg>\n",
              "      </button>\n",
              "      \n",
              "  <style>\n",
              "    .colab-df-container {\n",
              "      display:flex;\n",
              "      flex-wrap:wrap;\n",
              "      gap: 12px;\n",
              "    }\n",
              "\n",
              "    .colab-df-convert {\n",
              "      background-color: #E8F0FE;\n",
              "      border: none;\n",
              "      border-radius: 50%;\n",
              "      cursor: pointer;\n",
              "      display: none;\n",
              "      fill: #1967D2;\n",
              "      height: 32px;\n",
              "      padding: 0 0 0 0;\n",
              "      width: 32px;\n",
              "    }\n",
              "\n",
              "    .colab-df-convert:hover {\n",
              "      background-color: #E2EBFA;\n",
              "      box-shadow: 0px 1px 2px rgba(60, 64, 67, 0.3), 0px 1px 3px 1px rgba(60, 64, 67, 0.15);\n",
              "      fill: #174EA6;\n",
              "    }\n",
              "\n",
              "    [theme=dark] .colab-df-convert {\n",
              "      background-color: #3B4455;\n",
              "      fill: #D2E3FC;\n",
              "    }\n",
              "\n",
              "    [theme=dark] .colab-df-convert:hover {\n",
              "      background-color: #434B5C;\n",
              "      box-shadow: 0px 1px 3px 1px rgba(0, 0, 0, 0.15);\n",
              "      filter: drop-shadow(0px 1px 2px rgba(0, 0, 0, 0.3));\n",
              "      fill: #FFFFFF;\n",
              "    }\n",
              "  </style>\n",
              "\n",
              "      <script>\n",
              "        const buttonEl =\n",
              "          document.querySelector('#df-1f995029-5570-4632-8ed4-eb6926986ec8 button.colab-df-convert');\n",
              "        buttonEl.style.display =\n",
              "          google.colab.kernel.accessAllowed ? 'block' : 'none';\n",
              "\n",
              "        async function convertToInteractive(key) {\n",
              "          const element = document.querySelector('#df-1f995029-5570-4632-8ed4-eb6926986ec8');\n",
              "          const dataTable =\n",
              "            await google.colab.kernel.invokeFunction('convertToInteractive',\n",
              "                                                     [key], {});\n",
              "          if (!dataTable) return;\n",
              "\n",
              "          const docLinkHtml = 'Like what you see? Visit the ' +\n",
              "            '<a target=\"_blank\" href=https://colab.research.google.com/notebooks/data_table.ipynb>data table notebook</a>'\n",
              "            + ' to learn more about interactive tables.';\n",
              "          element.innerHTML = '';\n",
              "          dataTable['output_type'] = 'display_data';\n",
              "          await google.colab.output.renderOutput(dataTable, element);\n",
              "          const docLink = document.createElement('div');\n",
              "          docLink.innerHTML = docLinkHtml;\n",
              "          element.appendChild(docLink);\n",
              "        }\n",
              "      </script>\n",
              "    </div>\n",
              "  </div>\n",
              "  "
            ]
          },
          "metadata": {},
          "execution_count": 145
        }
      ]
    },
    {
      "cell_type": "code",
      "source": [
        "numerics = ['int16', 'int32', 'int64', 'float16', 'float32', 'float64']\n",
        "\n",
        "numeric_df = df.select_dtypes(include = numerics)\n",
        "len(numeric_df.columns)"
      ],
      "metadata": {
        "colab": {
          "base_uri": "https://localhost:8080/"
        },
        "id": "IDpX6ZlXKxvh",
        "outputId": "7eab7144-9480-42f0-b813-3b650353b83d"
      },
      "execution_count": null,
      "outputs": [
        {
          "output_type": "execute_result",
          "data": {
            "text/plain": [
              "14"
            ]
          },
          "metadata": {},
          "execution_count": 146
        }
      ]
    },
    {
      "cell_type": "markdown",
      "source": [
        "Percentage of missing values per column"
      ],
      "metadata": {
        "id": "7uVe72ygLg_E"
      }
    },
    {
      "cell_type": "code",
      "source": [
        "missing_percentages = df.isna().sum().sort_values(ascending= False) / len(df)\n",
        "missing_percentages"
      ],
      "metadata": {
        "colab": {
          "base_uri": "https://localhost:8080/"
        },
        "id": "8PHz9pZeLMdx",
        "outputId": "e7cb060a-7187-4ae0-c1f3-7582b10b0f75"
      },
      "execution_count": null,
      "outputs": [
        {
          "output_type": "execute_result",
          "data": {
            "text/plain": [
              "Number                   6.129003e-01\n",
              "Precipitation(in)        1.931079e-01\n",
              "Wind_Chill(F)            1.650568e-01\n",
              "Wind_Speed(mph)          5.550967e-02\n",
              "Wind_Direction           2.592834e-02\n",
              "Humidity(%)              2.568830e-02\n",
              "Weather_Condition        2.482514e-02\n",
              "Visibility(mi)           2.479350e-02\n",
              "Temperature(F)           2.434646e-02\n",
              "Pressure(in)             2.080593e-02\n",
              "Weather_Timestamp        1.783125e-02\n",
              "Airport_Code             3.356011e-03\n",
              "Timezone                 1.285961e-03\n",
              "Nautical_Twilight        1.007612e-03\n",
              "Civil_Twilight           1.007612e-03\n",
              "Sunrise_Sunset           1.007612e-03\n",
              "Astronomical_Twilight    1.007612e-03\n",
              "Zipcode                  4.635647e-04\n",
              "City                     4.814887e-05\n",
              "Street                   7.029032e-07\n",
              "Country                  0.000000e+00\n",
              "Junction                 0.000000e+00\n",
              "Start_Time               0.000000e+00\n",
              "End_Time                 0.000000e+00\n",
              "Start_Lat                0.000000e+00\n",
              "Turning_Loop             0.000000e+00\n",
              "Traffic_Signal           0.000000e+00\n",
              "Traffic_Calming          0.000000e+00\n",
              "Stop                     0.000000e+00\n",
              "Station                  0.000000e+00\n",
              "Roundabout               0.000000e+00\n",
              "Railway                  0.000000e+00\n",
              "No_Exit                  0.000000e+00\n",
              "Crossing                 0.000000e+00\n",
              "Give_Way                 0.000000e+00\n",
              "Bump                     0.000000e+00\n",
              "Amenity                  0.000000e+00\n",
              "Start_Lng                0.000000e+00\n",
              "End_Lat                  0.000000e+00\n",
              "End_Lng                  0.000000e+00\n",
              "Distance(mi)             0.000000e+00\n",
              "Description              0.000000e+00\n",
              "Severity                 0.000000e+00\n",
              "Side                     0.000000e+00\n",
              "County                   0.000000e+00\n",
              "State                    0.000000e+00\n",
              "ID                       0.000000e+00\n",
              "dtype: float64"
            ]
          },
          "metadata": {},
          "execution_count": 147
        }
      ]
    },
    {
      "cell_type": "code",
      "source": [
        "type(missing_percentages)"
      ],
      "metadata": {
        "colab": {
          "base_uri": "https://localhost:8080/"
        },
        "id": "MvOlbujJMqmu",
        "outputId": "4e59ffbc-24da-4648-b469-7eb058896de9"
      },
      "execution_count": null,
      "outputs": [
        {
          "output_type": "execute_result",
          "data": {
            "text/plain": [
              "pandas.core.series.Series"
            ]
          },
          "metadata": {},
          "execution_count": 148
        }
      ]
    },
    {
      "cell_type": "code",
      "source": [
        "missing_percentages[missing_percentages != 0].plot(kind = 'barh')"
      ],
      "metadata": {
        "colab": {
          "base_uri": "https://localhost:8080/",
          "height": 282
        },
        "id": "9tYSi6BiL7LP",
        "outputId": "87ceb7f3-9ff8-4af5-afe2-a6cc535701b8"
      },
      "execution_count": null,
      "outputs": [
        {
          "output_type": "execute_result",
          "data": {
            "text/plain": [
              "<matplotlib.axes._subplots.AxesSubplot at 0x7fbd5e633090>"
            ]
          },
          "metadata": {},
          "execution_count": 149
        },
        {
          "output_type": "display_data",
          "data": {
            "text/plain": [
              "<Figure size 432x288 with 1 Axes>"
            ],
            "image/png": "[encoded data removed]"
          },
          "metadata": {}
        }
      ]
    },
    {
      "cell_type": "code",
      "source": [
        "df['Number']"
      ],
      "metadata": {
        "colab": {
          "base_uri": "https://localhost:8080/"
        },
        "id": "_DoB2tmNNvol",
        "outputId": "613a6173-25b5-4fa4-c268-caae17e3bffa"
      },
      "execution_count": null,
      "outputs": [
        {
          "output_type": "execute_result",
          "data": {
            "text/plain": [
              "0         NaN\n",
              "1         NaN\n",
              "2         NaN\n",
              "3         NaN\n",
              "4         NaN\n",
              "           ..\n",
              "2845337   NaN\n",
              "2845338   NaN\n",
              "2845339   NaN\n",
              "2845340   NaN\n",
              "2845341   NaN\n",
              "Name: Number, Length: 2845342, dtype: float64"
            ]
          },
          "metadata": {},
          "execution_count": 150
        }
      ]
    },
    {
      "cell_type": "markdown",
      "source": [
        "## Exploratory Analysis & Visualization"
      ],
      "metadata": {
        "id": "eErs255mOBj7"
      }
    },
    {
      "cell_type": "code",
      "source": [
        "df.columns"
      ],
      "metadata": {
        "colab": {
          "base_uri": "https://localhost:8080/"
        },
        "id": "bNpk29XuOKLc",
        "outputId": "3eca1489-246a-457c-ae14-e5a1c2afe96d"
      },
      "execution_count": null,
      "outputs": [
        {
          "output_type": "execute_result",
          "data": {
            "text/plain": [
              "Index(['ID', 'Severity', 'Start_Time', 'End_Time', 'Start_Lat', 'Start_Lng',\n",
              "       'End_Lat', 'End_Lng', 'Distance(mi)', 'Description', 'Number', 'Street',\n",
              "       'Side', 'City', 'County', 'State', 'Zipcode', 'Country', 'Timezone',\n",
              "       'Airport_Code', 'Weather_Timestamp', 'Temperature(F)', 'Wind_Chill(F)',\n",
              "       'Humidity(%)', 'Pressure(in)', 'Visibility(mi)', 'Wind_Direction',\n",
              "       'Wind_Speed(mph)', 'Precipitation(in)', 'Weather_Condition', 'Amenity',\n",
              "       'Bump', 'Crossing', 'Give_Way', 'Junction', 'No_Exit', 'Railway',\n",
              "       'Roundabout', 'Station', 'Stop', 'Traffic_Calming', 'Traffic_Signal',\n",
              "       'Turning_Loop', 'Sunrise_Sunset', 'Civil_Twilight', 'Nautical_Twilight',\n",
              "       'Astronomical_Twilight'],\n",
              "      dtype='object')"
            ]
          },
          "metadata": {},
          "execution_count": 184
        }
      ]
    },
    {
      "cell_type": "markdown",
      "source": [
        "Columns to analyze:\n",
        "\n",
        "\n",
        "*   City\n",
        "*   Start time\n",
        "*   Start_Lat, Start_Lng\n",
        "*   Temperature\n",
        "*   Weather_condtion\n",
        "*   \n",
        "\n",
        "\n",
        "\n",
        "\n",
        "\n"
      ],
      "metadata": {
        "id": "Z_DAfcO3OWb8"
      }
    },
    {
      "cell_type": "markdown",
      "source": [
        "### City"
      ],
      "metadata": {
        "id": "S7AODk5bnYom"
      }
    },
    {
      "cell_type": "code",
      "source": [
        "cities = df.City.unique()\n",
        "len(cities)"
      ],
      "metadata": {
        "colab": {
          "base_uri": "https://localhost:8080/"
        },
        "id": "BBdR9tK1ONdc",
        "outputId": "dc5aed35-a204-4178-ae1c-dd8c9caaf2fa"
      },
      "execution_count": null,
      "outputs": [
        {
          "output_type": "execute_result",
          "data": {
            "text/plain": [
              "11682"
            ]
          },
          "metadata": {},
          "execution_count": 185
        }
      ]
    },
    {
      "cell_type": "code",
      "source": [
        "cities_by_accident = df.City.value_counts()\n",
        "cities_by_accident[:20]"
      ],
      "metadata": {
        "colab": {
          "base_uri": "https://localhost:8080/"
        },
        "id": "qysOvvd4PYhW",
        "outputId": "53c6ea14-6006-4fbd-d60a-a42602b9d12c"
      },
      "execution_count": null,
      "outputs": [
        {
          "output_type": "execute_result",
          "data": {
            "text/plain": [
              "Miami           106966\n",
              "Los Angeles      68956\n",
              "Orlando          54691\n",
              "Dallas           41979\n",
              "Houston          39448\n",
              "Charlotte        33152\n",
              "Sacramento       32559\n",
              "San Diego        26627\n",
              "Raleigh          22840\n",
              "Minneapolis      22768\n",
              "Portland         20944\n",
              "Nashville        20267\n",
              "Austin           18301\n",
              "Baton Rouge      18182\n",
              "Phoenix          17143\n",
              "Saint Paul       16869\n",
              "New Orleans      16251\n",
              "Atlanta          15622\n",
              "Jacksonville     14967\n",
              "Richmond         14349\n",
              "Name: City, dtype: int64"
            ]
          },
          "metadata": {},
          "execution_count": 186
        }
      ]
    },
    {
      "cell_type": "code",
      "source": [
        "'New York' in df.City.unique()"
      ],
      "metadata": {
        "colab": {
          "base_uri": "https://localhost:8080/"
        },
        "id": "qQku8olGRD6k",
        "outputId": "270bec6a-07c8-47bd-e4c4-1c012f2074d5"
      },
      "execution_count": null,
      "outputs": [
        {
          "output_type": "execute_result",
          "data": {
            "text/plain": [
              "True"
            ]
          },
          "metadata": {},
          "execution_count": 187
        }
      ]
    },
    {
      "cell_type": "code",
      "source": [
        "cities_by_accident[:20].plot(kind = 'barh')"
      ],
      "metadata": {
        "colab": {
          "base_uri": "https://localhost:8080/"
        },
        "id": "vCRZcH7WSwiu",
        "outputId": "9b57e5c4-aa92-42d9-dc5d-b41100a62a19"
      },
      "execution_count": null,
      "outputs": [
        {
          "output_type": "execute_result",
          "data": {
            "text/plain": [
              "<matplotlib.axes._subplots.AxesSubplot at 0x7fbc81dbbb50>"
            ]
          },
          "metadata": {},
          "execution_count": 188
        },
        {
          "output_type": "display_data",
          "data": {
            "text/plain": [
              "<Figure size 432x288 with 1 Axes>"
            ],
            "image/png": "[encoded data removed]"
          },
          "metadata": {}
        }
      ]
    },
    {
      "cell_type": "code",
      "source": [
        "import seaborn as sns\n",
        "\n",
        "sns.set_style('darkgrid')"
      ],
      "metadata": {
        "id": "N7qin8eaTkLJ"
      },
      "execution_count": null,
      "outputs": []
    },
    {
      "cell_type": "code",
      "source": [
        "sns.histplot(cities_by_accident, log_scale = True)"
      ],
      "metadata": {
        "colab": {
          "base_uri": "https://localhost:8080/"
        },
        "id": "dkIsmitvT2mg",
        "outputId": "49f881d0-581f-44be-df41-46298b8651f9"
      },
      "execution_count": null,
      "outputs": [
        {
          "output_type": "execute_result",
          "data": {
            "text/plain": [
              "<matplotlib.axes._subplots.AxesSubplot at 0x7fbc73669190>"
            ]
          },
          "metadata": {},
          "execution_count": 190
        },
        {
          "output_type": "display_data",
          "data": {
            "text/plain": [
              "<Figure size 432x288 with 1 Axes>"
            ],
            "image/png": "[encoded data removed]"
          },
          "metadata": {}
        }
      ]
    },
    {
      "cell_type": "code",
      "source": [
        "high_accident_cities =cities_by_accident[cities_by_accident >= 1000]\n",
        "low_accident_cities = cities_by_accident[cities_by_accident < 1000]"
      ],
      "metadata": {
        "id": "dhXj4LoAUkrt"
      },
      "execution_count": null,
      "outputs": []
    },
    {
      "cell_type": "code",
      "source": [
        "len(high_accident_cities) / len(cities)"
      ],
      "metadata": {
        "colab": {
          "base_uri": "https://localhost:8080/"
        },
        "id": "I7XU-7FnbWyz",
        "outputId": "3becb3fd-0469-4c97-a99a-9898f6251439"
      },
      "execution_count": null,
      "outputs": [
        {
          "output_type": "execute_result",
          "data": {
            "text/plain": [
              "0.04245848313644924"
            ]
          },
          "metadata": {},
          "execution_count": 192
        }
      ]
    },
    {
      "cell_type": "code",
      "source": [
        "sns.distplot(high_accident_cities)"
      ],
      "metadata": {
        "colab": {
          "base_uri": "https://localhost:8080/"
        },
        "id": "CtZtTei9k6CY",
        "outputId": "7d16b084-30c3-428b-c856-62d49f581407"
      },
      "execution_count": null,
      "outputs": [
        {
          "output_type": "stream",
          "name": "stderr",
          "text": [
            "/usr/local/lib/python3.7/dist-packages/seaborn/distributions.py:2619: FutureWarning: `distplot` is a deprecated function and will be removed in a future version. Please adapt your code to use either `displot` (a figure-level function with similar flexibility) or `histplot` (an axes-level function for histograms).\n",
            "  warnings.warn(msg, FutureWarning)\n"
          ]
        },
        {
          "output_type": "execute_result",
          "data": {
            "text/plain": [
              "<matplotlib.axes._subplots.AxesSubplot at 0x7fbcd7495090>"
            ]
          },
          "metadata": {},
          "execution_count": 193
        },
        {
          "output_type": "display_data",
          "data": {
            "text/plain": [
              "<Figure size 432x288 with 1 Axes>"
            ],
            "image/png": "[encoded data removed]"
          },
          "metadata": {}
        }
      ]
    },
    {
      "cell_type": "code",
      "source": [
        "len(low_accident_cities) / len(cities)"
      ],
      "metadata": {
        "colab": {
          "base_uri": "https://localhost:8080/"
        },
        "id": "EBqyZkC0lEnl",
        "outputId": "d5632ab0-ee6b-46a5-e2f1-c4a4bc126e97"
      },
      "execution_count": null,
      "outputs": [
        {
          "output_type": "execute_result",
          "data": {
            "text/plain": [
              "0.9574559150830337"
            ]
          },
          "metadata": {},
          "execution_count": 194
        }
      ]
    },
    {
      "cell_type": "code",
      "source": [
        "sns.histplot(low_accident_cities, log_scale = True)"
      ],
      "metadata": {
        "colab": {
          "base_uri": "https://localhost:8080/"
        },
        "id": "R73yL9fClP51",
        "outputId": "5f578d17-b34a-4e06-d52c-576b0c081638"
      },
      "execution_count": null,
      "outputs": [
        {
          "output_type": "execute_result",
          "data": {
            "text/plain": [
              "<matplotlib.axes._subplots.AxesSubplot at 0x7fbcd735f790>"
            ]
          },
          "metadata": {},
          "execution_count": 195
        },
        {
          "output_type": "display_data",
          "data": {
            "text/plain": [
              "<Figure size 432x288 with 1 Axes>"
            ],
            "image/png": "[encoded data removed]"
          },
          "metadata": {}
        }
      ]
    },
    {
      "cell_type": "code",
      "source": [
        "cities_by_accident = cities_by_accident[cities_by_accident == 1]\n",
        "cities_by_accident"
      ],
      "metadata": {
        "colab": {
          "base_uri": "https://localhost:8080/"
        },
        "id": "aFjtQXf-mf3B",
        "outputId": "cba14c94-f1b0-4d5f-f4f5-3956c4f83e40"
      },
      "execution_count": null,
      "outputs": [
        {
          "output_type": "execute_result",
          "data": {
            "text/plain": [
              "Carney                          1\n",
              "Waverly Hall                    1\n",
              "Center Sandwich                 1\n",
              "Glen Flora                      1\n",
              "Sulphur Springs                 1\n",
              "                               ..\n",
              "Ridgedale                       1\n",
              "Sekiu                           1\n",
              "Wooldridge                      1\n",
              "Bullock                         1\n",
              "American Fork-Pleasant Grove    1\n",
              "Name: City, Length: 1110, dtype: int64"
            ]
          },
          "metadata": {},
          "execution_count": 196
        }
      ]
    },
    {
      "cell_type": "markdown",
      "source": [
        "### Start Time"
      ],
      "metadata": {
        "id": "YoVR2r_jnQW_"
      }
    },
    {
      "cell_type": "code",
      "source": [
        "df.Start_Time"
      ],
      "metadata": {
        "colab": {
          "base_uri": "https://localhost:8080/"
        },
        "id": "6qAeAWcQnpDR",
        "outputId": "2b06772d-b584-4762-858f-4d9a5da1f8fd"
      },
      "execution_count": null,
      "outputs": [
        {
          "output_type": "execute_result",
          "data": {
            "text/plain": [
              "0         2016-02-08 00:37:08\n",
              "1         2016-02-08 05:56:20\n",
              "2         2016-02-08 06:15:39\n",
              "3         2016-02-08 06:51:45\n",
              "4         2016-02-08 07:53:43\n",
              "                  ...        \n",
              "2845337   2019-08-23 18:03:25\n",
              "2845338   2019-08-23 19:11:30\n",
              "2845339   2019-08-23 19:00:21\n",
              "2845340   2019-08-23 19:00:21\n",
              "2845341   2019-08-23 18:52:06\n",
              "Name: Start_Time, Length: 2845342, dtype: datetime64[ns]"
            ]
          },
          "metadata": {},
          "execution_count": 197
        }
      ]
    },
    {
      "cell_type": "code",
      "source": [
        "df.Start_Time = pd.to_datetime(df.Start_Time)\n",
        "df.Start_Time"
      ],
      "metadata": {
        "colab": {
          "base_uri": "https://localhost:8080/"
        },
        "id": "5weBhRiInvz3",
        "outputId": "99d63eea-b66e-4760-cd6b-d7e7de27f7ca"
      },
      "execution_count": null,
      "outputs": [
        {
          "output_type": "execute_result",
          "data": {
            "text/plain": [
              "0         2016-02-08 00:37:08\n",
              "1         2016-02-08 05:56:20\n",
              "2         2016-02-08 06:15:39\n",
              "3         2016-02-08 06:51:45\n",
              "4         2016-02-08 07:53:43\n",
              "                  ...        \n",
              "2845337   2019-08-23 18:03:25\n",
              "2845338   2019-08-23 19:11:30\n",
              "2845339   2019-08-23 19:00:21\n",
              "2845340   2019-08-23 19:00:21\n",
              "2845341   2019-08-23 18:52:06\n",
              "Name: Start_Time, Length: 2845342, dtype: datetime64[ns]"
            ]
          },
          "metadata": {},
          "execution_count": 198
        }
      ]
    },
    {
      "cell_type": "code",
      "source": [
        "df.Start_Time.dt.hour"
      ],
      "metadata": {
        "colab": {
          "base_uri": "https://localhost:8080/"
        },
        "id": "bTnTYM2qpCpy",
        "outputId": "bce7780e-cdb9-4ef7-ca4c-07b918e3d7ad"
      },
      "execution_count": null,
      "outputs": [
        {
          "output_type": "execute_result",
          "data": {
            "text/plain": [
              "0           0\n",
              "1           5\n",
              "2           6\n",
              "3           6\n",
              "4           7\n",
              "           ..\n",
              "2845337    18\n",
              "2845338    19\n",
              "2845339    19\n",
              "2845340    19\n",
              "2845341    18\n",
              "Name: Start_Time, Length: 2845342, dtype: int64"
            ]
          },
          "metadata": {},
          "execution_count": 199
        }
      ]
    },
    {
      "cell_type": "code",
      "source": [
        "sns.distplot(df.Start_Time.dt.hour, bins = 24, kde = False, norm_hist = True)"
      ],
      "metadata": {
        "colab": {
          "base_uri": "https://localhost:8080/"
        },
        "id": "5SsBn73kqA7r",
        "outputId": "de6a63b9-4c63-4ccc-c03f-6ca467ca9c9a"
      },
      "execution_count": null,
      "outputs": [
        {
          "output_type": "stream",
          "name": "stderr",
          "text": [
            "/usr/local/lib/python3.7/dist-packages/seaborn/distributions.py:2619: FutureWarning: `distplot` is a deprecated function and will be removed in a future version. Please adapt your code to use either `displot` (a figure-level function with similar flexibility) or `histplot` (an axes-level function for histograms).\n",
            "  warnings.warn(msg, FutureWarning)\n"
          ]
        },
        {
          "output_type": "execute_result",
          "data": {
            "text/plain": [
              "<matplotlib.axes._subplots.AxesSubplot at 0x7fbcd71a0d50>"
            ]
          },
          "metadata": {},
          "execution_count": 200
        },
        {
          "output_type": "display_data",
          "data": {
            "text/plain": [
              "<Figure size 432x288 with 1 Axes>"
            ],
            "image/png": "[encoded data removed]"
          },
          "metadata": {}
        }
      ]
    },
    {
      "cell_type": "markdown",
      "source": [
        "- A high percentage of accidents occur between 6am to 10am. Probably people in a hurry to get to work.\n",
        "- Next highest percentage is 3pm to 6pm"
      ],
      "metadata": {
        "id": "AuRmcnL5sQUn"
      }
    },
    {
      "cell_type": "code",
      "source": [
        "sns.distplot(df.Start_Time.dt.dayofweek, bins = 7, kde = False, norm_hist = True)"
      ],
      "metadata": {
        "colab": {
          "base_uri": "https://localhost:8080/"
        },
        "id": "pmDL9MYxpRHA",
        "outputId": "d744885b-d77a-4672-8e1d-c60092a94a26"
      },
      "execution_count": null,
      "outputs": [
        {
          "output_type": "execute_result",
          "data": {
            "text/plain": [
              "<matplotlib.axes._subplots.AxesSubplot at 0x7fbcd712ce90>"
            ]
          },
          "metadata": {},
          "execution_count": 201
        },
        {
          "output_type": "display_data",
          "data": {
            "text/plain": [
              "<Figure size 432x288 with 1 Axes>"
            ],
            "image/png": "[encoded data removed]"
          },
          "metadata": {}
        }
      ]
    },
    {
      "cell_type": "markdown",
      "source": [
        "Is the distribution of accidents by hour the same on weekends as on weekdays?"
      ],
      "metadata": {
        "id": "N0btbHxUteNc"
      }
    },
    {
      "cell_type": "code",
      "source": [
        "sundays_start_time = df.Start_Time[df.Start_Time.dt.dayofweek == 6]\n",
        "sns.distplot(sundays_start_time.dt.hour, bins = 24, kde = False, norm_hist = True)"
      ],
      "metadata": {
        "colab": {
          "base_uri": "https://localhost:8080/"
        },
        "id": "iTxEc1ggtdzU",
        "outputId": "1dde2732-0c43-49ff-8698-d562d814b041"
      },
      "execution_count": null,
      "outputs": [
        {
          "output_type": "execute_result",
          "data": {
            "text/plain": [
              "<matplotlib.axes._subplots.AxesSubplot at 0x7fbcd713f210>"
            ]
          },
          "metadata": {},
          "execution_count": 202
        },
        {
          "output_type": "display_data",
          "data": {
            "text/plain": [
              "<Figure size 432x288 with 1 Axes>"
            ],
            "image/png": "[encoded data removed]"
          },
          "metadata": {}
        }
      ]
    },
    {
      "cell_type": "code",
      "source": [
        "mondays_start_time = df.Start_Time[df.Start_Time.dt.dayofweek == 0]\n",
        "sns.distplot(mondays_start_time.dt.hour, bins = 24, kde = False, norm_hist = True)"
      ],
      "metadata": {
        "colab": {
          "base_uri": "https://localhost:8080/"
        },
        "id": "MOfwyDA7vV2-",
        "outputId": "0eb5389c-0a6e-4668-cee0-5273aca9f82e"
      },
      "execution_count": null,
      "outputs": [
        {
          "output_type": "execute_result",
          "data": {
            "text/plain": [
              "<matplotlib.axes._subplots.AxesSubplot at 0x7fbcd6fddf90>"
            ]
          },
          "metadata": {},
          "execution_count": 203
        },
        {
          "output_type": "display_data",
          "data": {
            "text/plain": [
              "<Figure size 432x288 with 1 Axes>"
            ],
            "image/png": "[encoded data removed]"
          },
          "metadata": {}
        }
      ]
    },
    {
      "cell_type": "markdown",
      "source": [
        "On Sundays, the peak occurs between 10am and 3pm, unlike weekdays"
      ],
      "metadata": {
        "id": "T_vPAfeyvcLu"
      }
    },
    {
      "cell_type": "code",
      "source": [
        "sns.distplot(df.Start_Time.dt.month, bins = 12, kde = False, norm_hist = True)"
      ],
      "metadata": {
        "colab": {
          "base_uri": "https://localhost:8080/"
        },
        "id": "lMdY_vNTv7TR",
        "outputId": "8ff7f61c-25bb-4807-c337-343e5dd5395b"
      },
      "execution_count": null,
      "outputs": [
        {
          "output_type": "execute_result",
          "data": {
            "text/plain": [
              "<matplotlib.axes._subplots.AxesSubplot at 0x7fbcd6f6be50>"
            ]
          },
          "metadata": {},
          "execution_count": 204
        },
        {
          "output_type": "display_data",
          "data": {
            "text/plain": [
              "<Figure size 432x288 with 1 Axes>"
            ],
            "image/png": "[encoded data removed]"
          },
          "metadata": {}
        }
      ]
    },
    {
      "cell_type": "code",
      "source": [
        "df_2019 = df[df.Start_Time.dt.year == 2019]\n",
        "\n",
        "sns.distplot(df_2019.Start_Time.dt.month, bins = 12, kde = False, norm_hist = True)"
      ],
      "metadata": {
        "colab": {
          "base_uri": "https://localhost:8080/"
        },
        "id": "1aMWz8iZxPjP",
        "outputId": "6fb921cf-09d5-4d60-d74e-873096bfaf0f"
      },
      "execution_count": null,
      "outputs": [
        {
          "output_type": "execute_result",
          "data": {
            "text/plain": [
              "<matplotlib.axes._subplots.AxesSubplot at 0x7fbcd6ee1850>"
            ]
          },
          "metadata": {},
          "execution_count": 205
        },
        {
          "output_type": "display_data",
          "data": {
            "text/plain": [
              "<Figure size 432x288 with 1 Axes>"
            ],
            "image/png": "[encoded data removed]"
          },
          "metadata": {}
        }
      ]
    },
    {
      "cell_type": "markdown",
      "source": [
        "- Much data is missing for 2016 and 2020.\n",
        "- It is important to also check the source\n",
        "- Consider excluding a source that is not accurate or seems to have issues (faulty)"
      ],
      "metadata": {
        "id": "Zgb8aa6lyJqv"
      }
    },
    {
      "cell_type": "markdown",
      "source": [
        "### Start Latitude & Longitude"
      ],
      "metadata": {
        "id": "cwiMLzvqzlUj"
      }
    },
    {
      "cell_type": "code",
      "source": [
        "df.Start_Lat"
      ],
      "metadata": {
        "colab": {
          "base_uri": "https://localhost:8080/"
        },
        "id": "oW-VAuZoyTJh",
        "outputId": "af1f75d4-8d06-434f-da51-6b2a968a2e55"
      },
      "execution_count": null,
      "outputs": [
        {
          "output_type": "execute_result",
          "data": {
            "text/plain": [
              "0          40.108910\n",
              "1          39.865420\n",
              "2          39.102660\n",
              "3          41.062130\n",
              "4          39.172393\n",
              "             ...    \n",
              "2845337    34.002480\n",
              "2845338    32.766960\n",
              "2845339    33.775450\n",
              "2845340    33.992460\n",
              "2845341    34.133930\n",
              "Name: Start_Lat, Length: 2845342, dtype: float64"
            ]
          },
          "metadata": {},
          "execution_count": 206
        }
      ]
    },
    {
      "cell_type": "code",
      "source": [
        "df.Start_Lng"
      ],
      "metadata": {
        "colab": {
          "base_uri": "https://localhost:8080/"
        },
        "id": "_BYwbSfwztfp",
        "outputId": "624bbb5b-61c0-4f30-d19a-e4604d0b0cf6"
      },
      "execution_count": null,
      "outputs": [
        {
          "output_type": "execute_result",
          "data": {
            "text/plain": [
              "0          -83.092860\n",
              "1          -84.062800\n",
              "2          -84.524680\n",
              "3          -81.537840\n",
              "4          -84.492792\n",
              "              ...    \n",
              "2845337   -117.379360\n",
              "2845338   -117.148060\n",
              "2845339   -117.847790\n",
              "2845340   -118.403020\n",
              "2845341   -117.230920\n",
              "Name: Start_Lng, Length: 2845342, dtype: float64"
            ]
          },
          "metadata": {},
          "execution_count": 207
        }
      ]
    },
    {
      "cell_type": "code",
      "source": [
        "sample_df = df.sample(int(0.1 * len(df)))"
      ],
      "metadata": {
        "id": "6FlZcFpI1yPu"
      },
      "execution_count": null,
      "outputs": []
    },
    {
      "cell_type": "code",
      "source": [
        "sns.scatterplot(x=sample_df.Start_Lng, y=sample_df.Start_Lat, size = 0.001)"
      ],
      "metadata": {
        "colab": {
          "base_uri": "https://localhost:8080/"
        },
        "id": "ynHDMLeEzz6l",
        "outputId": "1c55f9c6-fbf5-446c-e526-60813afd32ce"
      },
      "execution_count": null,
      "outputs": [
        {
          "output_type": "execute_result",
          "data": {
            "text/plain": [
              "<matplotlib.axes._subplots.AxesSubplot at 0x7fbcd6e33610>"
            ]
          },
          "metadata": {},
          "execution_count": 209
        },
        {
          "output_type": "display_data",
          "data": {
            "text/plain": [
              "<Figure size 432x288 with 1 Axes>"
            ],
            "image/png": "[encoded data removed]"
          },
          "metadata": {}
        }
      ]
    },
    {
      "cell_type": "code",
      "source": [
        "import folium"
      ],
      "metadata": {
        "id": "T2yefvuk2VOH"
      },
      "execution_count": null,
      "outputs": []
    },
    {
      "cell_type": "code",
      "source": [
        "lat, lng = df.Start_Lat[0], df.Start_Lng[0]\n",
        "lat, lng"
      ],
      "metadata": {
        "colab": {
          "base_uri": "https://localhost:8080/"
        },
        "id": "kCKPqOYu25zj",
        "outputId": "22ae6dc7-346e-458b-d0ae-2bea9eb58d75"
      },
      "execution_count": null,
      "outputs": [
        {
          "output_type": "execute_result",
          "data": {
            "text/plain": [
              "(40.10891, -83.09286)"
            ]
          },
          "metadata": {},
          "execution_count": 211
        }
      ]
    },
    {
      "cell_type": "code",
      "source": [
        "list(zip(list(df.Start_Lat), list(df.Start_Lng))) "
      ],
      "metadata": {
        "colab": {
          "base_uri": "https://localhost:8080/"
        },
        "id": "ndQbR24c5B1p",
        "outputId": "9d59374b-6a75-4f40-c53d-4452db5c8289"
      },
      "execution_count": null,
      "outputs": [
        {
          "output_type": "execute_result",
          "data": {
            "text/plain": [
              "[(40.10891, -83.09286),\n",
              " (39.86542, -84.0628),\n",
              " (39.10266, -84.52468),\n",
              " (41.06213, -81.53784),\n",
              " (39.172393, -84.49279200000002),\n",
              " (39.06324, -84.03243),\n",
              " (39.77565, -84.18603),\n",
              " (41.37531, -81.82016999999998),\n",
              " (40.702247, -84.075887),\n",
              " (40.10931, -82.96849),\n",
              " (39.19288, -84.47723),\n",
              " (39.13877, -84.53394),\n",
              " (41.4739, -81.704233),\n",
              " (39.582242, -83.677814),\n",
              " (40.151785, -81.312635),\n",
              " (40.151747, -81.312682),\n",
              " (39.97241, -82.84695),\n",
              " (39.9838, -82.85656999999998),\n",
              " (40.02664, -82.9944),\n",
              " (41.679361, -83.573037),\n",
              " (40.99613, -85.26613),\n",
              " (39.0381, -84.59243000000002),\n",
              " (40.03386, -82.99601),\n",
              " (39.85798, -84.28181),\n",
              " (39.15267, -84.5395),\n",
              " (39.30732, -85.95982),\n",
              " (39.77572, -84.04815),\n",
              " (39.97643, -83.12306),\n",
              " (39.58595, -85.82518),\n",
              " (39.3638, -85.51659000000002),\n",
              " (39.45132, -85.62516),\n",
              " (39.75067, -84.14148),\n",
              " (39.2675, -81.49929),\n",
              " (39.86025, -85.96623000000002),\n",
              " (41.95677, -83.67214),\n",
              " (38.27401, -85.74844),\n",
              " (41.95677, -83.67214),\n",
              " (40.52225, -80.06666),\n",
              " (40.487814, -80.009439),\n",
              " (40.156298, -83.018431),\n",
              " (41.47461, -81.71181999999997),\n",
              " (41.0618, -81.54608),\n",
              " (40.45112, -85.15048),\n",
              " (40.35429, -85.14993),\n",
              " (39.75855, -85.13715),\n",
              " (39.74408, -85.13749),\n",
              " (39.965148, -83.020499),\n",
              " (40.72813, -84.78965),\n",
              " (39.85223, -85.25846999999997),\n",
              " (41.46747, -81.75909),\n",
              " (41.83193, -80.10143000000002),\n",
              " (39.744287, -84.204939),\n",
              " (39.71548, -84.22033),\n",
              " (39.7504, -84.20561),\n",
              " (41.72316, -84.96444),\n",
              " (40.04376, -82.99708000000003),\n",
              " (38.1781, -85.71946),\n",
              " (38.18577, -85.80678),\n",
              " (38.27191, -85.80838),\n",
              " (39.923905, -82.87008),\n",
              " (41.035566, -81.569917),\n",
              " (39.9239, -83.68767),\n",
              " (41.851914, -80.175232),\n",
              " (39.93849, -82.84849),\n",
              " (38.96943, -80.1096),\n",
              " (41.66805, -83.57063000000002),\n",
              " (41.48339, -81.66297),\n",
              " (41.50127, -81.4804),\n",
              " (39.789093, -82.989106),\n",
              " (41.67073, -81.24561),\n",
              " (41.70846, -81.17636),\n",
              " (41.44246, -81.78485),\n",
              " (39.77128, -84.1923),\n",
              " (41.50499, -81.47417),\n",
              " (40.109653, -80.2029),\n",
              " (38.38852, -81.7687),\n",
              " (41.03572, -81.57809),\n",
              " (41.47487, -81.72095),\n",
              " (41.62845, -84.80559000000002),\n",
              " (41.62894, -84.80373),\n",
              " (41.16102, -81.78573),\n",
              " (41.628232, -84.808858),\n",
              " (41.62986, -84.76619000000002),\n",
              " (39.74729, -84.21426),\n",
              " (41.42099, -81.69051999999998),\n",
              " (41.42318, -81.84674),\n",
              " (38.79691, -84.48273),\n",
              " (38.80878, -84.49638),\n",
              " (38.30155, -85.85499),\n",
              " (38.33667, -81.65623000000002),\n",
              " (38.33614, -81.65623000000002),\n",
              " (41.0961, -81.58593),\n",
              " (41.12155, -85.18715999999998),\n",
              " (38.829993, -80.667067),\n",
              " (40.05642, -83.03097),\n",
              " (41.37717, -81.5139),\n",
              " (39.17397, -84.49031),\n",
              " (39.75513, -84.16614),\n",
              " (39.17397, -84.49031),\n",
              " (41.12624, -81.65299),\n",
              " (38.33667, -81.65623000000002),\n",
              " (41.10389, -81.5),\n",
              " (39.16417, -84.45275),\n",
              " (40.11184, -83.00883),\n",
              " (38.31922, -85.75301999999998),\n",
              " (39.09881, -84.50801),\n",
              " (41.473859, -81.708409),\n",
              " (41.039988, -81.565332),\n",
              " (41.73565, -84.99082),\n",
              " (39.26566, -84.43965),\n",
              " (41.46981, -81.81104),\n",
              " (41.25666, -81.63157),\n",
              " (40.58919, -80.09885),\n",
              " (41.06356, -81.49078),\n",
              " (41.06218, -81.50595),\n",
              " (39.17736, -84.4873),\n",
              " (38.33956, -81.60991999999997),\n",
              " (41.47889, -81.6934),\n",
              " (40.58919, -80.09885),\n",
              " (41.41119000000001, -81.64414000000002),\n",
              " (39.24907, -84.44561999999998),\n",
              " (39.28775, -84.40073000000002),\n",
              " (41.47379, -81.89631),\n",
              " (41.54941, -81.60676),\n",
              " (39.03347, -84.603),\n",
              " (39.74903, -84.20106),\n",
              " (39.89473, -83.044),\n",
              " (39.19641, -84.47331),\n",
              " (39.22461, -84.45364000000002),\n",
              " (39.15306, -84.44283),\n",
              " (39.97262, -82.98368),\n",
              " (40.535447, -80.03596),\n",
              " (40.529455, -80.03506999999998),\n",
              " (41.49647, -81.67733),\n",
              " (41.0634, -81.49079),\n",
              " (39.74284, -84.20479),\n",
              " (41.46822, -81.9476),\n",
              " (41.92479, -83.36026),\n",
              " (41.184738, -80.432713),\n",
              " (40.27317, -85.5577),\n",
              " (39.98264, -85.14301999999998),\n",
              " (40.27317, -85.5577),\n",
              " (40.42667, -85.54968000000002),\n",
              " (39.97527, -85.14018),\n",
              " (39.09889, -84.52118),\n",
              " (38.88012, -84.62527),\n",
              " (38.79256, -84.60423),\n",
              " (39.74284, -84.20479),\n",
              " (40.484222, -80.13755400000002),\n",
              " (41.20104, -80.06859),\n",
              " (39.05528, -84.39072),\n",
              " (41.623325, -83.692226),\n",
              " (40.53024, -80.00957),\n",
              " (40.06527, -82.99591),\n",
              " (40.43954, -80.00971),\n",
              " (41.422004, -81.730092),\n",
              " (39.3638, -85.51659000000002),\n",
              " (39.82083, -85.7749),\n",
              " (40.0366, -85.72561999999998),\n",
              " (39.855691, -84.29079200000002),\n",
              " (40.049152, -85.682047),\n",
              " (39.83939, -85.55752),\n",
              " (40.13386, -80.00666),\n",
              " (40.43954, -80.00971),\n",
              " (40.13386, -80.00666),\n",
              " (40.13386, -80.00666),\n",
              " (39.97859, -82.9763),\n",
              " (39.95459, -83.04255),\n",
              " (39.68291, -85.97372),\n",
              " (38.49304, -85.77156),\n",
              " (38.33428, -85.82177),\n",
              " (39.99921, -83.02875),\n",
              " (38.53844, -85.77702),\n",
              " (38.1781, -85.71946),\n",
              " (39.87433, -82.99882),\n",
              " (41.39546, -85.32855),\n",
              " (41.39469, -85.28893000000002),\n",
              " (41.90473, -83.36986),\n",
              " (40.77137000000001, -84.62203000000002),\n",
              " (40.80059, -84.61374),\n",
              " (39.87433, -82.99882),\n",
              " (40.78593, -84.61787),\n",
              " (40.80059, -84.61374),\n",
              " (41.67487, -83.57266),\n",
              " (41.47376, -81.86113),\n",
              " (38.33465, -85.75389),\n",
              " (39.14014, -84.53495),\n",
              " (41.80143, -85.34888000000002),\n",
              " (41.35761, -81.81988),\n",
              " (39.34392, -84.39043000000002),\n",
              " (39.816154, -83.18010500000003),\n",
              " (38.824929, -85.47449499999998),\n",
              " (38.82415, -85.63794),\n",
              " (40.593244, -85.150017),\n",
              " (40.600487, -85.150502),\n",
              " (41.19362, -80.2374),\n",
              " (40.55267, -85.14974000000002),\n",
              " (40.56744000000001, -85.14993),\n",
              " (40.14212, -81.55153),\n",
              " (39.94397, -82.41127),\n",
              " (39.96893, -83.11922),\n",
              " (40.6126, -80.09494000000002),\n",
              " (40.11184, -83.00883),\n",
              " (41.06347, -81.50372),\n",
              " (39.972931, -85.965783),\n",
              " (39.95459, -83.04255),\n",
              " (40.11184, -83.00883),\n",
              " (39.97241, -82.84695),\n",
              " (39.9912, -85.9188),\n",
              " (41.34965, -81.51146),\n",
              " (41.11987, -80.69004),\n",
              " (41.11851, -80.69242),\n",
              " (40.05642, -83.03097),\n",
              " (38.117487, -85.760397),\n",
              " (41.44134, -81.65055),\n",
              " (38.61531, -80.76034),\n",
              " (41.124052, -80.677589),\n",
              " (39.95085, -82.94428),\n",
              " (41.06257, -81.52228000000002),\n",
              " (40.11212, -83.03905999999998),\n",
              " (39.887033, -83.043909),\n",
              " (40.04916, -83.03336),\n",
              " (41.12906, -85.1612),\n",
              " (41.17798, -85.10323000000002),\n",
              " (38.08783, -83.90263),\n",
              " (41.63316, -83.54203000000003),\n",
              " (39.149639, -84.539381),\n",
              " (40.9605, -85.3528),\n",
              " (40.96051, -85.34522),\n",
              " (41.08204, -80.64846999999997),\n",
              " (41.61791, -83.54106999999998),\n",
              " (38.41592, -82.3465),\n",
              " (41.67571, -83.69385),\n",
              " (39.08272, -84.52264),\n",
              " (39.280947, -80.278075),\n",
              " (38.36387, -81.73867),\n",
              " (40.0187, -82.90465999999998),\n",
              " (41.53757, -81.64083000000002),\n",
              " (41.16522, -81.47454),\n",
              " (39.52352, -82.02360999999998),\n",
              " (39.517216, -82.025802),\n",
              " (40.322818, -83.071034),\n",
              " (41.73565, -84.99082),\n",
              " (39.14648, -84.45455),\n",
              " (39.82122, -85.76482),\n",
              " (41.11889, -81.65406999999998),\n",
              " (40.121557, -83.151457),\n",
              " (40.11017, -83.15876999999998),\n",
              " (41.57777, -81.54987),\n",
              " (40.121557, -83.151457),\n",
              " (40.11017, -83.15876999999998),\n",
              " (41.04592, -81.69463),\n",
              " (41.42099, -81.69051999999998),\n",
              " (39.27486, -84.346),\n",
              " (39.28266, -84.56742),\n",
              " (39.9467, -82.22232),\n",
              " (39.17397, -84.49031),\n",
              " (39.17736, -84.4873),\n",
              " (39.9467, -82.22232),\n",
              " (39.9467, -82.22232),\n",
              " (41.68518, -83.5678),\n",
              " (41.66572, -83.5652),\n",
              " (39.27125, -84.35176),\n",
              " (41.47395, -81.69931),\n",
              " (39.98505, -80.74006),\n",
              " (39.95813, -80.76219),\n",
              " (41.56544, -81.5835),\n",
              " (38.32587, -83.11389),\n",
              " (38.25869, -85.7622),\n",
              " (38.29322, -85.654625),\n",
              " (39.78609, -83.24606999999997),\n",
              " (41.53968, -81.62795),\n",
              " (39.08927, -84.5227),\n",
              " (38.25922, -85.76632),\n",
              " (41.55264, -81.60032),\n",
              " (39.02187, -84.50492),\n",
              " (41.06755, -81.57421),\n",
              " (40.49223, -80.01029),\n",
              " (41.48836, -81.66471),\n",
              " (39.95085, -82.94428),\n",
              " (41.42063, -81.80859),\n",
              " (41.06755, -81.57421),\n",
              " (40.82949, -81.39732),\n",
              " (41.40091, -81.81724),\n",
              " (41.13355, -85.13584),\n",
              " (38.870386, -84.624429),\n",
              " (41.47974, -81.6667),\n",
              " (40.30095, -80.16651999999998),\n",
              " (39.11543, -84.50003000000002),\n",
              " (41.1419, -81.47694),\n",
              " (39.14917, -84.44711),\n",
              " (39.81979000000001, -84.18908),\n",
              " (39.84509, -84.1899),\n",
              " (41.47461, -81.71181999999997),\n",
              " (39.17304, -84.47589),\n",
              " (39.1021, -84.49754),\n",
              " (41.49873, -81.67260999999998),\n",
              " (39.12627, -84.53509),\n",
              " (41.47394600000001, -81.699011),\n",
              " (39.9745, -83.09654),\n",
              " (39.85911, -84.2808),\n",
              " (39.24943, -84.36541),\n",
              " (38.31179, -85.58773000000002),\n",
              " (39.27486, -84.346),\n",
              " (39.29287, -84.31981),\n",
              " (39.15267, -84.5395),\n",
              " (41.4675, -81.49014),\n",
              " (39.26661, -84.35605),\n",
              " (39.27125, -84.35176),\n",
              " (38.20674, -85.74846),\n",
              " (40.13804, -82.97112),\n",
              " (41.47965, -81.66758),\n",
              " (39.08887, -84.52271),\n",
              " (41.6882, -83.64064),\n",
              " (40.06527, -82.99591),\n",
              " (39.86536, -84.05238),\n",
              " (38.420223, -82.293065),\n",
              " (41.47414000000001, -81.69893),\n",
              " (41.47542, -81.68721),\n",
              " (40.07297, -83.1347),\n",
              " (40.05609000000001, -80.679211),\n",
              " (38.19105, -85.71902),\n",
              " (38.25454000000001, -85.71969),\n",
              " (39.171694, -84.494399),\n",
              " (41.06239, -81.52229),\n",
              " (39.259254, -84.440978),\n",
              " (39.905178, -82.895471),\n",
              " (40.0988, -83.13331),\n",
              " (41.33991, -81.81739),\n",
              " (40.0999, -82.92089),\n",
              " (39.4728, -80.11963),\n",
              " (41.46631, -81.77065999999998),\n",
              " (38.34109, -81.70017),\n",
              " (41.160072, -85.232647),\n",
              " (41.163626, -85.24482900000002),\n",
              " (39.14014, -84.53495),\n",
              " (40.94537, -81.15473),\n",
              " (41.68591, -83.911307),\n",
              " (41.704523, -83.9136),\n",
              " (40.945772, -81.17219399999998),\n",
              " (38.82445, -82.98299),\n",
              " (38.84111, -82.98432),\n",
              " (39.00079, -84.42043000000002),\n",
              " (39.96071, -85.35383),\n",
              " (39.2675, -81.49929),\n",
              " (40.27317, -85.5577),\n",
              " (40.42667, -85.54968000000002),\n",
              " (38.130782, -81.388878),\n",
              " (38.545195, -85.778613),\n",
              " (38.362427, -81.714434),\n",
              " (38.39115, -81.58664),\n",
              " (40.08978, -82.98725999999998),\n",
              " (40.0122, -82.99188000000002),\n",
              " (41.68918, -83.53681999999998),\n",
              " (39.3781, -84.365),\n",
              " (39.11919, -84.53539),\n",
              " (39.05029, -83.77673),\n",
              " (39.04827, -83.77199),\n",
              " (40.0717, -82.90821),\n",
              " (39.09655, -84.48312),\n",
              " (40.43077, -80.02638),\n",
              " (41.443708, -85.19285),\n",
              " (41.438119, -85.15969399999999),\n",
              " (41.46747, -81.75909),\n",
              " (39.044435, -84.465864),\n",
              " (39.22461, -84.45364000000002),\n",
              " (41.104217, -81.499987),\n",
              " (41.1003, -81.4999),\n",
              " (39.1021, -84.49754),\n",
              " (41.46375, -81.69353000000002),\n",
              " (41.52134, -83.45642),\n",
              " (41.52549000000001, -83.46344),\n",
              " (41.43166, -81.68160999999998),\n",
              " (38.22363, -85.50532),\n",
              " (40.85466, -81.41646999999998),\n",
              " (38.22272, -85.50111),\n",
              " (39.12424, -84.53501),\n",
              " (39.09858, -84.51974),\n",
              " (39.63551, -84.19519),\n",
              " (40.39715, -80.10368000000003),\n",
              " (41.56709, -81.57816),\n",
              " (41.18225, -84.94275999999998),\n",
              " (39.10148, -84.52341),\n",
              " (41.55245, -83.60061999999998),\n",
              " (38.52006, -81.35221),\n",
              " (41.3513, -83.62276),\n",
              " (39.25015, -81.30566),\n",
              " (41.345031, -82.285379),\n",
              " (41.351335, -82.26144599999998),\n",
              " (38.38457, -81.804429),\n",
              " (40.41528, -80.01234000000002),\n",
              " (40.03598, -83.12479),\n",
              " (41.03669, -81.50492),\n",
              " (41.68971, -83.53045999999998),\n",
              " (39.587784, -83.723939),\n",
              " (39.626237, -83.73105),\n",
              " (41.06243, -81.49904000000002),\n",
              " (39.97262, -82.98368),\n",
              " (39.93658, -83.00941999999998),\n",
              " (41.208579, -82.807829),\n",
              " (41.4051, -81.8184),\n",
              " (39.29035, -84.39078),\n",
              " (39.90524, -82.89541),\n",
              " (40.04376, -82.99708000000003),\n",
              " (39.98793, -82.98568),\n",
              " (41.874915, -85.409527),\n",
              " (41.890234, -85.409642),\n",
              " (39.9335, -82.78939),\n",
              " (40.04916, -83.03336),\n",
              " (39.99493, -82.93332),\n",
              " (39.83727, -83.09326999999998),\n",
              " (40.98954000000001, -81.49372),\n",
              " (38.53844, -85.77702),\n",
              " (41.10389, -81.5),\n",
              " (38.577894, -85.77896),\n",
              " (41.42099, -81.69051999999998),\n",
              " (38.58054600000001, -85.77866),\n",
              " (39.833935, -84.061832),\n",
              " (38.30344, -85.88893),\n",
              " (39.93654, -83.40048),\n",
              " (39.95612, -83.37499),\n",
              " (39.17766, -84.39780999999998),\n",
              " (40.02155, -83.0354),\n",
              " (39.97518, -85.63374),\n",
              " (39.94576, -85.63454),\n",
              " (40.27744000000001, -85.72518000000002),\n",
              " (39.17304, -84.47589),\n",
              " (41.68648, -83.5669),\n",
              " (41.66267, -85.03312),\n",
              " (41.68976, -83.666),\n",
              " (39.94594, -82.9432),\n",
              " (41.4758, -81.66036),\n",
              " (41.628312, -84.812135),\n",
              " (39.96724, -83.02459),\n",
              " (41.96429000000001, -83.35018000000002),\n",
              " (41.282993, -83.638931),\n",
              " (41.63126, -83.48336),\n",
              " (41.427584, -85.8495),\n",
              " (41.471378, -85.839527),\n",
              " (41.46747, -81.75909),\n",
              " (39.18364, -84.48373000000002),\n",
              " (41.94495, -80.40234),\n",
              " (39.53078, -84.310264),\n",
              " (41.438774, -81.80341999999997),\n",
              " (39.9838, -82.85656999999998),\n",
              " (40.44413400000001, -80.028261),\n",
              " (39.97727, -83.15445),\n",
              " (39.9745, -83.09654),\n",
              " (39.97865, -83.11698),\n",
              " (39.97327, -83.12002),\n",
              " (39.22571, -84.36832),\n",
              " (39.986342, -83.118881),\n",
              " (39.73629, -84.20489),\n",
              " (41.4051, -81.8184),\n",
              " (41.41101, -81.66634),\n",
              " (39.24464, -84.44835),\n",
              " (40.11212, -83.03905999999998),\n",
              " (40.30095, -80.16651999999998),\n",
              " (41.49243, -81.67554),\n",
              " (40.1827, -80.26148),\n",
              " (39.95459, -83.04255),\n",
              " (39.97527, -85.14018),\n",
              " (39.98511, -85.14406),\n",
              " (38.29514, -85.75655),\n",
              " (39.93654, -83.40048),\n",
              " (39.11543, -84.50003000000002),\n",
              " (41.030684, -81.885739),\n",
              " (41.43166, -81.68160999999998),\n",
              " (40.6664, -80.227514),\n",
              " (40.67137, -80.22581),\n",
              " (41.305199, -81.438626),\n",
              " (40.354252, -85.843032),\n",
              " (40.402251, -85.842969),\n",
              " (41.26752000000001, -85.85673),\n",
              " (39.97307, -82.98405),\n",
              " (39.9672, -81.28699999999998),\n",
              " (39.96392, -81.27197),\n",
              " (41.52631, -83.62123000000003),\n",
              " (39.93292, -82.83025),\n",
              " (39.08272, -84.52264),\n",
              " (39.8552, -84.32502),\n",
              " (41.65404, -85.70526),\n",
              " (41.39465, -81.65326),\n",
              " (41.06211, -81.53053),\n",
              " (41.09598, -81.49976),\n",
              " (41.85222, -85.67843),\n",
              " (38.148808, -80.929665),\n",
              " (41.52447, -85.57791),\n",
              " (41.5105, -85.57781),\n",
              " (39.90524, -82.89541),\n",
              " (41.23598, -81.49325999999998),\n",
              " (38.70101, -80.66483000000002),\n",
              " (39.22498, -84.38094),\n",
              " (40.776023, -80.12718100000002),\n",
              " (38.86027, -80.65729),\n",
              " (39.88203, -83.04748000000002),\n",
              " (39.89253400000001, -83.038786),\n",
              " (39.89698, -83.03428000000002),\n",
              " (41.67439, -83.693727),\n",
              " (41.12999, -85.15503000000002),\n",
              " (39.09889, -84.52118),\n",
              " (41.52631, -83.62123000000003),\n",
              " (39.088552, -84.522724),\n",
              " (39.95423, -82.98879000000002),\n",
              " (39.21018, -84.46345),\n",
              " (39.95369, -82.96403000000002),\n",
              " (40.40934, -80.19247),\n",
              " (40.44126, -80.19314),\n",
              " (39.16161, -84.51375),\n",
              " (39.16161, -84.51375),\n",
              " (39.15141, -84.54061),\n",
              " (39.75855, -85.13715),\n",
              " (41.67571, -83.69385),\n",
              " (41.67571, -83.69385),\n",
              " (39.28805, -84.37462),\n",
              " (41.53618, -83.6176),\n",
              " (39.07202, -84.51907),\n",
              " (38.259133, -85.752672),\n",
              " (40.44425, -80.02821),\n",
              " (40.44278, -80.02468),\n",
              " (38.30155, -85.85499),\n",
              " (40.35405, -80.13756),\n",
              " (40.35449000000001, -80.13835999999998),\n",
              " (38.30344, -85.88893),\n",
              " (41.08789, -83.66011),\n",
              " (41.02454, -80.92163000000002),\n",
              " (41.02413, -80.90579),\n",
              " (39.08168, -84.7069),\n",
              " (38.18539000000001, -85.81793),\n",
              " (39.27734, -84.86438000000003),\n",
              " (39.16437, -84.43731),\n",
              " (39.748585, -84.226084),\n",
              " (39.4728, -80.11963),\n",
              " (41.187807, -80.149019),\n",
              " (41.19242, -80.15860500000002),\n",
              " (38.233483, -85.62671800000003),\n",
              " (38.33954, -81.609895),\n",
              " (40.07297, -83.1347),\n",
              " (40.08402, -83.13046),\n",
              " (38.34631, -83.40449),\n",
              " (38.35382, -83.40553),\n",
              " (39.04416, -84.46656),\n",
              " (38.41807, -81.54525),\n",
              " (38.309401, -85.847643),\n",
              " (41.64679, -83.54913),\n",
              " (38.198748, -85.733953),\n",
              " (39.97401, -82.99355),\n",
              " (39.17397, -84.49031),\n",
              " (41.68843, -83.56258000000003),\n",
              " (41.67904, -83.5732),\n",
              " (39.25249, -84.36493),\n",
              " (38.310736, -85.590395),\n",
              " (41.46941, -81.80535),\n",
              " (38.20674, -85.74846),\n",
              " (39.226317, -84.37107900000002),\n",
              " (41.68721, -83.55579),\n",
              " (40.09775, -84.22926),\n",
              " (41.42147, -81.70682),\n",
              " (38.29414600000001, -85.756847),\n",
              " (39.17304, -84.47589),\n",
              " (38.15982, -84.67308),\n",
              " (39.11675, -84.53355),\n",
              " (39.24943, -84.36541),\n",
              " (41.06146, -81.5049),\n",
              " (39.18364, -84.48373000000002),\n",
              " (39.98793, -82.98568),\n",
              " (39.95971, -83.04811),\n",
              " (39.1479, -84.53929000000002),\n",
              " (39.89555, -83.84997),\n",
              " (39.99226, -82.98517),\n",
              " (39.40983, -82.97548),\n",
              " (40.6126, -80.09494000000002),\n",
              " (39.22479000000001, -84.27783000000002),\n",
              " (39.11675, -84.53355),\n",
              " (41.43869, -81.80554000000002),\n",
              " (40.016819, -82.90411),\n",
              " (39.09757000000001, -84.51666),\n",
              " (41.06247000000001, -81.52405),\n",
              " (39.13219, -84.49464),\n",
              " (39.097654, -84.516019),\n",
              " (41.34965, -81.51146),\n",
              " (41.37717, -81.5139),\n",
              " (40.12589000000001, -80.13661),\n",
              " (40.13189000000001, -80.132407),\n",
              " (40.00507, -83.1186),\n",
              " (39.43794000000001, -82.53893000000002),\n",
              " (39.12627, -84.53509),\n",
              " (38.07759, -84.45711999999997),\n",
              " (40.09079000000001, -82.90783),\n",
              " (39.64731, -85.91696999999998),\n",
              " (39.08927, -84.5227),\n",
              " (38.26109, -85.73695),\n",
              " (38.19785, -85.70445),\n",
              " (39.05654000000001, -84.54283000000002),\n",
              " (41.42413, -81.64519),\n",
              " (39.28638, -84.42706),\n",
              " (41.37499, -83.61635),\n",
              " (41.06228, -81.50986999999998),\n",
              " (41.53907, -81.63354),\n",
              " (40.04916, -83.03336),\n",
              " (41.13613, -81.72196),\n",
              " (39.09891, -84.49181999999998),\n",
              " (39.96268, -82.84305),\n",
              " (39.17397, -84.49031),\n",
              " (39.16911, -84.42104),\n",
              " (39.003821, -80.391285),\n",
              " (39.17736, -84.4873),\n",
              " (39.14316, -84.47069),\n",
              " (39.2696, -84.34894),\n",
              " (40.521732, -81.64755),\n",
              " (40.513361, -81.651599),\n",
              " (41.52631, -83.62123000000003),\n",
              " (38.992607, -80.195782),\n",
              " (38.839151, -82.152877),\n",
              " (40.27675, -85.49916),\n",
              " (40.52168, -80.13163),\n",
              " (39.83711, -84.54392),\n",
              " (39.02296, -84.51784),\n",
              " (38.455787, -81.88205),\n",
              " (39.02397, -84.48039),\n",
              " (38.22433, -85.751),\n",
              " (39.05973, -84.42438),\n",
              " (39.27734, -84.86438000000003),\n",
              " (41.47965, -81.66758),\n",
              " (39.02257, -84.48631),\n",
              " (40.44846, -80.00755),\n",
              " (39.09891, -84.28556999999998),\n",
              " (41.06026, -81.55485999999998),\n",
              " (41.802758, -83.684687),\n",
              " (38.0791, -83.94591),\n",
              " (38.01846, -84.15159),\n",
              " (38.30344, -85.88893),\n",
              " (38.84109, -85.81618),\n",
              " (41.14181, -80.72015999999998),\n",
              " (39.14648, -84.45455),\n",
              " (41.04263, -81.50543),\n",
              " (38.21089, -85.82606),\n",
              " (39.75067, -84.14148),\n",
              " (38.28581, -85.50792),\n",
              " (39.15273300000001, -84.541403),\n",
              " (38.23585, -85.658849),\n",
              " (38.20249, -85.68697),\n",
              " (40.53491, -83.10678),\n",
              " (40.52035, -83.10043),\n",
              " (39.12965, -84.49555),\n",
              " (38.22811, -85.7514),\n",
              " (40.41233, -80.07815),\n",
              " (39.7504, -84.20561),\n",
              " (39.08272, -84.52264),\n",
              " (39.781457, -85.839651),\n",
              " (39.781457, -85.839651),\n",
              " (41.06076, -81.45923),\n",
              " (39.688148, -83.88431),\n",
              " (39.693164, -83.882745),\n",
              " (39.9488, -83.02845),\n",
              " (41.11584000000001, -81.61428000000002),\n",
              " (39.797697, -84.189677),\n",
              " (39.20326, -85.95763000000002),\n",
              " (39.24464, -84.44835),\n",
              " (39.73733, -84.25733000000002),\n",
              " (39.969853, -85.972976),\n",
              " (41.11889, -81.65406999999998),\n",
              " (39.13219, -84.49464),\n",
              " (41.458, -83.62201999999998),\n",
              " (40.09268, -83.03726),\n",
              " (40.066965, -83.289888),\n",
              " (40.045608, -83.29660799999998),\n",
              " (39.97307, -82.98405),\n",
              " (39.98248, -85.123922),\n",
              " (39.981095, -85.11027299999998),\n",
              " (40.43021, -80.02554),\n",
              " (40.43219000000001, -80.02781999999998),\n",
              " (39.976567, -83.128639),\n",
              " (41.256658, -85.363439),\n",
              " (41.37499, -83.61635),\n",
              " (41.252653, -85.347328),\n",
              " (39.93658, -83.00941999999998),\n",
              " (39.14014, -84.53495),\n",
              " (40.153014, -82.970316),\n",
              " (39.90524, -82.89541),\n",
              " (39.13219, -84.49464),\n",
              " (40.42581, -80.4294),\n",
              " (41.08789, -83.65977),\n",
              " (39.9488, -83.02845),\n",
              " (41.47585, -81.87980999999998),\n",
              " (39.1079, -84.50284),\n",
              " (38.340803, -81.680728),\n",
              " (40.96473, -85.28862),\n",
              " (38.441, -82.12679),\n",
              " (38.4413, -82.01529000000002),\n",
              " (38.441, -82.12679),\n",
              " (38.18977, -83.48379),\n",
              " (41.194131, -80.201982),\n",
              " (40.09601, -83.13626),\n",
              " (41.23632, -83.65401999999997),\n",
              " (38.1737, -84.81473000000003),\n",
              " (38.19016, -85.7616),\n",
              " (39.25249, -84.36493),\n",
              " (39.137217, -84.04718299999998),\n",
              " (39.141454, -84.016543),\n",
              " (38.344424, -81.613662),\n",
              " (41.93113, -83.35857),\n",
              " (40.89268, -84.61808),\n",
              " (40.46013, -80.19126),\n",
              " (41.119342, -80.698025),\n",
              " (41.117872, -80.693898),\n",
              " (39.15267, -84.5395),\n",
              " (38.27362, -85.80906),\n",
              " (41.458, -83.62201999999998),\n",
              " (39.35655, -84.26419),\n",
              " (38.4062, -81.54054000000002),\n",
              " (41.02525900000001, -81.5042),\n",
              " (38.27362, -85.80906),\n",
              " (38.11969000000001, -85.77235),\n",
              " (38.275406, -85.81314300000003),\n",
              " (38.27508, -85.81517099999998),\n",
              " (41.39769, -81.939),\n",
              " (39.46513, -80.13559000000002),\n",
              " (38.217994, -81.426024),\n",
              " (38.215401, -81.42437199999998),\n",
              " (39.042851, -84.612615),\n",
              " (38.26109, -85.73695),\n",
              " (39.05654000000001, -84.54283000000002),\n",
              " (41.840758, -84.361657),\n",
              " (41.841123, -84.361652),\n",
              " (41.63316, -83.54203000000003),\n",
              " (40.02874, -81.04368000000002),\n",
              " (41.43891, -81.80258),\n",
              " (41.0811, -81.50348000000002),\n",
              " (38.35575, -81.65420999999998),\n",
              " (39.94585, -82.94293),\n",
              " (41.69017, -83.5181),\n",
              " (40.11212, -83.03905999999998),\n",
              " (41.50259000000001, -81.66974),\n",
              " (39.989994, -83.02512),\n",
              " (41.480458, -81.692932),\n",
              " (39.22461, -84.45364000000002),\n",
              " (40.04376, -82.99708000000003),\n",
              " (39.93621, -82.88318000000002),\n",
              " (39.167788, -82.524172),\n",
              " (39.20655, -82.48212),\n",
              " (41.36576, -81.51602),\n",
              " (39.977322, -81.183327),\n",
              " (39.961933, -81.175436),\n",
              " (39.68292, -84.23004),\n",
              " (40.02664, -82.9944),\n",
              " (38.583372, -81.994824),\n",
              " (38.58119600000001, -82.004356),\n",
              " (40.07297, -83.1347),\n",
              " (41.58689, -83.56234),\n",
              " (38.31714, -85.57677),\n",
              " (40.07297, -83.1347),\n",
              " (39.07202, -84.51907),\n",
              " (41.46747, -81.75909),\n",
              " (40.82645, -81.39675),\n",
              " (40.82645, -81.39675),\n",
              " (39.05654000000001, -84.54283000000002),\n",
              " (39.06272, -84.65728),\n",
              " (39.03368, -84.59527),\n",
              " (40.02121, -82.99503),\n",
              " (39.866695, -84.9305),\n",
              " (39.05654000000001, -84.54283000000002),\n",
              " (39.03232, -84.59137),\n",
              " (41.04058, -81.61256999999998),\n",
              " (40.98884, -83.64875),\n",
              " (39.95658, -83.37075),\n",
              " (39.89857, -83.72139),\n",
              " (39.896448, -83.72312099999998),\n",
              " (41.47965, -81.66758),\n",
              " (39.71548, -84.22033),\n",
              " (40.0389, -85.71828000000002),\n",
              " (41.17516, -81.23116999999998),\n",
              " (41.15107, -81.21375),\n",
              " (40.0389, -85.71828000000002),\n",
              " (39.99336, -85.83861999999998),\n",
              " (40.46013, -80.19126),\n",
              " (41.68976, -83.666),\n",
              " (39.97326, -83.00690999999998),\n",
              " (39.48572, -83.94191),\n",
              " (39.83355, -85.99635),\n",
              " (39.79721, -85.97153),\n",
              " (39.98056, -83.11924),\n",
              " (41.458, -83.62243000000002),\n",
              " (39.905352, -82.995352),\n",
              " (39.99921, -83.02875),\n",
              " (40.869049, -81.95845600000001),\n",
              " (41.419021, -81.519515),\n",
              " (39.34392, -84.39043000000002),\n",
              " (39.9454, -82.60271),\n",
              " (38.353957, -81.73513100000002),\n",
              " (38.354505, -81.731585),\n",
              " (41.501623, -81.479519),\n",
              " (39.86477, -83.99871),\n",
              " (38.737813, -85.250959),\n",
              " (40.00507, -83.1186),\n",
              " (39.91978, -82.93149),\n",
              " (39.09757000000001, -84.51666),\n",
              " (41.07995, -81.50389),\n",
              " (41.63316, -83.54203000000003),\n",
              " (39.82529, -83.03175999999998),\n",
              " (39.83209, -82.99884),\n",
              " (39.83208, -83.000447),\n",
              " (38.416631, -84.861968),\n",
              " (40.55549, -80.11634000000002),\n",
              " (39.17736, -84.4873),\n",
              " (41.484589, -81.691778),\n",
              " (41.22734000000001, -81.62705),\n",
              " (39.04695, -84.57498000000002),\n",
              " (39.25595, -84.44287),\n",
              " (39.8888, -82.88181999999998),\n",
              " (39.74729, -84.21426),\n",
              " (39.97415, -83.09486),\n",
              " (39.08272, -84.52264),\n",
              " (39.949808, -83.02289300000002),\n",
              " (39.95141, -83.0137),\n",
              " (38.7056, -80.66107),\n",
              " (39.1479, -84.53929000000002),\n",
              " (41.7573, -83.48075),\n",
              " (39.98946, -85.9299),\n",
              " (39.98894, -83.025012),\n",
              " (41.110996, -80.82384),\n",
              " (41.68685900000001, -83.554005),\n",
              " (41.53907, -81.63354),\n",
              " (39.300562, -84.518869),\n",
              " (41.202543, -85.7011),\n",
              " (39.19288, -84.47723),\n",
              " (40.07297, -83.1347),\n",
              " (39.140991, -84.483618),\n",
              " (41.121599, -80.789503),\n",
              " (41.31438, -81.51286),\n",
              " (39.85922, -84.27762),\n",
              " (40.42005, -80.03531),\n",
              " (39.9589, -82.98257),\n",
              " (39.89087, -83.85382),\n",
              " (39.89862, -83.85353),\n",
              " (40.03938, -83.050567),\n",
              " (41.41218, -81.61371),\n",
              " (38.306159, -80.833765),\n",
              " (40.104, -82.94154),\n",
              " (38.24178, -85.62212),\n",
              " (41.55264, -81.60032),\n",
              " (39.99226, -82.98517),\n",
              " (38.31553, -85.58313000000003),\n",
              " (38.400331, -85.371049),\n",
              " (38.31251, -85.57741999999998),\n",
              " (38.400331, -85.371049),\n",
              " (39.88938, -82.88316),\n",
              " (38.15873, -80.90504),\n",
              " (39.9745, -83.09654),\n",
              " (41.47487, -81.72095),\n",
              " (39.26931, -84.4307),\n",
              " (38.2201, -85.82223),\n",
              " (41.48339, -81.66297),\n",
              " (39.16161, -84.51375),\n",
              " (41.42734, -82.08322),\n",
              " (41.52631, -83.62123000000003),\n",
              " (39.91732, -83.012335),\n",
              " (41.60867, -81.48891),\n",
              " (41.20554, -85.17116),\n",
              " (41.507189, -81.67124),\n",
              " (39.97415, -83.09486),\n",
              " (39.97043, -83.01961999999997),\n",
              " (39.93849, -82.84849),\n",
              " (39.89698, -83.03428000000002),\n",
              " (39.71452, -84.22281),\n",
              " (40.11468, -83.01644),\n",
              " (38.34244, -85.80447),\n",
              " (41.47036, -81.65984),\n",
              " (38.30056, -85.84703),\n",
              " (39.169389, -84.50389),\n",
              " (39.936838, -83.042661),\n",
              " (39.937567, -83.04209200000003),\n",
              " (39.9425, -82.53536),\n",
              " (39.27125, -84.35176),\n",
              " (41.398877, -83.616108),\n",
              " (39.24422, -84.30224),\n",
              " (40.412997, -80.07973299999998),\n",
              " (39.021521, -84.50784300000002),\n",
              " (41.12367, -80.76913),\n",
              " (41.073876, -83.66091999999998),\n",
              " (39.01992, -83.65886),\n",
              " (38.97914, -83.65465),\n",
              " (40.09927, -83.15793000000002),\n",
              " (39.93658, -83.00941999999998),\n",
              " (39.11543, -84.50003000000002),\n",
              " (41.474552, -81.711522),\n",
              " (39.78517, -84.18457),\n",
              " (41.47974, -81.6667),\n",
              " (38.27719, -85.69383),\n",
              " (38.495124, -85.771118),\n",
              " (39.73277, -84.20522),\n",
              " (41.458, -83.62243000000002),\n",
              " (39.045381, -84.462312),\n",
              " (41.526, -81.65974),\n",
              " (40.78725, -81.38592),\n",
              " (38.3657, -85.75495),\n",
              " (39.02575, -84.61272),\n",
              " (40.90923, -81.79765),\n",
              " (40.91649, -81.78869),\n",
              " (39.10051, -80.39199),\n",
              " (40.082643, -82.91367199999998),\n",
              " (41.47162, -81.90626),\n",
              " (40.08155, -82.91859000000002),\n",
              " (40.07976, -82.92689),\n",
              " (38.27511, -85.81238),\n",
              " (39.02908, -84.53565),\n",
              " (39.04455, -84.57798000000003),\n",
              " (39.83026, -81.45434),\n",
              " (39.81436, -81.46898),\n",
              " (38.41336, -82.3483),\n",
              " (38.20674, -85.74846),\n",
              " (38.10937, -85.70123000000002),\n",
              " (40.26758, -82.92745),\n",
              " (38.22285, -85.57436),\n",
              " (40.43827, -80.00527),\n",
              " (39.08272, -84.52264),\n",
              " (40.046599, -85.99359),\n",
              " (41.67904, -83.5732),\n",
              " (40.52225, -80.06666),\n",
              " (41.041763, -81.3932),\n",
              " (39.02541, -85.88784),\n",
              " (39.887572, -84.047499),\n",
              " (39.90803, -84.03969000000002),\n",
              " (39.8181, -81.45925),\n",
              " (39.8181, -81.45925),\n",
              " (39.81447, -81.46769),\n",
              " (41.47307, -80.36586),\n",
              " (41.460561, -80.366376),\n",
              " (39.75022, -84.19668),\n",
              " (39.16161, -84.51375),\n",
              " (39.82329, -84.166569),\n",
              " (39.818751, -84.167637),\n",
              " (39.15267, -84.5395),\n",
              " (40.480209, -85.719799),\n",
              " (39.02676, -84.61421),\n",
              " (40.480209, -85.719799),\n",
              " (40.48013, -85.72942900000002),\n",
              " (38.24863, -85.70467),\n",
              " (39.24907, -84.44561999999998),\n",
              " (39.18364, -84.48373000000002),\n",
              " (41.420898, -81.69322),\n",
              " (39.18976, -84.26285),\n",
              " (40.00921, -83.03149),\n",
              " (41.12369, -80.75595),\n",
              " (41.09705, -81.50012),\n",
              " (41.03011, -81.40292099999998),\n",
              " (39.9533, -83.0032),\n",
              " (39.91404, -83.01729),\n",
              " (39.11811, -84.49975),\n",
              " (39.73277, -84.20522),\n",
              " (41.47379, -81.69592),\n",
              " (41.47395, -81.69931),\n",
              " (39.62334, -81.83577),\n",
              " (39.98233, -82.98449000000002),\n",
              " (40.15106, -80.03243),\n",
              " (41.66332, -83.56385999999998),\n",
              " (39.35245, -84.37507),\n",
              " (41.67178, -83.6939),\n",
              " (38.38018, -82.60993),\n",
              " (39.03347, -84.603),\n",
              " (40.42116, -80.0438),\n",
              " (41.341147, -83.347543),\n",
              " (41.34131, -83.376561),\n",
              " (40.26758, -82.92745),\n",
              " (40.432459, -80.023538),\n",
              " (39.9912, -85.9188),\n",
              " (39.05654000000001, -84.54283000000002),\n",
              " (38.39328, -85.76223),\n",
              " (39.97165800000001, -80.017133),\n",
              " (39.98381, -80.01011),\n",
              " (39.84457, -85.51639399999998),\n",
              " (38.399528, -85.76430500000002),\n",
              " (38.38981, -81.76937),\n",
              " (41.47965, -81.66758),\n",
              " (39.97859, -82.9763),\n",
              " (40.68109000000001, -80.24616999999998),\n",
              " (41.47487, -81.72095),\n",
              " (40.68109000000001, -80.24616999999998),\n",
              " (40.1412, -82.97121),\n",
              " (39.85942, -84.27778),\n",
              " (39.10838, -84.50296999999998),\n",
              " (39.32662, -84.42002),\n",
              " (39.24907, -84.44561999999998),\n",
              " (41.11959, -81.64568),\n",
              " (39.04455, -84.57798000000003),\n",
              " (38.26109, -85.73695),\n",
              " (38.21911, -85.50582),\n",
              " (39.94976, -83.04032),\n",
              " (38.82584, -120.029214),\n",
              " (37.358209, -121.840017),\n",
              " (37.881943, -122.307987),\n",
              " (37.881038, -122.307788),\n",
              " (38.518811, -121.101664),\n",
              " (38.518811, -121.101664),\n",
              " (36.9903, -119.71146),\n",
              " (37.42592, -122.09879),\n",
              " (37.75745, -122.21131),\n",
              " (37.31648, -121.96746),\n",
              " (37.44415, -122.2688),\n",
              " (37.71981, -121.65943),\n",
              " ...]"
            ]
          },
          "metadata": {},
          "execution_count": 212
        }
      ]
    },
    {
      "cell_type": "code",
      "source": [
        "from folium import plugins\n",
        "\n",
        "from folium.plugins import HeatMap"
      ],
      "metadata": {
        "id": "yW5wyhb16A5f"
      },
      "execution_count": null,
      "outputs": []
    },
    {
      "cell_type": "code",
      "source": [
        "sample_df1 = df.sample(int(0.001 * len(df)))\n",
        "lat_lng_pairs = list(zip(list(sample_df1.Start_Lat), list(sample_df1.Start_Lng)))"
      ],
      "metadata": {
        "id": "cTOFb0Hf6Wdv"
      },
      "execution_count": null,
      "outputs": []
    },
    {
      "cell_type": "code",
      "source": [
        "map = folium.Map()\n",
        "HeatMap(lat_lng_pairs).add_to(map)\n",
        "map"
      ],
      "metadata": {
        "colab": {
          "base_uri": "https://localhost:8080/"
        },
        "id": "HKpyguxl63jD",
        "outputId": "cd9ee4a4-e7a1-4c19-9744-95a6853c0962"
      },
      "execution_count": null,
      "outputs": [
        {
          "output_type": "execute_result",
          "data": {
            "text/plain": [
              "<folium.folium.Map at 0x7fbcd6da6850>"
            ],
            "text/html": [
              "<div style=\"width:100%;\"><div style=\"position:relative;width:100%;height:0;padding-bottom:60%;\"><span style=\"color:#565656\">Make this Notebook Trusted to load map: File -> Trust Notebook</span><iframe srcdoc=\"&lt;!DOCTYPE html&gt;\n",
              "&lt;head&gt;    \n",
              "    &lt;meta http-equiv=&quot;content-type&quot; content=&quot;text/html; charset=UTF-8&quot; /&gt;\n",
              "    \n",
              "        &lt;script&gt;\n",
              "            L_NO_TOUCH = false;\n",
              "            L_DISABLE_3D = false;\n",
              "        &lt;/script&gt;\n",
              "    \n",
              "    &lt;style&gt;html, body {width: 100%;height: 100%;margin: 0;padding: 0;}&lt;/style&gt;\n",
              "    &lt;style&gt;#map {position:absolute;top:0;bottom:0;right:0;left:0;}&lt;/style&gt;\n",
              "    &lt;script src=&quot;https://cdn.jsdelivr.net/npm/leaflet@1.6.0/dist/leaflet.js&quot;&gt;&lt;/script&gt;\n",
              "    &lt;script src=&quot;https://code.jquery.com/jquery-1.12.4.min.js&quot;&gt;&lt;/script&gt;\n",
              "    &lt;script src=&quot;https://maxcdn.bootstrapcdn.com/bootstrap/3.2.0/js/bootstrap.min.js&quot;&gt;&lt;/script&gt;\n",
              "    &lt;script src=&quot;https://cdnjs.cloudflare.com/ajax/libs/Leaflet.awesome-markers/2.0.2/leaflet.awesome-markers.js&quot;&gt;&lt;/script&gt;\n",
              "    &lt;link rel=&quot;stylesheet&quot; href=&quot;https://cdn.jsdelivr.net/npm/leaflet@1.6.0/dist/leaflet.css&quot;/&gt;\n",
              "    &lt;link rel=&quot;stylesheet&quot; href=&quot;https://maxcdn.bootstrapcdn.com/bootstrap/3.2.0/css/bootstrap.min.css&quot;/&gt;\n",
              "    &lt;link rel=&quot;stylesheet&quot; href=&quot;https://maxcdn.bootstrapcdn.com/bootstrap/3.2.0/css/bootstrap-theme.min.css&quot;/&gt;\n",
              "    &lt;link rel=&quot;stylesheet&quot; href=&quot;https://maxcdn.bootstrapcdn.com/font-awesome/4.6.3/css/font-awesome.min.css&quot;/&gt;\n",
              "    &lt;link rel=&quot;stylesheet&quot; href=&quot;https://cdnjs.cloudflare.com/ajax/libs/Leaflet.awesome-markers/2.0.2/leaflet.awesome-markers.css&quot;/&gt;\n",
              "    &lt;link rel=&quot;stylesheet&quot; href=&quot;https://cdn.jsdelivr.net/gh/python-visualization/folium/folium/templates/leaflet.awesome.rotate.min.css&quot;/&gt;\n",
              "    \n",
              "            &lt;meta name=&quot;viewport&quot; content=&quot;width=device-width,\n",
              "                initial-scale=1.0, maximum-scale=1.0, user-scalable=no&quot; /&gt;\n",
              "            &lt;style&gt;\n",
              "                #map_8ea46ab771b84938b8df95925963c4a7 {\n",
              "                    position: relative;\n",
              "                    width: 100.0%;\n",
              "                    height: 100.0%;\n",
              "                    left: 0.0%;\n",
              "                    top: 0.0%;\n",
              "                }\n",
              "            &lt;/style&gt;\n",
              "        \n",
              "    &lt;script src=&quot;https://cdn.jsdelivr.net/gh/python-visualization/folium@master/folium/templates/leaflet_heat.min.js&quot;&gt;&lt;/script&gt;\n",
              "&lt;/head&gt;\n",
              "&lt;body&gt;    \n",
              "    \n",
              "            &lt;div class=&quot;folium-map&quot; id=&quot;map_8ea46ab771b84938b8df95925963c4a7&quot; &gt;&lt;/div&gt;\n",
              "        \n",
              "&lt;/body&gt;\n",
              "&lt;script&gt;    \n",
              "    \n",
              "            var map_8ea46ab771b84938b8df95925963c4a7 = L.map(\n",
              "                &quot;map_8ea46ab771b84938b8df95925963c4a7&quot;,\n",
              "                {\n",
              "                    center: [0, 0],\n",
              "                    crs: L.CRS.EPSG3857,\n",
              "                    zoom: 1,\n",
              "                    zoomControl: true,\n",
              "                    preferCanvas: false,\n",
              "                }\n",
              "            );\n",
              "\n",
              "            \n",
              "\n",
              "        \n",
              "    \n",
              "            var tile_layer_c42013596f00f770af1b66aaa50d3af7 = L.tileLayer(\n",
              "                &quot;https://{s}.tile.openstreetmap.org/{z}/{x}/{y}.png&quot;,\n",
              "                {&quot;attribution&quot;: &quot;Data by \\u0026copy; \\u003ca href=\\&quot;http://openstreetmap.org\\&quot;\\u003eOpenStreetMap\\u003c/a\\u003e, under \\u003ca href=\\&quot;http://www.openstreetmap.org/copyright\\&quot;\\u003eODbL\\u003c/a\\u003e.&quot;, &quot;detectRetina&quot;: false, &quot;maxNativeZoom&quot;: 18, &quot;maxZoom&quot;: 18, &quot;minZoom&quot;: 0, &quot;noWrap&quot;: false, &quot;opacity&quot;: 1, &quot;subdomains&quot;: &quot;abc&quot;, &quot;tms&quot;: false}\n",
              "            ).addTo(map_8ea46ab771b84938b8df95925963c4a7);\n",
              "        \n",
              "    \n",
              "            var heat_map_79974757400234ee9bfc4923def8eea7 = L.heatLayer(\n",
              "                [[48.62866, -93.99377], [30.387812, -87.07974899999998], [38.993224, -77.365149], [32.889772, -97.08042], [35.098551, -80.944834], [28.383934000000004, -81.505925], [30.427219, -86.86701], [35.709445, -86.310538], [28.635424, -81.448521], [36.23422, -86.80166700000002], [47.20345, -122.29364], [27.96747, -82.708789], [40.699797, -73.996313], [34.08028, -84.66996], [34.072948, -81.228954], [46.38437, -94.2566], [42.405009, -82.960464], [25.921473, -80.38955], [37.118656, -93.119348], [27.664473, -82.677527], [42.38563, -83.159942], [36.20882, -86.77620999999998], [41.538158, -73.04424399999998], [25.828789, -80.322071], [25.687078, -80.364561], [38.846508, -77.303549], [40.850603, -73.946782], [38.301419, -122.303055], [29.846433, -95.488808], [34.273302, -80.997489], [41.88408, -87.7013], [44.972094, -93.286961], [41.8832, -87.63976], [42.414915, -88.123932], [34.029546, -118.067458], [33.808924, -118.287496], [40.217543, -78.940572], [38.28415800000001, -120.509572], [32.90286, -96.721964], [30.037182, -89.992542], [42.397192, -122.316623], [45.002651, -93.232036], [34.226133000000004, -118.375601], [37.682901, -113.165949], [43.14458, -77.55649100000002], [38.556806, -121.444551], [34.065248, -117.997819], [40.96993, -74.07956999999998], [35.178178, -80.818074], [34.027033, -118.430061], [34.135567, -118.000752], [32.178051, -110.917782], [45.934653, -108.185005], [32.885106, -96.699467], [33.591590000000004, -81.952484], [33.89685, -117.48528], [39.18045, -104.85008], [25.652281, -80.387039], [44.004932, -123.756555], [36.67121, -76.89485], [36.819552, -119.785221], [33.831099, -117.717293], [34.134552, -118.70281], [35.21556, -80.87244799999998], [33.326039, -117.159044], [25.78236, -80.30714], [30.46359600000001, -81.648427], [38.675886, -121.456874], [25.635209, -80.338247], [34.049609999999994, -118.22252], [43.706625, -120.305], [40.907732, -74.099897], [32.276083, -90.179225], [37.158989, -121.982809], [34.438933, -119.754108], [33.69044, -117.626098], [39.885439, -104.98767], [39.01045, -77.1508], [29.42169, -98.4237], [26.026655, -80.166227], [41.78613, -71.42154000000002], [44.289777, -121.416268], [45.302312, -121.754843], [37.526923, -77.355785], [47.67423, -94.665043], [43.136223, -73.612769], [33.461855, -112.075665], [32.75498, -97.47877], [28.205878, -82.667709], [38.01144, -122.088328], [35.027557, -81.871737], [34.218917, -119.066235], [45.50221, -118.42226], [35.69755100000001, -78.561011], [37.36371, -121.8982], [35.742301, -78.68049599999998], [37.495082, -122.229005], [40.5993, -122.492388], [33.990844, -117.935139], [34.218917, -119.066235], [43.17931, -77.63705999999998], [29.950840000000003, -90.07559], [28.017732, -82.331293], [30.349315, -81.553093], [41.373643, -74.637112], [38.66094, -121.35778], [41.65192, -93.69104], [34.057044, -118.214146], [33.979221, -117.548679], [33.31986, -111.635624], [39.59561, -119.83246], [39.88985, -86.04902], [45.37245, -122.12437], [38.86291, -77.05166], [38.8314, -77.10876], [37.826871, -122.286515], [36.14143, -115.17341], [27.964355, -82.670763], [38.96738, -77.29138], [38.90252, -77.0091], [34.067663, -80.95399499999998], [40.73173, -73.72299], [39.049568, -94.364754], [44.247649, -120.997609], [41.31989, -73.979924], [33.698715, -117.861732], [34.480022, -118.2962], [40.297234, -74.600176], [45.257262, -120.735712], [34.856053, -82.392782], [33.904505, -117.459887], [28.549494, -81.345477], [27.33057100000001, -82.497541], [42.92421, -83.625272], [45.80463, -118.497365], [34.029403, -117.129992], [35.73568200000001, -119.742339], [38.291805, -85.65077600000002], [36.069171, -86.609208], [30.227315, -97.773403], [28.008345, -82.453283], [37.991218, -122.083968], [32.92582, -96.81125], [39.465519, -77.51921999999998], [28.51016, -81.24641], [36.087856, -86.701555], [42.4466, -83.75282], [34.247222, -118.839722], [40.61764, -111.43577], [42.782218, -73.85336099999998], [34.012219, -118.418573], [33.802285, -118.081991], [43.231769, -73.691965], [38.605716, -121.401485], [38.268536, -77.51075], [37.3167, -121.97522], [35.84179, -78.683295], [35.034859999999995, -89.79048], [34.24776, -118.42582], [33.528238, -86.657048], [40.18526, -111.0239], [34.02894000000001, -118.20356], [26.335587, -81.806455], [38.840419, -77.008436], [39.00617, -76.89825], [37.335063, -80.01509], [33.39649, -84.757989], [33.388521000000004, -117.227773], [33.81438, -118.17633], [38.813163, -77.144161], [38.63001, -90.3658], [41.87561, -87.64233], [44.551463, -112.302158], [29.703685, -95.53791], [27.21438400000001, -82.445365], [30.533163, -91.08688], [38.442408, -77.411427], [34.661233, -92.403444], [36.690938, -121.65836000000002], [28.407493, -81.404546], [41.49245300000001, -81.675641], [39.761544, -84.240063], [40.653053, -112.029906], [34.423, -118.42818], [34.340812, -117.458404], [30.25604, -97.76149], [30.355756, -97.689063], [30.351263, -97.748967], [34.204545, -79.54002], [34.93581, -81.99918000000002], [34.033209, -118.114324], [34.321428000000004, -118.496744], [34.233093, -118.410017], [34.26034, -118.43873], [34.13713, -118.597182], [44.970369, -93.460319], [33.88132, -117.61835], [43.15054, -73.57696999999997], [39.870495, -75.390017], [25.927764, -80.293387], [33.608082, -111.995281], [25.964182, -80.16586099999998], [40.08355, -75.254462], [33.31201, -111.89447], [35.161796, -89.897142], [32.841954, -117.120783], [35.077377, -85.098987], [37.246282, -121.776933], [37.76197, -122.40578], [27.388890000000004, -82.51385], [33.872766, -118.201768], [30.44135, -91.138245], [40.82633, -111.916181], [30.51724, -97.687944], [40.546113, -76.988501], [43.36182, -124.30046000000002], [34.237309, -77.872151], [40.409485, -76.933468], [40.206705, -75.224636], [34.768161, -92.33358], [35.51743, -118.517491], [40.068134, -75.313387], [40.702382, -111.795061], [40.99318, -73.806586], [34.89011, -82.40586], [38.882355, -77.018217], [28.449055, -81.470923], [28.63802, -81.387351], [38.410229, -82.272842], [34.069835, -117.863875], [37.633795, -122.408198], [29.706182, -95.376052], [37.50384, -77.44686], [27.963749, -82.791759], [28.447931, -81.470943], [45.080504, -94.241396], [39.52518, -106.21529], [25.925341, -80.153943], [32.583758, -117.084065], [37.51604, -121.9407], [30.331549, -98.024645], [33.763009000000004, -117.972349], [35.36659500000001, -84.990534], [39.863804, -104.98748], [34.581277, -82.687387], [29.637805, -98.456193], [44.890877, -122.994099], [41.360098, -72.043481], [27.269532, -82.44915999999998], [37.190923, -121.993432], [37.74116, -121.580467], [43.184351, -77.560785], [45.009335, -93.120806], [37.385605, -120.613199], [45.498796, -122.790999], [38.897376, -76.949915], [35.073305, -85.321658], [28.012701, -82.545379], [47.461463, -122.217954], [35.106682, -80.977418], [39.66522, -75.77597], [38.92335900000001, -76.904296], [34.939349, -82.055263], [30.75851, -88.092788], [38.550727, -121.380234], [38.507035, -121.46454], [40.80174, -73.916996], [34.004574, -118.153386], [37.44759000000001, -122.12151], [35.222629, -112.319337], [43.197768, -77.72110500000002], [39.74502, -84.11738000000003], [38.364274, -122.667055], [44.10267, -121.30612], [25.941422, -80.19295], [33.56483, -86.72936999999996], [33.918690000000005, -118.2847], [39.431463, -121.468456], [32.92796, -80.69190400000002], [34.453125, -79.357692], [33.774547, -118.072032], [39.015101, -94.110659], [39.809528, -120.033134], [25.908655, -80.183285], [40.008278, -75.276613], [45.186959, -122.844334], [38.261636, -85.73343100000002], [25.477219, -80.439759], [33.94583, -118.09412], [41.581331, -87.679148], [40.91728, -73.87091], [39.462815, -76.29624], [36.141759, -86.71418800000002], [30.308136, -81.646314], [30.520541, -88.270485], [27.049735, -82.399823], [33.461791, -112.01856399999998], [30.067702, -90.390132], [32.338824, -110.977496], [40.75023, -73.8352], [35.317654, -119.003059], [37.59988900000001, -122.376082], [42.31913, -83.16642], [35.309991, -119.002984], [37.61606, -113.335658], [40.785, -73.94091], [37.509802, -121.970289], [35.272217, -80.884641], [38.575122, -121.546984], [32.736715000000004, -96.823571], [25.93222, -80.212866], [39.785345, -86.13808], [45.762702, -120.12839], [34.218534000000005, -117.39982], [34.14332, -118.27808], [34.15592, -118.30723], [25.748356, -80.335763], [38.387161, -122.726927], [34.987388, -85.202375], [39.716999, -75.566259], [35.146267, -80.82266], [37.886658, -122.309253], [35.304967, -118.996404], [36.045572, -86.72268299999998], [37.29841, -121.940389], [45.52622, -122.65923], [35.142379, -80.930592], [38.878372, -77.039469], [35.69632, -78.58452], [44.962683, -93.269956], [40.025224, -75.626649], [44.118901, -121.288949], [34.027198, -117.800458], [41.87035, -87.89249000000002], [46.638867, -111.947787], [44.86177, -93.30224], [35.833862, -78.69748100000002], [42.33619, -83.09037], [33.852321999999994, -78.698013], [35.063263, -82.368267], [40.776037, -74.040935], [34.089052, -118.25933700000002], [33.81072, -118.291931], [41.570149, -87.432159], [41.952164, -87.728347], [34.030406, -117.621508], [39.418183, -76.632481], [34.074155, -117.617107], [42.14424, -87.88320999999998], [37.560377, -121.909202], [38.51427, -90.37594], [32.807789, -96.842571], [38.558055, -76.848938], [33.124590000000005, -117.10422], [28.117543, -81.935424], [34.07145, -117.86818999999998], [39.21135, -94.49213], [44.776036, -93.540812], [44.268311, -94.340385], [33.965868, -78.849046], [39.192951, -94.589947], [36.983546, -121.954055], [27.050818, -80.235031], [32.726354, -117.15563600000002], [40.633052, -74.016147], [38.657702, -121.363424], [36.29778, -119.49212], [37.607392, -120.974932], [36.79296, -121.66693], [29.98681, -95.73677], [38.793293, -77.025611], [44.532471, -92.933551], [33.983945, -118.140531], [41.47114000000001, -81.69233], [39.933897, -75.077315], [32.985559, -97.303316], [36.878397, -121.565016], [36.884799, -76.22435899999998], [33.007231, -117.26121], [25.889774, -80.16356800000001], [42.23528, -87.856224], [39.392097, -77.32526999999997], [37.870985, -121.071539], [32.133861, -110.99884099999998], [25.88585, -80.351156], [38.94253, -76.718133], [36.54714, -119.628209], [37.504914, -77.613677], [39.14709000000001, -76.64478000000003], [38.440327, -82.124189], [39.9479, -75.1418], [39.435778000000006, -80.18203100000002], [33.624826, -84.48852099999998], [30.441725, -97.668932], [42.62842, -73.70244], [34.01774, -117.341308], [33.807499, -81.004933], [34.004204, -118.281497], [33.136821999999995, -117.170199], [38.631117, -121.267564], [45.566836, -122.6785], [32.784871, -97.321049], [37.34211, -79.235945], [33.85801, -117.87592], [32.311631, -90.901684], [35.14802, -90.298508], [34.186534, -118.159714], [39.1443, -76.75401], [30.672301, -87.978515], [40.84522, -73.91188000000002], [40.61139, -80.09479], [28.564829, -81.236408], [38.942491, -121.09421100000002], [38.986691, -123.117846], [25.898023, -80.24257], [34.077141, -117.998281], [40.78435, -73.94199], [34.065739, -118.216194], [28.80814, -81.33978], [44.87483, -93.05155], [41.27275, -73.11884], [37.70134, -121.8448], [45.075691, -93.052428], [36.930596, -76.406869], [39.861795, -77.096613], [44.293509, -92.701202], [28.612624, -81.43431], [40.26661, -82.92848000000002], [36.578016, -121.907476], [37.42576, -121.91571], [39.072318, -121.540831], [39.113548, -94.615105], [42.79594, -73.22202], [30.488291, -84.255624], [39.096482, -94.551558], [27.893661, -82.72976899999998], [40.93967, -80.13551899999999], [33.92575, -118.17795], [29.266421, -82.151927], [33.775014, -117.903421], [38.07517, -84.50241], [38.495482, -77.38379599999998], [42.398074, -122.191118], [43.510692, -123.507378], [30.385881, -97.648943], [28.452497, -80.973347], [45.727249, -111.185138], [33.664462, -84.42025500000003], [43.619054, -93.347258], [28.122936, -82.74085], [47.66985, -122.376199], [37.31619, -121.970912], [30.818356, -83.316568], [28.449924, -81.479136], [33.92592, -118.308109], [45.840829, -95.377324], [32.75985900000001, -117.1896], [40.74872, -74.17629000000002], [40.66834, -89.57214], [35.964892, -83.934484], [38.733533, -122.00588799999998], [40.81947, -73.453369], [33.629563, -81.734605], [42.26515, -85.18356], [37.6916, -122.06253999999998], [31.52948, -103.12443], [34.077729999999995, -117.99792], [38.368171, -121.95942], [38.871806, -76.98214300000002], [39.11361, -84.52745], [34.853003, -82.667672], [37.695809, -121.697025], [40.189951, -78.836807], [30.995315, -85.407896], [42.578727, -83.866163], [39.32846, -77.021445], [25.763147, -80.302359], [43.14998, -77.64862], [33.823009000000006, -84.35705], [36.26651500000001, -86.656284], [34.015645, -117.319624], [40.419627, -80.103616], [33.967465000000004, -118.25426000000002], [25.897365, -80.211161], [26.143416, -80.44145400000002], [37.701788, -121.919335], [34.103075, -117.535804], [25.592246, -80.379144], [33.78962, -84.391566], [37.518149, -77.426415], [32.853131, -96.769525], [34.019069, -118.479835], [41.662098, -93.499649], [29.01332, -81.23563], [35.945605, -78.54231], [34.010755, -118.158811], [30.747674, -86.240369], [33.902673, -117.27723600000002], [29.775741, -82.045936], [38.854471, -121.143908], [35.787287, -78.697568], [46.112352, -112.859837], [34.14776, -118.22874], [33.926289000000004, -118.213521], [42.7655, -123.3381], [38.189967, -85.73682099999998], [35.099555, -80.947265], [33.941281, -117.874661], [29.746096, -95.379865], [36.291757, -80.40411800000003], [32.314163, -95.275862], [44.285435, -120.888603], [32.221294, -110.973327], [35.228079, -80.861274], [36.156767, -86.77534200000002], [41.365236, -72.069784], [39.86598, -84.18038], [33.68343, -117.85897], [44.70492700000001, -122.092927], [25.942949, -80.122803], [37.694145, -77.449547], [47.238088, -121.175304], [34.721554, -79.699641], [31.822540000000004, -81.52032], [43.272032, -76.14419000000002], [42.098547, -120.31918600000002], [39.072192, -94.5231], [38.955989, -94.707248], [25.687938, -80.41644000000002], [38.053795, -121.371575], [34.146909, -118.229334], [30.313396, -90.997891], [40.857365, -76.809441], [33.191463, -87.464692], [34.028981, -118.01313], [28.187825, -82.547913], [39.783735, -75.47981899999998], [28.543426, -81.31066700000002], [37.45134, -113.22919], [34.144209000000004, -117.31891], [32.94232, -96.90357], [34.746968, -92.269286], [38.576287, -121.564484], [38.93369000000001, -94.52067], [39.411617, -74.55475600000003], [38.910852, -121.507504], [33.628429, -117.704406], [40.30183, -111.72563999999998], [25.703367, -80.33425], [33.951604, -118.368993], [38.298173, -85.84455], [25.700012, -80.366148], [37.169072, -93.316007], [33.87381, -118.25447], [35.072039000000004, -90.01455899999998], [43.036018, -83.713211], [28.145438, -81.457146], [28.372439, -81.277703], [25.944075, -80.12271899999998], [43.01079, -83.67959499999998], [28.187051, -82.740162], [43.03918, -89.38204], [32.251005, -81.130219], [35.023506, -85.244962], [32.860205, -96.821082], [34.082174, -118.598524], [38.61717, -90.19145], [44.975299, -93.285083], [33.83071, -84.36036999999997], [36.433357, -77.629405], [28.14692, -82.73219], [40.89696, -74.13415], [36.902509, -76.278031], [35.098253, -118.144666], [34.592278, -117.258756], [45.69664, -121.35186000000002], [34.0315, -117.32771], [40.17304, -74.09912], [25.81385, -80.13116], [37.637346, -122.440234], [39.767663, -76.054536], [36.255564, -119.872189], [35.83872, -78.675063], [33.89275, -117.88081], [34.030398, -117.623845], [28.253687, -81.486757], [36.575642, -121.912225], [38.514798, -123.239871], [29.732068, -95.356294], [34.948864, -81.931325], [40.15631, -82.94784], [35.83471, -78.60221], [34.143175, -118.744809], [39.927315, -120.839625], [28.567366, -81.212456], [32.457932, -93.72348], [36.762899, -76.26839100000002], [39.983992, -76.736278], [33.898057, -117.559875], [34.497479, -77.897999], [29.937746, -90.092986], [35.272217, -80.884641], [34.06654, -117.23452], [36.191376, -86.787184], [43.09333, -73.377773], [45.307801, -113.151929], [29.717751, -95.535976], [32.828212, -96.824393], [35.439881, -119.020083], [30.450771000000003, -86.63860600000002], [39.694987, -86.190866], [42.3542, -87.96365], [40.253617, -75.209255], [33.508387, -79.550335], [40.483395, -78.02283800000002], [33.74069, -117.83428], [33.94623, -117.388719], [28.495958, -81.396924], [34.49861, -117.782631], [38.5229, -90.39564], [28.338793, -82.699342], [38.276536, -80.836329], [25.78224, -80.22721999999997], [42.419, -82.93413000000002], [25.941566, -80.306811], [43.072824, -73.874593], [33.09788, -97.0289], [42.960931, -85.674959], [32.49317, -93.767942], [35.217804, -80.85046], [34.03686, -118.28401], [29.398266, -98.511754], [34.397796, -117.40311], [38.657624, -121.350598], [35.310412, -118.985441], [38.170269, -122.518252], [42.000309, -117.718169], [45.386337, -122.578585], [34.190319, -118.12838], [38.99074, -76.37165999999998], [34.38262, -118.48812], [44.891713, -122.99326299999998], [39.326387, -76.52624399999998], [37.67795, -122.38849], [35.178978, -80.891026], [32.862334000000004, -117.187993], [35.35849, -80.84306], [39.779384, -75.973644], [33.114048, -80.265437], [40.053231, -76.261377], [28.375192, -82.358237], [33.854085, -117.889319], [35.692638, -81.813007], [44.10931, -121.29516], [29.92528, -90.02134000000002], [32.732783000000005, -117.172473], [32.688499, -117.093497], [47.64499, -114.625993], [33.998306, -118.280859], [42.15878, -78.99478], [29.68833, -95.2806], [42.56946, -82.89193], [43.336644, -124.198333], [41.54716, -72.10845], [39.905937, -76.70395699999997], [32.234374, -110.875422], [41.301747, -124.047776], [34.110597, -118.481596], [26.567956, -81.68209399999998], [40.853624, -73.962913], [41.112803, -86.185163], [29.997613, -90.084262], [44.64785300000001, -121.12933], [44.85829, -93.53638], [40.268379, -123.873692], [30.390773, -87.060957], [33.890528, -80.061149], [25.592617, -80.374619], [28.451531, -81.400598], [34.147523, -118.228202], [34.165503, -118.492347], [34.06746500000001, -117.541918], [35.235144, -80.940896], [35.04568, -81.14249000000002], [42.732612, -73.698332], [38.94041, -94.57836], [47.26919, -122.26066000000002], [40.791728000000006, -73.518253], [33.87719, -118.145824], [35.824694, -78.706151], [39.692069, -86.237601], [28.25746, -81.61616], [40.374934, -111.568406], [36.080173, -86.726601], [43.001836, -83.749326], [28.544533, -81.428062], [33.270648, -117.098767], [29.725259, -95.266305], [25.762983, -80.307479], [39.434863, -84.231708], [35.354658, -80.73896500000002], [35.44385, -82.53832], [28.872016, -81.284376], [46.65835, -92.48394], [43.534837, -119.348849], [45.020039, -122.976079], [33.17923, -117.3479], [42.78563, -117.7675], [29.440668, -98.511653], [34.072216, -118.062719], [39.04654, -94.65071], [38.12552, -77.51438], [28.545763, -81.41358000000002], [29.741253000000004, -95.454621], [39.01965, -76.98029], [28.605784000000003, -81.307547], [38.50513, -90.68221], [32.878820000000005, -96.51348], [41.15467, -74.188615], [33.751606, -84.447063], [39.095174, -104.863449], [30.626825, -91.047657], [25.765582, -80.34702800000002], [28.191068, -82.4623], [25.942684, -80.203142], [44.09025, -123.09485], [27.94297000000001, -82.544917], [36.854339, -121.771049], [34.075598, -118.468314], [33.767048, -117.976266], [32.98311, -96.71267], [40.07322, -104.643643], [34.148107, -118.279586], [45.655653, -121.546793], [40.737079, -73.93220500000002], [35.09375900000001, -80.93514300000002], [44.97062, -93.29813], [33.129995, -117.116743], [27.960463, -82.74835], [40.73222, -73.92539000000002], [40.76484, -74.02405999999998], [29.793953, -95.339855], [35.344624, -80.696938], [33.31935900000001, -87.052883], [37.99977, -122.03811], [28.33729000000001, -81.37875], [32.511659, -93.740036], [28.420548, -81.404628], [38.50064, -121.51766], [38.613608, -121.334434], [42.90602, -74.55836], [30.63913, -91.069614], [38.883006, -94.676231], [34.028381, -118.172217], [44.683038, -117.6596], [38.540492, -122.648057], [36.15474, -86.857656], [34.032007, -117.327128], [33.869529, -117.67176], [36.96709, -76.29361], [34.030243, -118.382268], [28.451531, -81.400598], [33.774745, -118.084804], [39.09612, -94.56048], [38.528183, -121.51912], [26.01597000000001, -80.26415], [32.72163, -117.07878999999998], [38.216704, -122.603634], [40.827974, -73.844121], [29.584504, -95.1817], [34.13539, -118.00448], [27.639353000000003, -82.66935600000002], [41.79733, -71.40356], [30.004089, -90.02906], [26.54738, -81.796133], [32.075713, -110.938529], [45.503443, -122.67456], [26.71498900000001, -81.798776], [34.268233, -118.6356], [43.657738, -123.205314], [39.994107, -75.24161600000002], [42.384033, -88.004121], [27.775314, -82.679485], [25.814466, -80.353164], [27.52922, -81.809352], [43.28972, -124.23965], [41.42602, -72.85380699999997], [36.191224, -86.78781500000002], [40.377954, -75.571494], [40.666505, -73.801721], [38.67578, -77.25565999999998], [33.774452000000004, -118.012426], [28.091666, -82.739423], [47.62314, -122.32918], [45.86464, -119.29115], [25.733138, -80.309612], [34.078335, -117.624835], [33.057234, -117.070584], [41.77822000000001, -87.6301], [34.05138, -117.160945], [26.528066, -81.869511], [41.639881, -91.56093], [31.780747, -106.433747], [44.888487, -93.378378], [34.041792, -80.937822], [42.996121, -77.374509], [41.747552, -72.659013], [35.153588, -80.794234], [37.689384, -122.135925], [35.823089, -78.622288], [37.863935, -122.302816], [34.088594, -118.475404], [28.17310100000001, -82.749882], [33.542588, -117.673558], [25.796834, -80.338403], [34.187434, -118.933568], [38.266505, -122.793121], [28.05627, -82.73878], [32.930440000000004, -96.75804], [33.559268, -117.673129], [34.03665, -118.16132], [38.37612100000001, -121.950195], [39.9668, -74.20752], [33.66555, -84.34567], [33.625169, -84.399987], [33.944666999999995, -80.05918], [25.80949, -80.321496], [33.509442, -112.148797], [25.77824, -80.336586], [35.349407, -82.452687], [42.97419, -77.11588], [35.15293, -80.87785], [36.602573, -121.848595], [29.207001, -82.185715], [32.889503999999995, -117.14328799999998], [29.252266, -82.152213], [33.497118, -86.815439], [33.795497, -117.89368], [36.832381, -76.12087700000002], [34.045152, -117.940993], [30.443449, -91.178448], [35.346682, -119.023414], [36.96433, -121.763601], [29.733343, -95.633763], [33.912343, -117.446146], [45.258074, -120.91305], [36.984337, -121.383941], [40.8216, -112.90341], [44.861726, -93.280048], [32.272874, -110.913287], [41.454749, -112.038749], [41.15514, -112.02492], [25.884173, -80.338206], [47.295548, -115.165647], [34.12842, -117.96183], [28.34569, -81.38237], [34.064079, -117.544243], [36.049491, -80.32611], [40.747829, -74.171737], [30.167508, -97.692087], [32.841809999999995, -79.86703], [39.019475, -77.044138], [44.9649, -93.24474], [37.629321, -118.864227], [47.58854, -122.32906], [25.883668, -80.21066], [43.270589, -124.22809], [42.56439, -83.06993], [34.27785, -118.60477], [32.836556, -96.767584], [37.778568, -122.169144], [39.933124, -105.123779], [32.507258, -93.745266], [26.70904, -80.13999], [43.31486, -70.99653], [32.868875, -117.194213], [25.806911, -80.31311600000002], [37.769464, -122.413199], [45.14342, -93.26998], [39.87589000000001, -75.01528], [26.559996, -80.069673], [39.061115, -76.92119100000002], [37.54316, -77.44915], [25.807569, -80.313137], [43.131755, -77.52718], [44.9557, -92.98469], [34.031253, -118.273084], [37.70129, -121.866606], [41.66267, -87.59124], [25.926029, -80.15029200000002], [37.819896, -79.986186], [36.161385, -86.784328], [38.57018, -121.60135], [45.50153, -122.66071], [38.81852, -77.13135], [33.742490000000004, -117.28137], [40.760109, -74.051086], [36.051541, -119.03911200000002], [32.636283, -96.823116], [37.006156, -76.320481], [34.575144, -82.551626], [39.28458, -76.7358], [25.885641, -80.13317099999998], [36.982317, -121.801156], [42.34398, -123.567277], [32.366741, -86.089242], [37.402972, -77.440424], [35.146667, -118.995833], [42.92712, -85.607959], [37.673417, -97.3975], [27.937661, -82.289118], [41.24615, -73.09743], [34.14358, -117.25708], [37.629628, -122.428259], [26.558436, -80.07001899999999], [41.043373, -73.788218], [33.774358, -117.905237], [32.88329, -111.68708], [34.0335, -117.55048], [42.342989, -87.945584], [39.65241500000001, -106.885567], [34.023720000000004, -81.130814], [45.97486, -118.38729], [34.428873, -79.361897], [40.743712, -111.731274], [34.034432, -118.266642], [35.295917, -119.02542], [34.072111, -117.913223], [28.337333, -81.48970899999998], [32.332101, -90.245763], [38.001559, -121.349978], [45.63623, -108.90467], [27.848099, -82.663911], [40.002779, -75.194453], [28.418996000000003, -81.462526], [40.434719, -111.492535], [25.695487, -80.317279], [25.663211, -80.424112], [37.89157, -121.49146], [37.253118, -121.842124], [38.835414, -77.011874], [45.511442, -122.705554], [42.446758, -85.241945], [48.051092, -122.03323], [34.79456, -118.847656], [33.180205, -80.35613599999998], [34.072896, -117.787482], [35.344069, -82.443024], [32.780792, -96.81162], [42.01809, -87.74772], [32.666784, -117.080086], [33.911229, -118.171158], [36.18246, -77.13566], [25.727849, -80.43973199999998], [46.06516, -123.69138], [28.5454, -81.429009], [42.020571, -93.718704], [35.137013, -81.821526], [38.608458, -121.364483], [38.060106, -77.504028], [38.923648, -76.930571], [34.079886, -117.627528], [25.582806, -80.348167], [26.040663, -80.163366], [41.475985, -87.32344], [38.92579, -76.964486], [33.92279, -84.48302], [34.027588, -118.452593], [29.493716, -82.29329200000002], [34.062968, -118.361386], [34.347643, -117.448576], [30.48273, -97.67433], [30.168496, -81.747606], [45.28868, -93.552306], [40.704785, -111.90353], [26.05793, -80.16251], [42.937974, -90.128321], [27.567601, -82.54641600000002], [34.18892, -79.84675], [25.913573, -80.17148], [33.951919000000004, -118.29993799999998], [37.82506, -122.31199], [44.79477, -93.1982], [30.478874, -90.484331], [28.619754, -81.442601], [38.384041, -122.687061], [33.949781, -118.091995], [39.54453, -76.66646], [37.45164000000001, -121.92226], [34.05165, -118.21391], [33.91011, -117.174102], [35.190615, -80.810298], [42.392913, -87.92806], [41.70476, -72.64453], [35.748363, -78.772176], [38.055766, -121.296037], [26.71508, -81.81359], [36.150164, -86.85789399999999], [37.700034, -120.994514], [40.21765300000001, -78.941241], [28.514541, -81.400095], [38.99266400000001, -77.03455], [30.494781, -87.22224399999998], [28.357449, -81.495717], [30.402472, -81.564254], [31.79132, -106.2938], [34.273542, -118.56964], [37.369714, -77.910849], [37.970334, -121.324461], [38.947166, -77.297283], [35.324948, -119.037958], [28.449914, -81.481045], [32.911686, -96.880321], [43.089332, -75.20209100000002], [35.503488, -121.016084], [36.762182, -119.832742], [33.388954, -92.496653], [35.09742, -119.04018], [36.79315, -76.08104200000002], [33.798656, -118.085377], [34.025744, -117.33398400000002], [37.99417, -122.29681], [25.639625, -80.338787], [41.12592, -74.165867], [43.032997, -83.659881], [34.0463, -81.11978], [25.787715, -80.210169], [41.766415, -72.657061], [25.551806, -80.36390300000002], [38.94647, -76.84464], [45.39707, -122.74702], [28.009804, -82.021361], [32.806023, -86.581867], [40.793349, -73.167707], [33.678057, -117.880947], [29.92887, -95.41205], [29.679313, -95.586012], [34.172114, -118.46751], [34.140572, -118.710175], [36.084966, -78.333096], [39.64085, -105.13583], [33.88179, -117.58277], [33.988892, -118.371248], [39.869809, -75.102189], [28.37367, -82.20224499999998], [33.581022999999995, -112.242009], [38.629654, -90.333333], [47.248118, -122.372336], [37.71843, -122.05802], [39.94888, -75.18549], [37.31731, -121.93597], [47.54694, -122.06247], [44.73763, -123.05302], [32.221552, -110.8778], [39.365934, -78.046413], [47.26192800000001, -122.326101], [36.051045, -119.411205], [38.233119, -122.259474], [40.2021, -77.19646], [40.759648, -74.2087], [47.52465, -122.37664], [38.860498, -77.356163], [28.42435900000001, -81.40478399999998], [34.055686, -118.451951], [41.606638, -87.132835], [25.687938, -80.41644000000002], [43.48535, -89.49703000000002], [34.988645, -81.853165], [25.688624, -80.365888], [40.115727, -75.345147], [38.675075, -77.006465], [34.918734, -81.999143], [34.004011, -117.830189], [40.83499000000001, -73.838628], [43.029896, -77.889837], [33.87063, -118.340463], [39.999623, -75.190545], [34.006640000000004, -118.155511], [35.23567, -80.85453000000003], [34.201260999999995, -118.473583], [35.27534, -80.793447], [34.548836, -82.802442], [34.146269000000004, -118.075092], [41.83445, -88.01725], [37.389451, -118.500912], [40.804755, -77.852209], [30.122436, -81.625168], [28.513012, -81.508627], [40.862198, -73.910013], [30.261822, -97.738893], [25.78613, -80.213043], [34.400378, -118.572644], [34.217588, -79.617129], [38.674289, -121.347032], [29.76807, -95.35602], [43.04733, -122.352296], [35.300663, -77.917405], [30.348088, -91.136952], [42.98668, -121.826394], [40.954853, -73.852168], [33.45225, -117.135129], [34.024842, -117.774373], [25.608798, -80.494963], [32.85205, -117.115405], [34.279088, -118.469644], [30.42528900000001, -91.160783], [39.55761500000001, -76.547251], [39.632674, -76.272526], [35.153937, -80.848546], [40.76448, -78.385959], [41.813535, -87.630382], [43.87527100000001, -92.488163], [40.065373, -75.467362], [42.375608, -83.146451], [36.788331, -119.856365], [32.747374, -96.606965], [33.941182, -118.096502], [25.946648, -80.147074], [44.9062, -94.05215], [45.30414, -122.9544], [35.038431, -85.307478], [41.322097, -73.994629], [25.796831, -80.36641], [41.464236, -72.776473], [41.195155, -73.686501], [40.188599, -74.610224], [28.520872, -81.35163100000003], [43.004447, -83.690854], [25.49954, -80.413263], [36.424786, -119.848259], [41.22258, -96.04978], [34.120541, -118.271158], [40.766764, -77.82413000000003], [44.385528, -92.033094], [35.261044, -80.841059], [25.925423, -80.153918], [39.846079, -75.390759], [33.868736, -117.706972], [25.742691, -80.335643], [30.444965000000003, -97.78141], [42.01389, -87.75305], [40.15157, -74.69939000000002], [29.449811, -98.423886], [40.019605, -75.144097], [39.365569, -77.16924499999998], [33.13733, -117.33093999999998], [33.798722999999995, -117.23182], [25.924479, -80.321239], [34.04243, -81.086702], [36.185064, -121.069221], [38.765977, -111.468154], [42.491968, -83.022095], [37.214776, -93.281164], [28.05866, -82.4548], [39.0196, -122.676398], [41.283684, -81.50631], [25.92871, -80.18718100000002], [38.558147, -121.386142], [37.572907, -122.31636], [32.893313, -80.01848100000002], [40.029545, -76.306198], [37.847664, -122.48776], [41.39544, -79.36831], [39.255722, -77.301959], [45.32528, -93.847953], [30.256168, -97.745853], [35.098440000000004, -80.990959], [33.979865000000004, -117.370301], [33.792505, -118.072215], [32.925784, -96.809667], [42.36481, -71.05909], [27.447474, -82.52785], [28.436225, -81.368871], [33.472693, -79.10418], [40.845031, -73.907555], [35.374077, -118.967412], [43.052193, -77.58846], [37.786103, -122.246043], [40.736328, -73.92727], [38.83263400000001, -77.335696], [34.027452000000004, -118.274482], [33.717643, -117.968755], [33.041049, -117.074432], [34.151938, -80.738029], [45.534151, -122.564544], [44.783994, -93.41983], [44.11386, -123.18217], [41.170434, -76.87688299999998], [28.486997, -81.411386], [35.084055, -106.244198], [33.94085, -118.09671000000002], [39.127573, -121.557305], [33.869101, -117.752592], [41.147504, -121.648022], [45.521024, -122.665754], [38.339378, -122.71278], [39.044563, -94.49996], [32.7206, -97.52292], [30.520693, -91.17006], [39.95828, -83.0185], [40.30476, -122.331083], [33.940940999999995, -117.232693], [35.045495, -81.812884], [25.9406, -80.19075], [30.270907, -81.767801], [28.472623, -81.39341800000003], [40.90485, -73.8139], [40.404353, -75.336863], [32.964595, -117.096587], [34.145369, -117.289622], [32.795037, -96.792608], [34.164036, -118.469492], [40.054672, -76.35946], [30.616076, -81.597886], [34.021513, -118.354072], [28.526290000000003, -81.38615], [39.71162, -104.99944], [40.84715300000001, -73.933501], [34.139021, -117.492429], [38.18974, -85.77963000000003], [42.21213, -71.78220999999998], [25.702704, -80.32617900000002], [27.446528000000004, -82.510439], [38.79817, -90.58464], [33.850086, -117.875708], [38.476556, -107.228418], [40.91552, -73.81217], [36.08685, -86.6486], [34.185222, -79.887489], [34.196741, -79.741871], [45.540894, -122.699013], [42.997749, -83.705461], [45.091051, -93.440253], [36.07958, -86.953683], [32.762807, -117.163299], [33.730740000000004, -117.39961], [35.97643, -78.90094], [39.160941, -123.58028600000002], [44.949606, -92.861906], [34.273353, -118.569729], [37.837199, -122.012687], [36.975463, -121.889308], [37.42017, -122.09118], [38.36987, -121.95677], [39.628719, -84.193247], [26.023531, -80.167479], [35.863301, -78.817824], [36.017915, -86.624268], [42.12874, -86.37653], [25.76002, -80.38545], [33.925239000000005, -117.880042], [40.15281, -86.5365], [37.51098, -113.213034], [34.12104, -117.88325], [41.452356, -74.064285], [39.792255, -78.20015699999998], [32.852494, -79.978912], [34.029792, -117.712334], [40.73154, -74.03944], [27.384301, -81.446383], [40.367642, -122.282091], [41.65253, -93.70523], [28.442505, -81.365963], [40.562079, -111.970445], [42.745225, -83.399821], [33.46547, -112.26882], [47.399235, -92.903598], [38.375662, -78.819855], [39.243904, -76.61023], [28.114604, -82.746259], [40.788062, -73.524488], [38.64178, -85.78392099999998], [42.30881, -79.634817], [38.52643, -121.7626], [39.31788, -77.19808], [27.772069, -82.638488], [35.833486, -78.76769300000002], [31.783751, -106.441174], [46.830693, -104.219259], [34.066403, -117.55831299999998], [38.807755, -77.496517], [42.7047, -123.37304], [32.674895, -97.159491], [39.85941, -75.121473], [40.732144, -74.221347], [32.920837, -97.09034], [34.030566, -118.031918], [27.202838, -80.200678], [41.53271, -83.632092], [41.350876, -124.023553], [36.140204, -86.701032], [28.45050800000001, -81.397994], [35.167075, -119.00235], [29.70633, -95.27296], [32.48106, -93.881828], [40.766404, -73.950864], [38.94472, -76.860512], [33.811905, -118.295], [41.74498, -122.583395], [47.78856, -122.202066], [38.776801, -77.180635], [37.627811, -79.57576999999998], [41.111494, -111.909152], [33.530687, -86.709539], [35.7319, -78.58762], [41.622689, -87.582931], [38.528465, -121.469389], [34.0143, -84.3629], [41.508997, -90.674275], [34.085741, -118.193445], [35.112229, -89.86989100000002], [33.916227, -118.223012], [41.23821, -76.80826], [34.067245, -117.532761], [33.775743, -117.853037], [35.719861, -117.400883], [32.792483000000004, -96.65], [27.63461, -80.51603], [34.860955, -82.688577], [35.405273, -119.01870900000002], [35.35337, -78.912788], [37.464634, -77.42540699999998], [25.829038, -80.253203], [40.681226, -80.209338], [33.194355, -117.263201], [40.30516, -105.10627], [27.338909, -82.44659], [39.807937, -76.186287], [45.60701, -123.46206], [36.692023, -119.862422], [28.206556, -82.377291], [34.142858000000004, -117.488427], [29.553877000000004, -98.587135], [35.061411, -85.07109100000002], [38.640099, -121.328025], [28.062975, -82.738764], [41.041671, -76.87119799999998], [44.367352, -123.833588], [33.807216, -117.832027], [33.058521, -80.233932], [33.846505, -118.284913], [37.70117, -121.85437], [36.744961, -119.820724], [37.139151, -93.253853], [28.567182, -81.210801], [33.707795000000004, -80.241833], [43.982959, -121.527618], [30.35552, -81.66866999999998], [39.32336, -76.61319], [32.717715000000005, -96.648369], [40.610995, -74.112241], [38.00881, -78.377167], [39.01708, -77.10181999999998], [34.030247, -117.672446], [28.281992, -81.59298299999998], [37.739837, -121.59028899999998], [40.817137, -74.13804300000002], [37.676556, -122.11754], [41.785415, -72.65895], [39.742523, -86.238559], [33.874894, -118.06306200000002], [35.768372, -78.566484], [28.503591, -81.396962], [25.841867, -80.241505], [38.18692, -78.998447], [30.52768, -87.197603], [37.44582800000001, -77.473621], [41.68747000000001, -91.534561], [35.3058, -80.7496], [32.6483, -96.82337], [38.555622, -121.69411], [41.282089, -72.866111], [33.912493, -117.284602], [30.35382, -91.1282], [45.051022, -93.284935], [29.953334, -95.673378], [40.849, -73.92371], [28.367812, -81.50265300000002], [32.999699, -117.08598700000002], [37.056601, -120.96956000000002], [38.897406, -77.080078], [29.867566, -81.39675], [33.957601000000004, -117.860097], [39.643789, -105.867701], [35.869963, -119.286027], [32.496983, -93.757518], [46.676349, -92.959774], [41.771221, -72.679612], [39.103786, -77.577943], [30.690747, -86.056627], [32.83713, -97.137005], [38.803739, -121.720249], [29.8153, -95.382812], [25.811566, -80.370885], [43.927899, -91.435958], [33.761883000000005, -117.972343], [25.78299, -80.32083], [41.31828, -73.85929], [37.562674, -120.923606], [32.20383, -81.071251], [44.05874, -93.38094], [33.724979, -79.560478], [45.217004, -93.593997], [34.031, -117.32828], [38.606529, -121.431731], [38.308157, -81.565766], [39.018985, -76.976448], [44.97735, -93.34407], [25.748801, -80.335788], [25.701524, -80.309549], [39.41855, -76.66975], [42.468961, -82.919093], [38.685554, -77.22791], [26.70206, -80.07269000000002], [26.11713, -80.251395], [38.986652, -76.987898], [33.948922, -118.012833], [38.705755, -121.368647], [25.593864, -80.330051], [34.048092, -117.925629], [33.814442, -117.832165], [45.23067, -123.164299], [35.87844000000001, -78.836313], [39.966025, -111.320857], [33.923081, -81.518752], [37.534333, -76.805334], [35.90649000000001, -78.76889], [44.964967, -93.244988], [38.73341, -90.34579], [28.551923, -81.490237], [42.704047, -124.457186], [34.189265, -114.570158], [40.525592, -74.343677], [35.852229, -78.5809], [38.75645, -111.43946], [35.113366, -85.261534], [33.008306, -117.080117], [33.778599, -80.983659], [44.489751, -123.06181], [37.65166, -122.098664], [25.898735, -80.306624], [38.496884, -122.877541], [41.91459, -87.94], [42.121451, -121.828201], [34.154540000000004, -118.15762], [33.461761, -112.122046], [34.02459, -117.7403], [43.174771, -77.617692], [33.869529, -117.67176], [33.925069, -118.20989], [33.98925, -118.40045], [33.77758, -84.39076], [32.916677, -96.817006], [25.811613, -80.313412], [35.894025, -78.507108], [28.508808, -81.423852], [40.122568, -123.839237], [41.20098, -73.27198], [39.359861, -76.504787], [33.534209999999995, -111.422556], [34.154019, -118.270315], [29.945921, -90.087433], [39.118683, -121.5655], [41.93269, -71.46401], [35.22444, -80.89787], [40.643458, -74.61920699999997], [32.691309999999994, -96.81478], [34.164959, -117.891912], [37.700608, -121.794411], [36.965636, -120.883335], [42.597241, -74.00170899999998], [40.7863, -111.91312], [33.521029, -81.82821899999998], [30.407152000000004, -97.674911], [26.24765, -80.16676], [32.704309, -96.664251], [25.881633, -80.24296700000002], [35.21633, -80.78078000000002], [44.052139, -123.100379], [39.720959, -121.523064], [32.509349, -84.99327], [37.334444, -121.936443], [39.752133, -75.04620600000001], [39.420694, -76.64485], [35.19587, -80.87724], [25.882968, -80.210528], [38.00449, -122.03885], [42.852317, -83.590726], [33.912144, -118.177517], [32.283124, -110.978109], [45.62845, -123.36906], [34.02414, -118.42779], [33.876135999999995, -79.107129], [40.76068, -111.895131], [42.858418, -73.774486], [37.127214, -120.174817], [34.037965, -84.038353], [33.01081, -117.23946399999998], [30.47401, -87.223752], [28.957914, -82.122698], [34.154551, -118.384598], [40.666519, -73.785713], [38.707475, -121.309148], [35.385664, -118.987394], [30.301419, -97.714558], [37.329021, -121.841801], [42.710391, -73.82504499999997], [39.596304, -121.689674], [33.002681, -80.66879300000002], [35.034690000000005, -89.7906], [28.409087, -81.404754], [37.559283, -77.294086], [44.88416, -93.189285], [33.498955, -112.113021], [42.87670900000001, -78.784407], [35.769421, -78.63913199999998], [29.59275, -98.58276], [40.73974000000001, -78.118066], [40.84508, -73.91223000000002], [34.022952000000004, -117.336226], [42.678161, -84.441937], [38.562496, -120.966867], [30.580047, -84.70509399999997], [37.88178, -122.30826], [47.757829, -122.172124], [33.181103, -117.330491], [38.61725300000001, -121.336781], [38.017091, -122.094594], [35.10009, -80.94866], [33.559343, -117.672864], [36.644089, -119.455098], [36.303295, -119.388913], [30.287539, -81.46310799999998], [25.94267300000001, -80.203561], [34.01254, -81.38212], [36.940716, -121.410815], [45.008539, -93.117937], [45.506647, -122.771669], [33.765972999999995, -117.972349], [32.17784, -111.00321], [45.685715, -111.088334], [38.916717, -94.767154], [38.661013, -121.36435], [40.6443, -111.92928], [33.638565, -112.362967], [39.165993, -123.000025], [44.99267, -93.23719], [28.488632, -81.43626], [33.894746000000005, -118.278611], [37.860091, -122.210699], [32.79197, -96.72898], [40.423218, -80.105127], [37.319842, -121.897521], [34.769627, -78.98530699999998], [38.992852, -78.404399], [41.065985, -73.865092], [38.80003, -77.519048], [25.763745, -80.199772], [25.62894, -80.34096], [40.71723, -111.984946], [28.451531, -81.400598], [32.871587, -96.76406], [37.710881, -121.719082], [34.001853999999994, -117.834566], [41.8753, -87.6882], [35.75592, -78.59948], [33.89114, -79.12246], [37.135833, -121.636389], [37.64271, -121.88707], [34.144388, -117.266165], [43.017493, -74.994038], [38.904704, -77.01649599999998], [38.04388, -122.189548], [43.338022, -124.349977], [32.836678000000006, -96.819648], [28.357378000000004, -81.494599], [41.691168, -83.512599], [34.044940000000004, -118.22104], [25.956756, -80.293025], [32.822899, -117.116722], [34.842411, -82.282751], [29.28234, -82.325653], [43.094981, -75.219714], [46.341305, -93.746402], [27.935906, -82.29383399999998], [39.080855, -121.53035], [40.179566, -75.085259], [30.298092, -81.52249499999998], [25.641617, -80.33507900000002], [32.77803, -96.68281], [47.42321, -121.41025], [25.925534, -80.333536], [36.846001, -76.183213], [40.679079, -111.90177], [29.894937, -90.096224], [41.2414, -111.94426], [45.90459, -123.76782], [33.648063, -112.362208], [25.732097, -80.33571500000002], [37.70107, -121.81282], [42.652296, -114.47401], [43.99776, -121.39613], [38.362346, -122.778193], [34.32106, -118.49611000000002], [35.1346, -80.93936], [40.66001, -111.95277], [32.800126, -96.822272], [38.95333, -76.72780999999998], [39.98199, -76.74508], [32.79119, -96.7921], [38.77401, -77.08086], [38.80575, -90.8516], [35.961381, -119.044322], [38.640987, -121.382033], [44.966089, -93.258176], [38.368902, -77.466234], [40.895608, -74.257138], [42.30989, -122.84741], [33.379220000000004, -111.753495], [35.190936, -113.337439], [41.51866, -88.19108], [41.827257, -73.107587], [36.27441, -86.79694], [28.531907, -81.40536800000002], [34.895786, -120.418299], [25.92487, -80.30417], [41.047407, -111.957928], [40.09797, -75.41801], [25.859797, -80.32725500000002], [33.856912, -118.029567], [46.693009, -112.200804], [45.112085, -123.97203799999998], [28.87963, -82.09295999999998], [31.66406, -84.28007], [36.903043, -76.23957], [25.702429, -80.33314200000002], [38.025685, -109.53942], [38.595879, -121.391669], [34.750616, -80.39263100000002], [41.58497, -87.68106], [43.609969, -116.314303], [43.559889, -123.282101], [35.59645, -80.53515], [33.73135, -117.81199], [37.983365, -122.068316], [33.901874, -118.286321], [37.002393, -121.558281], [33.81001, -117.87917], [27.099682, -82.410078], [37.68113, -122.12398], [34.333867, -110.752833], [38.933089, -77.212182], [37.891752, -122.308622], [42.87652, -71.34351], [39.87429, -75.10209], [42.990152, -124.159007], [44.846303000000006, -93.398679], [33.577667, -79.038354], [40.12988, -75.112262], [26.713858, -80.083736], [33.880194, -117.565764], [39.09354, -94.64318], [33.242837, -87.408917], [39.44276, -77.403032], [33.92491500000001, -117.423993], [43.59918, -116.51399], [33.765316, -117.920223], [37.440522, -121.890058], [37.690867, -122.470568], [34.25727, -118.472339], [37.85272, -122.29991], [25.883587, -80.21260600000002], [36.158739, -96.038231], [27.28984, -80.42022], [34.128727000000005, -117.921746], [33.194235, -117.258442], [40.110858, -76.110244], [32.322547, -95.283598], [41.054, -73.52707], [32.958406, -80.542937], [45.535245, -122.563934], [41.93164, -87.69476], [28.577684, -81.474816], [37.386614, -121.90553], [30.609362, -86.954476], [33.97432, -118.12412], [27.852423, -82.66415500000002], [40.082485, -75.38042800000002], [34.175144, -81.931465], [42.55802, -84.82109399999999], [29.938098, -95.517567], [40.804479, -73.295384], [39.08673, -94.54109], [36.882466, -76.21676], [39.33654600000001, -120.174034], [25.749454, -80.335813], [39.989119, -75.989106], [25.685172, -80.419318], [26.023531, -80.167479], [38.93932, -76.91535], [34.036889, -118.438504], [40.714075, -74.295855], [32.766547, -96.896036], [38.99586, -77.09653], [35.155932, -90.152218], [33.926414, -117.656632], [33.825357000000004, -118.218449], [32.790112, -96.919523], [39.990116, -75.205332], [41.94842, -87.72163], [29.77735, -95.2754], [38.786954, -77.32095600000002], [38.644341, -121.350522], [45.01314, -93.18668], [45.693072, -121.835428], [34.01306, -117.344], [40.069216, -76.30821999999998], [38.8203, -76.89314], [38.1515, -122.44767], [28.539231, -81.284015], [37.142067, -93.272033], [30.361682, -91.110996], [33.953837, -118.17073700000002], [35.687789, -78.55093199999997], [35.798581, -78.564424], [29.73092, -95.402414], [44.40505, -122.75381000000002], [39.126732, -123.711929], [34.57663, -118.13353], [26.546195, -81.854343], [30.384932, -86.369801], [44.929264, -93.023504], [41.04639, -73.54621], [27.853375, -82.693678], [38.61455, -78.707481], [34.15311, -118.36934], [33.70207, -117.94982], [37.772788, -121.973169], [34.152708000000004, -118.367273], [43.63381500000001, -116.35703], [42.700456, -73.835452], [34.102740000000004, -118.1975], [35.70825900000001, -120.82254], [47.276628, -122.312096], [40.84524, -73.92778], [33.890806, -118.361313], [38.56605, -121.62463], [44.966214, -124.017705], [40.658345, -111.901533], [40.007619, -75.586393], [40.029528000000006, -122.210491], [43.063, -83.854312], [32.85392, -96.64543], [33.70168, -117.85869], [30.26007700000001, -81.556012], [39.788431, -104.904851], [37.901113, -121.466099], [37.64015, -122.0904], [30.496605, -84.20661199999998], [25.994061, -80.166014], [41.142706, -78.785885], [39.93209, -75.19991], [39.079188, -94.49099], [43.69405, -71.64362], [40.155822, -85.347091], [38.641431, -121.461405], [32.090270000000004, -83.78487], [37.647281, -122.491196], [38.54629, -77.07714], [35.94223, -78.68630999999998], [41.370831, -72.130297], [26.124286, -80.217434], [25.712975, -80.382449], [40.042066, -76.313439], [32.83719, -97.04212], [45.50501, -122.57978], [45.067325, -93.250454], [33.520749, -117.665636], [39.252208, -123.590601], [33.546431, -86.782882], [31.52881, -84.11548], [35.22575, -80.61381999999998], [47.190452, -114.886747], [25.885453, -80.243229], [36.987724, -121.960361], [35.69583499999999, -117.867947], [28.493792, -81.459929], [32.597947999999995, -88.222779], [39.642797, -75.82248100000002], [28.965571, -81.976434], [36.1817, -86.79969], [35.10433, -80.98557], [30.199341, -97.79359], [38.933304, -78.477884], [25.856127, -80.17675799999998], [42.94276, -85.644989], [38.032162, -122.253334], [34.581115000000004, -92.578383], [30.69147700000001, -86.114369], [40.15214, -74.718361], [37.483409, -122.180575], [35.346869, -119.039429], [32.462314, -86.38922], [35.946845, -82.28688000000002], [38.322996, -81.715824], [34.26813, -118.63554], [38.051576, -121.225689], [37.550612, -75.808265], [36.935273, -77.394014], [43.593618, -116.39873], [32.842207, -97.117357], [36.326133, -119.134894], [33.875911, -118.168782], [39.203509, -76.635899], [44.325135, -93.294116], [39.415347, -77.43511099999998], [44.86225200000001, -93.247715], [39.348837, -76.50013100000002], [35.606828, -83.00895], [28.608138, -81.417596], [32.839398, -117.161613], [41.67487, -83.57266], [26.650884, -80.174064], [38.442276, -122.721658], [35.47826, -82.55468], [38.521342, -122.71842], [30.51678900000001, -87.215659], [28.451919, -81.47081800000002], [33.805382, -79.203214], [35.11681, -80.92856], [44.699603, -93.287047], [34.093226, -80.860716], [41.59075, -86.89695], [42.680937, -83.75995], [46.325429, -94.962033], [39.094348, -104.863039], [38.021181, -78.422158], [37.375971, -77.508341], [30.38373300000001, -91.101947], [41.83016, -88.16826999999998], [35.11298, -80.88299], [28.354226, -81.680821], [27.447403, -82.53520300000002], [33.935681, -118.048858], [28.952508, -81.922268], [38.398598, -81.77652900000002], [35.849668, -78.58221], [39.162435, -77.634962], [25.715168, -80.431221], [33.494771, -86.70424100000002], [33.887593, -118.104276], [38.5531, -90.27015], [38.870476, -121.132067], [41.89033, -87.94008000000002], [42.338203, -83.123082], [33.456963, -80.478984], [40.958291, -76.902628], [37.690105, -122.137274], [25.890824, -80.17165899999998], [30.008923, -90.248378], [33.80608, -117.8801], [39.88473, -104.98744], [25.73322000000001, -80.32746999999998], [37.132061, -77.518898], [37.31938, -121.99307], [45.299103, -92.971887], [33.626166999999995, -117.718843], [32.734226, -96.682839], [35.343066, -119.034519], [34.03685, -118.28712], [37.484697, -122.184823], [40.161756, -75.119093], [38.585913, -121.415466], [39.937319, -75.089713], [39.423262, -77.493697], [29.68454, -82.44199], [33.175975, -117.351762], [25.669776, -80.416237], [38.245006, -122.445298], [34.76105, -118.79649], [39.025415, -76.436091], [32.976820000000004, -86.68589], [34.025312, -117.77495], [34.883619, -117.061375], [29.975063, -95.280018], [43.765786, -118.211013], [28.568293, -81.37612800000002], [33.907405, -117.881922], [33.50911, -84.23495], [29.69037, -95.45889], [41.79963, -88.05669], [40.60991, -75.52847], [39.2185, -76.66159], [34.04187, -117.315854], [33.595, -117.1774], [33.756129, -84.23240899999998], [37.316881, -121.88896], [32.92622, -96.81746], [45.573874, -94.204598], [37.340738, -119.694976], [32.794886, -96.694568], [40.81497, -85.367878], [44.676233, -123.87741499999998], [39.15949000000001, -78.161202], [37.329723, -77.399784], [41.283836, -72.873885], [37.754656, -120.774847], [38.759823, -111.451709], [33.497297, -117.241646], [39.822395, -86.03093199999998], [33.628646, -117.723795], [39.134585, -75.77539499999997], [33.925239000000005, -118.31341299999998], [27.94557, -82.46386], [25.68619, -80.430098], [32.412801, -80.651638], [32.670689, -114.439355], [38.748452, -77.25926199999998], [38.525015, -121.40903], [28.55191, -81.4897], [34.09238, -118.47606100000002], [39.045142, -77.62209], [34.400378, -118.572644], [37.680348, -113.079925], [43.106519, -75.269795], [42.912747, -85.639201], [38.911193, -77.21755300000002], [26.568192, -80.069807], [34.11331, -118.267218], [43.021014, -85.689029], [42.149693, -84.03696], [40.765026, -111.87107], [38.070829, -112.96129], [39.69166, -104.82878], [37.69264, -122.06212], [44.358211, -121.612976], [39.02245, -77.40741], [33.919513, -118.104501], [35.895809, -78.591949], [42.2626, -88.10171], [28.55498, -81.31575], [36.168462, -86.687976], [41.85811, -71.40483], [35.27276, -80.833766], [35.16676, -89.85795999999998], [43.985524, -94.168729], [45.87648, -119.54014], [25.924871, -80.30918199999998], [30.441524, -91.220561], [34.065178, -118.000058], [38.190581, -120.674954], [34.172231, -118.389232], [38.92986, -77.211128], [36.203459, -119.421118], [33.694585, -85.090838], [40.85306, -73.960111], [37.687208, -121.058372], [28.552981, -80.848663], [38.775959, -76.867274], [32.800329999999995, -96.62612], [32.867975, -96.667608], [25.889269, -80.166689], [27.892748, -82.66285], [37.637778, -121.295278], [34.761911, -82.281407], [45.50974, -122.66677], [33.484896, -80.50388000000002], [45.01478, -93.18718], [35.111156, -120.563632], [41.146946, -96.196487], [38.837497, -77.089327], [41.90408, -88.12057], [28.603107, -81.4063], [28.53834, -81.35921], [37.778066, -122.401202], [34.134735, -117.625225], [36.105624, -119.043784], [36.20328, -115.0735], [40.729557, -111.986701], [34.067366, -117.563705], [34.029837, -117.713391], [34.705287, -80.696923], [28.683116, -81.435808], [30.278092, -82.812744], [32.649842, -96.857221], [41.232775, -76.996927], [37.48694, -121.94087], [33.50606, -82.550054], [34.480258, -118.292659], [40.636252, -111.904969], [37.674525, -122.112455], [41.168585, -111.945353], [37.149077, -121.648946], [40.799676, -73.92614300000002], [32.72929, -117.106951], [35.56127, -97.64609], [33.892656, -118.28546], [38.742586, -121.271813], [36.345928, -119.233399], [33.771894, -78.78375], [30.18966, -85.66255], [35.880889, -89.925566], [27.049916, -82.397589], [42.951403000000006, -85.673242], [34.06746, -117.57177], [30.48936, -84.27726], [34.232176, -119.1557], [47.57933, -94.809798], [34.0017, -118.17412], [37.696072, -122.105048], [35.90883200000001, -78.785389], [33.15566, -84.87115], [35.820996, -78.704913], [32.862935, -96.77015], [33.639013, -112.164779], [33.985681, -82.21355600000003], [27.777538, -82.63854599999998], [25.769738, -80.33244499999998], [37.27903, -121.8068], [37.822803, -121.59545], [37.331117, -119.655526], [37.644716, -77.570613], [37.544265, -77.42819899999998], [40.59290900000001, -78.73694300000002], [41.414874, -77.04275], [38.419943, -121.393851], [40.725921, -111.995111], [37.778545, -122.401384], [38.085, -122.20614], [40.601152, -73.95173], [29.696088, -95.313154], [38.399623, -121.334585], [37.89244, -122.158368], [41.120409, -73.374062], [45.032283, -92.967284], [36.764253, -76.596816], [34.025596, -118.206458], [34.137776, -117.956079], [42.661075, -122.679375], [41.87371, -87.72633499999998], [34.198881, -118.396518], [33.77394, -117.87188], [30.453024, -91.180765], [37.16695, -113.45176], [35.849564, -78.583549], [37.926596, -122.057523], [44.996556, -93.459717], [44.953061, -93.082898], [41.87375, -87.72416], [34.0718, -118.09651], [32.908792, -80.098798], [38.522779, -76.995163], [34.234047, -118.473179], [38.115402, -121.306371], [25.94459800000001, -80.121172], [37.360371, -121.916044], [34.105619, -118.200849], [32.742143, -117.112187], [40.67418, -111.80205], [30.236236, -97.847542], [38.721465, -121.364635], [34.145990000000005, -117.189456], [36.882594, -76.42613100000001], [35.600541, -119.210768], [45.677751, -118.851031], [34.061341, -117.78928], [42.808109, -121.835042], [38.012821, -121.872431], [38.101914, -121.15089], [38.642231, -121.383336], [30.408686, -97.696906], [36.839201, -76.286728], [30.391645, -91.161981], [33.672342, -117.755558], [45.529693, -122.665303], [33.16843, -87.52544], [34.029584, -118.401572], [41.10353, -112.00516], [36.6081, -121.86025], [38.870476, -121.132067], [40.76152, -73.62446], [42.322353, -83.215257], [29.753147, -95.4023], [38.380947, -122.685923], [42.62451, -83.08375], [34.039907, -118.3177], [38.64364000000001, -121.10886], [25.92615, -80.147343], [44.61579, -93.297118], [36.05792, -83.983661], [48.618825, -122.355884], [34.016776, -118.140101], [38.042124, -78.72091400000002], [39.80605, -84.18893], [44.96568, -93.24726], [26.622379, -80.06732199999998], [45.106161, -123.7425], [34.841704, -119.082916], [33.81033, -117.83088], [35.491086, -120.674268], [37.552525, -77.47882800000002], [45.54394, -94.20597], [37.80708, -122.368389], [39.006689, -77.153109], [37.702202, -122.154794], [28.509958, -81.257497], [41.12045, -80.39529], [28.157231, -81.80626], [33.66326, -117.79492], [29.795575, -95.684058], [42.034517, -122.602632], [38.63274000000001, -90.2985], [30.434782, -91.057495], [30.349663, -97.527029], [37.690324, -122.09138], [45.52237, -93.368753], [45.53067100000001, -122.634796], [43.071411, -73.751121], [33.967126, -118.280609], [34.032662, -117.137763], [40.04385, -75.0026], [34.29807, -117.458651], [31.898985, -106.441288], [40.893199, -74.131518], [36.198514, -86.77073399999998], [41.02112, -73.71314], [40.682748, -73.66598], [40.85306, -73.96011], [47.07632, -122.29416], [39.491804, -77.562628], [36.172699, -86.765297], [30.610098, -85.318898], [40.616772, -122.974605], [35.25954, -80.79505], [44.79047, -93.24191], [37.828028, -122.29443700000002], [37.661423, -77.449725], [45.89559000000001, -123.64697], [32.206422, -110.845074], [30.188178000000004, -81.73948399999998], [25.714094, -80.382508], [39.80244, -75.05543], [41.573339, -73.909114], [33.76595, -117.9658], [34.067417, -117.530622], [43.73545, -70.22833], [34.06819, -81.171681], [33.183376, -117.339311], [38.442276, -122.721658], [42.865594, -78.87577399999998], [42.590829, -73.785907], [33.68183, -112.40573], [41.925564, -87.640102], [38.829563, -94.853381], [37.427319, -77.341982], [33.462732, -112.18277], [38.91296, -94.70035], [37.30275200000001, -120.52303700000002], [33.444868, -86.734481], [45.17974, -117.984098], [40.07353300000001, -75.15227900000002], [33.7513, -84.44962], [37.652149, -77.611586], [45.009781, -93.081589], [34.107645, -84.533411], [32.760371, -117.197262], [33.678878000000005, -117.841619], [37.57601, -77.46281], [32.901767, -112.742418], [41.87523, -87.69376], [35.027653, -85.254885], [34.087847, -117.302], [39.195252, -84.908761], [33.973969, -118.079931], [39.078657, -77.49583299999998], [37.034111, -76.360629], [34.134596, -117.674463], [27.98136, -82.33498900000002], [32.893769, -117.226863], [28.486679, -81.426576], [25.67973, -80.38875], [39.218477, -76.726895], [37.061423, -76.420673], [33.983086, -117.342721], [39.260599, -76.579476], [36.988247, -122.003489], [28.468802, -81.417358], [33.449441, -80.989125], [47.648942, -122.38204], [36.783177, -76.395391], [32.822318, -96.862462], [34.077659000000004, -117.998176], [32.23594, -110.95676], [40.8049, -73.27388], [35.053159, -118.173901], [42.15941, -86.43723], [35.26096, -80.843199], [37.064173, -121.586445], [34.087196, -118.234122], [33.910926, -118.171021], [34.318694, -117.480574], [29.744598, -95.389589], [29.71656, -95.37895], [40.893718, -74.27709], [27.447319, -82.531886], [33.98936, -117.36038], [40.134526, -74.985113], [34.75873, -86.4743], [25.747759, -80.334029], [36.814123, -76.281584], [33.804325, -118.210008], [26.627283, -80.173776], [30.50010300000001, -84.221023], [48.357572, -114.157156], [30.381245, -97.685104], [44.51152, -92.86753], [32.547887, -97.316812], [39.058522, -121.088184], [39.733908, -75.621486], [36.14915, -86.781231], [37.48374, -122.216927], [39.090013, -120.946308], [37.09135, -76.46126], [45.142536, -93.269992], [32.341035, -81.09177199999998], [45.697829, -122.552863], [34.065671, -117.323107], [40.84385, -73.8956], [41.76169, -87.62589], [38.865061, -77.002579], [41.319477, -73.090698], [42.47706, -83.09999], [33.867246, -117.746139], [38.55361, -121.40927], [30.510951, -87.220318], [39.11166, -121.556607], [37.772077, -121.324797], [34.036770000000004, -118.03419], [35.523803, -81.51284100000002], [38.6549, -77.252166], [40.753751, -74.110046], [37.91426, -122.31756], [25.650685, -80.33105400000002], [40.739018, -73.815044], [27.276583, -82.464584], [40.491235, -112.333545], [34.255132, -117.325631], [27.710766, -82.335167], [38.665257, -121.30856599999998], [39.916621, -105.094462], [40.08535, -111.68444], [38.249083, -86.05963100000002], [25.521669, -80.425322], [38.871334, -76.97497], [44.74123, -93.28049], [38.595741, -123.183041], [38.103531, -121.096503], [47.474015, -115.908604], [43.03614, -122.363823], [30.169798, -81.606713], [38.49398, -121.390464], [25.70218, -80.335789], [33.979420000000005, -117.33935], [28.192402, -82.380637], [34.03693, -118.43877], [38.82477100000001, -109.781581], [36.14062, -86.73200000000001], [38.538279, -121.513429], [48.508404, -111.881986], [34.129588, -118.22899], [43.923593, -117.005919], [25.966678, -80.29473], [28.071025, -82.45124100000002], [35.266229, -118.914309], [36.797429, -119.785449], [38.774574, -120.295771], [40.7469, -73.96901], [44.399955, -124.085898], [34.880656, -117.06543], [35.088978000000004, -106.547145], [37.222791, -120.372003], [33.420865, -112.409288], [27.893647, -82.72898], [34.020925, -118.195331], [37.78086, -121.97721], [29.17469, -81.08688000000002], [36.692382, -119.75865], [34.136223, -117.453729], [34.069272999999995, -118.268631], [42.44408, -83.20243], [40.71815, -111.89508], [40.477656, -74.410303], [34.081485, -117.728209], [36.957338, -121.978755], [39.913767, -75.569959], [40.376324, -76.67309399999998], [36.478271, -87.803147], [42.68682, -86.17036999999998], [25.685123, -80.425634], [25.691666, -80.333752], [38.816705, -77.074483], [45.55104, -118.46442], [38.9339, -94.5202], [44.73777000000001, -123.05251], [29.53125, -82.317355], [46.889477, -95.478608], [37.748304, -122.408713], [38.503323, -121.423862], [25.892402, -80.199811], [33.97169, -118.39494], [45.151018, -122.671282], [41.07131, -73.48294], [36.626652, -119.684286], [38.614932, -77.299329], [40.27933400000001, -75.299116], [38.174333, -77.502998], [47.1601, -122.46776], [37.32121, -121.89976], [34.0255, -118.17218], [40.882142, -121.663042], [37.516206, -77.42582800000002], [33.752307, -78.962542], [34.00801, -117.96824], [39.409149, -74.5448], [30.40827800000001, -84.159468], [34.40416, -119.5307], [33.41083, -111.98399], [40.528475, -124.032449], [26.78788, -80.09911], [41.658965, -93.52836], [30.094438, -95.406829], [35.948499, -84.156464], [28.637241, -81.446795], [33.82788, -113.51528], [38.49947, -121.44973], [36.965191, -121.889683], [33.009570000000004, -117.263528], [37.642834, -77.62868399999998], [29.92887, -95.41205], [33.845673, -117.958859], [38.496184, -121.437939], [25.9162, -80.325012], [41.46638, -81.75515], [37.774387, -122.42756], [25.880661, -80.32330999999998], [33.901819, -118.379719], [34.934185, -118.140549], [33.873926000000004, -118.224736], [28.273326, -82.625287], [34.07495, -80.94617], [34.941, -118.93112], [38.857962, -77.847312], [34.066759999999995, -117.22127], [39.955245, -74.922206], [33.011283, -117.079612], [32.714659999999995, -117.12652], [39.013936, -76.086259], [45.418928, -92.662092], [37.70363, -121.077824], [29.360339, -98.523353], [37.226216, -93.29209], [35.394372, -118.994052], [38.343929, -77.487616], [37.48422, -122.18363], [32.792693, -96.792358], [38.71493, -104.81889], [27.938903000000003, -82.33787099999998], [37.327697, -120.85248500000002], [33.665114, -117.386778], [33.648001, -78.97835699999997], [39.50075, -76.63463], [34.34063, -118.52116], [29.725761, -95.486701], [34.272787, -118.5596], [33.70644, -117.779], [40.531588, -81.91834], [36.328009, -119.611693], [35.47841, -82.55498], [41.053966, -73.833714], [39.012376, -94.554704], [40.29875, -83.03265999999998], [40.905951, -111.917971], [45.006618, -93.457128], [24.68159, -81.230646], [33.990555, -118.282667], [33.461827, -112.062126], [41.600414, -90.633546], [34.082782, -118.227275], [43.139829, -77.668417], [30.1106, -97.80773], [45.138422, -122.842644], [39.670968, -74.824686], [40.98784000000001, -73.67647], [40.747851, -74.164034], [40.644553, -111.9343], [41.05933, -73.82860699999998], [28.551894, -81.492329], [38.718626, -76.990027], [42.955394, -115.167176], [40.998259, -74.30721899999998], [40.070361, -75.151562], [45.529157, -120.691263], [43.574835, -116.244567], [36.987665, -121.963783], [28.76173, -81.36151], [35.84709, -78.79411999999998], [33.461220000000004, -112.28853], [36.210663, -119.39963600000002], [41.30367, -73.03426999999998], [26.399811, -81.810737], [39.78919000000001, -86.19098000000002], [34.00104, -117.84169], [33.152473, -117.104289], [43.637439, -95.491806], [28.671317, -81.845447], [38.372398, -77.53031999999997], [40.681761, -74.00245699999998], [33.93862, -117.40016], [42.43169, -84.95537], [43.076313, -83.656549], [33.179669, -117.347042], [41.577962, -87.665287], [47.15721, -122.434285], [33.990984000000005, -117.931753], [47.58926, -122.25355], [39.014135, -76.490925], [34.243408, -117.294663], [37.644605, -122.093828], [39.245063, -104.87986], [41.56469, -72.50873], [34.148654, -118.051042], [33.57116, -84.52994], [42.920199, -121.828719], [33.516502, -112.04423], [30.320624, -81.692394], [26.096029, -80.23698], [36.174098, -86.60851], [33.87654000000001, -118.10733], [35.97100800000001, -78.961883], [28.376167, -81.425922], [41.82544, -71.42928], [40.88884, -76.79286], [43.107401, -83.518763], [29.659693, -82.410601], [41.286417, -122.299772], [46.610145, -93.539939], [25.98343, -80.16565], [36.069756, -121.59905], [47.360621, -102.758652], [35.233051, -80.812686], [32.954893, -80.151442], [34.050203, -117.303675], [38.01852, -121.329943], [29.972354, -82.576346], [33.90399, -117.46083], [29.78475, -95.68309], [32.886216999999995, -117.111958], [38.786317, -121.22537], [33.889003, -117.512395], [44.78219, -93.28855], [41.98226, -87.80114], [30.255843, -97.677286], [37.702256, -121.744729], [45.013571, -93.089808], [29.72981, -95.42958], [30.472236, -97.847643], [37.3782, -121.9034], [34.123207, -118.061085], [41.97879, -88.27476999999998], [34.136495000000004, -117.431721], [34.010124, -118.280794], [33.65691, -117.904], [30.32088, -81.71658000000002], [29.803228000000004, -95.397818], [34.092569, -118.307611], [37.018157, -76.38388499999998], [44.374601, -93.767641], [39.340047, -94.736746], [43.620984, -93.333606], [38.52902, -76.98291], [26.25916, -80.2499], [33.68827, -117.91122], [29.356123, -82.22184], [25.73417, -80.302918], [40.865366, -73.973863], [25.643948, -80.334187], [36.120289, -95.925289], [45.675305, -121.275275], [42.5752, -82.85838000000003], [34.067414, -117.427969], [45.29004000000001, -122.76949], [33.856097, -118.095763], [36.07239600000001, -79.267827], [32.506109, -93.748043], [45.05795, -93.401], [38.818047, -120.07774], [28.568124, -81.287056], [30.2828, -97.65319], [29.721787, -95.37618], [26.05567000000001, -80.35282], [45.535245, -122.563934], [33.340771999999994, -83.402627], [34.934286, -82.002776], [39.506013, -119.803453], [42.937819, -85.664536], [28.209451, -82.35353], [25.867962, -80.245664], [43.456651, -123.431057], [37.179762, -121.994558], [39.813554, -86.03081], [25.897248, -80.244249], [28.485668, -81.41736], [25.933324, -80.121862], [28.412628, -81.42340899999998], [37.579122, -122.323714], [34.1397, -80.917187], [33.804148, -118.207343], [33.331907, -86.993833], [37.098544, -77.546488], [46.34676, -93.72789], [44.861759, -93.278279], [41.91299, -87.66664], [39.28481, -76.53511], [41.30154, -81.62697], [45.554517, -122.900752], [32.78416, -96.55684], [35.3569, -118.91412], [33.750578999999995, -117.11491399999998], [40.33358, -74.09846999999998], [30.412248, -81.657074], [39.096482, -94.551558], [34.080009999999994, -117.737414], [40.757063, -73.96002299999998], [34.068328, -117.379428], [34.0365, -118.02386], [28.378748, -81.50473000000002], [34.755367, -117.163621], [33.718924, -117.431249], [30.389463, -87.079686], [37.808592, -122.242804], [32.8304, -97.31254], [33.750135, -117.832021], [39.752327, -111.834887], [39.86707, -104.75294], [40.12019, -75.046611], [32.72723, -117.155851], [38.351827, -121.340112], [28.555893, -81.48968599999998], [42.925104, -78.84622], [44.96581, -93.269493], [28.062571, -82.738764], [44.90965, -93.35057], [37.20624, -121.71738899999998], [37.531989, -77.378371], [44.020968, -123.875012], [44.967362, -93.288129], [40.126576, -75.062464], [41.148104, -112.026938], [32.771985, -96.801452], [42.37351, -83.05986], [33.775359, -84.496296], [42.949503, -83.682176], [40.988477, -73.666366], [32.66254, -117.108894], [38.163059, -104.641524], [33.94577, -118.09436], [38.481555, -121.422604], [33.719120000000004, -84.39681], [34.42715, -119.729636], [30.471492, -87.23031], [41.87674000000001, -87.64246999999996], [36.652749, -121.647011], [29.962882, -90.106834], [34.048658, -118.448184], [36.502726, -119.430654], [42.35513, -71.11841], [29.728123, -95.501083], [40.744097, -74.13959399999997], [34.752309999999994, -86.74981], [39.339773, -110.943592], [36.05509, -118.972097], [33.929972, -118.376295], [33.830846, -117.926521], [34.03683, -118.43853], [33.790544, -118.281929], [33.487647, -86.787], [33.939337, -117.185167], [38.477522, -121.426423], [42.49545, -73.54419], [30.253008, -81.503352], [33.38714, -117.175959], [35.332481, -80.746044], [32.87535, -96.7701], [34.293644, -118.413261], [37.494329, -77.018079], [37.7862, -122.39069], [27.479392, -82.466737], [32.337474, -111.04702], [37.80706, -122.238516], [40.119506, -75.355284], [33.978151000000004, -118.235441], [45.310186, -121.647437], [38.67051, -77.23769], [40.482134, -111.900919], [41.518996, -94.083663], [38.337168, -77.080844], [25.689146, -80.38287199999998], [41.759519, -72.64109300000001], [39.90117, -75.09838], [33.721989, -78.935383], [43.14138, -88.58261], [41.90977, -72.632013], [42.352569, -122.872931], [40.78371, -73.62504], [27.057471000000003, -80.23759100000002], [38.887985, -77.115174], [32.82508, -96.82104], [35.429694, -120.751408], [30.287688, -81.451486], [33.276431, -85.094693], [35.05457, -80.85036], [35.122765, -78.74809300000003], [47.202855, -122.28028799999998], [33.997024, -118.369255], [39.10299000000001, -94.48625], [36.12143, -86.75633], [28.524069, -81.31031], [34.393584999999995, -119.433315], [29.686609000000004, -95.233624], [43.45612, -76.17988000000003], [28.320898, -81.557252], [40.157652, -110.179363], [38.354578, -122.921278], [42.66495, -87.95272], [34.206353, -118.343168], [30.252678000000003, -81.45169200000002], [33.46283, -112.16436000000002], [39.105867, -94.70481], [40.758601, -74.209052], [36.17349, -115.09824], [44.93163, -123.104746], [42.206393, -121.714159], [39.18218, -94.39597], [28.260171000000003, -81.60849300000002], [28.819865000000004, -81.77754499999998], [40.849984, -73.943878], [45.260159, -122.942419], [32.68885, -117.115771], [34.352549, -118.505127], [29.847823, -95.394588], [34.149716, -119.114679], [34.068618, -118.216749], [33.77404, -117.90589], [42.368266, -121.388804], [34.172315999999995, -118.570933], [45.175781, -122.855233], [33.859282, -118.290432], [39.690772, -77.627154], [34.064336, -118.011272], [45.50798, -122.68445], [33.8454, -117.82307], [44.873861, -93.163386], [34.414691, -117.224467], [39.598299, -84.23298199999998], [33.888863, -80.350794], [42.646833, -84.056793], [43.018544, -85.696588], [27.824684, -82.787094], [41.219494, -77.220292], [34.044909999999994, -117.31123999999998], [32.480585999999995, -93.777642], [25.939468, -80.290398], [30.005617, -90.023134], [38.924331, -75.454859], [39.890527, -75.229016], [43.831619, -120.668452], [45.53998, -122.42398], [41.9621, -87.74528000000002], [34.055939, -117.40511], [37.005505, -119.406348], [41.869126, -87.917406], [33.860903, -84.292484], [42.686594, -84.67297099999998], [41.68556, -87.66197], [26.332654, -81.806184], [40.675381, -74.000709], [36.02245100000001, -119.161506], [26.78788, -80.09911], [37.31641, -121.95618], [33.985646, -118.13423600000002], [33.487648, -111.925511], [28.197648, -82.73976], [45.277753, -93.740784], [45.49195200000001, -122.792388], [33.881902000000004, -117.592132], [47.45816, -122.26339], [40.70771, -73.4254], [45.389851, -123.13716399999998], [36.57517, -86.615985], [32.993606, -96.948326], [29.807389, -95.443973], [32.793843, -96.814653], [33.912874, -118.104754], [33.98266, -118.39496], [34.821612, -82.284743], [37.609022, -122.068394], [34.029519, -118.432301], [37.701765, -77.753151], [32.76785, -117.144931], [42.4729, -122.81197], [39.438357, -121.549481], [34.746103000000005, -82.355314], [34.13556, -117.58834], [42.510009, -82.91820899999998], [45.53208, -122.59582], [45.713242, -122.652944], [32.994504, -96.709682], [25.684676, -80.387136], [28.568397, -81.283842], [38.7676, -90.49203], [36.92845, -120.02595], [28.341879, -81.536467], [38.93887, -94.53524], [44.86211, -93.15068], [42.47071, -88.09186], [33.043732, -112.047858], [33.979420000000005, -117.33935], [32.142401, -81.414232], [29.82207600000001, -95.337625], [42.39214000000001, -82.99991], [29.684486, -95.356435], [33.728165999999995, -78.869701], [33.748151, -117.832373], [42.92534000000001, -85.682], [43.11765, -123.35905], [37.71132, -122.39553], [38.55817, -121.38584], [25.573363, -80.37824300000003], [39.956277, -74.98755799999998], [33.644756, -117.735068], [29.67429000000001, -95.57293], [34.639515, -82.526609], [40.55921, -124.204158], [34.067399, -117.571285], [25.812442, -80.241253], [46.194471, -123.789765], [30.31516, -81.78024], [25.624727, -80.41442099999998], [34.102259000000004, -112.920109], [33.90005, -118.37217], [38.878826, -121.139411], [33.939292, -117.876562], [40.752041, -74.007938], [39.643557, -84.327986], [33.853758, -117.924162], [34.067407, -117.532424], [32.575448, -80.935152], [38.90579, -76.061756], [35.7791, -78.70541], [41.295423, -74.137959], [33.945809999999994, -117.55505], [30.290789, -82.124083], [35.249193, -80.984655], [34.030638, -117.618763], [33.956140000000005, -118.10918], [40.283474, -75.60771], [30.606065, -97.686515], [38.635395, -121.33673], [30.418235, -91.158387], [27.5292, -82.50993000000003], [27.954896, -82.462259], [45.54241, -122.495746], [43.6862, -93.351591], [32.90987, -96.887668], [25.493711, -80.461118], [40.56456, -74.25865], [47.33043, -122.59893999999998], [34.418209000000004, -81.189605], [38.766492, -77.534927], [36.977936, -121.910097], [33.87737, -118.06436], [37.495743, -120.871523], [40.7146, -73.72926], [25.809039, -80.242257], [27.793708, -82.679562], [37.769373, -122.405535], [43.29606, -123.35117], [25.591, -80.36906], [34.13841, -118.27657], [38.112322, -122.229656], [33.903419, -117.647433], [40.75485, -73.98410200000002], [32.677125, -117.084761], [25.93371, -80.121845], [32.721355, -96.321313], [29.749506, -95.370866], [34.030509, -118.438398], [38.933151, -94.752979], [25.684798, -80.431106], [39.12762100000001, -121.555565], [28.345889, -81.36283], [33.847665, -118.211607], [32.235935999999995, -110.858886], [39.362593, -78.04829000000002], [37.694844, -77.508197], [35.207458, -80.711446], [47.56888, -122.10568700000002], [40.699964, -111.899799], [36.95580800000001, -120.05899], [30.14681400000001, -81.758925], [46.780785, -113.713101], [32.496346, -93.72036], [29.009687, -80.939053], [33.67302, -111.98857], [36.01559, -86.74061], [35.75185, -78.70633000000002], [37.121955, -120.147074], [33.59676, -117.176004], [41.92302, -87.96401], [27.885654, -82.700242], [40.609472, -111.96836], [43.585977, -116.393749], [35.27093, -79.60127], [47.73412800000001, -122.34072], [41.378867, -73.60253399999998], [38.550161, -121.47386000000002], [35.493897, -120.678261], [29.81304, -95.39682], [30.265802, -97.734668], [33.891098, -80.66283], [37.475472, -122.166281], [39.914143, -75.281388], [28.450739, -81.47084], [32.908505, -80.02659200000002], [28.358124, -81.48908399999998], [41.670717, -73.795238], [29.717793, -95.540219], [47.528705, -95.508227], [40.707133, -111.953131], [39.961265, -76.731612], [33.656019, -117.994888], [39.02535200000001, -121.648766], [35.42717000000001, -77.88525], [35.89131300000001, -78.56076], [40.75347, -111.62344]],\n",
              "                {&quot;blur&quot;: 15, &quot;maxZoom&quot;: 18, &quot;minOpacity&quot;: 0.5, &quot;radius&quot;: 25}\n",
              "            ).addTo(map_8ea46ab771b84938b8df95925963c4a7);\n",
              "        \n",
              "&lt;/script&gt;\" style=\"position:absolute;width:100%;height:100%;left:0;top:0;border:none !important;\" allowfullscreen webkitallowfullscreen mozallowfullscreen></iframe></div></div>"
            ]
          },
          "metadata": {},
          "execution_count": 215
        }
      ]
    },
    {
      "cell_type": "code",
      "source": [
        "map = folium.Map()\n",
        "HeatMap(zip(list(df.Start_Lat), list(df.Start_Lng))).add_to(map)\n",
        "map"
      ],
      "metadata": {
        "id": "0w1QEt095lUX"
      },
      "execution_count": null,
      "outputs": []
    },
    {
      "cell_type": "markdown",
      "source": [
        "## Ask & Answer questions\n",
        "\n",
        "\n",
        "1.   Are there more accidents in warmer or colder areas?\n",
        "2.   Which states have the highest number of accidents? How about per capita?\n",
        "3.   Around what time are there most accidents?\n",
        "4.   Does New York show up int the data? If yes, why is the count lower if this is the most populated city in the US?\n",
        "5.   Among the top 100 cities with the highest accidents, which states have the highest number of accidents?\n",
        "6.   What time of the day are accidents most frequent in?\n",
        "7.   What days of the week have the most accidents?\n",
        "8.   Which months have the most accidents.\n",
        "9.   What is the trend of accidents year over year? (increasing/decreasing\n",
        "10.  When is accidents per unit of traffic highest? \n",
        "\n",
        "\n",
        "\n"
      ],
      "metadata": {
        "id": "Scn7YyEDJd4d"
      }
    },
    {
      "cell_type": "markdown",
      "source": [
        "## Summary and Conclusion\n",
        "\n",
        "Insights:\n",
        "-  Less than 5% of cities have more than 1000 yearly accidents\n",
        "-  The number of accidents per city decreases exponentially\n",
        "-  New York, with the highest population in the US, is not in the top 20 cities with high accidents\n",
        "- 1100 cities have reported 1 accident(need to investigate)\n"
      ],
      "metadata": {
        "id": "hiQIzP_-jvYG"
      }
    }
  ]
}